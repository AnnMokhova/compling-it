{
 "cells": [
  {
   "cell_type": "markdown",
   "metadata": {
    "colab_type": "text",
    "id": "ODMHZKKPn8sP"
   },
   "source": [
    "# Домашнее задание 1"
   ]
  },
  {
   "cell_type": "code",
   "execution_count": 1,
   "metadata": {
    "colab": {
     "base_uri": "https://localhost:8080/",
     "height": 202
    },
    "colab_type": "code",
    "id": "LwygvZR_oAL8",
    "outputId": "3965610d-31cb-4d66-e4d6-fdb26a102b54"
   },
   "outputs": [
    {
     "data": {
      "text/html": [
       "<div>\n",
       "<style scoped>\n",
       "    .dataframe tbody tr th:only-of-type {\n",
       "        vertical-align: middle;\n",
       "    }\n",
       "\n",
       "    .dataframe tbody tr th {\n",
       "        vertical-align: top;\n",
       "    }\n",
       "\n",
       "    .dataframe thead th {\n",
       "        text-align: right;\n",
       "    }\n",
       "</style>\n",
       "<table border=\"1\" class=\"dataframe\">\n",
       "  <thead>\n",
       "    <tr style=\"text-align: right;\">\n",
       "      <th></th>\n",
       "      <th>text</th>\n",
       "      <th>label</th>\n",
       "      <th>age</th>\n",
       "    </tr>\n",
       "  </thead>\n",
       "  <tbody>\n",
       "    <tr>\n",
       "      <th>0</th>\n",
       "      <td>Когда-то я был добрым романтиком, который стре...</td>\n",
       "      <td>1</td>\n",
       "      <td>32.0</td>\n",
       "    </tr>\n",
       "    <tr>\n",
       "      <th>1</th>\n",
       "      <td>Здраствуйте! Я каждый день просыпаюсь с мыслью...</td>\n",
       "      <td>1</td>\n",
       "      <td>28.0</td>\n",
       "    </tr>\n",
       "    <tr>\n",
       "      <th>2</th>\n",
       "      <td>У меня проблемы с девушкой. Каждую ссору я не ...</td>\n",
       "      <td>1</td>\n",
       "      <td>16.0</td>\n",
       "    </tr>\n",
       "    <tr>\n",
       "      <th>3</th>\n",
       "      <td>Вся моя жизнь это один сплошной ад, в котором ...</td>\n",
       "      <td>1</td>\n",
       "      <td>32.0</td>\n",
       "    </tr>\n",
       "    <tr>\n",
       "      <th>4</th>\n",
       "      <td>Я хочу уснуть и не проснуться.каждый день одно...</td>\n",
       "      <td>1</td>\n",
       "      <td>14.0</td>\n",
       "    </tr>\n",
       "  </tbody>\n",
       "</table>\n",
       "</div>"
      ],
      "text/plain": [
       "                                                text  label   age\n",
       "0  Когда-то я был добрым романтиком, который стре...      1  32.0\n",
       "1  Здраствуйте! Я каждый день просыпаюсь с мыслью...      1  28.0\n",
       "2  У меня проблемы с девушкой. Каждую ссору я не ...      1  16.0\n",
       "3  Вся моя жизнь это один сплошной ад, в котором ...      1  32.0\n",
       "4  Я хочу уснуть и не проснуться.каждый день одно...      1  14.0"
      ]
     },
     "execution_count": 1,
     "metadata": {},
     "output_type": "execute_result"
    }
   ],
   "source": [
    "import pandas as pd\n",
    "\n",
    "\n",
    "df = pd.read_csv(\"depression_data.tsv\", sep=\"\\t\")\n",
    "df.head()"
   ]
  },
  {
   "cell_type": "markdown",
   "metadata": {
    "colab_type": "text",
    "id": "Yse2gkVCNHm9"
   },
   "source": [
    "# Часть 1"
   ]
  },
  {
   "cell_type": "markdown",
   "metadata": {
    "colab_type": "text",
    "id": "VPrQEiSUsVOy"
   },
   "source": [
    "Найдите среднее значение возраста в диапазоне от 14 до 50 лет включительно."
   ]
  },
  {
   "cell_type": "code",
   "execution_count": 2,
   "metadata": {
    "colab": {
     "base_uri": "https://localhost:8080/",
     "height": 0
    },
    "colab_type": "code",
    "id": "Vhgz1w4isXP6",
    "outputId": "a6dee421-311b-42b4-9618-355aae23dab4"
   },
   "outputs": [
    {
     "data": {
      "text/plain": [
       "22.704171601526518"
      ]
     },
     "execution_count": 2,
     "metadata": {},
     "output_type": "execute_result"
    }
   ],
   "source": [
    "df[(df['age'] >= 14) & (df['age'] <= 50)]['age'].mean()"
   ]
  },
  {
   "cell_type": "markdown",
   "metadata": {
    "colab_type": "text",
    "id": "JRG2ShuisXnY"
   },
   "source": [
    "Какую долю 16-летние авторы составляют в диапазоне от 16 до 26 лет включительно?"
   ]
  },
  {
   "cell_type": "code",
   "execution_count": 3,
   "metadata": {
    "colab": {
     "base_uri": "https://localhost:8080/",
     "height": 0
    },
    "colab_type": "code",
    "id": "vT2YsT-wsaTX",
    "outputId": "0dcb8588-97fd-4142-c2cb-60ff98024cd4"
   },
   "outputs": [
    {
     "data": {
      "text/plain": [
       "16.0    0.125941\n",
       "Name: age, dtype: float64"
      ]
     },
     "execution_count": 3,
     "metadata": {},
     "output_type": "execute_result"
    }
   ],
   "source": [
    "df[df['age'] == 16]['age'].value_counts() / df[(df['age'] >= 16) & (df['age'] <= 26)]['age'].value_counts().sum()"
   ]
  },
  {
   "cell_type": "markdown",
   "metadata": {
    "colab_type": "text",
    "id": "ZmufL6UVsbFV"
   },
   "source": [
    "Сколько в датасете текстов, авторам которых 28 или 30 лет?"
   ]
  },
  {
   "cell_type": "code",
   "execution_count": 4,
   "metadata": {
    "colab": {
     "base_uri": "https://localhost:8080/",
     "height": 0
    },
    "colab_type": "code",
    "id": "UODfe1klsdoe",
    "outputId": "de4bee48-094a-4129-d94c-8897ae2366f5"
   },
   "outputs": [
    {
     "data": {
      "text/plain": [
       "1185"
      ]
     },
     "execution_count": 4,
     "metadata": {},
     "output_type": "execute_result"
    }
   ],
   "source": [
    "len(df[(df['age'] == 28) | (df['age'] == 30)])"
   ]
  },
  {
   "cell_type": "markdown",
   "metadata": {
    "colab_type": "text",
    "id": "N2y03XsNseEt"
   },
   "source": [
    "С помощью одной встроенной в pandas функции отобразите всю статистику по колонке age в диапазоне от 18 до 30 лет включительно."
   ]
  },
  {
   "cell_type": "code",
   "execution_count": 5,
   "metadata": {
    "colab": {
     "base_uri": "https://localhost:8080/",
     "height": 0
    },
    "colab_type": "code",
    "id": "eAHmyXxUshVW",
    "outputId": "e47c37fe-0ec3-4bf2-cea5-aad144a9a5a0"
   },
   "outputs": [
    {
     "data": {
      "text/plain": [
       "count    13205.000000\n",
       "mean        22.676638\n",
       "std          3.550254\n",
       "min         18.000000\n",
       "25%         20.000000\n",
       "50%         22.000000\n",
       "75%         25.000000\n",
       "max         30.000000\n",
       "Name: age, dtype: float64"
      ]
     },
     "execution_count": 5,
     "metadata": {},
     "output_type": "execute_result"
    }
   ],
   "source": [
    "df[(df['age'] >= 18) & (df['age'] <= 30)]['age'].describe()"
   ]
  },
  {
   "cell_type": "markdown",
   "metadata": {
    "colab_type": "text",
    "id": "nzm-IEDMshlU"
   },
   "source": [
    "Сколько в датасете положительных / отрицательных примеров?"
   ]
  },
  {
   "cell_type": "code",
   "execution_count": 6,
   "metadata": {
    "colab": {
     "base_uri": "https://localhost:8080/",
     "height": 0
    },
    "colab_type": "code",
    "id": "UGlfo5RJslAl",
    "outputId": "31bc26fe-92fd-4681-90d8-d26832ec76d4"
   },
   "outputs": [
    {
     "name": "stdout",
     "output_type": "stream",
     "text": [
      "Положительных примеров:  32018\n",
      "Отрицательных примеров:  32021\n"
     ]
    }
   ],
   "source": [
    "print('Положительных примеров: ', len(df[df['label'] == 1]))\n",
    "print('Отрицательных примеров: ', len(df[df['label'] == 0]))"
   ]
  },
  {
   "cell_type": "markdown",
   "metadata": {
    "colab_type": "text",
    "id": "C27Ik_NaN4zX"
   },
   "source": [
    "# Часть 2"
   ]
  },
  {
   "cell_type": "markdown",
   "metadata": {
    "colab_type": "text",
    "id": "KI3mWhZYODmF"
   },
   "source": [
    "Посчитайте количество предложений в каждом тексте. Сохраните эти значения в отдельной колонке датафрейма."
   ]
  },
  {
   "cell_type": "code",
   "execution_count": 7,
   "metadata": {
    "colab": {},
    "colab_type": "code",
    "id": "am_VkvGu_CbV"
   },
   "outputs": [],
   "source": [
    "import re"
   ]
  },
  {
   "cell_type": "code",
   "execution_count": 8,
   "metadata": {},
   "outputs": [
    {
     "name": "stdout",
     "output_type": "stream",
     "text": [
      "Requirement already satisfied: razdel in c:\\users\\vital\\anaconda3\\lib\\site-packages (0.5.0)\n",
      "Note: you may need to restart the kernel to use updated packages.\n"
     ]
    }
   ],
   "source": [
    "pip install razdel"
   ]
  },
  {
   "cell_type": "code",
   "execution_count": 9,
   "metadata": {},
   "outputs": [],
   "source": [
    "import razdel\n",
    "from razdel import sentenize"
   ]
  },
  {
   "cell_type": "code",
   "execution_count": 10,
   "metadata": {},
   "outputs": [],
   "source": [
    "num_sent = []\n",
    "for text in df['text']:\n",
    "    #sent = [s.text for s in sentenize(text)]\n",
    "    num_sent.append(len([s.text for s in sentenize(text)]))"
   ]
  },
  {
   "cell_type": "code",
   "execution_count": 11,
   "metadata": {},
   "outputs": [
    {
     "data": {
      "text/plain": [
       "64039"
      ]
     },
     "execution_count": 11,
     "metadata": {},
     "output_type": "execute_result"
    }
   ],
   "source": [
    "len(num_sent)"
   ]
  },
  {
   "cell_type": "code",
   "execution_count": 12,
   "metadata": {
    "colab": {},
    "colab_type": "code",
    "id": "_jKWo3E39cFS"
   },
   "outputs": [],
   "source": [
    "df['number of sentences'] = num_sent"
   ]
  },
  {
   "cell_type": "code",
   "execution_count": 13,
   "metadata": {
    "colab": {
     "base_uri": "https://localhost:8080/",
     "height": 202
    },
    "colab_type": "code",
    "id": "7v7mE9ppXzR9",
    "outputId": "a705d21d-c7fe-480d-f0ae-557edceba0d6"
   },
   "outputs": [
    {
     "data": {
      "text/html": [
       "<div>\n",
       "<style scoped>\n",
       "    .dataframe tbody tr th:only-of-type {\n",
       "        vertical-align: middle;\n",
       "    }\n",
       "\n",
       "    .dataframe tbody tr th {\n",
       "        vertical-align: top;\n",
       "    }\n",
       "\n",
       "    .dataframe thead th {\n",
       "        text-align: right;\n",
       "    }\n",
       "</style>\n",
       "<table border=\"1\" class=\"dataframe\">\n",
       "  <thead>\n",
       "    <tr style=\"text-align: right;\">\n",
       "      <th></th>\n",
       "      <th>text</th>\n",
       "      <th>label</th>\n",
       "      <th>age</th>\n",
       "      <th>number of sentences</th>\n",
       "    </tr>\n",
       "  </thead>\n",
       "  <tbody>\n",
       "    <tr>\n",
       "      <th>0</th>\n",
       "      <td>Когда-то я был добрым романтиком, который стре...</td>\n",
       "      <td>1</td>\n",
       "      <td>32.0</td>\n",
       "      <td>15</td>\n",
       "    </tr>\n",
       "    <tr>\n",
       "      <th>1</th>\n",
       "      <td>Здраствуйте! Я каждый день просыпаюсь с мыслью...</td>\n",
       "      <td>1</td>\n",
       "      <td>28.0</td>\n",
       "      <td>6</td>\n",
       "    </tr>\n",
       "    <tr>\n",
       "      <th>2</th>\n",
       "      <td>У меня проблемы с девушкой. Каждую ссору я не ...</td>\n",
       "      <td>1</td>\n",
       "      <td>16.0</td>\n",
       "      <td>10</td>\n",
       "    </tr>\n",
       "    <tr>\n",
       "      <th>3</th>\n",
       "      <td>Вся моя жизнь это один сплошной ад, в котором ...</td>\n",
       "      <td>1</td>\n",
       "      <td>32.0</td>\n",
       "      <td>5</td>\n",
       "    </tr>\n",
       "    <tr>\n",
       "      <th>4</th>\n",
       "      <td>Я хочу уснуть и не проснуться.каждый день одно...</td>\n",
       "      <td>1</td>\n",
       "      <td>14.0</td>\n",
       "      <td>18</td>\n",
       "    </tr>\n",
       "  </tbody>\n",
       "</table>\n",
       "</div>"
      ],
      "text/plain": [
       "                                                text  label   age  \\\n",
       "0  Когда-то я был добрым романтиком, который стре...      1  32.0   \n",
       "1  Здраствуйте! Я каждый день просыпаюсь с мыслью...      1  28.0   \n",
       "2  У меня проблемы с девушкой. Каждую ссору я не ...      1  16.0   \n",
       "3  Вся моя жизнь это один сплошной ад, в котором ...      1  32.0   \n",
       "4  Я хочу уснуть и не проснуться.каждый день одно...      1  14.0   \n",
       "\n",
       "   number of sentences  \n",
       "0                   15  \n",
       "1                    6  \n",
       "2                   10  \n",
       "3                    5  \n",
       "4                   18  "
      ]
     },
     "execution_count": 13,
     "metadata": {},
     "output_type": "execute_result"
    }
   ],
   "source": [
    "df.head()"
   ]
  },
  {
   "cell_type": "markdown",
   "metadata": {
    "colab_type": "text",
    "id": "BEEmgNYwOEbm"
   },
   "source": [
    "Напишите функцию для токенизации текста. Удалите стоп-слова."
   ]
  },
  {
   "cell_type": "code",
   "execution_count": 14,
   "metadata": {
    "colab": {
     "base_uri": "https://localhost:8080/",
     "height": 107
    },
    "colab_type": "code",
    "id": "TeiZz7IyGC8P",
    "outputId": "fb93b6da-ded2-4c95-c0c6-e4b1682333d0"
   },
   "outputs": [
    {
     "name": "stdout",
     "output_type": "stream",
     "text": [
      "Requirement already satisfied: pymorphy2 in c:\\users\\vital\\anaconda3\\lib\\site-packages (0.8)\n",
      "Requirement already satisfied: dawg-python>=0.7 in c:\\users\\vital\\anaconda3\\lib\\site-packages (from pymorphy2) (0.7.2)\n",
      "Requirement already satisfied: pymorphy2-dicts<3.0,>=2.4 in c:\\users\\vital\\anaconda3\\lib\\site-packages (from pymorphy2) (2.4.393442.3710985)\n",
      "Requirement already satisfied: docopt>=0.6 in c:\\users\\vital\\anaconda3\\lib\\site-packages (from pymorphy2) (0.6.2)\n",
      "Note: you may need to restart the kernel to use updated packages.\n"
     ]
    }
   ],
   "source": [
    "pip install pymorphy2"
   ]
  },
  {
   "cell_type": "code",
   "execution_count": 15,
   "metadata": {
    "colab": {
     "base_uri": "https://localhost:8080/",
     "height": 540
    },
    "colab_type": "code",
    "id": "LVXpuJxyQwWO",
    "outputId": "5869de40-d1d6-42f5-8b09-ec51e5f749c3"
   },
   "outputs": [
    {
     "name": "stdout",
     "output_type": "stream",
     "text": [
      "Collecting git+https://github.com/aatimofeev/spacy_russian_tokenizer.git\n",
      "  Cloning https://github.com/aatimofeev/spacy_russian_tokenizer.git to c:\\users\\vital\\appdata\\local\\temp\\pip-req-build-8570731h\n",
      "Requirement already satisfied (use --upgrade to upgrade): spacy-russian-tokenizer==0.1.1 from git+https://github.com/aatimofeev/spacy_russian_tokenizer.git in c:\\users\\vital\\anaconda3\\lib\\site-packages\n",
      "Requirement already satisfied: spacy in c:\\users\\vital\\anaconda3\\lib\\site-packages (from spacy-russian-tokenizer==0.1.1) (2.3.0)\n",
      "Requirement already satisfied: murmurhash<1.1.0,>=0.28.0 in c:\\users\\vital\\anaconda3\\lib\\site-packages (from spacy->spacy-russian-tokenizer==0.1.1) (1.0.2)\n",
      "Requirement already satisfied: wasabi<1.1.0,>=0.4.0 in c:\\users\\vital\\anaconda3\\lib\\site-packages (from spacy->spacy-russian-tokenizer==0.1.1) (0.7.0)\n",
      "Requirement already satisfied: thinc==7.4.1 in c:\\users\\vital\\anaconda3\\lib\\site-packages (from spacy->spacy-russian-tokenizer==0.1.1) (7.4.1)\n",
      "Requirement already satisfied: cymem<2.1.0,>=2.0.2 in c:\\users\\vital\\anaconda3\\lib\\site-packages (from spacy->spacy-russian-tokenizer==0.1.1) (2.0.3)\n",
      "Requirement already satisfied: preshed<3.1.0,>=3.0.2 in c:\\users\\vital\\anaconda3\\lib\\site-packages (from spacy->spacy-russian-tokenizer==0.1.1) (3.0.2)\n",
      "Requirement already satisfied: catalogue<1.1.0,>=0.0.7 in c:\\users\\vital\\anaconda3\\lib\\site-packages (from spacy->spacy-russian-tokenizer==0.1.1) (1.0.0)\n",
      "Requirement already satisfied: numpy>=1.15.0 in c:\\users\\vital\\anaconda3\\lib\\site-packages (from spacy->spacy-russian-tokenizer==0.1.1) (1.18.1)\n",
      "Requirement already satisfied: requests<3.0.0,>=2.13.0 in c:\\users\\vital\\anaconda3\\lib\\site-packages (from spacy->spacy-russian-tokenizer==0.1.1) (2.22.0)\n",
      "Requirement already satisfied: srsly<1.1.0,>=1.0.2 in c:\\users\\vital\\anaconda3\\lib\\site-packages (from spacy->spacy-russian-tokenizer==0.1.1) (1.0.2)\n",
      "Requirement already satisfied: blis<0.5.0,>=0.4.0 in c:\\users\\vital\\anaconda3\\lib\\site-packages (from spacy->spacy-russian-tokenizer==0.1.1) (0.4.1)\n",
      "Requirement already satisfied: tqdm<5.0.0,>=4.38.0 in c:\\users\\vital\\anaconda3\\lib\\site-packages (from spacy->spacy-russian-tokenizer==0.1.1) (4.42.1)\n",
      "Requirement already satisfied: plac<1.2.0,>=0.9.6 in c:\\users\\vital\\anaconda3\\lib\\site-packages (from spacy->spacy-russian-tokenizer==0.1.1) (1.1.3)\n",
      "Requirement already satisfied: setuptools in c:\\users\\vital\\anaconda3\\lib\\site-packages (from spacy->spacy-russian-tokenizer==0.1.1) (45.2.0.post20200210)\n",
      "Requirement already satisfied: importlib-metadata>=0.20; python_version < \"3.8\" in c:\\users\\vital\\anaconda3\\lib\\site-packages (from catalogue<1.1.0,>=0.0.7->spacy->spacy-russian-tokenizer==0.1.1) (1.5.0)\n",
      "Requirement already satisfied: chardet<3.1.0,>=3.0.2 in c:\\users\\vital\\anaconda3\\lib\\site-packages (from requests<3.0.0,>=2.13.0->spacy->spacy-russian-tokenizer==0.1.1) (3.0.4)\n",
      "Requirement already satisfied: certifi>=2017.4.17 in c:\\users\\vital\\anaconda3\\lib\\site-packages (from requests<3.0.0,>=2.13.0->spacy->spacy-russian-tokenizer==0.1.1) (2019.11.28)\n",
      "Requirement already satisfied: idna<2.9,>=2.5 in c:\\users\\vital\\anaconda3\\lib\\site-packages (from requests<3.0.0,>=2.13.0->spacy->spacy-russian-tokenizer==0.1.1) (2.8)\n",
      "Requirement already satisfied: urllib3!=1.25.0,!=1.25.1,<1.26,>=1.21.1 in c:\\users\\vital\\anaconda3\\lib\\site-packages (from requests<3.0.0,>=2.13.0->spacy->spacy-russian-tokenizer==0.1.1) (1.25.8)\n",
      "Requirement already satisfied: zipp>=0.5 in c:\\users\\vital\\anaconda3\\lib\\site-packages (from importlib-metadata>=0.20; python_version < \"3.8\"->catalogue<1.1.0,>=0.0.7->spacy->spacy-russian-tokenizer==0.1.1) (2.2.0)\n",
      "Building wheels for collected packages: spacy-russian-tokenizer\n",
      "  Building wheel for spacy-russian-tokenizer (setup.py): started\n",
      "  Building wheel for spacy-russian-tokenizer (setup.py): finished with status 'done'\n",
      "  Created wheel for spacy-russian-tokenizer: filename=spacy_russian_tokenizer-0.1.1-py3-none-any.whl size=12757 sha256=a172f1aef7006ed01a4369eb8d7d8f9ac3e2747a4319dce8c48d1175b88cf1d4\n",
      "  Stored in directory: C:\\Users\\vital\\AppData\\Local\\Temp\\pip-ephem-wheel-cache-67tdxp1o\\wheels\\05\\d5\\36\\50ba3e6750df25a60775a5b26c9a2da7d5f8d1ae9a4ef59f8a\n",
      "Successfully built spacy-russian-tokenizer\n",
      "Note: you may need to restart the kernel to use updated packages.\n"
     ]
    },
    {
     "name": "stderr",
     "output_type": "stream",
     "text": [
      "  Running command git clone -q https://github.com/aatimofeev/spacy_russian_tokenizer.git 'C:\\Users\\vital\\AppData\\Local\\Temp\\pip-req-build-8570731h'\n"
     ]
    }
   ],
   "source": [
    "pip install git+https://github.com/aatimofeev/spacy_russian_tokenizer.git"
   ]
  },
  {
   "cell_type": "code",
   "execution_count": 16,
   "metadata": {
    "colab": {
     "base_uri": "https://localhost:8080/",
     "height": 52
    },
    "colab_type": "code",
    "id": "zLb75P5JC_Ig",
    "outputId": "4abda8cd-b88e-4027-f15a-581fe512b590"
   },
   "outputs": [
    {
     "name": "stderr",
     "output_type": "stream",
     "text": [
      "[nltk_data] Downloading package stopwords to\n",
      "[nltk_data]     C:\\Users\\vital\\AppData\\Roaming\\nltk_data...\n",
      "[nltk_data]   Package stopwords is already up-to-date!\n"
     ]
    }
   ],
   "source": [
    "import nltk\n",
    "nltk.download('stopwords')\n",
    "from nltk.corpus import stopwords\n",
    "from spacy.lang.ru import Russian\n",
    "from spacy_russian_tokenizer import RussianTokenizer, MERGE_PATTERNS\n",
    "from pymorphy2 import MorphAnalyzer\n",
    "import pymorphy2"
   ]
  },
  {
   "cell_type": "code",
   "execution_count": 17,
   "metadata": {
    "colab": {},
    "colab_type": "code",
    "id": "DDBB49pFOHNL"
   },
   "outputs": [],
   "source": [
    "def tokenize(text):\n",
    "    # убираем стоп-слова\n",
    "    text = ' '.join([word for word in text.lower().split() if word not in stopwords.words('russian')])\n",
    "    # разбиваем на токены\n",
    "    nlp = Russian()\n",
    "    doc = nlp(text)\n",
    "    russian_tokenizer = RussianTokenizer(nlp, MERGE_PATTERNS)\n",
    "    nlp.add_pipe(russian_tokenizer, name='russian_tokenizer')\n",
    "    doc = nlp(text)\n",
    "    return ' '.join([token.text for token in doc if token.text not in ',.!?-();:\"\"«»—_–#' and '.' not in token.text])"
   ]
  },
  {
   "cell_type": "code",
   "execution_count": 18,
   "metadata": {
    "colab": {
     "base_uri": "https://localhost:8080/",
     "height": 329
    },
    "colab_type": "code",
    "id": "qRLke_UNFRz5",
    "outputId": "f9b62697-71ff-4c45-d3c5-0d2d8a29e63f"
   },
   "outputs": [
    {
     "data": {
      "text/plain": [
       "'когда-то добрым романтиком который стремился помочь всем попросит жалко верил человечность однако это фальшем суррогатная дружба какие-то непонятные отношения девушка которая клялась любит итоге изменила ушла другому появилось бесперспективный попросту достаточного достатка собственного жилья родители шизофренией никто поддерживал поддерживает итак отдавая кусочек каждому потерял свое душевное тепло стало безразлично апатия бывшая девушка всяких усилий нашла нового который сразу женился возит разным странам мира же брался любую работу показать хуже часто обманывали недоплачивали оплачивали вовсе простой неудачник который потерял смысл жизни мою ситуацию спасает внешность ужасная попросту урод часто завидую тем кому повезло внешностью любят дается легко занимаюсь своим любимым делом часто посещают мысли никому это надо также я это тщетно бессмысленно это сказывается пустота внутри меня часто удивляет многим повезло складывается почему складывается меня почему выходит как-то потеряют документы мои заплатят именно мне именно мое место закрыто именно используют бросают именно такие родители хочется окружающие оказались моем месте прочувствовали это поняли каково это глубже просто хочу прекратить это все просто прервать свое существование'"
      ]
     },
     "execution_count": 18,
     "metadata": {},
     "output_type": "execute_result"
    }
   ],
   "source": [
    "tokenize(df['text'][0])"
   ]
  },
  {
   "cell_type": "markdown",
   "metadata": {
    "colab_type": "text",
    "id": "dewy7S0COIEN"
   },
   "source": [
    "Посчитайте количество токенов в тексте (без стоп-слов). Найдите среднее этих значений как по всей выборке, так и внутри каждого класса."
   ]
  },
  {
   "cell_type": "code",
   "execution_count": 19,
   "metadata": {},
   "outputs": [],
   "source": [
    "num_tokens = [len(tokenize(text).split()) for text in df['text']]"
   ]
  },
  {
   "cell_type": "code",
   "execution_count": 20,
   "metadata": {
    "colab": {
     "base_uri": "https://localhost:8080/",
     "height": 35
    },
    "colab_type": "code",
    "id": "5G0E1XSQW5rT",
    "outputId": "65b8d8a6-cbb9-4f6a-f0ca-aef23faa2544"
   },
   "outputs": [
    {
     "data": {
      "text/plain": [
       "64039"
      ]
     },
     "execution_count": 20,
     "metadata": {},
     "output_type": "execute_result"
    }
   ],
   "source": [
    "len(num_tokens)"
   ]
  },
  {
   "cell_type": "code",
   "execution_count": 21,
   "metadata": {
    "colab": {},
    "colab_type": "code",
    "id": "yxJr1gCkxI_w"
   },
   "outputs": [],
   "source": [
    "df['number of tokens'] = num_tokens"
   ]
  },
  {
   "cell_type": "code",
   "execution_count": 22,
   "metadata": {
    "colab": {
     "base_uri": "https://localhost:8080/",
     "height": 202
    },
    "colab_type": "code",
    "id": "eG3--KrwxlVg",
    "outputId": "618c182b-033e-40e4-e6c6-b0f13951f334"
   },
   "outputs": [
    {
     "data": {
      "text/html": [
       "<div>\n",
       "<style scoped>\n",
       "    .dataframe tbody tr th:only-of-type {\n",
       "        vertical-align: middle;\n",
       "    }\n",
       "\n",
       "    .dataframe tbody tr th {\n",
       "        vertical-align: top;\n",
       "    }\n",
       "\n",
       "    .dataframe thead th {\n",
       "        text-align: right;\n",
       "    }\n",
       "</style>\n",
       "<table border=\"1\" class=\"dataframe\">\n",
       "  <thead>\n",
       "    <tr style=\"text-align: right;\">\n",
       "      <th></th>\n",
       "      <th>text</th>\n",
       "      <th>label</th>\n",
       "      <th>age</th>\n",
       "      <th>number of sentences</th>\n",
       "      <th>number of tokens</th>\n",
       "    </tr>\n",
       "  </thead>\n",
       "  <tbody>\n",
       "    <tr>\n",
       "      <th>0</th>\n",
       "      <td>Когда-то я был добрым романтиком, который стре...</td>\n",
       "      <td>1</td>\n",
       "      <td>32.0</td>\n",
       "      <td>15</td>\n",
       "      <td>163</td>\n",
       "    </tr>\n",
       "    <tr>\n",
       "      <th>1</th>\n",
       "      <td>Здраствуйте! Я каждый день просыпаюсь с мыслью...</td>\n",
       "      <td>1</td>\n",
       "      <td>28.0</td>\n",
       "      <td>6</td>\n",
       "      <td>68</td>\n",
       "    </tr>\n",
       "    <tr>\n",
       "      <th>2</th>\n",
       "      <td>У меня проблемы с девушкой. Каждую ссору я не ...</td>\n",
       "      <td>1</td>\n",
       "      <td>16.0</td>\n",
       "      <td>10</td>\n",
       "      <td>45</td>\n",
       "    </tr>\n",
       "    <tr>\n",
       "      <th>3</th>\n",
       "      <td>Вся моя жизнь это один сплошной ад, в котором ...</td>\n",
       "      <td>1</td>\n",
       "      <td>32.0</td>\n",
       "      <td>5</td>\n",
       "      <td>25</td>\n",
       "    </tr>\n",
       "    <tr>\n",
       "      <th>4</th>\n",
       "      <td>Я хочу уснуть и не проснуться.каждый день одно...</td>\n",
       "      <td>1</td>\n",
       "      <td>14.0</td>\n",
       "      <td>18</td>\n",
       "      <td>197</td>\n",
       "    </tr>\n",
       "  </tbody>\n",
       "</table>\n",
       "</div>"
      ],
      "text/plain": [
       "                                                text  label   age  \\\n",
       "0  Когда-то я был добрым романтиком, который стре...      1  32.0   \n",
       "1  Здраствуйте! Я каждый день просыпаюсь с мыслью...      1  28.0   \n",
       "2  У меня проблемы с девушкой. Каждую ссору я не ...      1  16.0   \n",
       "3  Вся моя жизнь это один сплошной ад, в котором ...      1  32.0   \n",
       "4  Я хочу уснуть и не проснуться.каждый день одно...      1  14.0   \n",
       "\n",
       "   number of sentences  number of tokens  \n",
       "0                   15               163  \n",
       "1                    6                68  \n",
       "2                   10                45  \n",
       "3                    5                25  \n",
       "4                   18               197  "
      ]
     },
     "execution_count": 22,
     "metadata": {},
     "output_type": "execute_result"
    }
   ],
   "source": [
    "df.head()"
   ]
  },
  {
   "cell_type": "code",
   "execution_count": 23,
   "metadata": {
    "colab": {
     "base_uri": "https://localhost:8080/",
     "height": 35
    },
    "colab_type": "code",
    "id": "Q2A31ZxBxpa8",
    "outputId": "70b31f8d-e281-47d8-a47f-5aefeed66937"
   },
   "outputs": [
    {
     "name": "stdout",
     "output_type": "stream",
     "text": [
      "Среднее значение по всей выборке:  109.12942113399647\n"
     ]
    }
   ],
   "source": [
    "print('Среднее значение по всей выборке: ', sum(num_tokens) / len(num_tokens))"
   ]
  },
  {
   "cell_type": "code",
   "execution_count": 24,
   "metadata": {
    "colab": {
     "base_uri": "https://localhost:8080/",
     "height": 52
    },
    "colab_type": "code",
    "id": "_Z-gS9dux-kr",
    "outputId": "6cdf80ca-b5a2-489a-ac7d-131b606919ae"
   },
   "outputs": [
    {
     "name": "stdout",
     "output_type": "stream",
     "text": [
      "Среднее значение для класса 1:  73.4742020113686\n",
      "Среднее значение для класса 0:  144.7812997720246\n"
     ]
    }
   ],
   "source": [
    "print('Среднее значение для класса 1: ', \n",
    "      df.loc[df['label'] == 1, 'number of tokens'].sum() / len(df[df['label'] == 1]))\n",
    "print('Среднее значение для класса 0: ', \n",
    "      df.loc[df['label'] == 0, 'number of tokens'].sum() / len(df[df['label'] == 0]))"
   ]
  },
  {
   "cell_type": "markdown",
   "metadata": {
    "colab_type": "text",
    "id": "m_lAAcdTONFE"
   },
   "source": [
    "Напишите функцию, которая переводит текст в последовательность лемм."
   ]
  },
  {
   "cell_type": "code",
   "execution_count": 26,
   "metadata": {
    "colab": {},
    "colab_type": "code",
    "id": "9NaODY5LOPKQ"
   },
   "outputs": [],
   "source": [
    "def lemmatize(text):\n",
    "    morph = pymorphy2.MorphAnalyzer()\n",
    "    return ' '.join([morph.parse(word)[0].normal_form for word in text.split()])"
   ]
  },
  {
   "cell_type": "code",
   "execution_count": 27,
   "metadata": {
    "colab": {},
    "colab_type": "code",
    "id": "6q8mhs4B1NBl"
   },
   "outputs": [],
   "source": [
    "text = tokenize(df['text'][0])"
   ]
  },
  {
   "cell_type": "code",
   "execution_count": 28,
   "metadata": {
    "colab": {
     "base_uri": "https://localhost:8080/",
     "height": 191
    },
    "colab_type": "code",
    "id": "AEHRSvVg1Ofq",
    "outputId": "931510d0-1fec-48b2-c8c3-6b90a92ed862"
   },
   "outputs": [
    {
     "data": {
      "text/plain": [
       "'когда-то добрый романтик который стремиться помочь весь попросить жалко верить человечность однако это фальший суррогатный дружба какой-то непонятный отношение девушка который клясться любить итог изменить уйти другой появиться бесперспективный попросту достаточный достаток собственный жильё родитель шизофрения никто поддерживать поддерживать итак отдавать кусочек каждый потерять свой душевный тепло стать безразличный апатия бывший девушка всякий усилие найти новое который сразу жениться возить разный страна мир же браться любой работа показать худой часто обманывать недоплачивать оплачивать вовсе простой неудачник который потерять смысл жизнь мой ситуация спасать внешность ужасный попросту урод часто завидовать тем кома повезти внешность любить даваться легко заниматься свой любимый дело часто посещать мысль никто это надо также я это тщетно бессмысленно это сказываться пустота внутри я часто удивлять многий повезти складываться почему складываться я почему выходить как-то потерять документ мой заплатить именно я именно мой место закрытый именно использовать бросать именно такой родитель хотеться окружающий оказаться мыть место прочувствовать это понять каков это глубокий просто хотеть прекратить это весь просто прервать свой существование'"
      ]
     },
     "execution_count": 28,
     "metadata": {},
     "output_type": "execute_result"
    }
   ],
   "source": [
    "lemmatize(text)"
   ]
  },
  {
   "cell_type": "markdown",
   "metadata": {
    "colab_type": "text",
    "id": "2tuP2JWSOPtV"
   },
   "source": [
    "Напишите функцию, которая переводит текст в последовательность частеречных тегов."
   ]
  },
  {
   "cell_type": "code",
   "execution_count": null,
   "metadata": {
    "colab": {},
    "colab_type": "code",
    "id": "iob0DIgeOTUh"
   },
   "outputs": [],
   "source": [
    "def pos(text):\n",
    "    morph = pymorphy2.MorphAnalyzer()\n",
    "    return ' '.join([morph.parse(word)[0].tag.POS for word in text.split()])"
   ]
  },
  {
   "cell_type": "code",
   "execution_count": null,
   "metadata": {
    "colab": {
     "base_uri": "https://localhost:8080/",
     "height": 157
    },
    "colab_type": "code",
    "id": "erfEG_bZ1d8J",
    "outputId": "d6e2d75f-de32-48a7-ed3a-a0c380f36a1d"
   },
   "outputs": [
    {
     "data": {
      "application/vnd.google.colaboratory.intrinsic+json": {
       "type": "string"
      },
      "text/plain": [
       "'ADVB ADJF NOUN ADJF VERB INFN ADJF VERB ADVB VERB NOUN CONJ PRCL ADJF ADJF NOUN ADJF ADJF NOUN NOUN ADJF VERB VERB NOUN VERB VERB ADJF VERB ADJF ADVB ADJF NOUN ADJF NOUN NOUN NOUN NPRO VERB VERB CONJ GRND NOUN ADJF VERB ADJF ADJF ADVB VERB ADJS NOUN ADJF NOUN ADJF NOUN VERB NOUN ADJF ADVB VERB VERB ADJF NOUN NOUN PRCL VERB ADJF NOUN INFN COMP ADVB VERB VERB VERB ADVB NOUN NOUN ADJF VERB NOUN NOUN ADJF NOUN VERB NOUN ADJF ADVB NOUN ADVB VERB CONJ NOUN VERB NOUN VERB VERB ADVB VERB ADJF ADJF NOUN ADVB VERB NOUN NPRO PRCL PRED CONJ NPRO PRCL ADVB ADVB PRCL VERB NOUN PREP NPRO ADVB VERB ADJF VERB VERB ADVB VERB NPRO ADVB VERB ADVB VERB NOUN ADJF VERB PRCL NPRO PRCL ADJF NOUN ADJS PRCL VERB VERB PRCL ADJF NOUN VERB ADJF VERB VERB NOUN VERB PRCL VERB ADJS PRCL COMP PRCL VERB INFN PRCL ADJF PRCL INFN ADJF NOUN'"
      ]
     },
     "execution_count": 186,
     "metadata": {
      "tags": []
     },
     "output_type": "execute_result"
    }
   ],
   "source": [
    "pos(text)"
   ]
  },
  {
   "cell_type": "markdown",
   "metadata": {
    "colab_type": "text",
    "id": "wdWCu3aCOW7E"
   },
   "source": [
    "Какие слова мы можем добавить в список стоп-слов? Приведите примеры и объясните, почему."
   ]
  },
  {
   "cell_type": "markdown",
   "metadata": {
    "colab_type": "text",
    "id": "VZES2nwRHBy7"
   },
   "source": [
    "*Это*, потому что данное местоимение или частица имеет значение ближнего дейксиса и часто рассматривается как замена определенного артикля, отсутствующего в русском языке. Следовательно, слово не несет конкретного лексического значения и не может употребляться обособленно (составлять законченные высказывания, не зависящие от контекста), при этом употребляется в речи часто. При подсчете топ-слов текста для определения его тематики, если для удаления стоп-слов использовался список nltk, с большой вероятностью в перечень наиболее популярных слов войдет *это*, что никак не отразит содержание текстов. К таким же, но менее частотным словам можно отнести *то, вот, вон*"
   ]
  },
  {
   "cell_type": "markdown",
   "metadata": {
    "colab_type": "text",
    "id": "BvDL-KBrVOLv"
   },
   "source": [
    "# Часть 3"
   ]
  },
  {
   "cell_type": "markdown",
   "metadata": {
    "colab_type": "text",
    "id": "WRf5iF9oWBxs"
   },
   "source": [
    "Визуализируйте распределение количество предложений / текст."
   ]
  },
  {
   "cell_type": "code",
   "execution_count": 24,
   "metadata": {},
   "outputs": [],
   "source": [
    "from warnings import simplefilter\n",
    "import seaborn as sns\n",
    "simplefilter(action='ignore', category=FutureWarning)\n",
    "import matplotlib.pyplot as plt"
   ]
  },
  {
   "cell_type": "code",
   "execution_count": 59,
   "metadata": {},
   "outputs": [
    {
     "data": {
      "image/png": "[encoded data removed]",
      "text/plain": [
       "<Figure size 1440x432 with 1 Axes>"
      ]
     },
     "metadata": {
      "needs_background": "light"
     },
     "output_type": "display_data"
    }
   ],
   "source": [
    "fig, axes = plt.subplots(figsize=(20, 6))\n",
    "topic_subset = df['number of sentences']\n",
    "\n",
    "sns.distplot(topic_subset, bins=20, color='blue')\n",
    "axes.axvline(\n",
    "            (topic_subset).mean(), color='k', linestyle='dashed', linewidth=1, label='mean'\n",
    "        )\n",
    "axes.axvline(\n",
    "            (topic_subset).median(), color='r', linestyle='dashed', linewidth=1, label='median'\n",
    "        )\n",
    "axes.legend()\n",
    "axes.set(title='All dataset: %s' % ('number of sentences'))\n",
    "    \n",
    "fig.tight_layout()"
   ]
  },
  {
   "cell_type": "markdown",
   "metadata": {},
   "source": [
    "Визуализируйте распределение количество-предложений / текст внутри каждого класса."
   ]
  },
  {
   "cell_type": "code",
   "execution_count": 44,
   "metadata": {},
   "outputs": [],
   "source": [
    "def plot_len_dist(df, col_name):\n",
    "    fig, axes = plt.subplots(1, 2, figsize=(20, 6))\n",
    "\n",
    "    for i, topic in enumerate(list(df['label'].unique())):\n",
    "        topic_subset = df[df['label'] == topic][col_name]\n",
    "\n",
    "        sns.distplot(topic_subset, bins=20, color='blue', ax=axes[i])\n",
    "        axes[i].axvline(\n",
    "            (topic_subset).mean(), color='k', linestyle='dashed', linewidth=1, label='mean'\n",
    "        )\n",
    "        axes[i].axvline(\n",
    "            (topic_subset).median(), color='r', linestyle='dashed', linewidth=1, label='median'\n",
    "        )\n",
    "        axes[i].legend()\n",
    "        axes[i].set(title=\"Class %s: %s\" % (topic, col_name))\n",
    "    \n",
    "    fig.tight_layout()"
   ]
  },
  {
   "cell_type": "code",
   "execution_count": 45,
   "metadata": {},
   "outputs": [
    {
     "data": {
      "image/png": "[encoded data removed]",
      "text/plain": [
       "<Figure size 1440x432 with 2 Axes>"
      ]
     },
     "metadata": {
      "needs_background": "light"
     },
     "output_type": "display_data"
    }
   ],
   "source": [
    "plot_len_dist(df, 'number of sentences')"
   ]
  },
  {
   "cell_type": "markdown",
   "metadata": {
    "colab_type": "text",
    "id": "glOHNHYHWGfK"
   },
   "source": [
    "Верно ли, что количество предложений в тексте коррелирует с возрастом автора в подвыборке от 16 до 32 лет включительно? Если да, какая это корреляция – положительная или отрицательная? Визуализируйте матрицу корреляции."
   ]
  },
  {
   "cell_type": "code",
   "execution_count": 87,
   "metadata": {
    "colab": {},
    "colab_type": "code",
    "id": "GPS52xBlakPP"
   },
   "outputs": [],
   "source": [
    "age = df[(df['age'] >= 16) & (df['age'] <= 32)]['age']\n",
    "new_df = pd.DataFrame(age, columns=['age'])\n",
    "new_df['number of sentences'] = df[(df['age'] >= 16) & (df['age'] <= 32)]['number of sentences']"
   ]
  },
  {
   "cell_type": "code",
   "execution_count": 88,
   "metadata": {
    "colab": {
     "base_uri": "https://localhost:8080/",
     "height": 202
    },
    "colab_type": "code",
    "id": "G3theFSrc65I",
    "outputId": "623a7cf5-a53d-4367-98f3-7460594a2673"
   },
   "outputs": [
    {
     "data": {
      "text/html": [
       "<div>\n",
       "<style scoped>\n",
       "    .dataframe tbody tr th:only-of-type {\n",
       "        vertical-align: middle;\n",
       "    }\n",
       "\n",
       "    .dataframe tbody tr th {\n",
       "        vertical-align: top;\n",
       "    }\n",
       "\n",
       "    .dataframe thead th {\n",
       "        text-align: right;\n",
       "    }\n",
       "</style>\n",
       "<table border=\"1\" class=\"dataframe\">\n",
       "  <thead>\n",
       "    <tr style=\"text-align: right;\">\n",
       "      <th></th>\n",
       "      <th>age</th>\n",
       "      <th>number of sentences</th>\n",
       "    </tr>\n",
       "  </thead>\n",
       "  <tbody>\n",
       "    <tr>\n",
       "      <th>0</th>\n",
       "      <td>32.0</td>\n",
       "      <td>16</td>\n",
       "    </tr>\n",
       "    <tr>\n",
       "      <th>1</th>\n",
       "      <td>28.0</td>\n",
       "      <td>6</td>\n",
       "    </tr>\n",
       "    <tr>\n",
       "      <th>2</th>\n",
       "      <td>16.0</td>\n",
       "      <td>11</td>\n",
       "    </tr>\n",
       "    <tr>\n",
       "      <th>3</th>\n",
       "      <td>32.0</td>\n",
       "      <td>6</td>\n",
       "    </tr>\n",
       "    <tr>\n",
       "      <th>7</th>\n",
       "      <td>18.0</td>\n",
       "      <td>5</td>\n",
       "    </tr>\n",
       "  </tbody>\n",
       "</table>\n",
       "</div>"
      ],
      "text/plain": [
       "    age  number of sentences\n",
       "0  32.0                   16\n",
       "1  28.0                    6\n",
       "2  16.0                   11\n",
       "3  32.0                    6\n",
       "7  18.0                    5"
      ]
     },
     "execution_count": 88,
     "metadata": {
      "tags": []
     },
     "output_type": "execute_result"
    }
   ],
   "source": [
    "new_df.head()"
   ]
  },
  {
   "cell_type": "code",
   "execution_count": 85,
   "metadata": {
    "colab": {
     "base_uri": "https://localhost:8080/",
     "height": 110
    },
    "colab_type": "code",
    "id": "xQxyWhoObr10",
    "outputId": "22cdb112-2f6b-43d0-89e9-4b5477dd53e4"
   },
   "outputs": [
    {
     "data": {
      "text/html": [
       "<div>\n",
       "<style scoped>\n",
       "    .dataframe tbody tr th:only-of-type {\n",
       "        vertical-align: middle;\n",
       "    }\n",
       "\n",
       "    .dataframe tbody tr th {\n",
       "        vertical-align: top;\n",
       "    }\n",
       "\n",
       "    .dataframe thead th {\n",
       "        text-align: right;\n",
       "    }\n",
       "</style>\n",
       "<table border=\"1\" class=\"dataframe\">\n",
       "  <thead>\n",
       "    <tr style=\"text-align: right;\">\n",
       "      <th></th>\n",
       "      <th>age</th>\n",
       "      <th>number of sentences</th>\n",
       "    </tr>\n",
       "  </thead>\n",
       "  <tbody>\n",
       "    <tr>\n",
       "      <th>age</th>\n",
       "      <td>1.000000</td>\n",
       "      <td>0.045484</td>\n",
       "    </tr>\n",
       "    <tr>\n",
       "      <th>number of sentences</th>\n",
       "      <td>0.045484</td>\n",
       "      <td>1.000000</td>\n",
       "    </tr>\n",
       "  </tbody>\n",
       "</table>\n",
       "</div>"
      ],
      "text/plain": [
       "                          age  number of sentences\n",
       "age                  1.000000             0.045484\n",
       "number of sentences  0.045484             1.000000"
      ]
     },
     "execution_count": 85,
     "metadata": {
      "tags": []
     },
     "output_type": "execute_result"
    }
   ],
   "source": [
    "new_df.corr()"
   ]
  },
  {
   "cell_type": "code",
   "execution_count": 86,
   "metadata": {
    "colab": {
     "base_uri": "https://localhost:8080/",
     "height": 293
    },
    "colab_type": "code",
    "id": "Ik-paN1laauu",
    "outputId": "caaaa0fc-91b5-4702-acc9-ee5ce18db3a7"
   },
   "outputs": [
    {
     "data": {
      "text/plain": [
       "<matplotlib.image.AxesImage at 0x7fac0e38a7b8>"
      ]
     },
     "execution_count": 86,
     "metadata": {
      "tags": []
     },
     "output_type": "execute_result"
    },
    {
     "data": {
      "image/png": "[encoded data removed]",
      "text/plain": [
       "<Figure size 288x288 with 1 Axes>"
      ]
     },
     "metadata": {
      "tags": []
     },
     "output_type": "display_data"
    }
   ],
   "source": [
    "plt.matshow(new_df.corr())"
   ]
  },
  {
   "cell_type": "markdown",
   "metadata": {
    "colab_type": "text",
    "id": "4eccM5gegQ66"
   },
   "source": [
    "Количество предложений в тексте не коррелирует с возрастом автора в подвыборке от 16 до 32 лет"
   ]
  },
  {
   "cell_type": "markdown",
   "metadata": {
    "colab_type": "text",
    "id": "3k6uGGaDWMTg"
   },
   "source": [
    "# Часть 4"
   ]
  },
  {
   "cell_type": "markdown",
   "metadata": {
    "colab_type": "text",
    "id": "LRhFmTgQWOzJ"
   },
   "source": [
    "Самостоятельно реализуйте функцию для получения посимвольных н-грамм (без использования библиотек)."
   ]
  },
  {
   "cell_type": "code",
   "execution_count": null,
   "metadata": {
    "colab": {},
    "colab_type": "code",
    "id": "s-wEq6wdWwEl"
   },
   "outputs": [],
   "source": [
    "def char_ngrams(text, n):\n",
    "    return [text[i:i+n] for i in range(len(text)) if len(text[i:i+n]) == n] "
   ]
  },
  {
   "cell_type": "code",
   "execution_count": null,
   "metadata": {
    "colab": {
     "base_uri": "https://localhost:8080/",
     "height": 520
    },
    "colab_type": "code",
    "id": "ZZgEpfV-CW61",
    "outputId": "41e40b86-8329-4b7f-e699-ebb0bc56ffbd"
   },
   "outputs": [
    {
     "data": {
      "text/plain": [
       "['уст',\n",
       " 'ста',\n",
       " 'тав',\n",
       " 'авш',\n",
       " 'вша',\n",
       " 'шая',\n",
       " 'ая ',\n",
       " 'я м',\n",
       " ' ма',\n",
       " 'мам',\n",
       " 'ама',\n",
       " 'ма ',\n",
       " 'а м',\n",
       " ' мы',\n",
       " 'мыл',\n",
       " 'ыла',\n",
       " 'ла ',\n",
       " 'а г',\n",
       " ' гр',\n",
       " 'гря',\n",
       " 'ряз',\n",
       " 'язн',\n",
       " 'зну',\n",
       " 'ную',\n",
       " 'ую ',\n",
       " 'ю р',\n",
       " ' ра',\n",
       " 'рам',\n",
       " 'аму']"
      ]
     },
     "execution_count": 200,
     "metadata": {
      "tags": []
     },
     "output_type": "execute_result"
    }
   ],
   "source": [
    "text = \"уставшая мама мыла грязную раму\"\n",
    "char_ngrams(text, n=3)"
   ]
  },
  {
   "cell_type": "markdown",
   "metadata": {
    "colab_type": "text",
    "id": "XWUCl9dJWwaj"
   },
   "source": [
    "Самостоятельно реализуйте функцию для получения пословных н-грамм (без использования библиотек)."
   ]
  },
  {
   "cell_type": "code",
   "execution_count": null,
   "metadata": {
    "colab": {},
    "colab_type": "code",
    "id": "v86O9jufXSgx"
   },
   "outputs": [],
   "source": [
    "def word_ngrams(text, n):\n",
    "    text = text.split()\n",
    "    return [text[i:i+n] for i in range(len(text)) if len(text[i:i+n]) == n]"
   ]
  },
  {
   "cell_type": "code",
   "execution_count": null,
   "metadata": {
    "colab": {
     "base_uri": "https://localhost:8080/",
     "height": 69
    },
    "colab_type": "code",
    "id": "eLBJY9_MKAOH",
    "outputId": "32d702b9-d2d5-42ea-b9a6-fa4bdb972597"
   },
   "outputs": [
    {
     "data": {
      "text/plain": [
       "[['уставшая', 'мама', 'мыла'],\n",
       " ['мама', 'мыла', 'грязную'],\n",
       " ['мыла', 'грязную', 'раму']]"
      ]
     },
     "execution_count": 203,
     "metadata": {
      "tags": []
     },
     "output_type": "execute_result"
    }
   ],
   "source": [
    "word_ngrams(text, n=3)"
   ]
  },
  {
   "cell_type": "markdown",
   "metadata": {
    "colab_type": "text",
    "id": "hJhhVy0-XS23"
   },
   "source": [
    "Самостоятельно реализуйте функцию для получения н-грамм лемм (без использования библиотек)."
   ]
  },
  {
   "cell_type": "code",
   "execution_count": null,
   "metadata": {
    "colab": {},
    "colab_type": "code",
    "id": "gBRoz1yjKQDb"
   },
   "outputs": [],
   "source": [
    "def lemma_ngrams(text, n):\n",
    "    text = lemmatize(text).split()\n",
    "    return [text[i:i+n] for i in range(len(text)) if len(text[i:i+n]) == n]"
   ]
  },
  {
   "cell_type": "code",
   "execution_count": null,
   "metadata": {
    "colab": {
     "base_uri": "https://localhost:8080/",
     "height": 35
    },
    "colab_type": "code",
    "id": "VD9Vz3XbLnZ1",
    "outputId": "894ca913-2d95-41e3-c8e4-22516b36f489"
   },
   "outputs": [
    {
     "data": {
      "text/plain": [
       "[['устать', 'мама', 'мыло', 'грязный'], ['мама', 'мыло', 'грязный', 'рам']]"
      ]
     },
     "execution_count": 208,
     "metadata": {
      "tags": []
     },
     "output_type": "execute_result"
    }
   ],
   "source": [
    "lemma_ngrams(text, n=4)"
   ]
  },
  {
   "cell_type": "markdown",
   "metadata": {
    "colab_type": "text",
    "id": "3_7SXv53L3-_"
   },
   "source": [
    "Самостоятельно реализуйте функцию для получения н-грамм частеречных тегов (без использования библиотек)."
   ]
  },
  {
   "cell_type": "code",
   "execution_count": null,
   "metadata": {
    "colab": {},
    "colab_type": "code",
    "id": "aBXO7auuL69B"
   },
   "outputs": [],
   "source": [
    "def pos_ngrams(text, n):\n",
    "    text = pos(text).split()\n",
    "    return [text[i:i+n] for i in range(len(text)) if len(text[i:i+n]) == n]"
   ]
  },
  {
   "cell_type": "code",
   "execution_count": null,
   "metadata": {
    "colab": {
     "base_uri": "https://localhost:8080/",
     "height": 35
    },
    "colab_type": "code",
    "id": "ztdmeHcJMJPZ",
    "outputId": "8133c7e8-f285-4d4d-a82c-6d82ebd2585d"
   },
   "outputs": [
    {
     "data": {
      "text/plain": [
       "[['PRTF', 'NOUN', 'NOUN', 'ADJF'], ['NOUN', 'NOUN', 'ADJF', 'NOUN']]"
      ]
     },
     "execution_count": 210,
     "metadata": {
      "tags": []
     },
     "output_type": "execute_result"
    }
   ],
   "source": [
    "pos_ngrams(text, n=4)"
   ]
  },
  {
   "cell_type": "markdown",
   "metadata": {
    "colab_type": "text",
    "id": "x5WUKcObMQT3"
   },
   "source": [
    "Самостоятельно реализуйте функцию для получения частотного словаря частеречных тегов по коллекции документов."
   ]
  },
  {
   "cell_type": "code",
   "execution_count": null,
   "metadata": {
    "colab": {},
    "colab_type": "code",
    "id": "HMgDOYmMMTJY"
   },
   "outputs": [],
   "source": [
    "def build_pos_dict(corpus):\n",
    "    pos_words = ' '.join(pos(text) for text in corpus).split()\n",
    "    d = {}\n",
    "    for key in pos_words:\n",
    "        if key in d:\n",
    "            value = d[key]\n",
    "            d[key] = value + 1\n",
    "        else:\n",
    "            d[key] = 1\n",
    "    return d"
   ]
  },
  {
   "cell_type": "code",
   "execution_count": null,
   "metadata": {
    "colab": {
     "base_uri": "https://localhost:8080/",
     "height": 35
    },
    "colab_type": "code",
    "id": "0oBg6rwuPPpo",
    "outputId": "d6eb8e22-076f-4a28-9dcc-f2d6e46f0a93"
   },
   "outputs": [
    {
     "data": {
      "text/plain": [
       "{'ADJF': 2, 'NOUN': 7, 'PRTF': 1, 'VERB': 1}"
      ]
     },
     "execution_count": 223,
     "metadata": {
      "tags": []
     },
     "output_type": "execute_result"
    }
   ],
   "source": [
    "corpus = [\n",
    "    \"мама мыла уставшую раму\",\n",
    "    \"высшая школа экономики\",\n",
    "    \"компьютерная лингвистика\",\n",
    "    \"осень наступила\"\n",
    "]\n",
    "\n",
    "build_pos_dict(corpus)"
   ]
  },
  {
   "cell_type": "markdown",
   "metadata": {
    "colab_type": "text",
    "id": "A5rvxHRKP_1b"
   },
   "source": [
    "Постройте частотный словарь лемм по текстам внутри каждого класса. Найдите топ-15 лемм для текстов каждого класса. Есть ли между этими списками пересечение? Если да, сколько лемм пересекается?"
   ]
  },
  {
   "cell_type": "code",
   "execution_count": 29,
   "metadata": {
    "colab": {
     "base_uri": "https://localhost:8080/",
     "height": 381
    },
    "colab_type": "code",
    "id": "ZKRGvnfaQDqo",
    "outputId": "d26872bc-1273-49df-92db-28966c54fc48"
   },
   "outputs": [],
   "source": [
    "# весь корпус лемматизируется очень долго, поэтому для списков топ-15 лемм используется по 250 текстов каждого класса\n",
    "texts_class0 = df[df['label'] == 0]['text'][0:250]\n",
    "texts_class1 = df[df['label'] == 1]['text'][0:250]\n",
    "lemmas_class0 = ' '.join(lemmatize(tokenize(text)) for text in texts_class0).split()\n",
    "lemmas_class1 = ' '.join(lemmatize(tokenize(text)) for text in texts_class1).split()"
   ]
  },
  {
   "cell_type": "code",
   "execution_count": 30,
   "metadata": {},
   "outputs": [],
   "source": [
    "def top_lemmas(lemmas):\n",
    "    d = {}\n",
    "    for key in lemmas:\n",
    "        if key in d:\n",
    "            value = d[key]\n",
    "            d[key] = value + 1\n",
    "        else:\n",
    "            d[key] = 1\n",
    "\n",
    "    list_d = list(d.items())\n",
    "    list_d.sort(key=lambda i: i[1], reverse=True)\n",
    "    return list_d[:15]"
   ]
  },
  {
   "cell_type": "code",
   "execution_count": 31,
   "metadata": {},
   "outputs": [
    {
     "name": "stdout",
     "output_type": "stream",
     "text": [
      "Топ-15 лет для класса 0 [('год', 298), ('который', 144), ('область', 133), ('казахстан', 123), ('это', 102), ('работа', 96), ('город', 91), ('человек', 90), ('россия', 89), ('район', 89), ('свой', 88), ('проект', 88), ('президент', 86), ('также', 85), ('наш', 84)]\n",
      "Топ-15 лет для класса 1 [('это', 250), ('хотеть', 240), ('год', 221), ('я', 212), ('жить', 210), ('мочь', 190), ('очень', 173), ('жизнь', 171), ('весь', 169), ('знать', 136), ('мой', 135), ('свой', 121), ('человек', 120), ('просто', 119), ('который', 116)]\n"
     ]
    }
   ],
   "source": [
    "print('Топ-15 лет для класса 0', top_lemmas(lemmas_class0))\n",
    "print('Топ-15 лет для класса 1', top_lemmas(lemmas_class1))"
   ]
  },
  {
   "cell_type": "code",
   "execution_count": 32,
   "metadata": {},
   "outputs": [],
   "source": [
    "a = [i[0] for i in top_lemmas(lemmas_class0)]\n",
    "b = [i[0] for i in top_lemmas(lemmas_class1)]\n",
    "intersection = []\n",
    "for i in a:\n",
    "    if i in intersection:\n",
    "        continue\n",
    "    for j in b:\n",
    "        if i == j:\n",
    "            intersection.append(i)\n",
    "            break"
   ]
  },
  {
   "cell_type": "code",
   "execution_count": 33,
   "metadata": {},
   "outputs": [
    {
     "name": "stdout",
     "output_type": "stream",
     "text": [
      "Пересечение списков топ лемм  ['год', 'который', 'это', 'человек', 'свой']\n"
     ]
    }
   ],
   "source": [
    "print('Пересечение списков топ лемм ', intersection)"
   ]
  },
  {
   "cell_type": "markdown",
   "metadata": {
    "colab_type": "text",
    "id": "goOAwIv_QAkz"
   },
   "source": [
    "Какие текстовые признаки могли бы быть полезными для решения задачи классификации на этих данных? Приведите примеры и перечислите ресурсы, которые вы бы использовали для конструирования этих признаков."
   ]
  },
  {
   "cell_type": "markdown",
   "metadata": {},
   "source": [
    "(для бинарной классификации является/не является текст депрессивным) Тональность текста или частотность словоформ негативной эмоциональной окраски (с помощью размеченных тезаурусов типа WordNet-Affect, SentiWordNet). Также можно попробовать рассмотреть частотность одушевленных существительных (pymorphy2), так как в депрессивных текстах авторы много описывают проблемы в взаимоотношениях с другими людьми, модальность (в списке топ-лемм видно, что для текстов класса 1 часто используются глаголы типа хотеть, мочь,: для извлечения SlinkET), частотность н-грамм с отрицательными частицами и глаголами (предложения типа типа меня никто не любит, не хочу жить и т.д.: nltk) и tf-idf"
   ]
  },
  {
   "cell_type": "code",
   "execution_count": null,
   "metadata": {},
   "outputs": [],
   "source": []
  }
 ],
 "metadata": {
  "colab": {
   "name": "hw1_compling.ipynb",
   "provenance": [],
   "toc_visible": true
  },
  "kernelspec": {
   "display_name": "Python 3",
   "language": "python",
   "name": "python3"
  },
  "language_info": {
   "codemirror_mode": {
    "name": "ipython",
    "version": 3
   },
   "file_extension": ".py",
   "mimetype": "text/x-python",
   "name": "python",
   "nbconvert_exporter": "python",
   "pygments_lexer": "ipython3",
   "version": "3.7.6"
  }
 },
 "nbformat": 4,
 "nbformat_minor": 1
}

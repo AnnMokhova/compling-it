{
  "nbformat": 4,
  "nbformat_minor": 0,
  "metadata": {
    "colab": {
      "name": "hw1_compling.ipynb",
      "provenance": [],
      "toc_visible": true,
      "authorship_tag": "ABX9TyNyuZEYdgMOKx2jnuBWAmsg"
    },
    "kernelspec": {
      "name": "python3",
      "display_name": "Python 3"
    }
  },
  "cells": [
    {
      "cell_type": "markdown",
      "metadata": {
        "id": "ODMHZKKPn8sP",
        "colab_type": "text"
      },
      "source": [
        "# Домашнее задание 1"
      ]
    },
    {
      "cell_type": "code",
      "metadata": {
        "id": "f0ZFZDhDzm56",
        "colab_type": "code",
        "colab": {
          "base_uri": "https://localhost:8080/",
          "height": 55
        },
        "outputId": "270e2928-9e7b-481d-8ebc-d087eabcc1a9"
      },
      "source": [
        "from google.colab import drive\n",
        "drive.mount('gdrive')"
      ],
      "execution_count": 3,
      "outputs": [
        {
          "output_type": "stream",
          "text": [
            "Drive already mounted at gdrive; to attempt to forcibly remount, call drive.mount(\"gdrive\", force_remount=True).\n"
          ],
          "name": "stdout"
        }
      ]
    },
    {
      "cell_type": "code",
      "metadata": {
        "id": "3qkmp7Mp0W3G",
        "colab_type": "code",
        "colab": {
          "base_uri": "https://localhost:8080/",
          "height": 35
        },
        "outputId": "abbab96f-ec63-46c2-db82-9dd919ca2dea"
      },
      "source": [
        "%cd /content/gdrive/My Drive/compling_hw1"
      ],
      "execution_count": 4,
      "outputs": [
        {
          "output_type": "stream",
          "text": [
            "/content/gdrive/My Drive/compling_hw1\n"
          ],
          "name": "stdout"
        }
      ]
    },
    {
      "cell_type": "code",
      "metadata": {
        "id": "XO1sazmq3IOn",
        "colab_type": "code",
        "colab": {
          "base_uri": "https://localhost:8080/",
          "height": 35
        },
        "outputId": "ba448826-7350-4f10-e1d1-69f9aace8a9c"
      },
      "source": [
        "!ls"
      ],
      "execution_count": 5,
      "outputs": [
        {
          "output_type": "stream",
          "text": [
            "depression_data.tsv\n"
          ],
          "name": "stdout"
        }
      ]
    },
    {
      "cell_type": "code",
      "metadata": {
        "id": "LwygvZR_oAL8",
        "colab_type": "code",
        "colab": {
          "base_uri": "https://localhost:8080/",
          "height": 202
        },
        "outputId": "01602ef4-e794-4422-afd8-1a11a21f9104"
      },
      "source": [
        "import pandas as pd\n",
        "\n",
        "\n",
        "df = pd.read_csv(\"depression_data.tsv\", sep=\"\\t\")\n",
        "df.head()"
      ],
      "execution_count": 6,
      "outputs": [
        {
          "output_type": "execute_result",
          "data": {
            "text/html": [
              "<div>\n",
              "<style scoped>\n",
              "    .dataframe tbody tr th:only-of-type {\n",
              "        vertical-align: middle;\n",
              "    }\n",
              "\n",
              "    .dataframe tbody tr th {\n",
              "        vertical-align: top;\n",
              "    }\n",
              "\n",
              "    .dataframe thead th {\n",
              "        text-align: right;\n",
              "    }\n",
              "</style>\n",
              "<table border=\"1\" class=\"dataframe\">\n",
              "  <thead>\n",
              "    <tr style=\"text-align: right;\">\n",
              "      <th></th>\n",
              "      <th>text</th>\n",
              "      <th>label</th>\n",
              "      <th>age</th>\n",
              "    </tr>\n",
              "  </thead>\n",
              "  <tbody>\n",
              "    <tr>\n",
              "      <th>0</th>\n",
              "      <td>Когда-то я был добрым романтиком, который стре...</td>\n",
              "      <td>1</td>\n",
              "      <td>32.0</td>\n",
              "    </tr>\n",
              "    <tr>\n",
              "      <th>1</th>\n",
              "      <td>Здраствуйте! Я каждый день просыпаюсь с мыслью...</td>\n",
              "      <td>1</td>\n",
              "      <td>28.0</td>\n",
              "    </tr>\n",
              "    <tr>\n",
              "      <th>2</th>\n",
              "      <td>У меня проблемы с девушкой. Каждую ссору я не ...</td>\n",
              "      <td>1</td>\n",
              "      <td>16.0</td>\n",
              "    </tr>\n",
              "    <tr>\n",
              "      <th>3</th>\n",
              "      <td>Вся моя жизнь это один сплошной ад, в котором ...</td>\n",
              "      <td>1</td>\n",
              "      <td>32.0</td>\n",
              "    </tr>\n",
              "    <tr>\n",
              "      <th>4</th>\n",
              "      <td>Я хочу уснуть и не проснуться.каждый день одно...</td>\n",
              "      <td>1</td>\n",
              "      <td>14.0</td>\n",
              "    </tr>\n",
              "  </tbody>\n",
              "</table>\n",
              "</div>"
            ],
            "text/plain": [
              "                                                text  label   age\n",
              "0  Когда-то я был добрым романтиком, который стре...      1  32.0\n",
              "1  Здраствуйте! Я каждый день просыпаюсь с мыслью...      1  28.0\n",
              "2  У меня проблемы с девушкой. Каждую ссору я не ...      1  16.0\n",
              "3  Вся моя жизнь это один сплошной ад, в котором ...      1  32.0\n",
              "4  Я хочу уснуть и не проснуться.каждый день одно...      1  14.0"
            ]
          },
          "metadata": {
            "tags": []
          },
          "execution_count": 6
        }
      ]
    },
    {
      "cell_type": "markdown",
      "metadata": {
        "id": "Yse2gkVCNHm9",
        "colab_type": "text"
      },
      "source": [
        "# Часть 1"
      ]
    },
    {
      "cell_type": "markdown",
      "metadata": {
        "id": "VPrQEiSUsVOy",
        "colab_type": "text"
      },
      "source": [
        "Найдите среднее значение возраста в диапазоне от 14 до 50 лет включительно."
      ]
    },
    {
      "cell_type": "code",
      "metadata": {
        "id": "Vhgz1w4isXP6",
        "colab_type": "code",
        "colab": {
          "base_uri": "https://localhost:8080/",
          "height": 35
        },
        "outputId": "d60b7b09-fe80-46cd-bcba-53a17d9f2cea"
      },
      "source": [
        "df[(df['age'] >= 14) & (df['age'] <= 50)]['age'].mean()"
      ],
      "execution_count": 8,
      "outputs": [
        {
          "output_type": "execute_result",
          "data": {
            "text/plain": [
              "22.704171601526518"
            ]
          },
          "metadata": {
            "tags": []
          },
          "execution_count": 8
        }
      ]
    },
    {
      "cell_type": "markdown",
      "metadata": {
        "id": "JRG2ShuisXnY",
        "colab_type": "text"
      },
      "source": [
        "Какую долю 16-летние авторы составляют в диапазоне от 16 до 26 лет включительно?"
      ]
    },
    {
      "cell_type": "code",
      "metadata": {
        "id": "vT2YsT-wsaTX",
        "colab_type": "code",
        "colab": {
          "base_uri": "https://localhost:8080/",
          "height": 52
        },
        "outputId": "7d124fc1-0443-4d83-e4ea-f10afc29cf74"
      },
      "source": [
        "df[df['age'] == 16]['age'].value_counts() / df[(df['age'] >= 16) & (df['age'] <= 26)]['age'].value_counts().sum()"
      ],
      "execution_count": 9,
      "outputs": [
        {
          "output_type": "execute_result",
          "data": {
            "text/plain": [
              "16.0    0.125941\n",
              "Name: age, dtype: float64"
            ]
          },
          "metadata": {
            "tags": []
          },
          "execution_count": 9
        }
      ]
    },
    {
      "cell_type": "markdown",
      "metadata": {
        "id": "ZmufL6UVsbFV",
        "colab_type": "text"
      },
      "source": [
        "Сколько в датасете текстов, авторам которых 28 или 30 лет?"
      ]
    },
    {
      "cell_type": "code",
      "metadata": {
        "id": "UODfe1klsdoe",
        "colab_type": "code",
        "colab": {
          "base_uri": "https://localhost:8080/",
          "height": 35
        },
        "outputId": "5579d210-7677-49f1-8344-2fd88d6a77b5"
      },
      "source": [
        "len(df[(df['age'] == 28) | (df['age'] == 30)])"
      ],
      "execution_count": 10,
      "outputs": [
        {
          "output_type": "execute_result",
          "data": {
            "text/plain": [
              "1185"
            ]
          },
          "metadata": {
            "tags": []
          },
          "execution_count": 10
        }
      ]
    },
    {
      "cell_type": "markdown",
      "metadata": {
        "id": "N2y03XsNseEt",
        "colab_type": "text"
      },
      "source": [
        "С помощью одной встроенной в pandas функции отобразите всю статистику по колонке age в диапазоне от 18 до 30 лет включительно."
      ]
    },
    {
      "cell_type": "code",
      "metadata": {
        "id": "eAHmyXxUshVW",
        "colab_type": "code",
        "colab": {
          "base_uri": "https://localhost:8080/",
          "height": 173
        },
        "outputId": "7cbf6aff-12bc-4183-aa1b-9cd9dc6a6264"
      },
      "source": [
        "df[(df['age'] >= 18) & (df['age'] <= 30)]['age'].describe()"
      ],
      "execution_count": 11,
      "outputs": [
        {
          "output_type": "execute_result",
          "data": {
            "text/plain": [
              "count    13205.000000\n",
              "mean        22.676638\n",
              "std          3.550254\n",
              "min         18.000000\n",
              "25%         20.000000\n",
              "50%         22.000000\n",
              "75%         25.000000\n",
              "max         30.000000\n",
              "Name: age, dtype: float64"
            ]
          },
          "metadata": {
            "tags": []
          },
          "execution_count": 11
        }
      ]
    },
    {
      "cell_type": "markdown",
      "metadata": {
        "id": "nzm-IEDMshlU",
        "colab_type": "text"
      },
      "source": [
        "Сколько в датасете положительных / отрицательных примеров?"
      ]
    },
    {
      "cell_type": "code",
      "metadata": {
        "id": "UGlfo5RJslAl",
        "colab_type": "code",
        "colab": {
          "base_uri": "https://localhost:8080/",
          "height": 52
        },
        "outputId": "b5e0a2ca-e5a7-4673-e85a-b7e10f85f7d8"
      },
      "source": [
        "print('Положительных примеров: ', len(df[df['label'] == 1]))\n",
        "print('Отрицательных примеров: ', len(df[df['label'] == 0]))"
      ],
      "execution_count": 12,
      "outputs": [
        {
          "output_type": "stream",
          "text": [
            "Положительных примеров:  32018\n",
            "Отрицательных примеров:  32021\n"
          ],
          "name": "stdout"
        }
      ]
    },
    {
      "cell_type": "markdown",
      "metadata": {
        "id": "C27Ik_NaN4zX",
        "colab_type": "text"
      },
      "source": [
        "# Часть 2"
      ]
    },
    {
      "cell_type": "markdown",
      "metadata": {
        "id": "KI3mWhZYODmF",
        "colab_type": "text"
      },
      "source": [
        "Посчитайте количество предложений в каждом тексте. Сохраните эти значения в отдельной колонке датафрейма."
      ]
    },
    {
      "cell_type": "code",
      "metadata": {
        "id": "6Bp8BJ55Pt_t",
        "colab_type": "code",
        "colab": {
          "base_uri": "https://localhost:8080/",
          "height": 35
        },
        "outputId": "605e3e27-1853-4113-f1ab-35d7714b72c8"
      },
      "source": [
        "pip install razdel"
      ],
      "execution_count": 7,
      "outputs": [
        {
          "output_type": "stream",
          "text": [
            "Requirement already satisfied: razdel in /usr/local/lib/python3.6/dist-packages (0.5.0)\n"
          ],
          "name": "stdout"
        }
      ]
    },
    {
      "cell_type": "code",
      "metadata": {
        "id": "am_VkvGu_CbV",
        "colab_type": "code",
        "colab": {}
      },
      "source": [
        "import re\n",
        "import razdel\n",
        "from razdel import sentenize"
      ],
      "execution_count": 8,
      "outputs": []
    },
    {
      "cell_type": "code",
      "metadata": {
        "id": "J2en1aZn-9DQ",
        "colab_type": "code",
        "colab": {}
      },
      "source": [
        "num_sent = []\n",
        "for text in df['text']:\n",
        "    num_sent.append(len([s.text for s in sentenize(text)]))"
      ],
      "execution_count": 9,
      "outputs": []
    },
    {
      "cell_type": "code",
      "metadata": {
        "id": "_jKWo3E39cFS",
        "colab_type": "code",
        "colab": {}
      },
      "source": [
        "df['number of sentences'] = num_sent"
      ],
      "execution_count": 10,
      "outputs": []
    },
    {
      "cell_type": "code",
      "metadata": {
        "id": "7v7mE9ppXzR9",
        "colab_type": "code",
        "colab": {
          "base_uri": "https://localhost:8080/",
          "height": 202
        },
        "outputId": "f8e63cbe-fb21-4db9-b7f1-714236045453"
      },
      "source": [
        "df.head()"
      ],
      "execution_count": 11,
      "outputs": [
        {
          "output_type": "execute_result",
          "data": {
            "text/html": [
              "<div>\n",
              "<style scoped>\n",
              "    .dataframe tbody tr th:only-of-type {\n",
              "        vertical-align: middle;\n",
              "    }\n",
              "\n",
              "    .dataframe tbody tr th {\n",
              "        vertical-align: top;\n",
              "    }\n",
              "\n",
              "    .dataframe thead th {\n",
              "        text-align: right;\n",
              "    }\n",
              "</style>\n",
              "<table border=\"1\" class=\"dataframe\">\n",
              "  <thead>\n",
              "    <tr style=\"text-align: right;\">\n",
              "      <th></th>\n",
              "      <th>text</th>\n",
              "      <th>label</th>\n",
              "      <th>age</th>\n",
              "      <th>number of sentences</th>\n",
              "    </tr>\n",
              "  </thead>\n",
              "  <tbody>\n",
              "    <tr>\n",
              "      <th>0</th>\n",
              "      <td>Когда-то я был добрым романтиком, который стре...</td>\n",
              "      <td>1</td>\n",
              "      <td>32.0</td>\n",
              "      <td>15</td>\n",
              "    </tr>\n",
              "    <tr>\n",
              "      <th>1</th>\n",
              "      <td>Здраствуйте! Я каждый день просыпаюсь с мыслью...</td>\n",
              "      <td>1</td>\n",
              "      <td>28.0</td>\n",
              "      <td>6</td>\n",
              "    </tr>\n",
              "    <tr>\n",
              "      <th>2</th>\n",
              "      <td>У меня проблемы с девушкой. Каждую ссору я не ...</td>\n",
              "      <td>1</td>\n",
              "      <td>16.0</td>\n",
              "      <td>10</td>\n",
              "    </tr>\n",
              "    <tr>\n",
              "      <th>3</th>\n",
              "      <td>Вся моя жизнь это один сплошной ад, в котором ...</td>\n",
              "      <td>1</td>\n",
              "      <td>32.0</td>\n",
              "      <td>5</td>\n",
              "    </tr>\n",
              "    <tr>\n",
              "      <th>4</th>\n",
              "      <td>Я хочу уснуть и не проснуться.каждый день одно...</td>\n",
              "      <td>1</td>\n",
              "      <td>14.0</td>\n",
              "      <td>18</td>\n",
              "    </tr>\n",
              "  </tbody>\n",
              "</table>\n",
              "</div>"
            ],
            "text/plain": [
              "                                                text  ...  number of sentences\n",
              "0  Когда-то я был добрым романтиком, который стре...  ...                   15\n",
              "1  Здраствуйте! Я каждый день просыпаюсь с мыслью...  ...                    6\n",
              "2  У меня проблемы с девушкой. Каждую ссору я не ...  ...                   10\n",
              "3  Вся моя жизнь это один сплошной ад, в котором ...  ...                    5\n",
              "4  Я хочу уснуть и не проснуться.каждый день одно...  ...                   18\n",
              "\n",
              "[5 rows x 4 columns]"
            ]
          },
          "metadata": {
            "tags": []
          },
          "execution_count": 11
        }
      ]
    },
    {
      "cell_type": "markdown",
      "metadata": {
        "id": "BEEmgNYwOEbm",
        "colab_type": "text"
      },
      "source": [
        "Напишите функцию для токенизации текста. Удалите стоп-слова."
      ]
    },
    {
      "cell_type": "code",
      "metadata": {
        "id": "TeiZz7IyGC8P",
        "colab_type": "code",
        "colab": {
          "base_uri": "https://localhost:8080/",
          "height": 107
        },
        "outputId": "dd6ad365-2b4f-4f01-8ff6-392f03d772a6"
      },
      "source": [
        "pip install pymorphy2"
      ],
      "execution_count": 12,
      "outputs": [
        {
          "output_type": "stream",
          "text": [
            "Requirement already satisfied: pymorphy2 in /usr/local/lib/python3.6/dist-packages (0.9)\n",
            "Requirement already satisfied: docopt>=0.6 in /usr/local/lib/python3.6/dist-packages (from pymorphy2) (0.6.2)\n",
            "Requirement already satisfied: dawg-python>=0.7.1 in /usr/local/lib/python3.6/dist-packages (from pymorphy2) (0.7.2)\n",
            "Requirement already satisfied: pymorphy2-dicts-ru<3.0,>=2.4 in /usr/local/lib/python3.6/dist-packages (from pymorphy2) (2.4.404381.4453942)\n"
          ],
          "name": "stdout"
        }
      ]
    },
    {
      "cell_type": "code",
      "metadata": {
        "id": "LVXpuJxyQwWO",
        "colab_type": "code",
        "colab": {
          "base_uri": "https://localhost:8080/",
          "height": 540
        },
        "outputId": "86a85883-9ad1-4710-bac3-35fa866fad0b"
      },
      "source": [
        "pip install git+https://github.com/aatimofeev/spacy_russian_tokenizer.git"
      ],
      "execution_count": 13,
      "outputs": [
        {
          "output_type": "stream",
          "text": [
            "Collecting git+https://github.com/aatimofeev/spacy_russian_tokenizer.git\n",
            "  Cloning https://github.com/aatimofeev/spacy_russian_tokenizer.git to /tmp/pip-req-build-xgqe03ot\n",
            "  Running command git clone -q https://github.com/aatimofeev/spacy_russian_tokenizer.git /tmp/pip-req-build-xgqe03ot\n",
            "Requirement already satisfied (use --upgrade to upgrade): spacy-russian-tokenizer==0.1.1 from git+https://github.com/aatimofeev/spacy_russian_tokenizer.git in /usr/local/lib/python3.6/dist-packages\n",
            "Requirement already satisfied: spacy in /usr/local/lib/python3.6/dist-packages (from spacy-russian-tokenizer==0.1.1) (2.2.4)\n",
            "Requirement already satisfied: srsly<1.1.0,>=1.0.2 in /usr/local/lib/python3.6/dist-packages (from spacy->spacy-russian-tokenizer==0.1.1) (1.0.2)\n",
            "Requirement already satisfied: plac<1.2.0,>=0.9.6 in /usr/local/lib/python3.6/dist-packages (from spacy->spacy-russian-tokenizer==0.1.1) (1.1.3)\n",
            "Requirement already satisfied: thinc==7.4.0 in /usr/local/lib/python3.6/dist-packages (from spacy->spacy-russian-tokenizer==0.1.1) (7.4.0)\n",
            "Requirement already satisfied: requests<3.0.0,>=2.13.0 in /usr/local/lib/python3.6/dist-packages (from spacy->spacy-russian-tokenizer==0.1.1) (2.23.0)\n",
            "Requirement already satisfied: murmurhash<1.1.0,>=0.28.0 in /usr/local/lib/python3.6/dist-packages (from spacy->spacy-russian-tokenizer==0.1.1) (1.0.2)\n",
            "Requirement already satisfied: wasabi<1.1.0,>=0.4.0 in /usr/local/lib/python3.6/dist-packages (from spacy->spacy-russian-tokenizer==0.1.1) (0.8.0)\n",
            "Requirement already satisfied: tqdm<5.0.0,>=4.38.0 in /usr/local/lib/python3.6/dist-packages (from spacy->spacy-russian-tokenizer==0.1.1) (4.41.1)\n",
            "Requirement already satisfied: catalogue<1.1.0,>=0.0.7 in /usr/local/lib/python3.6/dist-packages (from spacy->spacy-russian-tokenizer==0.1.1) (1.0.0)\n",
            "Requirement already satisfied: blis<0.5.0,>=0.4.0 in /usr/local/lib/python3.6/dist-packages (from spacy->spacy-russian-tokenizer==0.1.1) (0.4.1)\n",
            "Requirement already satisfied: setuptools in /usr/local/lib/python3.6/dist-packages (from spacy->spacy-russian-tokenizer==0.1.1) (50.3.0)\n",
            "Requirement already satisfied: preshed<3.1.0,>=3.0.2 in /usr/local/lib/python3.6/dist-packages (from spacy->spacy-russian-tokenizer==0.1.1) (3.0.2)\n",
            "Requirement already satisfied: numpy>=1.15.0 in /usr/local/lib/python3.6/dist-packages (from spacy->spacy-russian-tokenizer==0.1.1) (1.18.5)\n",
            "Requirement already satisfied: cymem<2.1.0,>=2.0.2 in /usr/local/lib/python3.6/dist-packages (from spacy->spacy-russian-tokenizer==0.1.1) (2.0.3)\n",
            "Requirement already satisfied: certifi>=2017.4.17 in /usr/local/lib/python3.6/dist-packages (from requests<3.0.0,>=2.13.0->spacy->spacy-russian-tokenizer==0.1.1) (2020.6.20)\n",
            "Requirement already satisfied: chardet<4,>=3.0.2 in /usr/local/lib/python3.6/dist-packages (from requests<3.0.0,>=2.13.0->spacy->spacy-russian-tokenizer==0.1.1) (3.0.4)\n",
            "Requirement already satisfied: idna<3,>=2.5 in /usr/local/lib/python3.6/dist-packages (from requests<3.0.0,>=2.13.0->spacy->spacy-russian-tokenizer==0.1.1) (2.10)\n",
            "Requirement already satisfied: urllib3!=1.25.0,!=1.25.1,<1.26,>=1.21.1 in /usr/local/lib/python3.6/dist-packages (from requests<3.0.0,>=2.13.0->spacy->spacy-russian-tokenizer==0.1.1) (1.24.3)\n",
            "Requirement already satisfied: importlib-metadata>=0.20; python_version < \"3.8\" in /usr/local/lib/python3.6/dist-packages (from catalogue<1.1.0,>=0.0.7->spacy->spacy-russian-tokenizer==0.1.1) (1.7.0)\n",
            "Requirement already satisfied: zipp>=0.5 in /usr/local/lib/python3.6/dist-packages (from importlib-metadata>=0.20; python_version < \"3.8\"->catalogue<1.1.0,>=0.0.7->spacy->spacy-russian-tokenizer==0.1.1) (3.1.0)\n",
            "Building wheels for collected packages: spacy-russian-tokenizer\n",
            "  Building wheel for spacy-russian-tokenizer (setup.py) ... \u001b[?25l\u001b[?25hdone\n",
            "  Created wheel for spacy-russian-tokenizer: filename=spacy_russian_tokenizer-0.1.1-cp36-none-any.whl size=12675 sha256=1f12c043c301f9bf71bcbb2e1c677e4b0290d2d5ccdecfa61e5847e1bdb383f2\n",
            "  Stored in directory: /tmp/pip-ephem-wheel-cache-w_uo4eh4/wheels/37/3b/bb/cfe712f7c0b78cd08f4a2ef122d17748baf9d4bebecf2e5a54\n",
            "Successfully built spacy-russian-tokenizer\n"
          ],
          "name": "stdout"
        }
      ]
    },
    {
      "cell_type": "code",
      "metadata": {
        "id": "zLb75P5JC_Ig",
        "colab_type": "code",
        "colab": {
          "base_uri": "https://localhost:8080/",
          "height": 52
        },
        "outputId": "719d7a43-8a63-4409-cd93-3019b9408862"
      },
      "source": [
        "import nltk\n",
        "nltk.download('stopwords')\n",
        "from nltk.corpus import stopwords\n",
        "from spacy.lang.ru import Russian\n",
        "from spacy_russian_tokenizer import RussianTokenizer, MERGE_PATTERNS\n",
        "from pymorphy2 import MorphAnalyzer\n",
        "import pymorphy2"
      ],
      "execution_count": 14,
      "outputs": [
        {
          "output_type": "stream",
          "text": [
            "[nltk_data] Downloading package stopwords to /root/nltk_data...\n",
            "[nltk_data]   Package stopwords is already up-to-date!\n"
          ],
          "name": "stdout"
        }
      ]
    },
    {
      "cell_type": "code",
      "metadata": {
        "id": "DDBB49pFOHNL",
        "colab_type": "code",
        "colab": {}
      },
      "source": [
        "def tokenize(text):\n",
        "    # убираем стоп-слова\n",
        "    text = ' '.join([word for word in text.lower().split() if word not in stopwords.words('russian')])\n",
        "    # разбиваем на токены\n",
        "    nlp = Russian()\n",
        "    doc = nlp(text)\n",
        "    russian_tokenizer = RussianTokenizer(nlp, MERGE_PATTERNS)\n",
        "    nlp.add_pipe(russian_tokenizer, name='russian_tokenizer')\n",
        "    doc = nlp(text)\n",
        "    return ' '.join([token.text for token in doc if token.text not in ',.!?-();:\"\"«»—_–#' and '.' not in token.text])"
      ],
      "execution_count": 15,
      "outputs": []
    },
    {
      "cell_type": "code",
      "metadata": {
        "id": "dR1HNCh2QX4Y",
        "colab_type": "code",
        "colab": {
          "base_uri": "https://localhost:8080/",
          "height": 280
        },
        "outputId": "706ae9e9-6e54-42bc-d514-e17a558e0ebd"
      },
      "source": [
        "pip install pymorphy2[fast]"
      ],
      "execution_count": 24,
      "outputs": [
        {
          "output_type": "stream",
          "text": [
            "Requirement already satisfied: pymorphy2[fast] in /usr/local/lib/python3.6/dist-packages (0.9)\n",
            "Requirement already satisfied: pymorphy2-dicts-ru<3.0,>=2.4 in /usr/local/lib/python3.6/dist-packages (from pymorphy2[fast]) (2.4.404381.4453942)\n",
            "Requirement already satisfied: dawg-python>=0.7.1 in /usr/local/lib/python3.6/dist-packages (from pymorphy2[fast]) (0.7.2)\n",
            "Requirement already satisfied: docopt>=0.6 in /usr/local/lib/python3.6/dist-packages (from pymorphy2[fast]) (0.6.2)\n",
            "Collecting DAWG>=0.8; extra == \"fast\"\n",
            "\u001b[?25l  Downloading https://files.pythonhosted.org/packages/b8/ef/91b619a399685f7a0a95a03628006ba814d96293bbbbed234ee66fbdefd9/DAWG-0.8.0.tar.gz (371kB)\n",
            "\u001b[K     |████████████████████████████████| 378kB 2.6MB/s \n",
            "\u001b[?25hBuilding wheels for collected packages: DAWG\n",
            "  Building wheel for DAWG (setup.py) ... \u001b[?25l\u001b[?25hdone\n",
            "  Created wheel for DAWG: filename=DAWG-0.8.0-cp36-cp36m-linux_x86_64.whl size=845994 sha256=fc0cab59dd275b36aec4ceb428d99b71ff2379df63247d89abd343ca82f50b62\n",
            "  Stored in directory: /root/.cache/pip/wheels/3d/1f/f0/a5b1f9d02e193c997d252c33d215f24dfd7a448bc0166b2a12\n",
            "Successfully built DAWG\n",
            "Installing collected packages: DAWG\n",
            "Successfully installed DAWG-0.8.0\n"
          ],
          "name": "stdout"
        }
      ]
    },
    {
      "cell_type": "code",
      "metadata": {
        "id": "LLJxHK-VC0gz",
        "colab_type": "code",
        "colab": {
          "base_uri": "https://localhost:8080/",
          "height": 191
        },
        "outputId": "d64f9860-702c-423c-e561-fb6ed6f5d737"
      },
      "source": [
        "tokenize(df['text'][0])"
      ],
      "execution_count": 16,
      "outputs": [
        {
          "output_type": "execute_result",
          "data": {
            "application/vnd.google.colaboratory.intrinsic+json": {
              "type": "string"
            },
            "text/plain": [
              "'когда-то добрым романтиком который стремился помочь всем попросит жалко верил человечность однако это фальшем суррогатная дружба какие-то непонятные отношения девушка которая клялась любит итоге изменила ушла другому появилось бесперспективный попросту достаточного достатка собственного жилья родители шизофренией никто поддерживал поддерживает итак отдавая кусочек каждому потерял свое душевное тепло стало безразлично апатия бывшая девушка всяких усилий нашла нового который сразу женился возит разным странам мира же брался любую работу показать хуже часто обманывали недоплачивали оплачивали вовсе простой неудачник который потерял смысл жизни мою ситуацию спасает внешность ужасная попросту урод часто завидую тем кому повезло внешностью любят дается легко занимаюсь своим любимым делом часто посещают мысли никому это надо также я это тщетно бессмысленно это сказывается пустота внутри меня часто удивляет многим повезло складывается почему складывается меня почему выходит как-то потеряют документы мои заплатят именно мне именно мое место закрыто именно используют бросают именно такие родители хочется окружающие оказались моем месте прочувствовали это поняли каково это глубже просто хочу прекратить это все просто прервать свое существование'"
            ]
          },
          "metadata": {
            "tags": []
          },
          "execution_count": 16
        }
      ]
    },
    {
      "cell_type": "markdown",
      "metadata": {
        "id": "dewy7S0COIEN",
        "colab_type": "text"
      },
      "source": [
        "Посчитайте количество токенов в тексте (без стоп-слов). Найдите среднее этих значений как по всей выборке, так и внутри каждого класса."
      ]
    },
    {
      "cell_type": "code",
      "metadata": {
        "id": "bSbmyAU5VBfK",
        "colab_type": "code",
        "colab": {}
      },
      "source": [
        "num_tokens = []\n",
        "for text in df['text']:\n",
        "    num_tokens.append(len(tokenize(text).split()))"
      ],
      "execution_count": null,
      "outputs": []
    },
    {
      "cell_type": "code",
      "metadata": {
        "id": "5G0E1XSQW5rT",
        "colab_type": "code",
        "colab": {
          "base_uri": "https://localhost:8080/",
          "height": 35
        },
        "outputId": "65b8d8a6-cbb9-4f6a-f0ca-aef23faa2544"
      },
      "source": [
        "len(num_tokens)"
      ],
      "execution_count": null,
      "outputs": [
        {
          "output_type": "execute_result",
          "data": {
            "text/plain": [
              "64039"
            ]
          },
          "metadata": {
            "tags": []
          },
          "execution_count": 136
        }
      ]
    },
    {
      "cell_type": "code",
      "metadata": {
        "id": "yxJr1gCkxI_w",
        "colab_type": "code",
        "colab": {}
      },
      "source": [
        "df['number of tokens'] = num_tokens"
      ],
      "execution_count": null,
      "outputs": []
    },
    {
      "cell_type": "code",
      "metadata": {
        "id": "eG3--KrwxlVg",
        "colab_type": "code",
        "colab": {
          "base_uri": "https://localhost:8080/",
          "height": 202
        },
        "outputId": "618c182b-033e-40e4-e6c6-b0f13951f334"
      },
      "source": [
        "df.head()"
      ],
      "execution_count": null,
      "outputs": [
        {
          "output_type": "execute_result",
          "data": {
            "text/html": [
              "<div>\n",
              "<style scoped>\n",
              "    .dataframe tbody tr th:only-of-type {\n",
              "        vertical-align: middle;\n",
              "    }\n",
              "\n",
              "    .dataframe tbody tr th {\n",
              "        vertical-align: top;\n",
              "    }\n",
              "\n",
              "    .dataframe thead th {\n",
              "        text-align: right;\n",
              "    }\n",
              "</style>\n",
              "<table border=\"1\" class=\"dataframe\">\n",
              "  <thead>\n",
              "    <tr style=\"text-align: right;\">\n",
              "      <th></th>\n",
              "      <th>text</th>\n",
              "      <th>label</th>\n",
              "      <th>age</th>\n",
              "      <th>number of tokens</th>\n",
              "    </tr>\n",
              "  </thead>\n",
              "  <tbody>\n",
              "    <tr>\n",
              "      <th>0</th>\n",
              "      <td>Когда-то я был добрым романтиком, который стре...</td>\n",
              "      <td>1</td>\n",
              "      <td>32.0</td>\n",
              "      <td>164</td>\n",
              "    </tr>\n",
              "    <tr>\n",
              "      <th>1</th>\n",
              "      <td>Здраствуйте! Я каждый день просыпаюсь с мыслью...</td>\n",
              "      <td>1</td>\n",
              "      <td>28.0</td>\n",
              "      <td>69</td>\n",
              "    </tr>\n",
              "    <tr>\n",
              "      <th>2</th>\n",
              "      <td>У меня проблемы с девушкой. Каждую ссору я не ...</td>\n",
              "      <td>1</td>\n",
              "      <td>16.0</td>\n",
              "      <td>45</td>\n",
              "    </tr>\n",
              "    <tr>\n",
              "      <th>3</th>\n",
              "      <td>Вся моя жизнь это один сплошной ад, в котором ...</td>\n",
              "      <td>1</td>\n",
              "      <td>32.0</td>\n",
              "      <td>25</td>\n",
              "    </tr>\n",
              "    <tr>\n",
              "      <th>4</th>\n",
              "      <td>Я хочу уснуть и не проснуться.каждый день одно...</td>\n",
              "      <td>1</td>\n",
              "      <td>14.0</td>\n",
              "      <td>201</td>\n",
              "    </tr>\n",
              "  </tbody>\n",
              "</table>\n",
              "</div>"
            ],
            "text/plain": [
              "                                                text  ...  number of tokens\n",
              "0  Когда-то я был добрым романтиком, который стре...  ...               164\n",
              "1  Здраствуйте! Я каждый день просыпаюсь с мыслью...  ...                69\n",
              "2  У меня проблемы с девушкой. Каждую ссору я не ...  ...                45\n",
              "3  Вся моя жизнь это один сплошной ад, в котором ...  ...                25\n",
              "4  Я хочу уснуть и не проснуться.каждый день одно...  ...               201\n",
              "\n",
              "[5 rows x 4 columns]"
            ]
          },
          "metadata": {
            "tags": []
          },
          "execution_count": 138
        }
      ]
    },
    {
      "cell_type": "code",
      "metadata": {
        "id": "Q2A31ZxBxpa8",
        "colab_type": "code",
        "colab": {
          "base_uri": "https://localhost:8080/",
          "height": 35
        },
        "outputId": "70b31f8d-e281-47d8-a47f-5aefeed66937"
      },
      "source": [
        "print('Среднее значение по всей выборке: ', sum(num_tokens) / len(num_tokens))"
      ],
      "execution_count": null,
      "outputs": [
        {
          "output_type": "stream",
          "text": [
            "Среднее значение по всей выборке:  113.59880697699839\n"
          ],
          "name": "stdout"
        }
      ]
    },
    {
      "cell_type": "code",
      "metadata": {
        "id": "_Z-gS9dux-kr",
        "colab_type": "code",
        "colab": {
          "base_uri": "https://localhost:8080/",
          "height": 52
        },
        "outputId": "6cdf80ca-b5a2-489a-ac7d-131b606919ae"
      },
      "source": [
        "print('Среднее значение для класса 1: ', \n",
        "      df.loc[df['label'] == 1, 'number of tokens'].sum() / len(df[df['label'] == 1]))\n",
        "print('Среднее значение для класса 0: ', \n",
        "      df.loc[df['label'] == 0, 'number of tokens'].sum() / len(df[df['label'] == 0]))"
      ],
      "execution_count": null,
      "outputs": [
        {
          "output_type": "stream",
          "text": [
            "Среднее значение для класса 1:  77.05012805297021\n",
            "Среднее значение для класса 0:  150.14406170950315\n"
          ],
          "name": "stdout"
        }
      ]
    },
    {
      "cell_type": "markdown",
      "metadata": {
        "id": "m_lAAcdTONFE",
        "colab_type": "text"
      },
      "source": [
        "Напишите функцию, которая переводит текст в последовательность лемм."
      ]
    },
    {
      "cell_type": "code",
      "metadata": {
        "id": "9NaODY5LOPKQ",
        "colab_type": "code",
        "colab": {}
      },
      "source": [
        "def lemmatize(text):\n",
        "    morph = pymorphy2.MorphAnalyzer()\n",
        "    return ' '.join([morph.parse(word)[0].normal_form for word in text.split()])"
      ],
      "execution_count": 19,
      "outputs": []
    },
    {
      "cell_type": "code",
      "metadata": {
        "id": "6q8mhs4B1NBl",
        "colab_type": "code",
        "colab": {}
      },
      "source": [
        "text = tokenize(df['text'][0])"
      ],
      "execution_count": 20,
      "outputs": []
    },
    {
      "cell_type": "code",
      "metadata": {
        "id": "AEHRSvVg1Ofq",
        "colab_type": "code",
        "colab": {
          "base_uri": "https://localhost:8080/",
          "height": 191
        },
        "outputId": "5a4df393-53a5-44e0-debf-fab959261a64"
      },
      "source": [
        "lemmatize(text)"
      ],
      "execution_count": 21,
      "outputs": [
        {
          "output_type": "execute_result",
          "data": {
            "application/vnd.google.colaboratory.intrinsic+json": {
              "type": "string"
            },
            "text/plain": [
              "'когда-то добрый романтик который стремиться помочь весь попросить жалко верить человечность однако это фальший суррогатный дружба какой-то непонятный отношение девушка который клясться любить итог изменить уйти другой появиться бесперспективный попросту достаточный достаток собственный жильё родитель шизофрения никто поддерживать поддерживать итак отдавать кусочек каждый потерять свой душевный тепло стать безразличный апатия бывший девушка всякий усилие найти новый который сразу жениться возить разный страна мир же браться любой работа показать плохой часто обманывать недоплачивать оплачивать вовсе простой неудачник который потерять смысл жизнь мой ситуация спасать внешность ужасный попросту урод часто завидовать тем кто повезти внешность любить даваться легко заниматься свой любимый дело часто посещать мысль никто это надо также я это тщетно бессмысленно это сказываться пустота внутри я часто удивлять многий повезти складываться почему складываться я почему выходить как-то потерять документ мой заплатить именно я именно мой место закрытый именно использовать бросать именно такой родитель хотеться окружать оказаться мой место прочувствовать это понять каков это глубокий просто хотеть прекратить это всё просто прервать свой существование'"
            ]
          },
          "metadata": {
            "tags": []
          },
          "execution_count": 21
        }
      ]
    },
    {
      "cell_type": "markdown",
      "metadata": {
        "id": "2tuP2JWSOPtV",
        "colab_type": "text"
      },
      "source": [
        "Напишите функцию, которая переводит текст в последовательность частеречных тегов."
      ]
    },
    {
      "cell_type": "code",
      "metadata": {
        "id": "iob0DIgeOTUh",
        "colab_type": "code",
        "colab": {}
      },
      "source": [
        "def pos(text):\n",
        "    morph = pymorphy2.MorphAnalyzer()\n",
        "    return ' '.join([morph.parse(word)[0].tag.POS for word in text.split()])"
      ],
      "execution_count": 22,
      "outputs": []
    },
    {
      "cell_type": "code",
      "metadata": {
        "id": "erfEG_bZ1d8J",
        "colab_type": "code",
        "colab": {
          "base_uri": "https://localhost:8080/",
          "height": 157
        },
        "outputId": "ca62eb3c-1290-48a4-e203-734a96d5ca16"
      },
      "source": [
        "pos(text)"
      ],
      "execution_count": 23,
      "outputs": [
        {
          "output_type": "execute_result",
          "data": {
            "application/vnd.google.colaboratory.intrinsic+json": {
              "type": "string"
            },
            "text/plain": [
              "'ADVB ADJF NOUN ADJF VERB INFN ADJF VERB ADVB VERB NOUN CONJ PRCL NOUN ADJF NOUN ADJF ADJF NOUN NOUN ADJF VERB VERB NOUN VERB VERB ADJF VERB ADJF ADVB ADJF NOUN ADJF NOUN NOUN NOUN NPRO VERB VERB CONJ GRND NOUN ADJF VERB ADJF ADJF ADVB VERB ADJS NOUN ADJF NOUN ADJF NOUN VERB ADJF ADJF ADVB VERB VERB ADJF NOUN NOUN PRCL VERB ADJF NOUN INFN COMP ADVB VERB VERB VERB ADVB ADJF NOUN ADJF VERB NOUN NOUN ADJF NOUN VERB NOUN ADJF ADVB NOUN ADVB VERB CONJ NPRO VERB NOUN VERB VERB ADVB VERB ADJF ADJF NOUN ADVB VERB NOUN NPRO PRCL PRED PRCL NPRO PRCL ADVB ADVB PRCL VERB NOUN PREP NPRO ADVB VERB ADJF VERB VERB ADVB VERB NPRO ADVB VERB ADVB VERB NOUN ADJF VERB PRCL NPRO PRCL ADJF NOUN ADJS PRCL VERB VERB PRCL ADJF NOUN VERB PRTF VERB ADJF NOUN VERB PRCL VERB ADJS PRCL COMP PRCL VERB INFN PRCL PRCL PRCL INFN ADJF NOUN'"
            ]
          },
          "metadata": {
            "tags": []
          },
          "execution_count": 23
        }
      ]
    },
    {
      "cell_type": "markdown",
      "metadata": {
        "id": "wdWCu3aCOW7E",
        "colab_type": "text"
      },
      "source": [
        "Какие слова мы можем добавить в список стоп-слов? Приведите примеры и объясните, почему."
      ]
    },
    {
      "cell_type": "markdown",
      "metadata": {
        "id": "VZES2nwRHBy7",
        "colab_type": "text"
      },
      "source": [
        "*Это*, потому что данное местоимение или частица имеет значение ближнего дейксиса и часто рассматривается как замена определенного артикля, отсутствующего в русском языке. Следовательно, слово не несет конкретного лексического значения и не может употребляться обособленно (составлять законченные высказывания, не зависящие от контекста), при этом употребляется в речи часто. При подсчете топ-слов текста для определения его тематики, если для удаления стоп-слов использовался список nltk, с большой вероятностью в перечень наиболее популярных слов войдет *это*, что никак не отразит содержание текстов. К таким же, но менее частотным словам можно отнести *то, вот, вон*"
      ]
    },
    {
      "cell_type": "markdown",
      "metadata": {
        "id": "BvDL-KBrVOLv",
        "colab_type": "text"
      },
      "source": [
        "# Часть 3"
      ]
    },
    {
      "cell_type": "markdown",
      "metadata": {
        "id": "WRf5iF9oWBxs",
        "colab_type": "text"
      },
      "source": [
        "Визуализируйте распределение количество предложений / текст."
      ]
    },
    {
      "cell_type": "code",
      "metadata": {
        "id": "Zmnk0W4eWCXu",
        "colab_type": "code",
        "colab": {
          "base_uri": "https://localhost:8080/",
          "height": 72
        },
        "outputId": "dc7d520b-077b-4b1c-a4a6-d688624eeb5b"
      },
      "source": [
        "from warnings import simplefilter\n",
        "import seaborn as sns\n",
        "simplefilter(action='ignore', category=FutureWarning)\n",
        "import matplotlib.pyplot as plt"
      ],
      "execution_count": 24,
      "outputs": [
        {
          "output_type": "stream",
          "text": [
            "/usr/local/lib/python3.6/dist-packages/statsmodels/tools/_testing.py:19: FutureWarning: pandas.util.testing is deprecated. Use the functions in the public API at pandas.testing instead.\n",
            "  import pandas.util.testing as tm\n"
          ],
          "name": "stderr"
        }
      ]
    },
    {
      "cell_type": "code",
      "metadata": {
        "id": "Tsx9uXOlBaGp",
        "colab_type": "code",
        "colab": {
          "base_uri": "https://localhost:8080/",
          "height": 271
        },
        "outputId": "47ee7f48-c489-44da-8cba-5d053e1fe97d"
      },
      "source": [
        "fig, axes = plt.subplots(figsize=(20, 6))\n",
        "topic_subset = df['number of sentences']\n",
        "\n",
        "sns.distplot(topic_subset, bins=20, color='blue')\n",
        "axes.axvline(\n",
        "            (topic_subset).mean(), color='k', linestyle='dashed', linewidth=1, label='mean'\n",
        "        )\n",
        "axes.axvline(\n",
        "            (topic_subset).median(), color='r', linestyle='dashed', linewidth=1, label='median'\n",
        "        )\n",
        "axes.legend()\n",
        "axes.set(title='All dataset: %s' % ('number of sentences'))\n",
        "    \n",
        "fig.tight_layout()"
      ],
      "execution_count": 27,
      "outputs": [
        {
          "output_type": "display_data",
          "data": {
            "image/png": "[encoded data removed]",
            "text/plain": [
              "<Figure size 1440x432 with 1 Axes>"
            ]
          },
          "metadata": {
            "tags": [],
            "needs_background": "light"
          }
        }
      ]
    },
    {
      "cell_type": "markdown",
      "metadata": {
        "id": "SOasZbgmWCsa",
        "colab_type": "text"
      },
      "source": [
        "Визуализируйте распределение количество-предложений / текст внутри каждого класса."
      ]
    },
    {
      "cell_type": "code",
      "metadata": {
        "id": "u3jGAJ6RWF9X",
        "colab_type": "code",
        "colab": {}
      },
      "source": [
        "def plot_len_dist(df, col_name):\n",
        "    fig, axes = plt.subplots(1, 2, figsize=(20, 6))\n",
        "\n",
        "    for i, topic in enumerate(list(df['label'].unique())):\n",
        "        topic_subset = df[df['label'] == topic][col_name]\n",
        "\n",
        "        sns.distplot(topic_subset, bins=20, color='blue', ax=axes[i])\n",
        "        axes[i].axvline(\n",
        "            (topic_subset).mean(), color='k', linestyle='dashed', linewidth=1, label='mean'\n",
        "        )\n",
        "        axes[i].axvline(\n",
        "            (topic_subset).median(), color='r', linestyle='dashed', linewidth=1, label='median'\n",
        "        )\n",
        "        axes[i].legend()\n",
        "        axes[i].set(title=\"Class %s: %s\" % (topic, col_name))\n",
        "    \n",
        "    fig.tight_layout()"
      ],
      "execution_count": 28,
      "outputs": []
    },
    {
      "cell_type": "code",
      "metadata": {
        "id": "R_K4KJXRV4AO",
        "colab_type": "code",
        "colab": {
          "base_uri": "https://localhost:8080/",
          "height": 271
        },
        "outputId": "a2dea3d7-c92a-4159-a6d6-5a0abc2b3c87"
      },
      "source": [
        "plot_len_dist(df, \"number of sentences\")"
      ],
      "execution_count": 29,
      "outputs": [
        {
          "output_type": "display_data",
          "data": {
            "image/png": "[encoded data removed]",
            "text/plain": [
              "<Figure size 1440x432 with 2 Axes>"
            ]
          },
          "metadata": {
            "tags": [],
            "needs_background": "light"
          }
        }
      ]
    },
    {
      "cell_type": "markdown",
      "metadata": {
        "id": "glOHNHYHWGfK",
        "colab_type": "text"
      },
      "source": [
        "Верно ли, что количество предложений в тексте коррелирует с возрастом автора в подвыборке от 16 до 32 лет включительно? Если да, какая это корреляция – положительная или отрицательная? Визуализируйте матрицу корреляции."
      ]
    },
    {
      "cell_type": "code",
      "metadata": {
        "id": "GPS52xBlakPP",
        "colab_type": "code",
        "colab": {}
      },
      "source": [
        "age = df[(df['age'] >= 16) & (df['age'] <= 32)]['age']\n",
        "new_df = pd.DataFrame(age, columns=['age'])\n",
        "new_df['number of sentences'] = df[(df['age'] >= 16) & (df['age'] <= 32)]['number of sentences']"
      ],
      "execution_count": null,
      "outputs": []
    },
    {
      "cell_type": "code",
      "metadata": {
        "id": "G3theFSrc65I",
        "colab_type": "code",
        "colab": {
          "base_uri": "https://localhost:8080/",
          "height": 202
        },
        "outputId": "623a7cf5-a53d-4367-98f3-7460594a2673"
      },
      "source": [
        "new_df.head()"
      ],
      "execution_count": null,
      "outputs": [
        {
          "output_type": "execute_result",
          "data": {
            "text/html": [
              "<div>\n",
              "<style scoped>\n",
              "    .dataframe tbody tr th:only-of-type {\n",
              "        vertical-align: middle;\n",
              "    }\n",
              "\n",
              "    .dataframe tbody tr th {\n",
              "        vertical-align: top;\n",
              "    }\n",
              "\n",
              "    .dataframe thead th {\n",
              "        text-align: right;\n",
              "    }\n",
              "</style>\n",
              "<table border=\"1\" class=\"dataframe\">\n",
              "  <thead>\n",
              "    <tr style=\"text-align: right;\">\n",
              "      <th></th>\n",
              "      <th>age</th>\n",
              "      <th>number of sentences</th>\n",
              "    </tr>\n",
              "  </thead>\n",
              "  <tbody>\n",
              "    <tr>\n",
              "      <th>0</th>\n",
              "      <td>32.0</td>\n",
              "      <td>16</td>\n",
              "    </tr>\n",
              "    <tr>\n",
              "      <th>1</th>\n",
              "      <td>28.0</td>\n",
              "      <td>6</td>\n",
              "    </tr>\n",
              "    <tr>\n",
              "      <th>2</th>\n",
              "      <td>16.0</td>\n",
              "      <td>11</td>\n",
              "    </tr>\n",
              "    <tr>\n",
              "      <th>3</th>\n",
              "      <td>32.0</td>\n",
              "      <td>6</td>\n",
              "    </tr>\n",
              "    <tr>\n",
              "      <th>7</th>\n",
              "      <td>18.0</td>\n",
              "      <td>5</td>\n",
              "    </tr>\n",
              "  </tbody>\n",
              "</table>\n",
              "</div>"
            ],
            "text/plain": [
              "    age  number of sentences\n",
              "0  32.0                   16\n",
              "1  28.0                    6\n",
              "2  16.0                   11\n",
              "3  32.0                    6\n",
              "7  18.0                    5"
            ]
          },
          "metadata": {
            "tags": []
          },
          "execution_count": 88
        }
      ]
    },
    {
      "cell_type": "code",
      "metadata": {
        "id": "xQxyWhoObr10",
        "colab_type": "code",
        "colab": {
          "base_uri": "https://localhost:8080/",
          "height": 110
        },
        "outputId": "22cdb112-2f6b-43d0-89e9-4b5477dd53e4"
      },
      "source": [
        "new_df.corr()"
      ],
      "execution_count": null,
      "outputs": [
        {
          "output_type": "execute_result",
          "data": {
            "text/html": [
              "<div>\n",
              "<style scoped>\n",
              "    .dataframe tbody tr th:only-of-type {\n",
              "        vertical-align: middle;\n",
              "    }\n",
              "\n",
              "    .dataframe tbody tr th {\n",
              "        vertical-align: top;\n",
              "    }\n",
              "\n",
              "    .dataframe thead th {\n",
              "        text-align: right;\n",
              "    }\n",
              "</style>\n",
              "<table border=\"1\" class=\"dataframe\">\n",
              "  <thead>\n",
              "    <tr style=\"text-align: right;\">\n",
              "      <th></th>\n",
              "      <th>age</th>\n",
              "      <th>number of sentences</th>\n",
              "    </tr>\n",
              "  </thead>\n",
              "  <tbody>\n",
              "    <tr>\n",
              "      <th>age</th>\n",
              "      <td>1.000000</td>\n",
              "      <td>0.045484</td>\n",
              "    </tr>\n",
              "    <tr>\n",
              "      <th>number of sentences</th>\n",
              "      <td>0.045484</td>\n",
              "      <td>1.000000</td>\n",
              "    </tr>\n",
              "  </tbody>\n",
              "</table>\n",
              "</div>"
            ],
            "text/plain": [
              "                          age  number of sentences\n",
              "age                  1.000000             0.045484\n",
              "number of sentences  0.045484             1.000000"
            ]
          },
          "metadata": {
            "tags": []
          },
          "execution_count": 85
        }
      ]
    },
    {
      "cell_type": "code",
      "metadata": {
        "id": "Ik-paN1laauu",
        "colab_type": "code",
        "colab": {
          "base_uri": "https://localhost:8080/",
          "height": 293
        },
        "outputId": "caaaa0fc-91b5-4702-acc9-ee5ce18db3a7"
      },
      "source": [
        "plt.matshow(new_df.corr())"
      ],
      "execution_count": null,
      "outputs": [
        {
          "output_type": "execute_result",
          "data": {
            "text/plain": [
              "<matplotlib.image.AxesImage at 0x7fac0e38a7b8>"
            ]
          },
          "metadata": {
            "tags": []
          },
          "execution_count": 86
        },
        {
          "output_type": "display_data",
          "data": {
            "image/png": "[encoded data removed]",
            "text/plain": [
              "<Figure size 288x288 with 1 Axes>"
            ]
          },
          "metadata": {
            "tags": []
          }
        }
      ]
    },
    {
      "cell_type": "markdown",
      "metadata": {
        "id": "4eccM5gegQ66",
        "colab_type": "text"
      },
      "source": [
        "Количество предложений в тексте не коррелирует с возрастом автора в подвыборке от 16 до 32 лет"
      ]
    },
    {
      "cell_type": "markdown",
      "metadata": {
        "id": "3k6uGGaDWMTg",
        "colab_type": "text"
      },
      "source": [
        "# Часть 4"
      ]
    },
    {
      "cell_type": "markdown",
      "metadata": {
        "id": "LRhFmTgQWOzJ",
        "colab_type": "text"
      },
      "source": [
        "Самостоятельно реализуйте функцию для получения посимвольных н-грамм (без использования библиотек)."
      ]
    },
    {
      "cell_type": "code",
      "metadata": {
        "id": "s-wEq6wdWwEl",
        "colab_type": "code",
        "colab": {}
      },
      "source": [
        "def char_ngrams(text, n):\n",
        "    return [text[i:i+n] for i in range(len(text)) if len(text[i:i+n]) == n] "
      ],
      "execution_count": null,
      "outputs": []
    },
    {
      "cell_type": "code",
      "metadata": {
        "id": "ZZgEpfV-CW61",
        "colab_type": "code",
        "colab": {
          "base_uri": "https://localhost:8080/",
          "height": 520
        },
        "outputId": "41e40b86-8329-4b7f-e699-ebb0bc56ffbd"
      },
      "source": [
        "text = \"уставшая мама мыла грязную раму\"\n",
        "char_ngrams(text, n=3)"
      ],
      "execution_count": null,
      "outputs": [
        {
          "output_type": "execute_result",
          "data": {
            "text/plain": [
              "['уст',\n",
              " 'ста',\n",
              " 'тав',\n",
              " 'авш',\n",
              " 'вша',\n",
              " 'шая',\n",
              " 'ая ',\n",
              " 'я м',\n",
              " ' ма',\n",
              " 'мам',\n",
              " 'ама',\n",
              " 'ма ',\n",
              " 'а м',\n",
              " ' мы',\n",
              " 'мыл',\n",
              " 'ыла',\n",
              " 'ла ',\n",
              " 'а г',\n",
              " ' гр',\n",
              " 'гря',\n",
              " 'ряз',\n",
              " 'язн',\n",
              " 'зну',\n",
              " 'ную',\n",
              " 'ую ',\n",
              " 'ю р',\n",
              " ' ра',\n",
              " 'рам',\n",
              " 'аму']"
            ]
          },
          "metadata": {
            "tags": []
          },
          "execution_count": 200
        }
      ]
    },
    {
      "cell_type": "markdown",
      "metadata": {
        "id": "XWUCl9dJWwaj",
        "colab_type": "text"
      },
      "source": [
        "Самостоятельно реализуйте функцию для получения пословных н-грамм (без использования библиотек)."
      ]
    },
    {
      "cell_type": "code",
      "metadata": {
        "id": "v86O9jufXSgx",
        "colab_type": "code",
        "colab": {}
      },
      "source": [
        "def word_ngrams(text, n):\n",
        "    text = text.split()\n",
        "    return [text[i:i+n] for i in range(len(text)) if len(text[i:i+n]) == n]"
      ],
      "execution_count": null,
      "outputs": []
    },
    {
      "cell_type": "code",
      "metadata": {
        "id": "eLBJY9_MKAOH",
        "colab_type": "code",
        "colab": {
          "base_uri": "https://localhost:8080/",
          "height": 69
        },
        "outputId": "32d702b9-d2d5-42ea-b9a6-fa4bdb972597"
      },
      "source": [
        "word_ngrams(text, n=3)"
      ],
      "execution_count": null,
      "outputs": [
        {
          "output_type": "execute_result",
          "data": {
            "text/plain": [
              "[['уставшая', 'мама', 'мыла'],\n",
              " ['мама', 'мыла', 'грязную'],\n",
              " ['мыла', 'грязную', 'раму']]"
            ]
          },
          "metadata": {
            "tags": []
          },
          "execution_count": 203
        }
      ]
    },
    {
      "cell_type": "markdown",
      "metadata": {
        "id": "hJhhVy0-XS23",
        "colab_type": "text"
      },
      "source": [
        "Самостоятельно реализуйте функцию для получения н-грамм лемм (без использования библиотек)."
      ]
    },
    {
      "cell_type": "code",
      "metadata": {
        "id": "gBRoz1yjKQDb",
        "colab_type": "code",
        "colab": {}
      },
      "source": [
        "def lemma_ngrams(text, n):\n",
        "    text = lemmatize(text).split()\n",
        "    return [text[i:i+n] for i in range(len(text)) if len(text[i:i+n]) == n]"
      ],
      "execution_count": null,
      "outputs": []
    },
    {
      "cell_type": "code",
      "metadata": {
        "id": "VD9Vz3XbLnZ1",
        "colab_type": "code",
        "colab": {
          "base_uri": "https://localhost:8080/",
          "height": 35
        },
        "outputId": "894ca913-2d95-41e3-c8e4-22516b36f489"
      },
      "source": [
        "lemma_ngrams(text, n=4)"
      ],
      "execution_count": null,
      "outputs": [
        {
          "output_type": "execute_result",
          "data": {
            "text/plain": [
              "[['устать', 'мама', 'мыло', 'грязный'], ['мама', 'мыло', 'грязный', 'рам']]"
            ]
          },
          "metadata": {
            "tags": []
          },
          "execution_count": 208
        }
      ]
    },
    {
      "cell_type": "markdown",
      "metadata": {
        "id": "3_7SXv53L3-_",
        "colab_type": "text"
      },
      "source": [
        "Самостоятельно реализуйте функцию для получения н-грамм частеречных тегов (без использования библиотек)."
      ]
    },
    {
      "cell_type": "code",
      "metadata": {
        "id": "aBXO7auuL69B",
        "colab_type": "code",
        "colab": {}
      },
      "source": [
        "def pos_ngrams(text, n):\n",
        "    text = pos(text).split()\n",
        "    return [text[i:i+n] for i in range(len(text)) if len(text[i:i+n]) == n]"
      ],
      "execution_count": null,
      "outputs": []
    },
    {
      "cell_type": "code",
      "metadata": {
        "id": "ztdmeHcJMJPZ",
        "colab_type": "code",
        "colab": {
          "base_uri": "https://localhost:8080/",
          "height": 35
        },
        "outputId": "8133c7e8-f285-4d4d-a82c-6d82ebd2585d"
      },
      "source": [
        "pos_ngrams(text, n=4)"
      ],
      "execution_count": null,
      "outputs": [
        {
          "output_type": "execute_result",
          "data": {
            "text/plain": [
              "[['PRTF', 'NOUN', 'NOUN', 'ADJF'], ['NOUN', 'NOUN', 'ADJF', 'NOUN']]"
            ]
          },
          "metadata": {
            "tags": []
          },
          "execution_count": 210
        }
      ]
    },
    {
      "cell_type": "markdown",
      "metadata": {
        "id": "x5WUKcObMQT3",
        "colab_type": "text"
      },
      "source": [
        "Самостоятельно реализуйте функцию для получения частотного словаря частеречных тегов по коллекции документов."
      ]
    },
    {
      "cell_type": "code",
      "metadata": {
        "id": "HMgDOYmMMTJY",
        "colab_type": "code",
        "colab": {}
      },
      "source": [
        "def build_pos_dict(corpus):\n",
        "    pos_words = ' '.join(pos(text) for text in corpus).split()\n",
        "    d = {}\n",
        "    for key in pos_words:\n",
        "        if key in d:\n",
        "            value = d[key]\n",
        "            d[key] = value + 1\n",
        "        else:\n",
        "            d[key] = 1\n",
        "    return d"
      ],
      "execution_count": null,
      "outputs": []
    },
    {
      "cell_type": "code",
      "metadata": {
        "id": "0oBg6rwuPPpo",
        "colab_type": "code",
        "colab": {
          "base_uri": "https://localhost:8080/",
          "height": 35
        },
        "outputId": "d6eb8e22-076f-4a28-9dcc-f2d6e46f0a93"
      },
      "source": [
        "corpus = [\n",
        "    \"мама мыла уставшую раму\",\n",
        "    \"высшая школа экономики\",\n",
        "    \"компьютерная лингвистика\",\n",
        "    \"осень наступила\"\n",
        "]\n",
        "\n",
        "build_pos_dict(corpus)"
      ],
      "execution_count": null,
      "outputs": [
        {
          "output_type": "execute_result",
          "data": {
            "text/plain": [
              "{'ADJF': 2, 'NOUN': 7, 'PRTF': 1, 'VERB': 1}"
            ]
          },
          "metadata": {
            "tags": []
          },
          "execution_count": 223
        }
      ]
    },
    {
      "cell_type": "markdown",
      "metadata": {
        "id": "A5rvxHRKP_1b",
        "colab_type": "text"
      },
      "source": [
        "Постройте частотный словарь лемм по текстам внутри каждого класса. Найдите топ-15 лемм для текстов каждого класса. Есть ли между этими списками пересечение? Если да, сколько лемм пересекается?"
      ]
    },
    {
      "cell_type": "code",
      "metadata": {
        "id": "ZKRGvnfaQDqo",
        "colab_type": "code",
        "colab": {}
      },
      "source": [
        "# весь корпус лемматизируется очень долго, поэтому для списков топ-15 лемм используется по 250 текстов каждого класса\n",
        "texts_class0 = df[df['label'] == 0]['text'][0:250]\n",
        "texts_class1 = df[df['label'] == 1]['text'][0:250]\n",
        "lemmas_class0 = ' '.join(lemmatize(tokenize(text)) for text in texts_class0).split()\n",
        "lemmas_class1 = ' '.join(lemmatize(tokenize(text)) for text in texts_class1).split()"
      ],
      "execution_count": 30,
      "outputs": []
    },
    {
      "cell_type": "code",
      "metadata": {
        "id": "f00WDzn4iX0B",
        "colab_type": "code",
        "colab": {}
      },
      "source": [
        "def top_lemmas(lemmas):\n",
        "    d = {}\n",
        "    for key in lemmas:\n",
        "        if key in d:\n",
        "            value = d[key]\n",
        "            d[key] = value + 1\n",
        "        else:\n",
        "            d[key] = 1\n",
        "\n",
        "    list_d = list(d.items())\n",
        "    list_d.sort(key=lambda i: i[1], reverse=True)\n",
        "    return list_d[:15]"
      ],
      "execution_count": 35,
      "outputs": []
    },
    {
      "cell_type": "code",
      "metadata": {
        "id": "tsTRG_WjY8o3",
        "colab_type": "code",
        "colab": {
          "base_uri": "https://localhost:8080/",
          "height": 72
        },
        "outputId": "49a37e1c-cf49-4bea-e6d0-84d90ec4f699"
      },
      "source": [
        "print('Топ-15 лет для класса 0', top_lemmas(lemmas_class0))\n",
        "print('Топ-15 лет для класса 1', top_lemmas(lemmas_class1))"
      ],
      "execution_count": 36,
      "outputs": [
        {
          "output_type": "stream",
          "text": [
            "Топ-15 лет для класса 0 [('год', 265), ('который', 144), ('область', 133), ('казахстан', 123), ('это', 101), ('работа', 96), ('город', 91), ('новый', 91), ('человек', 90), ('россия', 89), ('район', 89), ('свой', 88), ('проект', 88), ('президент', 86), ('также', 85)]\n",
            "Топ-15 лет для класса 1 [('это', 243), ('хотеть', 240), ('год', 222), ('я', 212), ('жить', 210), ('мочь', 190), ('очень', 173), ('жизнь', 171), ('мой', 143), ('знать', 138), ('свой', 121), ('человек', 120), ('просто', 119), ('который', 116), ('мама', 106)]\n"
          ],
          "name": "stdout"
        }
      ]
    },
    {
      "cell_type": "code",
      "metadata": {
        "id": "JHeus_sCcp23",
        "colab_type": "code",
        "colab": {}
      },
      "source": [
        "a = [i[0] for i in top_lemmas(lemmas_class0)]\n",
        "b = [i[0] for i in top_lemmas(lemmas_class1)]\n",
        "intersection = []\n",
        "for i in a:\n",
        "    if i in intersection:\n",
        "        continue\n",
        "    for j in b:\n",
        "        if i == j:\n",
        "            intersection.append(i)\n",
        "            break"
      ],
      "execution_count": 42,
      "outputs": []
    },
    {
      "cell_type": "code",
      "metadata": {
        "id": "v8DBvf8Odk5Q",
        "colab_type": "code",
        "colab": {
          "base_uri": "https://localhost:8080/",
          "height": 35
        },
        "outputId": "7ab4d347-5beb-4c0c-cbc1-5acc29a0a1fe"
      },
      "source": [
        "print('Пересечение списков топ лемм ', intersection)"
      ],
      "execution_count": 44,
      "outputs": [
        {
          "output_type": "stream",
          "text": [
            "Пересечение списков топ лемм  ['год', 'который', 'это', 'человек', 'свой']\n"
          ],
          "name": "stdout"
        }
      ]
    },
    {
      "cell_type": "markdown",
      "metadata": {
        "id": "goOAwIv_QAkz",
        "colab_type": "text"
      },
      "source": [
        "Какие текстовые признаки могли бы быть полезными для решения задачи классификации на этих данных? Приведите примеры и перечислите ресурсы, которые вы бы использовали для конструирования этих признаков."
      ]
    },
    {
      "cell_type": "markdown",
      "metadata": {
        "id": "FL1KN1EgZQu_",
        "colab_type": "text"
      },
      "source": [
        "(для бинарной классификации является/не является текст депрессивным) Тональность текста или частотность словоформ негативной эмоциональной окраски (с помощью размеченных тезаурусов типа WordNet-Affect, SentiWordNet). Также можно попробовать рассмотреть частотность одушевленных существительных (pymorphy2), так как в депрессивных текстах авторы много описывают проблемы в взаимоотношениях с другими людьми, модальность (в списке топ-лемм видно, что для текстов класса 1 часто используются глаголы типа *хотеть, мочь,*: для извлечения SlinkET), частотность н-грамм с отрицательными частицами и глаголами (предложения типа типа меня никто не любит, не хочу жить и т.д.: nltk) и tf-idf"
      ]
    }
  ]
}
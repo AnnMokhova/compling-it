{
 "cells": [
  {
   "cell_type": "markdown",
   "metadata": {},
   "source": [
    "# Снижение размерности"
   ]
  },
  {
   "cell_type": "code",
   "execution_count": 1,
   "metadata": {},
   "outputs": [],
   "source": [
    "import os\n",
    "import pandas as pd"
   ]
  },
  {
   "cell_type": "code",
   "execution_count": 2,
   "metadata": {},
   "outputs": [],
   "source": [
    "dirnames = ['Фанфик', 'Философия', 'Фэнтези']"
   ]
  },
  {
   "cell_type": "code",
   "execution_count": 3,
   "metadata": {},
   "outputs": [],
   "source": [
    "curr_dir = os.getcwd()\n",
    "filepaths = []\n",
    "for dirname in dirnames:\n",
    "    filepath = os.path.join(curr_dir, dirname)\n",
    "    for root, dirs, files in os.walk(filepath):\n",
    "        for name in files[:150]:\n",
    "            filepaths.append(os.path.join(root, name))"
   ]
  },
  {
   "cell_type": "code",
   "execution_count": 4,
   "metadata": {},
   "outputs": [],
   "source": [
    "df = pd.DataFrame(columns=['text', 'filepath', 'genre'])"
   ]
  },
  {
   "cell_type": "code",
   "execution_count": 5,
   "metadata": {},
   "outputs": [],
   "source": [
    "df['filepath'] = filepaths"
   ]
  },
  {
   "cell_type": "code",
   "execution_count": 6,
   "metadata": {},
   "outputs": [],
   "source": [
    "for i, row in df.iterrows():\n",
    "    if 'Философия' in row['filepath']:\n",
    "        row['genre'] = 'философия'\n",
    "    elif 'Фанфик' in row['filepath']:\n",
    "        row['genre'] = 'фанфик'\n",
    "    else:\n",
    "        row['genre'] = 'фэнтази'"
   ]
  },
  {
   "cell_type": "code",
   "execution_count": 7,
   "metadata": {
    "scrolled": true
   },
   "outputs": [],
   "source": [
    "import nltk\n",
    "from nltk.corpus import stopwords\n",
    "from spacy.lang.ru import Russian\n",
    "from spacy_russian_tokenizer import RussianTokenizer, MERGE_PATTERNS\n",
    "from pymorphy2 import MorphAnalyzer\n",
    "import pymorphy2"
   ]
  },
  {
   "cell_type": "code",
   "execution_count": 11,
   "metadata": {},
   "outputs": [],
   "source": [
    "nlp = Russian()\n",
    "nlp.max_length = 2500000\n",
    "russian_tokenizer = RussianTokenizer(nlp, MERGE_PATTERNS)\n",
    "nlp.add_pipe(russian_tokenizer, name='russian_tokenizer')\n",
    "morph = pymorphy2.MorphAnalyzer()\n",
    "\n",
    "def preproc(filename):\n",
    "    with open(filename, 'r', encoding='utf-8') as f:\n",
    "        text = f.read()\n",
    "        # убираем стоп-слова\n",
    "        text = ' '.join([word for word in text.lower().split() if word not in stopwords.words('russian')])\n",
    "        # разбиваем на токены\n",
    "        doc = nlp(text)\n",
    "        tokenized = [token.text for token in doc if token.text not in ',.!?-();:\"\"«»—_–#' and '.' not in token.text]\n",
    "        # лемматизируем\n",
    "        return ' '.join([morph.parse(word)[0].normal_form for word in tokenized])"
   ]
  },
  {
   "cell_type": "code",
   "execution_count": 12,
   "metadata": {},
   "outputs": [],
   "source": [
    "from tqdm._tqdm_notebook import tqdm_notebook\n",
    "tqdm_notebook.pandas('PROGRESS>>>')"
   ]
  },
  {
   "cell_type": "code",
   "execution_count": 13,
   "metadata": {},
   "outputs": [
    {
     "data": {
      "application/vnd.jupyter.widget-view+json": {
       "model_id": "ece5251c24594120b5c50c835689e92f",
       "version_major": 2,
       "version_minor": 0
      },
      "text/plain": [
       "HBox(children=(FloatProgress(value=0.0, max=450.0), HTML(value='')))"
      ]
     },
     "metadata": {},
     "output_type": "display_data"
    },
    {
     "name": "stdout",
     "output_type": "stream",
     "text": [
      "\n"
     ]
    }
   ],
   "source": [
    "df['text'] = df['filepath'].progress_apply(preproc)"
   ]
  },
  {
   "cell_type": "code",
   "execution_count": 14,
   "metadata": {},
   "outputs": [
    {
     "data": {
      "text/html": [
       "<div>\n",
       "<style scoped>\n",
       "    .dataframe tbody tr th:only-of-type {\n",
       "        vertical-align: middle;\n",
       "    }\n",
       "\n",
       "    .dataframe tbody tr th {\n",
       "        vertical-align: top;\n",
       "    }\n",
       "\n",
       "    .dataframe thead th {\n",
       "        text-align: right;\n",
       "    }\n",
       "</style>\n",
       "<table border=\"1\" class=\"dataframe\">\n",
       "  <thead>\n",
       "    <tr style=\"text-align: right;\">\n",
       "      <th></th>\n",
       "      <th>text</th>\n",
       "      <th>filepath</th>\n",
       "      <th>genre</th>\n",
       "    </tr>\n",
       "  </thead>\n",
       "  <tbody>\n",
       "    <tr>\n",
       "      <th>0</th>\n",
       "      <td>ленточка фанфик роман андрей круз земля лишний...</td>\n",
       "      <td>C:\\Users\\vital\\Фанфик\\kowalenko_e_blentochka2.txt</td>\n",
       "      <td>фанфик</td>\n",
       "    </tr>\n",
       "    <tr>\n",
       "      <th>1</th>\n",
       "      <td>mass effect while the reaper назвый mass effec...</td>\n",
       "      <td>C:\\Users\\vital\\Фанфик\\kowizhenko_w_wmasseffect...</td>\n",
       "      <td>фанфик</td>\n",
       "    </tr>\n",
       "    <tr>\n",
       "      <th>2</th>\n",
       "      <td>дмитрий крам s t i k s подкидыш улья андрей пр...</td>\n",
       "      <td>C:\\Users\\vital\\Фанфик\\kram_dhivepodkidyshiulxj...</td>\n",
       "      <td>фанфик</td>\n",
       "    </tr>\n",
       "    <tr>\n",
       "      <th>3</th>\n",
       "      <td>дмитрий крам исчезнуть клан фанфик играть жить...</td>\n",
       "      <td>C:\\Users\\vital\\Фанфик\\kram_discheznuwshijklan.txt</td>\n",
       "      <td>фанфик</td>\n",
       "    </tr>\n",
       "    <tr>\n",
       "      <th>4</th>\n",
       "      <td>содержание часть 1 акклиматиазия часть 2 полёт...</td>\n",
       "      <td>C:\\Users\\vital\\Фанфик\\krasnoperowa_ahp_peste.txt</td>\n",
       "      <td>фанфик</td>\n",
       "    </tr>\n",
       "  </tbody>\n",
       "</table>\n",
       "</div>"
      ],
      "text/plain": [
       "                                                text  \\\n",
       "0  ленточка фанфик роман андрей круз земля лишний...   \n",
       "1  mass effect while the reaper назвый mass effec...   \n",
       "2  дмитрий крам s t i k s подкидыш улья андрей пр...   \n",
       "3  дмитрий крам исчезнуть клан фанфик играть жить...   \n",
       "4  содержание часть 1 акклиматиазия часть 2 полёт...   \n",
       "\n",
       "                                            filepath   genre  \n",
       "0  C:\\Users\\vital\\Фанфик\\kowalenko_e_blentochka2.txt  фанфик  \n",
       "1  C:\\Users\\vital\\Фанфик\\kowizhenko_w_wmasseffect...  фанфик  \n",
       "2  C:\\Users\\vital\\Фанфик\\kram_dhivepodkidyshiulxj...  фанфик  \n",
       "3  C:\\Users\\vital\\Фанфик\\kram_discheznuwshijklan.txt  фанфик  \n",
       "4   C:\\Users\\vital\\Фанфик\\krasnoperowa_ahp_peste.txt  фанфик  "
      ]
     },
     "execution_count": 14,
     "metadata": {},
     "output_type": "execute_result"
    }
   ],
   "source": [
    "df.head()"
   ]
  },
  {
   "cell_type": "code",
   "execution_count": 15,
   "metadata": {},
   "outputs": [],
   "source": [
    "#df.to_csv('df.csv')"
   ]
  },
  {
   "cell_type": "code",
   "execution_count": 81,
   "metadata": {},
   "outputs": [],
   "source": [
    "from sklearn.feature_extraction.text import CountVectorizer\n",
    "from sklearn.feature_extraction.text import TfidfVectorizer"
   ]
  },
  {
   "cell_type": "code",
   "execution_count": 111,
   "metadata": {},
   "outputs": [],
   "source": [
    "vectorizer = TfidfVectorizer(max_features=25000)"
   ]
  },
  {
   "cell_type": "code",
   "execution_count": 112,
   "metadata": {},
   "outputs": [],
   "source": [
    "X = vectorizer.fit_transform(df['text'])"
   ]
  },
  {
   "cell_type": "code",
   "execution_count": 114,
   "metadata": {},
   "outputs": [],
   "source": [
    "from sklearn.decomposition import PCA\n",
    "import matplotlib.pyplot as plt"
   ]
  },
  {
   "cell_type": "code",
   "execution_count": 115,
   "metadata": {},
   "outputs": [],
   "source": [
    "pca = PCA(n_components=2)"
   ]
  },
  {
   "cell_type": "code",
   "execution_count": 116,
   "metadata": {},
   "outputs": [],
   "source": [
    "principalComponents = pca.fit_transform(X.todense())\n",
    "df_pca = pd.DataFrame(data = principalComponents\n",
    "             , columns = ['principal component 1', 'principal component 2'])"
   ]
  },
  {
   "cell_type": "code",
   "execution_count": 117,
   "metadata": {},
   "outputs": [],
   "source": [
    "df_final = pd.concat([df_pca, df[['genre']]], axis = 1)"
   ]
  },
  {
   "cell_type": "code",
   "execution_count": 118,
   "metadata": {},
   "outputs": [
    {
     "data": {
      "text/html": [
       "<div>\n",
       "<style scoped>\n",
       "    .dataframe tbody tr th:only-of-type {\n",
       "        vertical-align: middle;\n",
       "    }\n",
       "\n",
       "    .dataframe tbody tr th {\n",
       "        vertical-align: top;\n",
       "    }\n",
       "\n",
       "    .dataframe thead th {\n",
       "        text-align: right;\n",
       "    }\n",
       "</style>\n",
       "<table border=\"1\" class=\"dataframe\">\n",
       "  <thead>\n",
       "    <tr style=\"text-align: right;\">\n",
       "      <th></th>\n",
       "      <th>principal component 1</th>\n",
       "      <th>principal component 2</th>\n",
       "      <th>genre</th>\n",
       "    </tr>\n",
       "  </thead>\n",
       "  <tbody>\n",
       "    <tr>\n",
       "      <th>0</th>\n",
       "      <td>0.132489</td>\n",
       "      <td>-0.065356</td>\n",
       "      <td>фанфик</td>\n",
       "    </tr>\n",
       "    <tr>\n",
       "      <th>1</th>\n",
       "      <td>-0.287312</td>\n",
       "      <td>-0.037368</td>\n",
       "      <td>фанфик</td>\n",
       "    </tr>\n",
       "    <tr>\n",
       "      <th>2</th>\n",
       "      <td>0.014455</td>\n",
       "      <td>0.030648</td>\n",
       "      <td>фанфик</td>\n",
       "    </tr>\n",
       "    <tr>\n",
       "      <th>3</th>\n",
       "      <td>0.278568</td>\n",
       "      <td>0.027481</td>\n",
       "      <td>фанфик</td>\n",
       "    </tr>\n",
       "    <tr>\n",
       "      <th>4</th>\n",
       "      <td>-0.271592</td>\n",
       "      <td>0.019683</td>\n",
       "      <td>фанфик</td>\n",
       "    </tr>\n",
       "  </tbody>\n",
       "</table>\n",
       "</div>"
      ],
      "text/plain": [
       "   principal component 1  principal component 2   genre\n",
       "0               0.132489              -0.065356  фанфик\n",
       "1              -0.287312              -0.037368  фанфик\n",
       "2               0.014455               0.030648  фанфик\n",
       "3               0.278568               0.027481  фанфик\n",
       "4              -0.271592               0.019683  фанфик"
      ]
     },
     "execution_count": 118,
     "metadata": {},
     "output_type": "execute_result"
    }
   ],
   "source": [
    "df_final.head()"
   ]
  },
  {
   "cell_type": "markdown",
   "metadata": {},
   "source": [
    "Визуализация документов на плоскости методом главных компонент снижения размерности Bag-of-Words векторов"
   ]
  },
  {
   "cell_type": "code",
   "execution_count": 119,
   "metadata": {},
   "outputs": [
    {
     "data": {
      "image/png": "[encoded data removed]",
      "text/plain": [
       "<Figure size 576x576 with 1 Axes>"
      ]
     },
     "metadata": {
      "needs_background": "light"
     },
     "output_type": "display_data"
    }
   ],
   "source": [
    "fig = plt.figure(figsize = (8,8))\n",
    "ax = fig.add_subplot(1,1,1)\n",
    "ax.set_xlabel('Principal Component 1', fontsize = 15)\n",
    "ax.set_ylabel('Principal Component 2', fontsize = 15)\n",
    "ax.set_title('2 component PCA', fontsize = 20)\n",
    "targets = ['философия', 'фанфик', 'фэнтази']\n",
    "colors = ['lightpink', 'palegreen', 'lightskyblue']\n",
    "for target, color in zip(targets,colors):\n",
    "    indicesToKeep = df_final['genre'] == target\n",
    "    ax.scatter(df_final.loc[indicesToKeep, 'principal component 1']\n",
    "               , df_final.loc[indicesToKeep, 'principal component 2']\n",
    "               , c = color\n",
    "               , s = 50)\n",
    "ax.legend(targets)\n",
    "ax.grid()"
   ]
  },
  {
   "cell_type": "markdown",
   "metadata": {},
   "source": [
    "Визуализация документов на плоскости методом t-SNE снижения размерности Bag-of-Words векторов."
   ]
  },
  {
   "cell_type": "code",
   "execution_count": 105,
   "metadata": {},
   "outputs": [],
   "source": [
    "from sklearn.manifold import TSNE"
   ]
  },
  {
   "cell_type": "code",
   "execution_count": 120,
   "metadata": {},
   "outputs": [],
   "source": [
    "tsne = TSNE(n_components=2).fit_transform(X.todense())"
   ]
  },
  {
   "cell_type": "code",
   "execution_count": 121,
   "metadata": {},
   "outputs": [],
   "source": [
    "df_tsne = pd.DataFrame(data = tsne\n",
    "             , columns = ['principal component 1', 'principal component 2'])"
   ]
  },
  {
   "cell_type": "code",
   "execution_count": 122,
   "metadata": {},
   "outputs": [],
   "source": [
    "tsne_final = pd.concat([df_tsne, df[['genre']]], axis = 1)"
   ]
  },
  {
   "cell_type": "code",
   "execution_count": 123,
   "metadata": {},
   "outputs": [
    {
     "data": {
      "image/png": "[encoded data removed]",
      "text/plain": [
       "<Figure size 576x576 with 1 Axes>"
      ]
     },
     "metadata": {
      "needs_background": "light"
     },
     "output_type": "display_data"
    }
   ],
   "source": [
    "fig = plt.figure(figsize = (8,8))\n",
    "ax = fig.add_subplot(1,1,1) \n",
    "ax.set_xlabel('Principal Component 1', fontsize = 15)\n",
    "ax.set_ylabel('Principal Component 2', fontsize = 15)\n",
    "ax.set_title('2 component tSNE', fontsize = 20)\n",
    "targets = ['философия', 'фанфик', 'фэнтази']\n",
    "colors = ['lightpink', 'palegreen', 'lightskyblue']\n",
    "for target, color in zip(targets,colors):\n",
    "    indicesToKeep = tsne_final['genre'] == target\n",
    "    ax.scatter(tsne_final.loc[indicesToKeep, 'principal component 1']\n",
    "               , tsne_final.loc[indicesToKeep, 'principal component 2']\n",
    "               , c = color\n",
    "               , s = 50)\n",
    "ax.legend(targets)\n",
    "ax.grid()"
   ]
  },
  {
   "cell_type": "markdown",
   "metadata": {},
   "source": [
    "# Тематическое моделирование"
   ]
  },
  {
   "cell_type": "code",
   "execution_count": 124,
   "metadata": {},
   "outputs": [],
   "source": [
    "df_emails = pd.read_csv('Emails.csv')"
   ]
  },
  {
   "cell_type": "code",
   "execution_count": 125,
   "metadata": {},
   "outputs": [
    {
     "data": {
      "text/html": [
       "<div>\n",
       "<style scoped>\n",
       "    .dataframe tbody tr th:only-of-type {\n",
       "        vertical-align: middle;\n",
       "    }\n",
       "\n",
       "    .dataframe tbody tr th {\n",
       "        vertical-align: top;\n",
       "    }\n",
       "\n",
       "    .dataframe thead th {\n",
       "        text-align: right;\n",
       "    }\n",
       "</style>\n",
       "<table border=\"1\" class=\"dataframe\">\n",
       "  <thead>\n",
       "    <tr style=\"text-align: right;\">\n",
       "      <th></th>\n",
       "      <th>Id</th>\n",
       "      <th>DocNumber</th>\n",
       "      <th>MetadataSubject</th>\n",
       "      <th>MetadataTo</th>\n",
       "      <th>MetadataFrom</th>\n",
       "      <th>SenderPersonId</th>\n",
       "      <th>MetadataDateSent</th>\n",
       "      <th>MetadataDateReleased</th>\n",
       "      <th>MetadataPdfLink</th>\n",
       "      <th>MetadataCaseNumber</th>\n",
       "      <th>...</th>\n",
       "      <th>ExtractedTo</th>\n",
       "      <th>ExtractedFrom</th>\n",
       "      <th>ExtractedCc</th>\n",
       "      <th>ExtractedDateSent</th>\n",
       "      <th>ExtractedCaseNumber</th>\n",
       "      <th>ExtractedDocNumber</th>\n",
       "      <th>ExtractedDateReleased</th>\n",
       "      <th>ExtractedReleaseInPartOrFull</th>\n",
       "      <th>ExtractedBodyText</th>\n",
       "      <th>RawText</th>\n",
       "    </tr>\n",
       "  </thead>\n",
       "  <tbody>\n",
       "    <tr>\n",
       "      <th>0</th>\n",
       "      <td>1</td>\n",
       "      <td>C05739545</td>\n",
       "      <td>WOW</td>\n",
       "      <td>H</td>\n",
       "      <td>Sullivan, Jacob J</td>\n",
       "      <td>87.0</td>\n",
       "      <td>2012-09-12T04:00:00+00:00</td>\n",
       "      <td>2015-05-22T04:00:00+00:00</td>\n",
       "      <td>DOCUMENTS/HRC_Email_1_296/HRCH2/DOC_0C05739545...</td>\n",
       "      <td>F-2015-04841</td>\n",
       "      <td>...</td>\n",
       "      <td>NaN</td>\n",
       "      <td>Sullivan, Jacob J &lt;Sullivan11@state.gov&gt;</td>\n",
       "      <td>NaN</td>\n",
       "      <td>Wednesday, September 12, 2012 10:16 AM</td>\n",
       "      <td>F-2015-04841</td>\n",
       "      <td>C05739545</td>\n",
       "      <td>05/13/2015</td>\n",
       "      <td>RELEASE IN FULL</td>\n",
       "      <td>NaN</td>\n",
       "      <td>UNCLASSIFIED\\nU.S. Department of State\\nCase N...</td>\n",
       "    </tr>\n",
       "    <tr>\n",
       "      <th>1</th>\n",
       "      <td>2</td>\n",
       "      <td>C05739546</td>\n",
       "      <td>H: LATEST: HOW SYRIA IS AIDING QADDAFI AND MOR...</td>\n",
       "      <td>H</td>\n",
       "      <td>NaN</td>\n",
       "      <td>NaN</td>\n",
       "      <td>2011-03-03T05:00:00+00:00</td>\n",
       "      <td>2015-05-22T04:00:00+00:00</td>\n",
       "      <td>DOCUMENTS/HRC_Email_1_296/HRCH1/DOC_0C05739546...</td>\n",
       "      <td>F-2015-04841</td>\n",
       "      <td>...</td>\n",
       "      <td>NaN</td>\n",
       "      <td>NaN</td>\n",
       "      <td>NaN</td>\n",
       "      <td>NaN</td>\n",
       "      <td>F-2015-04841</td>\n",
       "      <td>C05739546</td>\n",
       "      <td>05/13/2015</td>\n",
       "      <td>RELEASE IN PART</td>\n",
       "      <td>B6\\nThursday, March 3, 2011 9:45 PM\\nH: Latest...</td>\n",
       "      <td>UNCLASSIFIED\\nU.S. Department of State\\nCase N...</td>\n",
       "    </tr>\n",
       "    <tr>\n",
       "      <th>2</th>\n",
       "      <td>3</td>\n",
       "      <td>C05739547</td>\n",
       "      <td>CHRIS STEVENS</td>\n",
       "      <td>;H</td>\n",
       "      <td>Mills, Cheryl D</td>\n",
       "      <td>32.0</td>\n",
       "      <td>2012-09-12T04:00:00+00:00</td>\n",
       "      <td>2015-05-22T04:00:00+00:00</td>\n",
       "      <td>DOCUMENTS/HRC_Email_1_296/HRCH2/DOC_0C05739547...</td>\n",
       "      <td>F-2015-04841</td>\n",
       "      <td>...</td>\n",
       "      <td>B6</td>\n",
       "      <td>Mills, Cheryl D &lt;MillsCD@state.gov&gt;</td>\n",
       "      <td>Abedin, Huma</td>\n",
       "      <td>Wednesday, September 12, 2012 11:52 AM</td>\n",
       "      <td>F-2015-04841</td>\n",
       "      <td>C05739547</td>\n",
       "      <td>05/14/2015</td>\n",
       "      <td>RELEASE IN PART</td>\n",
       "      <td>Thx</td>\n",
       "      <td>UNCLASSIFIED\\nU.S. Department of State\\nCase N...</td>\n",
       "    </tr>\n",
       "    <tr>\n",
       "      <th>3</th>\n",
       "      <td>4</td>\n",
       "      <td>C05739550</td>\n",
       "      <td>CAIRO CONDEMNATION - FINAL</td>\n",
       "      <td>H</td>\n",
       "      <td>Mills, Cheryl D</td>\n",
       "      <td>32.0</td>\n",
       "      <td>2012-09-12T04:00:00+00:00</td>\n",
       "      <td>2015-05-22T04:00:00+00:00</td>\n",
       "      <td>DOCUMENTS/HRC_Email_1_296/HRCH2/DOC_0C05739550...</td>\n",
       "      <td>F-2015-04841</td>\n",
       "      <td>...</td>\n",
       "      <td>NaN</td>\n",
       "      <td>Mills, Cheryl D &lt;MillsCD@state.gov&gt;</td>\n",
       "      <td>Mitchell, Andrew B</td>\n",
       "      <td>Wednesday, September 12,2012 12:44 PM</td>\n",
       "      <td>F-2015-04841</td>\n",
       "      <td>C05739550</td>\n",
       "      <td>05/13/2015</td>\n",
       "      <td>RELEASE IN PART</td>\n",
       "      <td>NaN</td>\n",
       "      <td>UNCLASSIFIED\\nU.S. Department of State\\nCase N...</td>\n",
       "    </tr>\n",
       "    <tr>\n",
       "      <th>4</th>\n",
       "      <td>5</td>\n",
       "      <td>C05739554</td>\n",
       "      <td>H: LATEST: HOW SYRIA IS AIDING QADDAFI AND MOR...</td>\n",
       "      <td>Abedin, Huma</td>\n",
       "      <td>H</td>\n",
       "      <td>80.0</td>\n",
       "      <td>2011-03-11T05:00:00+00:00</td>\n",
       "      <td>2015-05-22T04:00:00+00:00</td>\n",
       "      <td>DOCUMENTS/HRC_Email_1_296/HRCH1/DOC_0C05739554...</td>\n",
       "      <td>F-2015-04841</td>\n",
       "      <td>...</td>\n",
       "      <td>NaN</td>\n",
       "      <td>NaN</td>\n",
       "      <td>NaN</td>\n",
       "      <td>NaN</td>\n",
       "      <td>F-2015-04841</td>\n",
       "      <td>C05739554</td>\n",
       "      <td>05/13/2015</td>\n",
       "      <td>RELEASE IN PART</td>\n",
       "      <td>H &lt;hrod17@clintonemail.com&gt;\\nFriday, March 11,...</td>\n",
       "      <td>B6\\nUNCLASSIFIED\\nU.S. Department of State\\nCa...</td>\n",
       "    </tr>\n",
       "  </tbody>\n",
       "</table>\n",
       "<p>5 rows × 22 columns</p>\n",
       "</div>"
      ],
      "text/plain": [
       "   Id  DocNumber                                    MetadataSubject  \\\n",
       "0   1  C05739545                                                WOW   \n",
       "1   2  C05739546  H: LATEST: HOW SYRIA IS AIDING QADDAFI AND MOR...   \n",
       "2   3  C05739547                                      CHRIS STEVENS   \n",
       "3   4  C05739550                         CAIRO CONDEMNATION - FINAL   \n",
       "4   5  C05739554  H: LATEST: HOW SYRIA IS AIDING QADDAFI AND MOR...   \n",
       "\n",
       "     MetadataTo       MetadataFrom  SenderPersonId           MetadataDateSent  \\\n",
       "0             H  Sullivan, Jacob J            87.0  2012-09-12T04:00:00+00:00   \n",
       "1             H                NaN             NaN  2011-03-03T05:00:00+00:00   \n",
       "2            ;H    Mills, Cheryl D            32.0  2012-09-12T04:00:00+00:00   \n",
       "3             H    Mills, Cheryl D            32.0  2012-09-12T04:00:00+00:00   \n",
       "4  Abedin, Huma                  H            80.0  2011-03-11T05:00:00+00:00   \n",
       "\n",
       "        MetadataDateReleased  \\\n",
       "0  2015-05-22T04:00:00+00:00   \n",
       "1  2015-05-22T04:00:00+00:00   \n",
       "2  2015-05-22T04:00:00+00:00   \n",
       "3  2015-05-22T04:00:00+00:00   \n",
       "4  2015-05-22T04:00:00+00:00   \n",
       "\n",
       "                                     MetadataPdfLink MetadataCaseNumber  ...  \\\n",
       "0  DOCUMENTS/HRC_Email_1_296/HRCH2/DOC_0C05739545...       F-2015-04841  ...   \n",
       "1  DOCUMENTS/HRC_Email_1_296/HRCH1/DOC_0C05739546...       F-2015-04841  ...   \n",
       "2  DOCUMENTS/HRC_Email_1_296/HRCH2/DOC_0C05739547...       F-2015-04841  ...   \n",
       "3  DOCUMENTS/HRC_Email_1_296/HRCH2/DOC_0C05739550...       F-2015-04841  ...   \n",
       "4  DOCUMENTS/HRC_Email_1_296/HRCH1/DOC_0C05739554...       F-2015-04841  ...   \n",
       "\n",
       "  ExtractedTo                             ExtractedFrom         ExtractedCc  \\\n",
       "0         NaN  Sullivan, Jacob J <Sullivan11@state.gov>                 NaN   \n",
       "1         NaN                                       NaN                 NaN   \n",
       "2          B6       Mills, Cheryl D <MillsCD@state.gov>        Abedin, Huma   \n",
       "3         NaN       Mills, Cheryl D <MillsCD@state.gov>  Mitchell, Andrew B   \n",
       "4         NaN                                       NaN                 NaN   \n",
       "\n",
       "                        ExtractedDateSent ExtractedCaseNumber  \\\n",
       "0  Wednesday, September 12, 2012 10:16 AM        F-2015-04841   \n",
       "1                                     NaN        F-2015-04841   \n",
       "2  Wednesday, September 12, 2012 11:52 AM        F-2015-04841   \n",
       "3   Wednesday, September 12,2012 12:44 PM        F-2015-04841   \n",
       "4                                     NaN        F-2015-04841   \n",
       "\n",
       "  ExtractedDocNumber ExtractedDateReleased ExtractedReleaseInPartOrFull  \\\n",
       "0          C05739545            05/13/2015              RELEASE IN FULL   \n",
       "1          C05739546            05/13/2015              RELEASE IN PART   \n",
       "2          C05739547            05/14/2015              RELEASE IN PART   \n",
       "3          C05739550            05/13/2015              RELEASE IN PART   \n",
       "4          C05739554            05/13/2015              RELEASE IN PART   \n",
       "\n",
       "                                   ExtractedBodyText  \\\n",
       "0                                                NaN   \n",
       "1  B6\\nThursday, March 3, 2011 9:45 PM\\nH: Latest...   \n",
       "2                                                Thx   \n",
       "3                                                NaN   \n",
       "4  H <hrod17@clintonemail.com>\\nFriday, March 11,...   \n",
       "\n",
       "                                             RawText  \n",
       "0  UNCLASSIFIED\\nU.S. Department of State\\nCase N...  \n",
       "1  UNCLASSIFIED\\nU.S. Department of State\\nCase N...  \n",
       "2  UNCLASSIFIED\\nU.S. Department of State\\nCase N...  \n",
       "3  UNCLASSIFIED\\nU.S. Department of State\\nCase N...  \n",
       "4  B6\\nUNCLASSIFIED\\nU.S. Department of State\\nCa...  \n",
       "\n",
       "[5 rows x 22 columns]"
      ]
     },
     "execution_count": 125,
     "metadata": {},
     "output_type": "execute_result"
    }
   ],
   "source": [
    "df_emails.head()"
   ]
  },
  {
   "cell_type": "code",
   "execution_count": 137,
   "metadata": {},
   "outputs": [],
   "source": [
    "from nltk.stem import WordNetLemmatizer\n",
    "from string import punctuation\n",
    "import string\n",
    "import re"
   ]
  },
  {
   "cell_type": "code",
   "execution_count": 134,
   "metadata": {},
   "outputs": [],
   "source": [
    "def preproc_eng(text):\n",
    "    text = str(text)\n",
    "    lemmatizer = WordNetLemmatizer()\n",
    "    clean_text = ' '.join([word for word in text.lower().split()])\n",
    "    # убираем знаки препинания\n",
    "    clean_text = clean_text.translate(str.maketrans(dict.fromkeys(string.punctuation))).split()\n",
    "    clean_text = [re.sub('[«|»|…]', '', word) for word in clean_text]\n",
    "    clean_text = [re.sub('\\d', '', word) for word in clean_text]\n",
    "    # лемматизируем\n",
    "    clean_text = ' '.join([lemmatizer.lemmatize(word) for word in clean_text])\n",
    "    clean_text = clean_text.replace('\\n', '')\n",
    "    clean_text = clean_text.replace('nan', '')\n",
    "    # убираем стоп-слова\n",
    "    clean_text = ' '.join([word for word in clean_text.split() if word not in stopwords.words('english') and len(word) > 2])\n",
    "    return clean_text"
   ]
  },
  {
   "cell_type": "code",
   "execution_count": 135,
   "metadata": {},
   "outputs": [],
   "source": [
    "#from tqdm._tqdm_notebook import tqdm_notebook\n",
    "#tqdm_notebook.pandas('PROGRESS>>>')"
   ]
  },
  {
   "cell_type": "code",
   "execution_count": 138,
   "metadata": {},
   "outputs": [
    {
     "data": {
      "application/vnd.jupyter.widget-view+json": {
       "model_id": "d2094cad0d284956988c9da833f81623",
       "version_major": 2,
       "version_minor": 0
      },
      "text/plain": [
       "HBox(children=(FloatProgress(value=0.0, max=7945.0), HTML(value='')))"
      ]
     },
     "metadata": {},
     "output_type": "display_data"
    },
    {
     "name": "stdout",
     "output_type": "stream",
     "text": [
      "\n"
     ]
    }
   ],
   "source": [
    "emails_corpus = df_emails['ExtractedBodyText'].progress_apply(preproc_eng)"
   ]
  },
  {
   "cell_type": "markdown",
   "metadata": {},
   "source": [
    "**Для CountVectorizer**"
   ]
  },
  {
   "cell_type": "code",
   "execution_count": 139,
   "metadata": {},
   "outputs": [],
   "source": [
    "vec = CountVectorizer()\n",
    "X = vec.fit_transform(emails_corpus)\n",
    "vocab = vec.get_feature_names()"
   ]
  },
  {
   "cell_type": "code",
   "execution_count": 140,
   "metadata": {},
   "outputs": [],
   "source": [
    "import gensim\n",
    "from gensim import matutils\n",
    "from gensim.models.ldamodel import LdaModel\n",
    "from scipy.sparse import csc"
   ]
  },
  {
   "cell_type": "code",
   "execution_count": 141,
   "metadata": {},
   "outputs": [],
   "source": [
    "vocab_dict = dict([(i, s) for i, s in enumerate(vocab)])"
   ]
  },
  {
   "cell_type": "code",
   "execution_count": 142,
   "metadata": {},
   "outputs": [],
   "source": [
    "corpus = gensim.matutils.Sparse2Corpus(csc.csc_matrix(X))\n",
    "dictionary = gensim.corpora.Dictionary.from_corpus(corpus, vocab_dict)"
   ]
  },
  {
   "cell_type": "code",
   "execution_count": 143,
   "metadata": {},
   "outputs": [],
   "source": [
    "lda = LdaModel(matutils.Sparse2Corpus(X.T), num_topics=5, passes=20, id2word=vocab_dict)"
   ]
  },
  {
   "cell_type": "code",
   "execution_count": 144,
   "metadata": {},
   "outputs": [
    {
     "name": "stdout",
     "output_type": "stream",
     "text": [
      "(0, '0.023*\"call\" + 0.010*\"tomorrow\" + 0.010*\"get\" + 0.009*\"see\" + 0.009*\"know\" + 0.008*\"want\" + 0.008*\"email\" + 0.008*\"today\" + 0.007*\"also\" + 0.006*\"back\"')\n",
      "(1, '0.015*\"secretary\" + 0.015*\"office\" + 0.010*\"house\" + 0.008*\"obama\" + 0.008*\"republican\" + 0.008*\"president\" + 0.008*\"meeting\" + 0.008*\"state\" + 0.007*\"room\" + 0.007*\"time\"')\n",
      "(2, '0.007*\"state\" + 0.007*\"would\" + 0.005*\"one\" + 0.004*\"said\" + 0.004*\"people\" + 0.004*\"year\" + 0.004*\"also\" + 0.004*\"government\" + 0.004*\"new\" + 0.004*\"woman\"')\n",
      "(3, '0.031*\"fyi\" + 0.017*\"state\" + 0.013*\"cheryl\" + 0.013*\"huma\" + 0.010*\"mill\" + 0.009*\"benghazi\" + 0.009*\"abedin\" + 0.008*\"doc\" + 0.008*\"hrodclintonemailcom\" + 0.008*\"print\"')\n",
      "(4, '0.009*\"israel\" + 0.006*\"israeli\" + 0.006*\"party\" + 0.006*\"american\" + 0.004*\"palestinian\" + 0.004*\"koch\" + 0.004*\"group\" + 0.003*\"political\" + 0.003*\"right\" + 0.003*\"obama\"')\n"
     ]
    }
   ],
   "source": [
    "topics = lda.print_topics(num_topics=-1, num_words=10)\n",
    "for topic in topics:\n",
    "    print(topic)"
   ]
  },
  {
   "cell_type": "code",
   "execution_count": 147,
   "metadata": {},
   "outputs": [],
   "source": [
    "from pyLDAvis import gensim\n",
    "import pyLDAvis"
   ]
  },
  {
   "cell_type": "code",
   "execution_count": 148,
   "metadata": {},
   "outputs": [],
   "source": [
    "pyLDAvis.enable_notebook()"
   ]
  },
  {
   "cell_type": "code",
   "execution_count": 159,
   "metadata": {},
   "outputs": [
    {
     "name": "stderr",
     "output_type": "stream",
     "text": [
      "C:\\Users\\vital\\anaconda3\\lib\\site-packages\\pyLDAvis\\_prepare.py:257: FutureWarning: Sorting because non-concatenation axis is not aligned. A future version\n",
      "of pandas will change to not sort by default.\n",
      "\n",
      "To accept the future behavior, pass 'sort=False'.\n",
      "\n",
      "To retain the current behavior and silence the warning, pass 'sort=True'.\n",
      "\n",
      "  return pd.concat([default_term_info] + list(topic_dfs))\n"
     ]
    },
    {
     "data": {
      "text/html": [
       "\n",
       "<link rel=\"stylesheet\" type=\"text/css\" href=\"https://cdn.rawgit.com/bmabey/pyLDAvis/files/ldavis.v1.0.0.css\">\n",
       "\n",
       "\n",
       "<div id=\"ldavis_el1798815984184141603105071015\"></div>\n",
       "<script type=\"text/javascript\">\n",
       "\n",
       "var ldavis_el1798815984184141603105071015_data = {\"mdsDat\": {\"x\": [-0.1543780196503809, -0.10561563297679162, -0.09640270725228088, 0.2670610197331581, 0.08933534014629588], \"y\": [-0.07469417549874101, 0.06945406004304773, -0.09982311481439224, -0.13056516289660475, 0.2356283931666904], \"topics\": [1, 2, 3, 4, 5], \"cluster\": [1, 1, 1, 1, 1], \"Freq\": [29.990745544433594, 26.633337020874023, 21.413864135742188, 11.11086654663086, 10.851189613342285]}, \"tinfo\": {\"Category\": [\"Default\", \"Default\", \"Default\", \"Default\", \"Default\", \"Default\", \"Default\", \"Default\", \"Default\", \"Default\", \"Default\", \"Default\", \"Default\", \"Default\", \"Default\", \"Default\", \"Default\", \"Default\", \"Default\", \"Default\", \"Default\", \"Default\", \"Default\", \"Default\", \"Default\", \"Default\", \"Default\", \"Default\", \"Default\", \"Default\", \"Topic1\", \"Topic1\", \"Topic1\", \"Topic1\", \"Topic1\", \"Topic1\", \"Topic1\", \"Topic1\", \"Topic1\", \"Topic1\", \"Topic1\", \"Topic1\", \"Topic1\", \"Topic1\", \"Topic1\", \"Topic1\", \"Topic1\", \"Topic1\", \"Topic1\", \"Topic1\", \"Topic1\", \"Topic1\", \"Topic1\", \"Topic1\", \"Topic1\", \"Topic1\", \"Topic1\", \"Topic1\", \"Topic1\", \"Topic1\", \"Topic1\", \"Topic1\", \"Topic1\", \"Topic1\", \"Topic1\", \"Topic1\", \"Topic1\", \"Topic1\", \"Topic1\", \"Topic1\", \"Topic1\", \"Topic1\", \"Topic1\", \"Topic1\", \"Topic1\", \"Topic1\", \"Topic1\", \"Topic1\", \"Topic1\", \"Topic1\", \"Topic1\", \"Topic1\", \"Topic1\", \"Topic1\", \"Topic1\", \"Topic1\", \"Topic1\", \"Topic1\", \"Topic1\", \"Topic1\", \"Topic1\", \"Topic1\", \"Topic1\", \"Topic1\", \"Topic1\", \"Topic1\", \"Topic1\", \"Topic1\", \"Topic1\", \"Topic1\", \"Topic1\", \"Topic1\", \"Topic1\", \"Topic1\", \"Topic2\", \"Topic2\", \"Topic2\", \"Topic2\", \"Topic2\", \"Topic2\", \"Topic2\", \"Topic2\", \"Topic2\", \"Topic2\", \"Topic2\", \"Topic2\", \"Topic2\", \"Topic2\", \"Topic2\", \"Topic2\", \"Topic2\", \"Topic2\", \"Topic2\", \"Topic2\", \"Topic2\", \"Topic2\", \"Topic2\", \"Topic2\", \"Topic2\", \"Topic2\", \"Topic2\", \"Topic2\", \"Topic2\", \"Topic2\", \"Topic2\", \"Topic2\", \"Topic2\", \"Topic2\", \"Topic2\", \"Topic2\", \"Topic2\", \"Topic2\", \"Topic2\", \"Topic2\", \"Topic2\", \"Topic2\", \"Topic2\", \"Topic2\", \"Topic2\", \"Topic2\", \"Topic2\", \"Topic2\", \"Topic2\", \"Topic2\", \"Topic2\", \"Topic2\", \"Topic2\", \"Topic2\", \"Topic2\", \"Topic2\", \"Topic2\", \"Topic2\", \"Topic2\", \"Topic2\", \"Topic2\", \"Topic2\", \"Topic2\", \"Topic2\", \"Topic2\", \"Topic2\", \"Topic2\", \"Topic2\", \"Topic2\", \"Topic2\", \"Topic2\", \"Topic2\", \"Topic2\", \"Topic2\", \"Topic3\", \"Topic3\", \"Topic3\", \"Topic3\", \"Topic3\", \"Topic3\", \"Topic3\", \"Topic3\", \"Topic3\", \"Topic3\", \"Topic3\", \"Topic3\", \"Topic3\", \"Topic3\", \"Topic3\", \"Topic3\", \"Topic3\", \"Topic3\", \"Topic3\", \"Topic3\", \"Topic3\", \"Topic3\", \"Topic3\", \"Topic3\", \"Topic3\", \"Topic3\", \"Topic3\", \"Topic3\", \"Topic3\", \"Topic3\", \"Topic3\", \"Topic3\", \"Topic3\", \"Topic3\", \"Topic3\", \"Topic3\", \"Topic3\", \"Topic3\", \"Topic3\", \"Topic3\", \"Topic3\", \"Topic3\", \"Topic3\", \"Topic3\", \"Topic3\", \"Topic3\", \"Topic3\", \"Topic3\", \"Topic3\", \"Topic3\", \"Topic3\", \"Topic3\", \"Topic3\", \"Topic3\", \"Topic3\", \"Topic3\", \"Topic3\", \"Topic3\", \"Topic3\", \"Topic3\", \"Topic3\", \"Topic3\", \"Topic3\", \"Topic3\", \"Topic4\", \"Topic4\", \"Topic4\", \"Topic4\", \"Topic4\", \"Topic4\", \"Topic4\", \"Topic4\", \"Topic4\", \"Topic4\", \"Topic4\", \"Topic4\", \"Topic4\", \"Topic4\", \"Topic4\", \"Topic4\", \"Topic4\", \"Topic4\", \"Topic4\", \"Topic4\", \"Topic4\", \"Topic4\", \"Topic4\", \"Topic4\", \"Topic4\", \"Topic4\", \"Topic4\", \"Topic4\", \"Topic4\", \"Topic4\", \"Topic4\", \"Topic4\", \"Topic4\", \"Topic4\", \"Topic4\", \"Topic4\", \"Topic4\", \"Topic4\", \"Topic4\", \"Topic4\", \"Topic4\", \"Topic4\", \"Topic4\", \"Topic4\", \"Topic4\", \"Topic4\", \"Topic4\", \"Topic4\", \"Topic4\", \"Topic4\", \"Topic4\", \"Topic5\", \"Topic5\", \"Topic5\", \"Topic5\", \"Topic5\", \"Topic5\", \"Topic5\", \"Topic5\", \"Topic5\", \"Topic5\", \"Topic5\", \"Topic5\", \"Topic5\", \"Topic5\", \"Topic5\", \"Topic5\", \"Topic5\", \"Topic5\", \"Topic5\", \"Topic5\", \"Topic5\", \"Topic5\", \"Topic5\", \"Topic5\", \"Topic5\", \"Topic5\", \"Topic5\", \"Topic5\", \"Topic5\", \"Topic5\", \"Topic5\", \"Topic5\", \"Topic5\", \"Topic5\", \"Topic5\", \"Topic5\", \"Topic5\", \"Topic5\", \"Topic5\", \"Topic5\", \"Topic5\", \"Topic5\", \"Topic5\", \"Topic5\", \"Topic5\", \"Topic5\", \"Topic5\", \"Topic5\", \"Topic5\", \"Topic5\", \"Topic5\", \"Topic5\", \"Topic5\", \"Topic5\", \"Topic5\", \"Topic5\", \"Topic5\", \"Topic5\", \"Topic5\", \"Topic5\", \"Topic5\", \"Topic5\", \"Topic5\", \"Topic5\", \"Topic5\", \"Topic5\", \"Topic5\", \"Topic5\", \"Topic5\", \"Topic5\", \"Topic5\"], \"Freq\": [79.0, 71.0, 98.0, 127.0, 82.0, 32.0, 31.0, 58.0, 69.0, 25.0, 42.0, 56.0, 54.0, 36.0, 26.0, 22.0, 36.0, 22.0, 41.0, 42.0, 45.0, 21.0, 46.0, 20.0, 36.0, 22.0, 21.0, 22.0, 20.0, 21.0, 27.158788681030273, 8.930976867675781, 19.47394561767578, 14.384989738464355, 6.805037498474121, 5.958167552947998, 5.832170009613037, 12.48052978515625, 5.426584243774414, 4.989467620849609, 4.758283615112305, 42.078983306884766, 4.0140700340271, 3.9975876808166504, 3.959902048110962, 3.9952516555786133, 3.797269821166992, 3.5965328216552734, 3.6228973865509033, 3.537123918533325, 3.528120517730713, 3.467545747756958, 3.4412081241607666, 3.4323463439941406, 3.2068424224853516, 3.155400276184082, 3.1509971618652344, 3.0471761226654053, 3.02526593208313, 3.0213241577148438, 57.62500762939453, 28.530868530273438, 8.294113159179688, 7.641658782958984, 6.631205081939697, 10.387611389160156, 18.384063720703125, 15.54374885559082, 6.171854019165039, 17.129112243652344, 8.402274131774902, 15.043876647949219, 5.195967197418213, 9.466036796569824, 9.366053581237793, 13.241997718811035, 9.335991859436035, 7.822381019592285, 8.05182933807373, 16.974700927734375, 26.403430938720703, 37.15089416503906, 37.18364715576172, 22.872644424438477, 22.843048095703125, 15.394725799560547, 10.63095474243164, 13.888235092163086, 8.356138229370117, 14.268540382385254, 11.058272361755371, 22.45917320251465, 14.076399803161621, 20.73084259033203, 18.04361343383789, 21.08452033996582, 17.855012893676758, 16.477558135986328, 13.130814552307129, 12.929914474487305, 13.926382064819336, 13.964146614074707, 13.57532787322998, 13.914225578308105, 8.621828079223633, 5.99001407623291, 5.451530456542969, 5.309446811676025, 5.217449188232422, 4.966681003570557, 4.608852863311768, 4.620709419250488, 12.214030265808105, 4.106327056884766, 4.067602634429932, 3.733952283859253, 3.773918390274048, 3.7254092693328857, 3.585618257522583, 3.573805570602417, 3.249971389770508, 6.164637088775635, 3.1535634994506836, 2.9743874073028564, 2.850829601287842, 3.5276875495910645, 3.172938823699951, 2.6031787395477295, 2.5319314002990723, 2.539144515991211, 2.354837656021118, 2.333144426345825, 2.3594577312469482, 2.2852461338043213, 7.6146769523620605, 8.046941757202148, 8.011234283447266, 14.826255798339844, 7.583512783050537, 13.973569869995117, 5.335506439208984, 8.568071365356445, 19.29132080078125, 8.350784301757812, 22.881515502929688, 4.500209331512451, 8.56840991973877, 20.260986328125, 9.100756645202637, 26.228506088256836, 16.265588760375977, 12.153436660766602, 19.789112091064453, 17.20309066772461, 10.572850227355957, 25.014589309692383, 16.79642105102539, 18.599050521850586, 38.82939529418945, 12.250740051269531, 25.565839767456055, 16.39580726623535, 25.696510314941406, 30.07047462463379, 16.519983291625977, 18.436838150024414, 17.62493324279785, 39.53660202026367, 15.805126190185547, 18.993074417114258, 26.615665435791016, 14.942845344543457, 23.380680084228516, 16.4010009765625, 20.026491165161133, 18.31985092163086, 16.524137496948242, 15.534440994262695, 26.494909286499023, 23.18441390991211, 23.049480438232422, 22.111207962036133, 11.182652473449707, 10.104660987854004, 10.05339241027832, 8.212668418884277, 5.712518215179443, 27.739933013916016, 5.399573802947998, 5.286579132080078, 4.982539653778076, 4.729412078857422, 17.302412033081055, 4.500271320343018, 4.265902519226074, 3.9572410583496094, 3.9971060752868652, 4.72337532043457, 3.809952974319458, 3.5147783756256104, 3.3228695392608643, 35.66646957397461, 3.227792501449585, 13.205395698547363, 3.0844104290008545, 3.0914463996887207, 2.980792760848999, 2.9846742153167725, 11.371698379516602, 5.951518535614014, 15.244546890258789, 14.391679763793945, 11.425311088562012, 34.250911712646484, 24.617725372314453, 70.04067993164062, 25.928298950195312, 4.853198051452637, 16.123018264770508, 8.08822250366211, 73.4571762084961, 21.285449981689453, 14.510910034179688, 21.942218780517578, 40.38907241821289, 46.52461624145508, 37.91051483154297, 10.821150779724121, 18.94740104675293, 21.254703521728516, 40.4833984375, 37.98074722290039, 28.80773162841797, 35.44940948486328, 29.814666748046875, 18.62834930419922, 28.845857620239258, 37.414024353027344, 22.73948097229004, 17.109586715698242, 16.525352478027344, 16.565542221069336, 31.18071746826172, 22.629438400268555, 22.022192001342773, 21.01907730102539, 20.103254318237305, 16.509578704833984, 15.5888032913208, 15.301197052001953, 15.092853546142578, 15.092853546142578, 14.847854614257812, 14.470937728881836, 10.012672424316406, 9.665348052978516, 9.353155136108398, 8.858835220336914, 12.092021942138672, 6.316601753234863, 6.161543369293213, 5.811243534088135, 4.296209335327148, 4.139806270599365, 4.091564178466797, 4.037312030792236, 15.527142524719238, 3.8158342838287354, 3.3697566986083984, 3.2360198497772217, 31.502531051635742, 2.706488847732544, 24.859235763549805, 14.917902946472168, 76.14424133300781, 19.71940040588379, 15.823915481567383, 20.07811737060547, 19.779672622680664, 20.044321060180664, 14.9058256149292, 15.715503692626953, 15.574179649353027, 18.3631534576416, 16.960525512695312, 16.00141143798828, 14.100975036621094, 42.84574890136719, 18.204004287719727, 19.686344146728516, 17.347631454467773, 17.288862228393555, 15.341986656188965, 5.993629455566406, 3.425856828689575, 3.2570199966430664, 2.9902524948120117, 2.8003854751586914, 2.755423069000244, 2.820775032043457, 2.571964740753174, 2.4730491638183594, 1.992905855178833, 1.975175142288208, 1.9580676555633545, 1.9580676555633545, 1.9580676555633545, 1.902892827987671, 1.8541208505630493, 1.8502899408340454, 1.8502899408340454, 1.8563652038574219, 1.8303695917129517, 1.7269225120544434, 1.6838778257369995, 1.745703101158142, 1.6509586572647095, 1.636653184890747, 3.997051954269409, 1.5112385749816895, 1.407130479812622, 1.3887871503829956, 1.275573492050171, 5.285858631134033, 13.947285652160645, 24.09129524230957, 2.390909433364868, 18.86782455444336, 5.07269811630249, 56.50502395629883, 8.307049751281738, 9.303145408630371, 10.384446144104004, 13.741752624511719, 5.247496128082275, 8.825057983398438, 4.730731010437012, 4.356958866119385, 9.106090545654297, 10.392834663391113, 6.514632701873779, 15.19383716583252, 10.476734161376953, 7.949052810668945, 23.603750228881836, 9.849228858947754, 21.746952056884766, 19.682458877563477, 15.266692161560059, 22.884239196777344, 18.417020797729492, 8.09722900390625, 15.757536888122559, 9.108378410339355, 17.59929847717285, 15.01932144165039, 13.460329055786133, 11.451802253723145, 10.881363868713379, 14.234444618225098, 13.65681266784668, 10.572996139526367, 8.65402889251709, 8.667549133300781], \"Term\": [\"fyi\", \"call\", \"secretary\", \"state\", \"office\", \"cheryl\", \"huma\", \"israel\", \"house\", \"mill\", \"get\", \"department\", \"republican\", \"room\", \"tomorrow\", \"benghazi\", \"white\", \"abedin\", \"know\", \"israeli\", \"see\", \"doc\", \"also\", \"hrodclintonemailcom\", \"want\", \"date\", \"print\", \"subject\", \"sullivan\", \"email\", \"koch\", \"jew\", \"jewish\", \"beck\", \"skousen\", \"murder\", \"wilder\", \"jerusalem\", \"blumenthal\", \"juarez\", \"richards\", \"israeli\", \"netanyahus\", \"birch\", \"idf\", \"hiker\", \"conspiracy\", \"libertarian\", \"flotilla\", \"farright\", \"skousens\", \"vargas\", \"settler\", \"buckley\", \"stupak\", \"glenn\", \"hamas\", \"zionist\", \"zionism\", \"arrest\", \"israel\", \"palestinian\", \"gaza\", \"islamic\", \"communist\", \"charles\", \"tea\", \"netanyahu\", \"district\", \"arab\", \"rightwing\", \"movement\", \"rally\", \"claim\", \"iranian\", \"city\", \"muslim\", \"activist\", \"student\", \"book\", \"group\", \"american\", \"party\", \"political\", \"right\", \"conservative\", \"school\", \"peace\", \"black\", \"called\", \"company\", \"obama\", \"told\", \"one\", \"like\", \"new\", \"year\", \"say\", \"david\", \"former\", \"government\", \"republican\", \"first\", \"time\", \"afghan\", \"conflict\", \"opportunity\", \"approach\", \"taliban\", \"chinese\", \"progress\", \"commitment\", \"china\", \"goal\", \"build\", \"haitian\", \"particularly\", \"regional\", \"solution\", \"include\", \"weve\", \"relationship\", \"answer\", \"respect\", \"effective\", \"beyond\", \"lack\", \"seek\", \"capacity\", \"kabul\", \"growth\", \"gender\", \"necessary\", \"prevent\", \"important\", \"pakistan\", \"diplomacy\", \"effort\", \"nuclear\", \"afghanistan\", \"region\", \"development\", \"security\", \"global\", \"woman\", \"focus\", \"must\", \"country\", \"economic\", \"people\", \"many\", \"military\", \"policy\", \"world\", \"change\", \"government\", \"united\", \"issue\", \"would\", \"international\", \"also\", \"make\", \"year\", \"one\", \"support\", \"could\", \"need\", \"state\", \"way\", \"work\", \"said\", \"well\", \"new\", \"clinton\", \"president\", \"time\", \"american\", \"like\", \"democrat\", \"arrive\", \"route\", \"depart\", \"boehner\", \"tory\", \"labour\", \"aide\", \"lobbyist\", \"senate\", \"reid\", \"gop\", \"biden\", \"spray\", \"residence\", \"rating\", \"tbd\", \"dup\", \"chamber\", \"unionist\", \"bloomberg\", \"preceding\", \"britain\", \"room\", \"miliband\", \"floor\", \"prebrief\", \"baucus\", \"cloture\", \"rahm\", \"brown\", \"uup\", \"daily\", \"poll\", \"airport\", \"white\", \"private\", \"office\", \"vote\", \"outer\", \"voter\", \"ireland\", \"secretary\", \"percent\", \"senator\", \"staff\", \"republican\", \"house\", \"meeting\", \"treaty\", \"conference\", \"washington\", \"obama\", \"president\", \"department\", \"time\", \"party\", \"election\", \"said\", \"state\", \"new\", \"bill\", \"minister\", \"foreign\", \"huma\", \"benghazi\", \"abedin\", \"doc\", \"hrodclintonemailcom\", \"dept\", \"comm\", \"waiver\", \"redaction\", \"foia\", \"millscdstategov\", \"lona\", \"abedinhstategov\", \"sullivanjjstategov\", \"valmoro\", \"lauren\", \"libya\", \"jilotylcstategov\", \"libyan\", \"statescb\", \"stategov\", \"jiloty\", \"preines\", \"declassify\", \"jacob\", \"ashton\", \"statecb\", \"docx\", \"cheryl\", \"tripoli\", \"mill\", \"select\", \"fyi\", \"sullivan\", \"sensitive\", \"print\", \"subject\", \"date\", \"produced\", \"saturday\", \"wednesday\", \"sunday\", \"information\", \"friday\", \"release\", \"state\", \"case\", \"department\", \"house\", \"secretary\", \"monday\", \"wjc\", \"thru\", \"dkna\", \"dem\", \"hrd\", \"tot\", \"worn\", \"ind\", \"edits\", \"noon\", \"asap\", \"wldnt\", \"smone\", \"votevol\", \"elsevol\", \"joanne\", \"xpress\", \"cingular\", \"ellen\", \"anytime\", \"wht\", \"emailed\", \"summary\", \"quinnipiac\", \"hvnt\", \"min\", \"cherie\", \"derek\", \"laszczych\", \"blk\", \"sheet\", \"thx\", \"tomorrow\", \"checking\", \"email\", \"unfavorable\", \"call\", \"ops\", \"draft\", \"send\", \"yes\", \"favorable\", \"ill\", \"sorry\", \"mtg\", \"discus\", \"cdm\", \"schedule\", \"let\", \"sure\", \"please\", \"get\", \"morning\", \"know\", \"want\", \"talk\", \"see\", \"today\", \"jake\", \"back\", \"thanks\", \"also\", \"work\", \"need\", \"think\", \"good\", \"time\", \"would\", \"like\", \"pls\", \"office\"], \"Total\": [79.0, 71.0, 98.0, 127.0, 82.0, 32.0, 31.0, 58.0, 69.0, 25.0, 42.0, 56.0, 54.0, 36.0, 26.0, 22.0, 36.0, 22.0, 41.0, 42.0, 45.0, 21.0, 46.0, 20.0, 36.0, 22.0, 21.0, 22.0, 20.0, 21.0, 27.214292526245117, 8.986703872680664, 19.611501693725586, 14.491255760192871, 6.8604583740234375, 6.014594554901123, 5.887673854827881, 12.603496551513672, 5.482599258422852, 5.044965744018555, 4.813891410827637, 42.648128509521484, 4.069787979125977, 4.053399562835693, 4.015358924865723, 4.051490783691406, 3.853001594543457, 3.6519577503204346, 3.6788458824157715, 3.5926201343536377, 3.583535671234131, 3.522982358932495, 3.4966578483581543, 3.4879555702209473, 3.262223243713379, 3.2113966941833496, 3.206944704055786, 3.102572441101074, 3.0806679725646973, 3.077340841293335, 58.70507049560547, 29.50952911376953, 8.478133201599121, 7.830339431762695, 6.796379566192627, 10.743176460266113, 19.756772994995117, 17.235729217529297, 6.47454833984375, 19.381975173950195, 9.02038288116455, 16.927846908569336, 5.413166046142578, 10.635773658752441, 10.639281272888184, 15.991951942443848, 10.77237606048584, 8.900192260742188, 9.284120559692383, 23.34967803955078, 41.00945281982422, 65.9067153930664, 68.46898651123047, 40.12040710449219, 41.756649017333984, 23.995107650756836, 14.363582611083984, 22.595619201660156, 9.896393775939941, 26.37677574157715, 16.63655662536621, 71.6749267578125, 27.665538787841797, 64.6963119506836, 47.76353454589844, 68.16693878173828, 48.18151092529297, 47.49307632446289, 26.47607421875, 27.541316986083984, 40.4461669921875, 54.39435577392578, 39.77132797241211, 82.45564270019531, 8.69183349609375, 6.061226844787598, 5.52187442779541, 5.379583358764648, 5.289673805236816, 5.038334369659424, 4.679014205932617, 4.69113826751709, 12.402200698852539, 4.177433967590332, 4.138698101043701, 3.8036882877349854, 3.8451945781707764, 3.795846939086914, 3.6567575931549072, 3.645320177078247, 3.320772171020508, 6.300949573516846, 3.2248337268829346, 3.045006513595581, 2.921314001083374, 3.616208553314209, 3.255823850631714, 2.673435926437378, 2.6019163131713867, 2.610689878463745, 2.4247772693634033, 2.402895212173462, 2.430450201034546, 2.356285810470581, 7.947817802429199, 8.41970157623291, 8.389240264892578, 15.7236967086792, 7.987057685852051, 15.099115371704102, 5.607486248016357, 9.2890043258667, 22.32151985168457, 9.155553817749023, 27.483888626098633, 4.7387003898620605, 9.738338470458984, 26.572534561157227, 10.870240211486816, 37.81719970703125, 22.023029327392578, 15.58072280883789, 28.652070999145508, 24.524023056030273, 13.495798110961914, 40.4461669921875, 24.8644962310791, 28.97439956665039, 79.36752319335938, 16.969701766967773, 46.964134216308594, 25.46963119506836, 48.18151092529297, 64.6963119506836, 26.955663681030273, 31.93876075744629, 31.150041580200195, 127.63146209716797, 27.07387924194336, 37.61555480957031, 70.00836944580078, 26.024898529052734, 68.16693878173828, 36.73383331298828, 67.95940399169922, 82.45564270019531, 65.9067153930664, 47.76353454589844, 26.55855369567871, 23.246904373168945, 23.11288070678711, 22.17399787902832, 11.245723724365234, 10.167204856872559, 10.116717338562012, 8.275833129882812, 5.7763495445251465, 28.056320190429688, 5.46207332611084, 5.351337909698486, 5.047510147094727, 4.791803359985352, 17.53179168701172, 4.564664363861084, 4.328909397125244, 4.019994258880615, 4.0608062744140625, 4.8014373779296875, 3.8746731281280518, 3.5770139694213867, 3.3860390186309814, 36.366432189941406, 3.291280508041382, 13.471400260925293, 3.1469385623931885, 3.1548068523406982, 3.043581485748291, 3.048276901245117, 11.687211036682129, 6.10915994644165, 15.811675071716309, 14.929879188537598, 11.821793556213379, 36.85926818847656, 26.48754119873047, 82.50029754638672, 29.679744720458984, 4.993753910064697, 18.45541000366211, 8.708105087280273, 98.46271514892578, 25.53742027282715, 16.744049072265625, 26.7646427154541, 54.39435577392578, 69.62897491455078, 56.10459518432617, 12.539189338684082, 24.878936767578125, 30.35291290283203, 71.6749267578125, 67.95940399169922, 56.73220443725586, 82.45564270019531, 68.46898651123047, 29.428884506225586, 70.00836944580078, 127.63146209716797, 68.16693878173828, 31.762248992919922, 27.575414657592773, 29.921279907226562, 31.237642288208008, 22.685739517211914, 22.07883644104004, 21.075557708740234, 20.159645080566406, 16.56654930114746, 15.64513111114502, 15.357666015625, 15.149142265319824, 15.149142265319824, 14.904151916503906, 14.52782917022705, 10.069011688232422, 9.721790313720703, 9.409488677978516, 8.915692329406738, 12.174945831298828, 6.372870445251465, 6.21832275390625, 5.867578029632568, 4.353665828704834, 4.196152687072754, 4.1483540534973145, 4.094180583953857, 15.757999420166016, 3.8755404949188232, 3.4259767532348633, 3.292862892150879, 32.1000862121582, 2.7629289627075195, 25.495832443237305, 15.246759414672852, 79.55520629882812, 20.339427947998047, 16.629846572875977, 21.754281997680664, 22.293933868408203, 22.843395233154297, 17.128671646118164, 18.21710205078125, 19.03676986694336, 23.391427993774414, 21.90515899658203, 21.070568084716797, 18.16968536376953, 127.63146209716797, 29.25120735168457, 56.73220443725586, 69.62897491455078, 98.46271514892578, 25.919052124023438, 6.058156490325928, 3.490079402923584, 3.3210246562957764, 3.05526065826416, 2.8644261360168457, 2.8194379806518555, 2.8874847888946533, 2.6366689205169678, 2.5372352600097656, 2.057093858718872, 2.0395591259002686, 2.0220787525177, 2.0220787525177, 2.0220787525177, 1.966905117034912, 1.9184755086898804, 1.9146474599838257, 1.9146474599838257, 1.9219311475753784, 1.8955872058868408, 1.7910103797912598, 1.7491438388824463, 1.8133997917175293, 1.715598464012146, 1.7007412910461426, 4.157857418060303, 1.5757516622543335, 1.471474289894104, 1.4533097743988037, 1.339663028717041, 5.557684898376465, 14.949996948242188, 26.192455291748047, 2.5270047187805176, 21.271873474121094, 5.523571968078613, 71.52471160888672, 9.518327713012695, 11.106363296508789, 12.728446960449219, 17.529394149780273, 6.039575099945068, 10.801912307739258, 5.5010786056518555, 5.068042278289795, 11.920332908630371, 13.98947525024414, 8.31206226348877, 23.33807373046875, 14.931340217590332, 10.82642936706543, 42.18008804321289, 14.234017372131348, 41.06113052368164, 36.56675720214844, 26.22865104675293, 45.61885070800781, 34.15277862548828, 12.268533706665039, 32.75233459472656, 14.769619941711426, 46.964134216308594, 37.61555480957031, 31.150041580200195, 34.417083740234375, 31.748153686523438, 82.45564270019531, 79.36752319335938, 47.76353454589844, 21.303512573242188, 82.50029754638672], \"loglift\": [30.0, 29.0, 28.0, 27.0, 26.0, 25.0, 24.0, 23.0, 22.0, 21.0, 20.0, 19.0, 18.0, 17.0, 16.0, 15.0, 14.0, 13.0, 12.0, 11.0, 10.0, 9.0, 8.0, 7.0, 6.0, 5.0, 4.0, 3.0, 2.0, 1.0, 1.2022000551223755, 1.198099970817566, 1.1971999406814575, 1.1969000101089478, 1.1962000131607056, 1.1949000358581543, 1.1948000192642212, 1.1944999694824219, 1.194000005722046, 1.1931999921798706, 1.1927000284194946, 1.1907999515533447, 1.190500020980835, 1.1904000043869019, 1.1904000043869019, 1.1902999877929688, 1.1897000074386597, 1.1890000104904175, 1.1890000104904175, 1.1886999607086182, 1.1886999607086182, 1.1884000301361084, 1.1883000135421753, 1.1881999969482422, 1.1871999502182007, 1.1866999864578247, 1.1866999864578247, 1.1863000392913818, 1.1861000061035156, 1.1858999729156494, 1.1857000589370728, 1.1706000566482544, 1.1822999715805054, 1.179900050163269, 1.1797000169754028, 1.1706000566482544, 1.1323000192642212, 1.1009999513626099, 1.1563999652862549, 1.0807000398635864, 1.1332999467849731, 1.086300015449524, 1.1633000373840332, 1.0878000259399414, 1.076799988746643, 1.0155999660491943, 1.0612000226974487, 1.0751999616622925, 1.061900019645691, 0.8853999972343445, 0.7639999985694885, 0.6309999823570251, 0.5938000082969666, 0.642300009727478, 0.6011000275611877, 0.7605000138282776, 0.9034000039100647, 0.7175999879837036, 1.035099983215332, 0.589900016784668, 0.7958999872207642, 0.043800000101327896, 0.5285999774932861, 0.06620000302791595, 0.23080000281333923, 0.030899999663233757, 0.21160000562667847, 0.14569999277591705, 0.503000020980835, 0.4481000006198883, 0.13809999823570251, -0.15549999475479126, 0.12939999997615814, -0.5751000046730042, 1.3149000406265259, 1.3112000226974487, 1.3101999759674072, 1.3099000453948975, 1.3092999458312988, 1.3086999654769897, 1.3078999519348145, 1.3078999519348145, 1.3077000379562378, 1.305799961090088, 1.3056999444961548, 1.3044999837875366, 1.3042999505996704, 1.3042999505996704, 1.3034000396728516, 1.3032000064849854, 1.3014999628067017, 1.3011000156402588, 1.3006999492645264, 1.2994999885559082, 1.2985999584197998, 1.298200011253357, 1.2971999645233154, 1.2963999509811401, 1.295699954032898, 1.295199990272522, 1.2936999797821045, 1.2934999465942383, 1.2934000492095947, 1.2924000024795532, 1.2802000045776367, 1.2776999473571777, 1.276900053024292, 1.26419997215271, 1.2711999416351318, 1.2454999685287476, 1.273300051689148, 1.2422000169754028, 1.1770999431610107, 1.2309999465942383, 1.1397000551223755, 1.271399974822998, 1.1950000524520874, 1.051800012588501, 1.145300030708313, 0.957099974155426, 1.0199999809265137, 1.0745999813079834, 0.9528999924659729, 0.9684000015258789, 1.0788999795913696, 0.8424999713897705, 0.9307000041007996, 0.8797000050544739, 0.6080999970436096, 0.9972000122070312, 0.714900016784668, 0.8824999928474426, 0.6944000124931335, 0.5568000078201294, 0.8334000110626221, 0.7735000252723694, 0.7534999847412109, 0.15109999477863312, 0.7847999930381775, 0.6396999955177307, 0.35589998960494995, 0.7681999802589417, 0.2529999911785126, 0.516700029373169, 0.10119999945163727, -0.18129999935626984, -0.06040000170469284, 0.19979999959468842, 1.538699984550476, 1.5384000539779663, 1.5384000539779663, 1.5383000373840332, 1.5355000495910645, 1.534999966621399, 1.5348999500274658, 1.5334999561309814, 1.5299999713897705, 1.5298000574111938, 1.5296000242233276, 1.5290000438690186, 1.5282000303268433, 1.527999997138977, 1.527999997138977, 1.526900053024292, 1.5264999866485596, 1.5254000425338745, 1.5253000259399414, 1.5247000455856323, 1.5242999792099, 1.5235999822616577, 1.5223000049591064, 1.5217000246047974, 1.5217000246047974, 1.5211999416351318, 1.5211000442504883, 1.520799994468689, 1.520300030708313, 1.5199999809265137, 1.513800024986267, 1.5149999856948853, 1.5046000480651855, 1.5044000148773193, 1.5069999694824219, 1.4677000045776367, 1.467900037765503, 1.3774000406265259, 1.406000018119812, 1.5125999450683594, 1.406000018119812, 1.4673000574111938, 1.2482000589370728, 1.3589999675750732, 1.3980000019073486, 1.3424999713897705, 1.243399977684021, 1.1378999948501587, 1.1490999460220337, 1.3938000202178955, 1.2688000202178955, 1.1848000288009644, 0.9699000120162964, 0.9592999815940857, 0.8633999824523926, 0.6970000267028809, 0.7098000049591064, 1.083799958229065, 0.6545000076293945, 0.3140000104904175, 0.4433000087738037, 0.9225000143051147, 1.029099941253662, 0.9498999714851379, 2.1953999996185303, 2.1947999000549316, 2.194700002670288, 2.1946001052856445, 2.1944000720977783, 2.1937999725341797, 2.1935999393463135, 2.1935999393463135, 2.19350004196167, 2.19350004196167, 2.19350004196167, 2.1933000087738037, 2.1916000843048096, 2.1914000511169434, 2.191200017929077, 2.1907999515533447, 2.1903998851776123, 2.1884000301361084, 2.1881000995635986, 2.1875998973846436, 2.184000015258789, 2.1837000846862793, 2.183500051498413, 2.183300018310547, 2.182499885559082, 2.1816999912261963, 2.1807000637054443, 2.179800033569336, 2.178499937057495, 2.1765999794006348, 2.171999931335449, 2.1754000186920166, 2.15339994430542, 2.166300058364868, 2.147599935531616, 2.1171000003814697, 2.0776000022888184, 2.066499948501587, 2.058199882507324, 2.049499988555908, 1.996500015258789, 1.955199956893921, 1.9414000511169434, 1.9220000505447388, 1.9436999559402466, 1.1057000160217285, 1.7230000495910645, 1.138800024986267, 0.8075000047683716, 0.4575999975204468, 1.6728999614715576, 2.210200071334839, 2.2023000717163086, 2.2014000415802, 2.199399948120117, 2.1982998847961426, 2.1979000568389893, 2.197499990463257, 2.196000099182129, 2.1953001022338867, 2.189199924468994, 2.188800096511841, 2.188699960708618, 2.188699960708618, 2.188699960708618, 2.1877999305725098, 2.186800003051758, 2.1867001056671143, 2.1867001056671143, 2.186199903488159, 2.1858999729156494, 2.184499979019165, 2.1828999519348145, 2.182800054550171, 2.182499885559082, 2.182499885559082, 2.18149995803833, 2.1791000366210938, 2.1761999130249023, 2.17549991607666, 2.1719000339508057, 2.1707000732421875, 2.1514999866485596, 2.1373000144958496, 2.1654999256134033, 2.1010000705718994, 2.135699987411499, 1.985200047492981, 2.0848000049591064, 2.0436999797821045, 2.017400026321411, 1.9774999618530273, 2.0803000926971436, 2.0188000202178955, 2.069999933242798, 2.069700002670288, 1.9515999555587769, 1.923699975013733, 1.9772000312805176, 1.791700005531311, 1.8666000366210938, 1.9119999408721924, 1.6404000520706177, 1.8526999950408936, 1.5852999687194824, 1.6015000343322754, 1.6797000169754028, 1.531000018119812, 1.6032999753952026, 1.805400013923645, 1.4891999959945679, 1.7374999523162842, 1.239400029182434, 1.3028000593185425, 1.3818000555038452, 1.1204999685287476, 1.1500999927520752, 0.4643000066280365, 0.460999995470047, 0.7128999829292297, 1.3200000524520874, -0.03229999914765358], \"logprob\": [30.0, 29.0, 28.0, 27.0, 26.0, 25.0, 24.0, 23.0, 22.0, 21.0, 20.0, 19.0, 18.0, 17.0, 16.0, 15.0, 14.0, 13.0, 12.0, 11.0, 10.0, 9.0, 8.0, 7.0, 6.0, 5.0, 4.0, 3.0, 2.0, 1.0, -5.509300231933594, -6.621399879455566, -5.841899871826172, -6.144800186157227, -6.8933000564575195, -7.026199817657471, -7.047599792480469, -6.286799907684326, -7.11959981918335, -7.20359992980957, -7.251100063323975, -5.071400165557861, -7.421199798583984, -7.425300121307373, -7.434700012207031, -7.425899982452393, -7.4766998291015625, -7.531000137329102, -7.52370023727417, -7.547599792480469, -7.55019998550415, -7.567500114440918, -7.575099945068359, -7.577700138092041, -7.645699977874756, -7.661799907684326, -7.6631999015808105, -7.696700096130371, -7.703999996185303, -7.7052998542785645, -4.756999969482422, -5.460000038146973, -6.695400238037109, -6.777299880981445, -6.9191999435424805, -6.470300197601318, -5.899499893188477, -6.067299842834473, -6.991000175476074, -5.970200061798096, -6.682499885559082, -6.099999904632568, -7.163099765777588, -6.563199996948242, -6.57390022277832, -6.22760009765625, -6.577099800109863, -6.754000186920166, -6.725100040435791, -5.9791998863220215, -5.537499904632568, -5.196000099182129, -5.195099830627441, -5.681000232696533, -5.682300090789795, -6.076900005340576, -6.447199821472168, -6.179900169372559, -6.688000202178955, -6.152900218963623, -6.407800197601318, -5.6992998123168945, -6.166500091552734, -5.779300212860107, -5.9182000160217285, -5.762400150299072, -5.928699970245361, -6.008999824523926, -6.236000061035156, -6.251399993896484, -6.177199840545654, -6.174499988555908, -6.202700138092041, -6.177999973297119, -6.537899971008301, -6.902100086212158, -6.996300220489502, -7.02269983291626, -7.040200233459473, -7.0894999504089355, -7.164299964904785, -7.1616997718811035, -6.189599990844727, -7.279699802398682, -7.2891998291015625, -7.374800205230713, -7.364099979400635, -7.377099990844727, -7.415299892425537, -7.418600082397461, -7.513599872589111, -6.8734002113342285, -7.543700218200684, -7.602200031280518, -7.644599914550781, -7.431600093841553, -7.537600040435791, -7.735499858856201, -7.763299942016602, -7.76039981842041, -7.8358001708984375, -7.84499979019165, -7.833799839019775, -7.865799903869629, -6.662199974060059, -6.606900215148926, -6.611400127410889, -5.995800018310547, -6.666299819946289, -6.055099964141846, -7.0177998542785645, -6.5441999435424805, -5.732600212097168, -6.569900035858154, -5.5619001388549805, -7.1880998611450195, -6.5441999435424805, -5.683499813079834, -6.48390007019043, -5.4253997802734375, -5.903200149536133, -6.1946001052856445, -5.707099914550781, -5.847099781036377, -6.333899974822998, -5.472799777984619, -5.871099948883057, -5.769100189208984, -5.033100128173828, -6.186600208282471, -5.451000213623047, -5.895199775695801, -5.445899963378906, -5.288700103759766, -5.887700080871582, -5.777900218963623, -5.82289981842041, -5.014999866485596, -5.9319000244140625, -5.748199939727783, -5.410699844360352, -5.98799991607666, -5.540299892425537, -5.894899845123291, -5.695199966430664, -5.784200191497803, -5.887400150299072, -5.94920015335083, -5.197199821472168, -5.330599784851074, -5.33650016784668, -5.377999782562256, -6.059700012207031, -6.161099910736084, -6.166200160980225, -6.3684000968933105, -6.731400012969971, -5.151199817657471, -6.787799835205078, -6.808899879455566, -6.868199825286865, -6.920300006866455, -5.623300075531006, -6.96999979019165, -7.023499965667725, -7.098599910736084, -7.088500022888184, -6.921599864959717, -7.136499881744385, -7.217100143432617, -7.2733001708984375, -4.899899959564209, -7.302299976348877, -5.893499851226807, -7.347700119018555, -7.3454999923706055, -7.381899833679199, -7.3805999755859375, -6.043000221252441, -6.690499782562256, -5.749899864196777, -5.807499885559082, -6.038300037384033, -4.940400123596191, -5.270599842071533, -4.224999904632568, -5.218800067901611, -6.894499778747559, -5.693900108337402, -6.383699893951416, -4.1774001121521, -5.416100025177002, -5.799200057983398, -5.385700225830078, -4.7754998207092285, -4.634099960327148, -4.838900089263916, -6.092599868774414, -5.532400131225586, -5.417500019073486, -4.773200035095215, -4.836999893188477, -5.113500118255615, -4.906000137329102, -5.079100131988525, -5.5493998527526855, -5.112100124359131, -4.852099895477295, -5.349999904632568, -5.634500026702881, -5.6691999435424805, -5.666800022125244, -4.378200054168701, -4.698699951171875, -4.725900173187256, -4.772600173950195, -4.8171000480651855, -5.014100074768066, -5.071400165557861, -5.090099811553955, -5.103799819946289, -5.103799819946289, -5.120100021362305, -5.145899772644043, -5.514100074768066, -5.5493998527526855, -5.582300186157227, -5.636600017547607, -5.325399875640869, -5.974800109863281, -5.99970006942749, -6.058199882507324, -6.360300064086914, -6.397299766540527, -6.40910005569458, -6.422399997711182, -5.075399875640869, -6.478799819946289, -6.6031999588012695, -6.643599987030029, -4.3678998947143555, -6.822299957275391, -4.604800224304199, -5.1153998374938965, -3.4853999614715576, -4.836400032043457, -5.05649995803833, -4.818399906158447, -4.8333001136779785, -4.820000171661377, -5.116199970245361, -5.063300132751465, -5.072400093078613, -4.907599925994873, -4.987100124359131, -5.045300006866455, -5.1717000007629395, -4.060400009155273, -4.916399955749512, -4.838099956512451, -4.9644999504089355, -4.967899799346924, -5.087399959564209, -6.003600120544434, -6.563000202178955, -6.613500118255615, -6.698999881744385, -6.764599800109863, -6.780799865722656, -6.757299900054932, -6.849699974060059, -6.888899803161621, -7.104800224304199, -7.113699913024902, -7.122399806976318, -7.122399806976318, -7.122399806976318, -7.151000022888184, -7.1768999099731445, -7.178999900817871, -7.178999900817871, -7.1757001876831055, -7.189799785614014, -7.248000144958496, -7.273200035095215, -7.237199783325195, -7.293000221252441, -7.301700115203857, -6.40880012512207, -7.381400108337402, -7.4527997970581055, -7.46589994430542, -7.550899982452393, -6.129300117492676, -5.15910005569458, -4.612500190734863, -6.922699928283691, -4.856900215148926, -6.170499801635742, -3.759999990463257, -5.677199840545654, -5.564000129699707, -5.453999996185303, -5.173900127410889, -6.136600017547607, -5.616700172424316, -6.240300178527832, -6.3225998878479, -5.585400104522705, -5.453199863433838, -5.920300006866455, -5.073500156402588, -5.445199966430664, -5.72130012512207, -4.632900238037109, -5.506999969482422, -4.714900016784668, -4.814599990844727, -5.068699836730957, -4.663899898529053, -4.881100177764893, -5.7027997970581055, -5.0370001792907715, -5.585100173950195, -4.926499843597412, -5.085000038146973, -5.1946001052856445, -5.356200218200684, -5.407299995422363, -5.138700008392334, -5.180099964141846, -5.435999870300293, -5.636300086975098, -5.634799957275391]}, \"token.table\": {\"Topic\": [4, 4, 1, 3, 2, 2, 3, 3, 3, 1, 2, 3, 5, 1, 2, 3, 2, 5, 2, 1, 2, 1, 3, 5, 4, 1, 2, 3, 5, 3, 1, 4, 2, 3, 1, 2, 3, 4, 5, 1, 1, 3, 5, 3, 1, 3, 1, 2, 3, 4, 5, 3, 3, 1, 2, 1, 2, 3, 5, 1, 2, 3, 5, 2, 1, 2, 4, 4, 5, 3, 2, 3, 5, 1, 5, 5, 2, 4, 2, 2, 5, 1, 2, 1, 2, 3, 1, 2, 3, 4, 3, 4, 2, 1, 1, 2, 3, 2, 3, 5, 2, 1, 3, 1, 1, 2, 3, 5, 1, 2, 2, 3, 1, 2, 4, 1, 2, 3, 4, 4, 5, 3, 3, 2, 3, 4, 4, 5, 2, 3, 2, 2, 5, 1, 5, 4, 4, 2, 4, 5, 3, 2, 3, 5, 2, 1, 2, 1, 2, 3, 5, 5, 5, 2, 5, 5, 1, 3, 5, 1, 2, 3, 5, 3, 1, 2, 4, 2, 3, 1, 2, 3, 2, 3, 4, 5, 1, 2, 3, 4, 1, 2, 1, 2, 3, 5, 1, 2, 3, 2, 1, 2, 3, 4, 5, 3, 1, 2, 3, 1, 2, 3, 2, 2, 1, 1, 1, 2, 3, 4, 5, 4, 4, 5, 1, 1, 2, 5, 2, 2, 5, 2, 4, 5, 1, 2, 3, 1, 2, 1, 3, 1, 1, 2, 1, 3, 1, 2, 3, 4, 5, 4, 4, 5, 1, 1, 1, 4, 4, 5, 1, 2, 1, 2, 3, 4, 5, 1, 3, 2, 5, 4, 2, 4, 5, 1, 4, 4, 1, 2, 3, 5, 3, 4, 2, 3, 5, 1, 2, 2, 3, 4, 5, 3, 1, 2, 3, 4, 4, 5, 1, 2, 3, 1, 2, 3, 4, 5, 2, 4, 5, 1, 2, 3, 3, 5, 1, 1, 2, 1, 2, 2, 2, 5, 1, 3, 1, 1, 2, 3, 5, 5, 2, 1, 2, 3, 1, 2, 3, 5, 1, 2, 3, 5, 2, 3, 4, 5, 3, 2, 1, 2, 2, 1, 2, 3, 1, 2, 3, 1, 2, 3, 1, 2, 3, 2, 4, 5, 4, 5, 1, 2, 3, 1, 2, 3, 3, 3, 3, 4, 1, 2, 3, 5, 2, 2, 3, 4, 2, 3, 1, 2, 4, 2, 5, 3, 1, 3, 4, 2, 2, 3, 2, 1, 2, 3, 4, 1, 3, 3, 2, 1, 1, 2, 3, 5, 1, 3, 2, 3, 3, 1, 2, 3, 5, 2, 3, 4, 1, 2, 3, 5, 4, 5, 1, 2, 2, 3, 4, 1, 2, 3, 1, 2, 3, 4, 5, 2, 4, 3, 2, 3, 5, 1, 2, 5, 2, 4, 1, 5, 1, 1, 5, 2, 2, 5, 3, 2, 3, 4, 5, 1, 2, 3, 4, 4, 4, 4, 1, 2, 1, 1, 2, 4, 4, 4, 5, 2, 3, 4, 1, 2, 3, 1, 2, 5, 2, 1, 2, 5, 3, 1, 3, 1, 2, 4, 5, 1, 2, 3, 4, 5, 5, 4, 5, 1, 2, 3, 4, 5, 1, 2, 4, 5, 1, 2, 3, 5, 2, 5, 3, 5, 2, 3, 4, 5, 3, 1, 2, 3, 5, 3, 4, 1, 1, 3, 5, 1, 3, 5, 4, 1, 2, 3, 5, 1, 2, 3, 1, 2, 3, 5, 2, 3, 4, 1, 2, 3, 4, 5, 2, 1, 3, 5, 1, 5, 5, 1, 2, 3, 1, 2, 3, 5, 1, 2, 5, 1, 2, 3, 5, 5, 1, 2, 3, 1, 2, 4, 5, 1, 1], \"Freq\": [0.9964293241500854, 0.9931461215019226, 0.8988569974899292, 0.11235712468624115, 1.0354547500610352, 0.9272066354751587, 0.06622904539108276, 0.966670036315918, 0.9304848909378052, 0.02129284478724003, 0.5536139607429504, 0.04258568957448006, 0.383271187543869, 0.561399519443512, 0.2579403221607208, 0.18207553029060364, 0.9302805066108704, 1.055082082748413, 0.9294400215148926, 0.8771035671234131, 0.103188656270504, 0.9748676419258118, 0.9893790483474731, 0.9806040525436401, 1.0321141481399536, 0.1221286952495575, 0.27478957176208496, 0.1221286952495575, 0.48851478099823, 0.9509298205375671, 0.9660998582839966, 1.013852834701538, 1.106130838394165, 0.9905874133110046, 0.1574195772409439, 0.12593567371368408, 0.535226583480835, 0.03148391842842102, 0.1574195772409439, 0.9868260025978088, 0.8083752989768982, 0.10104691237211227, 0.7464563846588135, 1.032345175743103, 0.9119762182235718, 0.9781495928764343, 0.7280614376068115, 0.042827144265174866, 0.08565428853034973, 0.042827144265174866, 0.1284814327955246, 0.8859909772872925, 0.9411997199058533, 0.8601027131080627, 0.9664875268936157, 0.02796236425638199, 0.04194354638457298, 0.13981181383132935, 0.7969273924827576, 0.530769944190979, 0.07582427561283112, 0.07582427561283112, 0.30329710245132446, 1.152996301651001, 0.17093311250209808, 0.20511974394321442, 0.6153591871261597, 0.28592923283576965, 0.7148230671882629, 0.9850260615348816, 0.8150684833526611, 0.07409713417291641, 0.14819426834583282, 0.9308233857154846, 0.7914508581161499, 1.2692354917526245, 0.03115256503224373, 0.9968820810317993, 0.9675701856613159, 0.9923914670944214, 1.0445786714553833, 0.8129088878631592, 0.18759435415267944, 0.8462007641792297, 0.09402231127023697, 0.09402231127023697, 0.08166857808828354, 0.4355657696723938, 0.35389718413352966, 0.10889144241809845, 0.985680878162384, 1.0226824283599854, 1.065839409828186, 1.0299601554870605, 0.6611945033073425, 0.24043436348438263, 0.12021718174219131, 0.20097321271896362, 0.7636982202529907, 0.04019464552402496, 0.9898986220359802, 0.6251274347305298, 0.3750764727592468, 1.0381516218185425, 0.1565495878458023, 0.5635785460472107, 0.06261983513832092, 0.21916942298412323, 0.22579705715179443, 0.7526568174362183, 0.06324440985918045, 0.9486660957336426, 0.04377632960677147, 0.08755265921354294, 0.8755266070365906, 0.49100935459136963, 0.037769950926303864, 0.4154694378376007, 0.037769950926303864, 0.9769964814186096, 0.9819129705429077, 0.9789689779281616, 0.9921530485153198, 0.14101338386535645, 0.5111734867095947, 0.3525334596633911, 1.026164174079895, 0.6795905232429504, 0.9688875079154968, 0.1076541617512703, 0.9536024332046509, 0.25167083740234375, 0.7550124526023865, 0.926705539226532, 0.9033356308937073, 0.9964148998260498, 0.9110612869262695, 0.0900384709239006, 0.0900384709239006, 0.810346245765686, 0.9950262904167175, 0.8279485702514648, 0.1839885711669922, 0.7882595658302307, 1.02693510055542, 0.06359827518463135, 0.9539741277694702, 0.2378615438938141, 0.10194066166877747, 0.6456242203712463, 0.06796044111251831, 1.040619969367981, 1.0168259143829346, 0.09402086585760117, 0.8931982517242432, 1.1434165239334106, 1.1133935451507568, 0.1655745655298233, 0.8278728127479553, 0.35201239585876465, 0.3268686532974243, 0.2514374256134033, 0.075431227684021, 0.9650073051452637, 1.0872975587844849, 1.055141568183899, 0.990155041217804, 0.4344733953475952, 0.5681574940681458, 0.4720180928707123, 0.10892724990844727, 0.39939993619918823, 0.14237870275974274, 0.04745956510305405, 0.7593530416488647, 0.04745956510305405, 0.012569887563586235, 0.012569887563586235, 0.012569887563586235, 0.9553114771842957, 0.9436039328575134, 0.832329273223877, 0.02370786853134632, 0.3319101631641388, 0.09483147412538528, 0.5689888596534729, 0.9341729879379272, 0.8737865686416626, 0.10922332108020782, 0.9575256109237671, 0.1259915828704834, 0.3779747486114502, 0.03149789571762085, 0.15748947858810425, 0.34647685289382935, 0.9343457818031311, 0.3461391031742096, 0.6181055307388306, 0.024724220857024193, 0.6340001821517944, 0.24384622275829315, 0.09753848612308502, 0.8248180150985718, 1.0516108274459839, 0.9354698061943054, 0.9872909188270569, 0.04308551177382469, 0.02872367389500141, 0.6750063300132751, 0.24415123462677002, 1.0473302602767944, 0.9920809864997864, 0.9923924207687378, 1.1759577989578247, 0.9961749315261841, 0.09257619827985764, 0.09257619827985764, 0.8331857919692993, 1.0065655708312988, 1.0972973108291626, 1.1377992630004883, 0.18260538578033447, 0.7760728597640991, 0.04565134644508362, 0.11785710602998734, 0.7071426510810852, 0.1767856627702713, 0.8459218144416809, 0.09399130940437317, 0.11483554542064667, 0.9186843633651733, 1.0216671228408813, 0.987989604473114, 0.01703430339694023, 0.9848029017448425, 0.023447688668966293, 0.06902645528316498, 0.6557512879371643, 0.13805291056632996, 0.06902645528316498, 0.06902645528316498, 1.0153573751449585, 0.24452799558639526, 0.6520746350288391, 0.9521167278289795, 1.0014795064926147, 0.968819260597229, 0.9532541632652283, 0.9414909482002258, 1.0424944162368774, 0.991087019443512, 1.1491215229034424, 0.0974157303571701, 0.34095504879951477, 0.024353932589292526, 0.024353932589292526, 0.535786509513855, 0.9921257495880127, 0.9884629249572754, 0.9214257597923279, 0.6880845427513123, 1.0094561576843262, 0.2999390661716461, 0.042848438024520874, 0.6427265405654907, 1.095302939414978, 0.9856306910514832, 0.9648904204368591, 0.3768565356731415, 0.33498358726501465, 0.06280942261219025, 0.23030121624469757, 1.038718342781067, 0.9636676907539368, 0.6281991004943848, 0.03926244378089905, 0.3140995502471924, 0.22703507542610168, 0.7265121936798096, 0.10694311559200287, 0.6773063540458679, 0.08911926299333572, 0.12476696074008942, 0.9114993214607239, 0.19254562258720398, 0.7701824903488159, 0.03922209516167641, 0.9805524349212646, 1.006430983543396, 0.9620339274406433, 0.10879255831241608, 0.29011350870132446, 0.6164911985397339, 0.03858165815472603, 0.03858165815472603, 0.11574497073888779, 0.5787248611450195, 0.23148994147777557, 0.21076270937919617, 0.1405084729194641, 0.7025423645973206, 0.8861138820648193, 0.05907425656914711, 0.05907425656914711, 0.19731484353542328, 0.7892593741416931, 0.9975734949111938, 0.8354702591896057, 0.09283003211021423, 0.10268691927194595, 0.9241822957992554, 0.8228927850723267, 0.5778483748435974, 0.4173349142074585, 0.9283041954040527, 0.058019012212753296, 0.9828521609306335, 0.3080672323703766, 0.3374069631099701, 0.3374069631099701, 0.014669868163764477, 0.9722453951835632, 1.0016204118728638, 0.30694136023521423, 0.12556692957878113, 0.5580751895904541, 0.024242335930466652, 0.012121167965233326, 0.8484817743301392, 0.10909051448106766, 0.3245934545993805, 0.4637049436569214, 0.15456831455230713, 0.06182732805609703, 0.9054896235466003, 0.10506047308444977, 0.10506047308444977, 0.8404837846755981, 1.0012507438659668, 0.9501524567604065, 0.982733428478241, 0.033887360244989395, 1.0402594804763794, 0.54039067029953, 0.014605152420699596, 0.43815457820892334, 0.6195891499519348, 0.3540509343147278, 0.04425636678934097, 0.2379869520664215, 0.6875178813934326, 0.0528859905898571, 0.07831644266843796, 0.07831644266843796, 0.82232266664505, 0.18473310768604279, 0.09236655384302139, 0.7389324307441711, 0.6102280020713806, 0.4224655330181122, 0.13960596919059753, 0.6980298161506653, 0.17450745403766632, 0.5732743144035339, 0.22432474792003632, 0.19939976930618286, 0.9377169013023376, 0.9533074498176575, 1.1182512044906616, 0.9642378687858582, 0.1324319988489151, 0.2942933440208435, 0.5591573715209961, 0.01471466664224863, 0.8487934470176697, 0.045967962592840195, 0.045967962592840195, 0.9193592071533203, 0.07550719380378723, 0.943839967250824, 0.11676328629255295, 0.058381643146276474, 0.8757246732711792, 1.068601131439209, 1.1657739877700806, 0.9841625690460205, 0.9236738681793213, 1.0953707695007324, 0.990155041217804, 0.8916651606559753, 1.0537832975387573, 0.9154033064842224, 0.9522374272346497, 0.11007345467805862, 0.05503672733902931, 0.05503672733902931, 0.770514190196991, 0.2573796510696411, 0.735370397567749, 0.9696670174598694, 0.9852195382118225, 1.0386607646942139, 0.5508104562759399, 0.35922423005104065, 0.02394828200340271, 0.07184484601020813, 0.8868803381919861, 0.11086004227399826, 0.02749788574874401, 0.989923894405365, 0.995116114616394, 0.15712407231330872, 0.38566818833351135, 0.4142361879348755, 0.05713602527976036, 0.10978694260120392, 0.05489347130060196, 0.8782955408096313, 0.33689120411872864, 0.27372410893440247, 0.31583550572395325, 0.08422280102968216, 0.1203070878982544, 0.8421496152877808, 0.765825629234314, 0.2088615447282791, 0.08124902844429016, 0.7413973808288574, 0.1726541817188263, 0.044799815863370895, 0.8511965274810791, 0.08959963172674179, 0.10960381478071213, 0.21920762956142426, 0.021920762956142426, 0.1753661036491394, 0.5041775703430176, 1.122151494026184, 0.983815610408783, 0.9979925751686096, 0.05972271040081978, 0.8958406448364258, 0.05972271040081978, 0.07856418192386627, 0.15712836384773254, 0.7856417894363403, 0.06013284623622894, 0.9621255397796631, 0.8579621315002441, 0.8996551632881165, 1.0203399658203125, 1.1162160634994507, 0.9890811443328857, 1.0938652753829956, 0.181782528758049, 0.9089126586914062, 1.0434484481811523, 0.1120881736278534, 0.8219799399375916, 0.0373627245426178, 0.0373627245426178, 0.06268046796321869, 0.31340235471725464, 0.2898971736431122, 0.3369075357913971, 0.8756626844406128, 0.9187659621238708, 1.0225684642791748, 0.8616863489151001, 0.10771079361438751, 0.9196182489395142, 0.04485525190830231, 0.08971050381660461, 0.8971050381660461, 0.9833118319511414, 1.0286171436309814, 1.102900743484497, 0.08550141006708145, 0.08550141006708145, 0.7695126533508301, 0.2225877344608307, 0.6306652426719666, 0.18548977375030518, 0.06697322428226471, 0.20091967284679413, 0.6697322726249695, 0.9452378749847412, 0.07625249028205872, 0.3431362211704254, 0.5718936920166016, 0.9240202903747559, 0.9110799431800842, 0.05061555281281471, 0.06770654767751694, 0.13541309535503387, 0.2031196504831314, 0.6093589663505554, 0.17433202266693115, 0.40677472949028015, 0.05811067670583725, 0.029055338352918625, 0.3196087181568146, 0.85957932472229, 0.06688964366912842, 0.9364550113677979, 0.16978825628757477, 0.21829919517040253, 0.4244706332683563, 0.01212773285806179, 0.16978825628757477, 0.058560390025377274, 0.35136234760284424, 0.058560390025377274, 0.5270435214042664, 0.5060447454452515, 0.18073025345802307, 0.14458420872688293, 0.14458420872688293, 0.07635786384344101, 0.9162943959236145, 0.983554482460022, 1.0640418529510498, 0.15949994325637817, 0.8772497177124023, 1.0858042240142822, 0.905211329460144, 1.041354775428772, 0.20108993351459503, 0.6837058067321777, 0.08043597638607025, 0.040217988193035126, 0.9821317791938782, 0.9564812779426575, 0.8515512347221375, 0.06738602370023727, 0.8760183453559875, 0.06738602370023727, 0.10836930572986603, 0.8669544458389282, 0.9890811443328857, 0.9767109155654907, 0.08204173296689987, 0.3281669318675995, 0.027347242459654808, 0.5469448566436768, 0.06589153409004211, 0.2306203693151474, 0.691861093044281, 0.14774388074874878, 0.5909755229949951, 0.07387194037437439, 0.18467985093593597, 0.052529919892549515, 0.10505983978509903, 0.8404787182807922, 0.038424741476774216, 0.5763711333274841, 0.038424741476774216, 0.038424741476774216, 0.2689732015132904, 0.9034043550491333, 0.08139065653085709, 0.9224274158477783, 1.1166881322860718, 1.0190781354904175, 0.9904003143310547, 0.9890811443328857, 0.1455398052930832, 0.8368539214134216, 0.0363849513232708, 0.07975424081087112, 0.5051102042198181, 0.026584746316075325, 0.398771196603775, 0.28543439507484436, 0.6931978464126587, 1.0389665365219116, 0.16379494965076447, 0.4913848638534546, 0.17639456689357758, 0.17639456689357758, 1.0445786714553833, 0.3735872805118561, 0.5396260619163513, 0.10377424955368042, 0.0570470355451107, 0.0570470355451107, 0.0570470355451107, 0.798658549785614, 0.9738147854804993, 0.9669395685195923], \"Term\": [\"abedin\", \"abedinhstategov\", \"activist\", \"activist\", \"afghan\", \"afghanistan\", \"afghanistan\", \"aide\", \"airport\", \"also\", \"also\", \"also\", \"also\", \"american\", \"american\", \"american\", \"answer\", \"anytime\", \"approach\", \"arab\", \"arab\", \"arrest\", \"arrive\", \"asap\", \"ashton\", \"back\", \"back\", \"back\", \"back\", \"baucus\", \"beck\", \"benghazi\", \"beyond\", \"biden\", \"bill\", \"bill\", \"bill\", \"bill\", \"bill\", \"birch\", \"black\", \"black\", \"blk\", \"bloomberg\", \"blumenthal\", \"boehner\", \"book\", \"book\", \"book\", \"book\", \"book\", \"britain\", \"brown\", \"buckley\", \"build\", \"call\", \"call\", \"call\", \"call\", \"called\", \"called\", \"called\", \"called\", \"capacity\", \"case\", \"case\", \"case\", \"cdm\", \"cdm\", \"chamber\", \"change\", \"change\", \"change\", \"charles\", \"checking\", \"cherie\", \"cheryl\", \"cheryl\", \"china\", \"chinese\", \"cingular\", \"city\", \"city\", \"claim\", \"claim\", \"claim\", \"clinton\", \"clinton\", \"clinton\", \"clinton\", \"cloture\", \"comm\", \"commitment\", \"communist\", \"company\", \"company\", \"company\", \"conference\", \"conference\", \"conference\", \"conflict\", \"conservative\", \"conservative\", \"conspiracy\", \"could\", \"could\", \"could\", \"could\", \"country\", \"country\", \"daily\", \"daily\", \"date\", \"date\", \"date\", \"david\", \"david\", \"david\", \"david\", \"declassify\", \"dem\", \"democrat\", \"depart\", \"department\", \"department\", \"department\", \"dept\", \"derek\", \"development\", \"development\", \"diplomacy\", \"discus\", \"discus\", \"district\", \"dkna\", \"doc\", \"docx\", \"draft\", \"draft\", \"draft\", \"dup\", \"economic\", \"economic\", \"edits\", \"effective\", \"effort\", \"effort\", \"election\", \"election\", \"election\", \"election\", \"ellen\", \"elsevol\", \"email\", \"email\", \"emailed\", \"farright\", \"favorable\", \"favorable\", \"first\", \"first\", \"first\", \"first\", \"floor\", \"flotilla\", \"focus\", \"foia\", \"foreign\", \"foreign\", \"former\", \"former\", \"former\", \"friday\", \"friday\", \"friday\", \"friday\", \"fyi\", \"fyi\", \"fyi\", \"fyi\", \"gaza\", \"gender\", \"get\", \"get\", \"get\", \"get\", \"glenn\", \"global\", \"global\", \"goal\", \"good\", \"good\", \"good\", \"good\", \"good\", \"gop\", \"government\", \"government\", \"government\", \"group\", \"group\", \"group\", \"growth\", \"haitian\", \"hamas\", \"hiker\", \"house\", \"house\", \"house\", \"house\", \"hrd\", \"hrodclintonemailcom\", \"huma\", \"hvnt\", \"idf\", \"ill\", \"ill\", \"ill\", \"important\", \"include\", \"ind\", \"information\", \"information\", \"information\", \"international\", \"international\", \"international\", \"iranian\", \"iranian\", \"ireland\", \"ireland\", \"islamic\", \"israel\", \"israel\", \"israeli\", \"israeli\", \"issue\", \"issue\", \"issue\", \"issue\", \"issue\", \"jacob\", \"jake\", \"jake\", \"jerusalem\", \"jew\", \"jewish\", \"jiloty\", \"jilotylcstategov\", \"joanne\", \"juarez\", \"kabul\", \"know\", \"know\", \"know\", \"know\", \"know\", \"koch\", \"labour\", \"lack\", \"laszczych\", \"lauren\", \"let\", \"let\", \"let\", \"libertarian\", \"libya\", \"libyan\", \"like\", \"like\", \"like\", \"like\", \"lobbyist\", \"lona\", \"make\", \"make\", \"make\", \"many\", \"many\", \"meeting\", \"meeting\", \"meeting\", \"meeting\", \"miliband\", \"military\", \"military\", \"mill\", \"mill\", \"millscdstategov\", \"min\", \"minister\", \"minister\", \"minister\", \"monday\", \"monday\", \"monday\", \"monday\", \"monday\", \"morning\", \"morning\", \"morning\", \"movement\", \"movement\", \"movement\", \"mtg\", \"mtg\", \"murder\", \"muslim\", \"muslim\", \"must\", \"must\", \"necessary\", \"need\", \"need\", \"netanyahu\", \"netanyahu\", \"netanyahus\", \"new\", \"new\", \"new\", \"new\", \"noon\", \"nuclear\", \"obama\", \"obama\", \"obama\", \"office\", \"office\", \"office\", \"office\", \"one\", \"one\", \"one\", \"one\", \"opportunity\", \"ops\", \"ops\", \"ops\", \"outer\", \"pakistan\", \"palestinian\", \"palestinian\", \"particularly\", \"party\", \"party\", \"party\", \"peace\", \"peace\", \"peace\", \"people\", \"people\", \"people\", \"percent\", \"percent\", \"percent\", \"please\", \"please\", \"please\", \"pls\", \"pls\", \"policy\", \"policy\", \"policy\", \"political\", \"political\", \"political\", \"poll\", \"prebrief\", \"preceding\", \"preines\", \"president\", \"president\", \"president\", \"president\", \"prevent\", \"print\", \"print\", \"print\", \"private\", \"private\", \"produced\", \"produced\", \"produced\", \"progress\", \"quinnipiac\", \"rahm\", \"rally\", \"rating\", \"redaction\", \"region\", \"regional\", \"reid\", \"relationship\", \"release\", \"release\", \"release\", \"release\", \"republican\", \"republican\", \"residence\", \"respect\", \"richards\", \"right\", \"right\", \"right\", \"right\", \"rightwing\", \"rightwing\", \"room\", \"room\", \"route\", \"said\", \"said\", \"said\", \"said\", \"saturday\", \"saturday\", \"saturday\", \"say\", \"say\", \"say\", \"say\", \"schedule\", \"schedule\", \"school\", \"school\", \"secretary\", \"secretary\", \"secretary\", \"security\", \"security\", \"security\", \"see\", \"see\", \"see\", \"see\", \"see\", \"seek\", \"select\", \"senate\", \"senator\", \"senator\", \"senator\", \"send\", \"send\", \"send\", \"sensitive\", \"sensitive\", \"settler\", \"sheet\", \"skousen\", \"skousens\", \"smone\", \"solution\", \"sorry\", \"sorry\", \"spray\", \"staff\", \"staff\", \"staff\", \"staff\", \"state\", \"state\", \"state\", \"state\", \"statecb\", \"stategov\", \"statescb\", \"student\", \"student\", \"stupak\", \"subject\", \"subject\", \"subject\", \"sullivan\", \"sullivanjjstategov\", \"summary\", \"sunday\", \"sunday\", \"sunday\", \"support\", \"support\", \"support\", \"sure\", \"sure\", \"sure\", \"taliban\", \"talk\", \"talk\", \"talk\", \"tbd\", \"tea\", \"tea\", \"thanks\", \"thanks\", \"thanks\", \"thanks\", \"think\", \"think\", \"think\", \"think\", \"think\", \"thru\", \"thx\", \"thx\", \"time\", \"time\", \"time\", \"time\", \"time\", \"today\", \"today\", \"today\", \"today\", \"told\", \"told\", \"told\", \"told\", \"tomorrow\", \"tomorrow\", \"tory\", \"tot\", \"treaty\", \"treaty\", \"tripoli\", \"unfavorable\", \"unionist\", \"united\", \"united\", \"united\", \"united\", \"uup\", \"valmoro\", \"vargas\", \"vote\", \"vote\", \"vote\", \"voter\", \"voter\", \"votevol\", \"waiver\", \"want\", \"want\", \"want\", \"want\", \"washington\", \"washington\", \"washington\", \"way\", \"way\", \"way\", \"way\", \"wednesday\", \"wednesday\", \"wednesday\", \"well\", \"well\", \"well\", \"well\", \"well\", \"weve\", \"white\", \"white\", \"wht\", \"wilder\", \"wjc\", \"wldnt\", \"woman\", \"woman\", \"woman\", \"work\", \"work\", \"work\", \"work\", \"world\", \"world\", \"worn\", \"would\", \"would\", \"would\", \"would\", \"xpress\", \"year\", \"year\", \"year\", \"yes\", \"yes\", \"yes\", \"yes\", \"zionism\", \"zionist\"]}, \"R\": 30, \"lambda.step\": 0.01, \"plot.opts\": {\"xlab\": \"PC1\", \"ylab\": \"PC2\"}, \"topic.order\": [5, 3, 2, 4, 1]};\n",
       "\n",
       "function LDAvis_load_lib(url, callback){\n",
       "  var s = document.createElement('script');\n",
       "  s.src = url;\n",
       "  s.async = true;\n",
       "  s.onreadystatechange = s.onload = callback;\n",
       "  s.onerror = function(){console.warn(\"failed to load library \" + url);};\n",
       "  document.getElementsByTagName(\"head\")[0].appendChild(s);\n",
       "}\n",
       "\n",
       "if(typeof(LDAvis) !== \"undefined\"){\n",
       "   // already loaded: just create the visualization\n",
       "   !function(LDAvis){\n",
       "       new LDAvis(\"#\" + \"ldavis_el1798815984184141603105071015\", ldavis_el1798815984184141603105071015_data);\n",
       "   }(LDAvis);\n",
       "}else if(typeof define === \"function\" && define.amd){\n",
       "   // require.js is available: use it to load d3/LDAvis\n",
       "   require.config({paths: {d3: \"https://cdnjs.cloudflare.com/ajax/libs/d3/3.5.5/d3.min\"}});\n",
       "   require([\"d3\"], function(d3){\n",
       "      window.d3 = d3;\n",
       "      LDAvis_load_lib(\"https://cdn.rawgit.com/bmabey/pyLDAvis/files/ldavis.v1.0.0.js\", function(){\n",
       "        new LDAvis(\"#\" + \"ldavis_el1798815984184141603105071015\", ldavis_el1798815984184141603105071015_data);\n",
       "      });\n",
       "    });\n",
       "}else{\n",
       "    // require.js not available: dynamically load d3 & LDAvis\n",
       "    LDAvis_load_lib(\"https://cdnjs.cloudflare.com/ajax/libs/d3/3.5.5/d3.min.js\", function(){\n",
       "         LDAvis_load_lib(\"https://cdn.rawgit.com/bmabey/pyLDAvis/files/ldavis.v1.0.0.js\", function(){\n",
       "                 new LDAvis(\"#\" + \"ldavis_el1798815984184141603105071015\", ldavis_el1798815984184141603105071015_data);\n",
       "            })\n",
       "         });\n",
       "}\n",
       "</script>"
      ],
      "text/plain": [
       "PreparedData(topic_coordinates=              x         y  topics  cluster       Freq\n",
       "topic                                                \n",
       "4     -0.154378 -0.074694       1        1  29.990746\n",
       "2     -0.105616  0.069454       2        1  26.633337\n",
       "1     -0.096403 -0.099823       3        1  21.413864\n",
       "3      0.267061 -0.130565       4        1  11.110867\n",
       "0      0.089335  0.235628       5        1  10.851190, topic_info=      Category        Freq       Term       Total  loglift  logprob\n",
       "9346   Default   79.000000        fyi   79.000000  30.0000  30.0000\n",
       "3323   Default   71.000000       call   71.000000  29.0000  29.0000\n",
       "21025  Default   98.000000  secretary   98.000000  28.0000  28.0000\n",
       "22469  Default  127.000000      state  127.000000  27.0000  27.0000\n",
       "16425  Default   82.000000     office   82.000000  26.0000  26.0000\n",
       "...        ...         ...        ...         ...      ...      ...\n",
       "23843   Topic5   14.234445       time   82.455643   0.4643  -5.1387\n",
       "26349   Topic5   13.656813      would   79.367523   0.4610  -5.1801\n",
       "13648   Topic5   10.572996       like   47.763535   0.7129  -5.4360\n",
       "17821   Topic5    8.654029        pls   21.303513   1.3200  -5.6363\n",
       "16425   Topic5    8.667549     office   82.500298  -0.0323  -5.6348\n",
       "\n",
       "[364 rows x 6 columns], token_table=       Topic      Freq             Term\n",
       "term                                   \n",
       "42         4  0.996429           abedin\n",
       "45         4  0.993146  abedinhstategov\n",
       "250        1  0.898857         activist\n",
       "250        3  0.112357         activist\n",
       "438        2  1.035455           afghan\n",
       "...      ...       ...              ...\n",
       "26606      2  0.057047              yes\n",
       "26606      4  0.057047              yes\n",
       "26606      5  0.798659              yes\n",
       "26751      1  0.973815          zionism\n",
       "26752      1  0.966940          zionist\n",
       "\n",
       "[591 rows x 3 columns], R=30, lambda_step=0.01, plot_opts={'xlab': 'PC1', 'ylab': 'PC2'}, topic_order=[5, 3, 2, 4, 1])"
      ]
     },
     "execution_count": 159,
     "metadata": {},
     "output_type": "execute_result"
    }
   ],
   "source": [
    "pyLDAvis.gensim.prepare(lda, corpus, dictionary)"
   ]
  },
  {
   "cell_type": "markdown",
   "metadata": {},
   "source": [
    "**Для TfIdf Vectorizer**"
   ]
  },
  {
   "cell_type": "code",
   "execution_count": 150,
   "metadata": {},
   "outputs": [],
   "source": [
    "tfidf = TfidfVectorizer()\n",
    "X = tfidf.fit_transform(emails_corpus)\n",
    "vocab = vec.get_feature_names()"
   ]
  },
  {
   "cell_type": "code",
   "execution_count": 151,
   "metadata": {},
   "outputs": [],
   "source": [
    "vocab_dict = dict([(i, s) for i, s in enumerate(vocab)])"
   ]
  },
  {
   "cell_type": "code",
   "execution_count": 153,
   "metadata": {},
   "outputs": [],
   "source": [
    "import gensim\n",
    "from gensim import matutils\n",
    "from gensim.models.ldamodel import LdaModel\n",
    "from scipy.sparse import csc"
   ]
  },
  {
   "cell_type": "code",
   "execution_count": 154,
   "metadata": {},
   "outputs": [],
   "source": [
    "corpus = gensim.matutils.Sparse2Corpus(csc.csc_matrix(X))\n",
    "dictionary = gensim.corpora.Dictionary.from_corpus(corpus, vocab_dict)"
   ]
  },
  {
   "cell_type": "code",
   "execution_count": 155,
   "metadata": {},
   "outputs": [],
   "source": [
    "lda_tfidf = LdaModel(matutils.Sparse2Corpus(X.T), num_topics=5, passes=20, id2word=vocab_dict)"
   ]
  },
  {
   "cell_type": "code",
   "execution_count": 158,
   "metadata": {},
   "outputs": [
    {
     "name": "stdout",
     "output_type": "stream",
     "text": [
      "(0, '0.002*\"min\" + 0.002*\"thanks\" + 0.002*\"remind\" + 0.001*\"faxed\" + 0.001*\"sound\" + 0.001*\"jakesullivan\" + 0.001*\"isabelle\" + 0.001*\"good\" + 0.001*\"wexler\" + 0.001*\"mashabane\"')\n",
      "(1, '0.007*\"call\" + 0.004*\"see\" + 0.003*\"thx\" + 0.003*\"get\" + 0.003*\"know\" + 0.003*\"tomorrow\" + 0.003*\"talk\" + 0.003*\"state\" + 0.003*\"would\" + 0.003*\"time\"')\n",
      "(2, '0.003*\"yep\" + 0.002*\"nice\" + 0.001*\"printed\" + 0.001*\"scroll\" + 0.001*\"sigh\" + 0.001*\"kellycstategov\" + 0.000*\"recd\" + 0.000*\"aye\" + 0.000*\"regret\" + 0.000*\"yup\"')\n",
      "(3, '0.007*\"yes\" + 0.003*\"arrive\" + 0.003*\"roger\" + 0.002*\"depart\" + 0.002*\"route\" + 0.002*\"residence\" + 0.002*\"office\" + 0.002*\"room\" + 0.001*\"cingular\" + 0.001*\"xpress\"')\n",
      "(4, '0.081*\"fyi\" + 0.012*\"print\" + 0.007*\"pls\" + 0.001*\"yeah\" + 0.001*\"imagejpg\" + 0.001*\"count\" + 0.001*\"thai\" + 0.001*\"marianne\" + 0.001*\"fuchsmhstategov\" + 0.000*\"feltmann\"')\n"
     ]
    }
   ],
   "source": [
    "topics = lda_tfidf.print_topics(num_topics=-1, num_words=10)\n",
    "for topic in topics:\n",
    "    print(topic)"
   ]
  },
  {
   "cell_type": "code",
   "execution_count": 157,
   "metadata": {},
   "outputs": [
    {
     "name": "stderr",
     "output_type": "stream",
     "text": [
      "C:\\Users\\vital\\anaconda3\\lib\\site-packages\\pyLDAvis\\_prepare.py:257: FutureWarning: Sorting because non-concatenation axis is not aligned. A future version\n",
      "of pandas will change to not sort by default.\n",
      "\n",
      "To accept the future behavior, pass 'sort=False'.\n",
      "\n",
      "To retain the current behavior and silence the warning, pass 'sort=True'.\n",
      "\n",
      "  return pd.concat([default_term_info] + list(topic_dfs))\n"
     ]
    },
    {
     "data": {
      "text/html": [
       "\n",
       "<link rel=\"stylesheet\" type=\"text/css\" href=\"https://cdn.rawgit.com/bmabey/pyLDAvis/files/ldavis.v1.0.0.css\">\n",
       "\n",
       "\n",
       "<div id=\"ldavis_el1798815984184130403462949932\"></div>\n",
       "<script type=\"text/javascript\">\n",
       "\n",
       "var ldavis_el1798815984184130403462949932_data = {\"mdsDat\": {\"x\": [-0.18458918799701374, 0.042109423626105785, 0.04228081195345626, 0.041900252224926125, 0.05829870019252551], \"y\": [0.002395065253693633, -0.01887788086976522, -0.010009696772783997, -0.00706035736873198, 0.033552869757587554], \"topics\": [1, 2, 3, 4, 5], \"cluster\": [1, 1, 1, 1, 1], \"Freq\": [60.44750213623047, 12.203269004821777, 10.724696159362793, 9.810115814208984, 6.814417839050293]}, \"tinfo\": {\"Category\": [\"Default\", \"Default\", \"Default\", \"Default\", \"Default\", \"Default\", \"Default\", \"Default\", \"Default\", \"Default\", \"Default\", \"Default\", \"Default\", \"Default\", \"Default\", \"Default\", \"Default\", \"Default\", \"Default\", \"Default\", \"Default\", \"Default\", \"Default\", \"Default\", \"Default\", \"Default\", \"Default\", \"Default\", \"Default\", \"Default\", \"Topic1\", \"Topic1\", \"Topic1\", \"Topic1\", \"Topic1\", \"Topic1\", \"Topic1\", \"Topic1\", \"Topic1\", \"Topic1\", \"Topic1\", \"Topic1\", \"Topic1\", \"Topic1\", \"Topic1\", \"Topic1\", \"Topic1\", \"Topic1\", \"Topic1\", \"Topic1\", \"Topic1\", \"Topic1\", \"Topic1\", \"Topic1\", \"Topic1\", \"Topic1\", \"Topic1\", \"Topic1\", \"Topic1\", \"Topic1\", \"Topic1\", \"Topic1\", \"Topic1\", \"Topic2\", \"Topic2\", \"Topic2\", \"Topic2\", \"Topic2\", \"Topic2\", \"Topic2\", \"Topic2\", \"Topic2\", \"Topic2\", \"Topic2\", \"Topic2\", \"Topic2\", \"Topic2\", \"Topic2\", \"Topic2\", \"Topic2\", \"Topic2\", \"Topic2\", \"Topic2\", \"Topic2\", \"Topic2\", \"Topic2\", \"Topic2\", \"Topic2\", \"Topic2\", \"Topic2\", \"Topic2\", \"Topic2\", \"Topic2\", \"Topic2\", \"Topic2\", \"Topic2\", \"Topic2\", \"Topic2\", \"Topic2\", \"Topic2\", \"Topic2\", \"Topic2\", \"Topic2\", \"Topic2\", \"Topic2\", \"Topic2\", \"Topic2\", \"Topic2\", \"Topic3\", \"Topic3\", \"Topic3\", \"Topic3\", \"Topic3\", \"Topic3\", \"Topic3\", \"Topic3\", \"Topic3\", \"Topic3\", \"Topic3\", \"Topic3\", \"Topic3\", \"Topic3\", \"Topic3\", \"Topic3\", \"Topic3\", \"Topic3\", \"Topic3\", \"Topic3\", \"Topic3\", \"Topic3\", \"Topic3\", \"Topic3\", \"Topic3\", \"Topic3\", \"Topic3\", \"Topic3\", \"Topic3\", \"Topic3\", \"Topic3\", \"Topic3\", \"Topic3\", \"Topic3\", \"Topic3\", \"Topic3\", \"Topic3\", \"Topic3\", \"Topic4\", \"Topic4\", \"Topic4\", \"Topic4\", \"Topic4\", \"Topic4\", \"Topic4\", \"Topic4\", \"Topic4\", \"Topic4\", \"Topic4\", \"Topic4\", \"Topic4\", \"Topic4\", \"Topic4\", \"Topic4\", \"Topic4\", \"Topic4\", \"Topic4\", \"Topic4\", \"Topic4\", \"Topic4\", \"Topic4\", \"Topic4\", \"Topic4\", \"Topic4\", \"Topic4\", \"Topic4\", \"Topic4\", \"Topic4\", \"Topic4\", \"Topic4\", \"Topic4\", \"Topic5\", \"Topic5\", \"Topic5\", \"Topic5\", \"Topic5\", \"Topic5\", \"Topic5\", \"Topic5\", \"Topic5\", \"Topic5\", \"Topic5\", \"Topic5\", \"Topic5\", \"Topic5\", \"Topic5\", \"Topic5\", \"Topic5\", \"Topic5\", \"Topic5\", \"Topic5\", \"Topic5\", \"Topic5\", \"Topic5\", \"Topic5\", \"Topic5\", \"Topic5\", \"Topic5\", \"Topic5\", \"Topic5\", \"Topic5\", \"Topic5\", \"Topic5\", \"Topic5\"], \"Freq\": [125.0, 30.0, 36.0, 46.0, 94.0, 56.0, 23.0, 31.0, 46.0, 8.0, 43.0, 6.0, 7.0, 40.0, 7.0, 39.0, 12.0, 38.0, 7.0, 37.0, 35.0, 8.0, 34.0, 5.0, 34.0, 34.0, 5.0, 33.0, 33.0, 32.0, 93.87173461914062, 55.915931701660156, 45.934722900390625, 43.31427001953125, 40.42001724243164, 38.73400115966797, 38.00757598876953, 36.847679138183594, 35.137306213378906, 34.49678421020508, 34.037391662597656, 33.99428176879883, 33.546016693115234, 32.97099685668945, 31.98427963256836, 30.87639808654785, 30.775415420532227, 30.18060874938965, 29.993696212768555, 29.69439697265625, 28.267372131347656, 28.302806854248047, 27.00806427001953, 26.871536254882812, 26.82050323486328, 26.662946701049805, 26.214509963989258, 25.96320343017578, 25.515439987182617, 25.312625885009766, 33.91487121582031, 32.397926330566406, 27.282943725585938, 7.724303245544434, 7.050171375274658, 6.696094036102295, 5.561921119689941, 3.724905490875244, 3.724905490875244, 2.6287903785705566, 2.472493886947632, 6.274668216705322, 1.797698736190796, 1.7379471063613892, 1.5958999395370483, 1.33711838722229, 1.2707669734954834, 1.2482143640518188, 1.2434977293014526, 1.409872055053711, 1.2509355545043945, 1.0706559419631958, 1.0469797849655151, 1.0252039432525635, 0.9660399556159973, 0.8837668895721436, 0.9699315428733826, 0.8589845895767212, 0.8138160705566406, 1.0571160316467285, 0.7615633606910706, 0.8695897459983826, 0.9598747491836548, 1.2228666543960571, 18.87413215637207, 2.7608871459960938, 4.971466541290283, 3.5499818325042725, 1.159533143043518, 2.5726141929626465, 2.9000072479248047, 5.431323528289795, 3.278801202774048, 1.6424825191497803, 2.0833375453948975, 1.2690461874008179, 1.5618007183074951, 1.4271888732910156, 5.277595520019531, 2.424104928970337, 2.288059949874878, 1.5968583822250366, 1.5898901224136353, 1.4570393562316895, 1.4290637969970703, 1.5523498058319092, 1.225790023803711, 1.1606961488723755, 1.037258505821228, 1.0626556873321533, 0.9781113862991333, 1.0482509136199951, 0.9695091247558594, 3.7150614261627197, 0.8853833079338074, 0.9278430342674255, 0.9068701863288879, 0.8586574792861938, 0.8404690623283386, 0.7893029451370239, 0.7917734384536743, 0.7744302749633789, 0.8230116367340088, 0.7194803953170776, 0.6896212697029114, 2.8056142330169678, 0.666253924369812, 0.6877549290657043, 0.9861931204795837, 1.1538097858428955, 4.741087913513184, 2.804340124130249, 1.0171452760696411, 1.2754416465759277, 1.8826984167099, 1.3076884746551514, 6.469953536987305, 2.808882236480713, 2.147151470184326, 3.1049840450286865, 1.3432546854019165, 0.9415993690490723, 0.8837110996246338, 0.8574684858322144, 0.8444608449935913, 0.6365561485290527, 0.6365561485290527, 0.6365561485290527, 0.6365561485290527, 0.6365561485290527, 0.636556088924408, 0.6321716904640198, 0.5702925324440002, 0.5383346080780029, 0.5335732698440552, 0.5089516639709473, 0.5089516639709473, 0.5089516639709473, 0.5089516639709473, 0.5089516639709473, 0.5128293633460999, 0.4841535985469818, 0.4731127619743347, 0.4731127619743347, 0.4622103273868561, 0.5130057334899902, 1.0685821771621704, 3.774104118347168, 0.8937849998474121, 122.77336120605469, 1.657166838645935, 1.2378901243209839, 0.7965114712715149, 0.7861219644546509, 0.798016369342804, 0.6472756862640381, 0.5821340084075928, 0.5628037452697754, 0.564503014087677, 17.93415069580078, 1.0870988368988037, 0.5007993578910828, 0.5283166170120239, 0.5796447396278381, 0.4582567811012268, 0.5084260106086731, 0.4441673159599304, 0.4147118628025055, 0.3791097104549408, 0.4807836413383484, 0.37881478667259216, 0.37881478667259216, 0.37140896916389465, 0.37827762961387634, 0.3811633288860321, 0.3607373833656311, 0.2776421010494232, 0.283745676279068, 0.2740797996520996, 10.649821281433105, 0.39501696825027466, 0.3632199168205261], \"Term\": [\"fyi\", \"print\", \"pls\", \"yes\", \"call\", \"see\", \"thanks\", \"office\", \"thx\", \"arrive\", \"get\", \"yep\", \"roger\", \"know\", \"depart\", \"tomorrow\", \"room\", \"talk\", \"route\", \"state\", \"would\", \"nice\", \"time\", \"min\", \"work\", \"also\", \"residence\", \"want\", \"today\", \"cheryl\", \"call\", \"see\", \"thx\", \"get\", \"know\", \"tomorrow\", \"talk\", \"state\", \"would\", \"time\", \"work\", \"also\", \"want\", \"today\", \"cheryl\", \"let\", \"huma\", \"email\", \"think\", \"back\", \"need\", \"meeting\", \"release\", \"part\", \"mill\", \"hrodclintonemailcom\", \"like\", \"may\", \"cdm\", \"monday\", \"secretary\", \"good\", \"yes\", \"arrive\", \"roger\", \"depart\", \"residence\", \"xpress\", \"cingular\", \"memcon\", \"printing\", \"route\", \"outer\", \"spray\", \"reschedule\", \"asst\", \"pdb\", \"preceding\", \"laguardia\", \"easter\", \"updating\", \"katie\", \"humaclintonemailcom\", \"capricia\", \"cannon\", \"postdoc\", \"bed\", \"hoo\", \"ordering\", \"figured\", \"finalizing\", \"bahrain\", \"terry\", \"lucky\", \"yes\", \"daily\", \"room\", \"private\", \"marshall\", \"airport\", \"via\", \"office\", \"done\", \"mail\", \"blackberry\", \"att\", \"secretary\", \"sent\", \"min\", \"jakesullivan\", \"isabelle\", \"wexler\", \"mashabane\", \"fvi\", \"bader\", \"thnx\", \"kristy\", \"flagged\", \"napolitano\", \"vermarrstategov\", \"karine\", \"postpone\", \"nope\", \"remind\", \"mcguire\", \"proofread\", \"kudos\", \"campbelikmstategov\", \"unfolds\", \"shouldve\", \"millscdstategoy\", \"ppd\", \"quam\", \"jillian\", \"wout\", \"faxed\", \"ferraro\", \"cloakroom\", \"lois\", \"shouldnt\", \"thanks\", \"sound\", \"rch\", \"interesting\", \"good\", \"discus\", \"yep\", \"scroll\", \"sigh\", \"printed\", \"kellycstategov\", \"aye\", \"yup\", \"rshah\", \"omg\", \"backstory\", \"viz\", \"fvl\", \"touche\", \"discouraging\", \"congratsiiiiii\", \"haim\", \"antony\", \"recieved\", \"hrodclintonemailcorn\", \"cits\", \"blakerstategov\", \"httpwwwsuntimescomdesireerogersquitsarticle\", \"schwartzepstategov\", \"compliment\", \"boswell\", \"posners\", \"mediafilesrcreportsarabopinionpolltelhamiarabopinionpollielhamipdf\", \"httpwwwbrookingsedu\", \"yesterdayhow\", \"fyl\", \"recd\", \"nice\", \"regret\", \"fyi\", \"yeah\", \"imagejpg\", \"marianne\", \"fuchsmhstategov\", \"thai\", \"feltmann\", \"awhile\", \"sullivanstategov\", \"barnett\", \"print\", \"count\", \"marina\", \"froman\", \"caitlin\", \"nonsecure\", \"yohannes\", \"einhorn\", \"youand\", \"paymaster\", \"philippine\", \"allaround\", \"sureill\", \"talkmeet\", \"cryptic\", \"micheletti\", \"diff\", \"kims\", \"ghana\", \"jakepls\", \"pls\", \"tech\", \"proposing\"], \"Total\": [125.0, 30.0, 36.0, 46.0, 94.0, 56.0, 23.0, 31.0, 46.0, 8.0, 43.0, 6.0, 7.0, 40.0, 7.0, 39.0, 12.0, 38.0, 7.0, 37.0, 35.0, 8.0, 34.0, 5.0, 34.0, 34.0, 5.0, 33.0, 33.0, 32.0, 94.18211364746094, 56.22612380981445, 46.24506378173828, 43.62432861328125, 40.73018264770508, 39.044334411621094, 38.317691802978516, 37.15835952758789, 35.447181701660156, 34.80792236328125, 34.347381591796875, 34.304344177246094, 33.85601806640625, 33.281063079833984, 32.29432678222656, 31.186416625976562, 31.085403442382812, 30.491098403930664, 30.30351448059082, 30.004302978515625, 28.577302932739258, 28.615209579467773, 27.318389892578125, 27.181852340698242, 27.13055992126465, 26.97305679321289, 26.524629592895508, 26.273263931274414, 25.825607299804688, 25.62297248840332, 35.69209671020508, 34.50507354736328, 46.372764587402344, 8.06277084350586, 7.39341402053833, 7.036694526672363, 5.930163860321045, 4.052714824676514, 4.052714824676514, 2.9656717777252197, 2.7983956336975098, 7.352145671844482, 2.123063802719116, 2.0622856616973877, 1.922381043434143, 1.6650080680847168, 1.5964300632476807, 1.5691916942596436, 1.5657823085784912, 1.8063405752182007, 1.605211853981018, 1.4067779779434204, 1.3768556118011475, 1.355589747428894, 1.3100696802139282, 1.204506754875183, 1.3234341144561768, 1.1789255142211914, 1.1407427787780762, 1.5006091594696045, 1.0873571634292603, 1.2462058067321777, 1.3783297538757324, 1.8073903322219849, 46.372764587402344, 5.149110794067383, 12.362998008728027, 7.987292766571045, 1.8221935033798218, 6.406321048736572, 9.524699211120605, 31.74200439453125, 14.214736938476562, 5.2101263999938965, 12.309707641601562, 2.86099910736084, 35.69209671020508, 22.214704513549805, 5.63336706161499, 2.7637383937835693, 2.6231396198272705, 1.9366041421890259, 1.9362233877182007, 1.787116289138794, 1.778977394104004, 1.9497363567352295, 1.564092993736267, 1.5061348676681519, 1.3784910440444946, 1.4175490140914917, 1.3078863620758057, 1.4043160676956177, 1.3164598941802979, 5.083216190338135, 1.2150800228118896, 1.2771810293197632, 1.2544187307357788, 1.193253517150879, 1.1889580488204956, 1.1200664043426514, 1.1274480819702148, 1.1095802783966064, 1.1898285150527954, 1.0538876056671143, 1.029532790184021, 4.196529865264893, 0.9984705448150635, 1.041667103767395, 1.5030869245529175, 1.808408260345459, 23.248924255371094, 10.030669212341309, 2.005950689315796, 5.281614780426025, 34.50507354736328, 22.117658615112305, 6.805907726287842, 3.146196126937866, 2.488933801651001, 3.840170383453369, 1.6823982000350952, 1.2826120853424072, 1.2184752225875854, 1.1925296783447266, 1.1789432764053345, 0.9711133241653442, 0.9711133241653442, 0.9711133241653442, 0.9711133241653442, 0.9711133241653442, 0.9711132645606995, 0.9719617366790771, 0.9049089550971985, 0.8734928369522095, 0.8806455135345459, 0.8434862494468689, 0.8434862494468689, 0.8434862494468689, 0.8434862494468689, 0.8434862494468689, 0.859115719795227, 0.8204383850097656, 0.8076392412185669, 0.8076392412185669, 0.7994839549064636, 0.9054386615753174, 1.996618628501892, 8.157857894897461, 2.3568646907806396, 125.31204986572266, 2.035351037979126, 1.602449655532837, 1.1725587844848633, 1.1698694229125977, 1.2350982427597046, 1.0134944915771484, 0.9533533453941345, 0.9344472885131836, 0.9444308876991272, 30.741762161254883, 1.894932746887207, 0.8819413185119629, 0.9319286346435547, 1.0231056213378906, 0.8287891745567322, 0.9259911179542542, 0.8170987367630005, 0.7824991941452026, 0.7434544563293457, 0.9433400630950928, 0.743635892868042, 0.743635892868042, 0.7363677024841309, 0.7511007785797119, 0.7755875587463379, 0.7365617752075195, 0.646142303943634, 0.6632521748542786, 0.6430723071098328, 36.542274475097656, 1.0379281044006348, 1.7600722312927246], \"loglift\": [30.0, 29.0, 28.0, 27.0, 26.0, 25.0, 24.0, 23.0, 22.0, 21.0, 20.0, 19.0, 18.0, 17.0, 16.0, 15.0, 14.0, 13.0, 12.0, 11.0, 10.0, 9.0, 8.0, 7.0, 6.0, 5.0, 4.0, 3.0, 2.0, 1.0, 0.5001000165939331, 0.49790000915527344, 0.4966999888420105, 0.49630001187324524, 0.4957999885082245, 0.49540001153945923, 0.4952999949455261, 0.4950000047683716, 0.49459999799728394, 0.4943999946117401, 0.4943000078201294, 0.4943000078201294, 0.4941999912261963, 0.49399998784065247, 0.4936999976634979, 0.4934000074863434, 0.4934000074863434, 0.49320000410079956, 0.49309998750686646, 0.49300000071525574, 0.4925000071525574, 0.49239999055862427, 0.492000013589859, 0.4918999969959259, 0.4918999969959259, 0.4918000102043152, 0.49160000681877136, 0.49149999022483826, 0.49129998683929443, 0.4912000000476837, 0.4523000121116638, 0.44040000438690186, -0.02710000053048134, 2.0606000423431396, 2.0559000968933105, 2.0539000034332275, 2.039400100708008, 2.0190999507904053, 2.0190999507904053, 1.9829000234603882, 1.979599952697754, 1.9450000524520874, 1.9371000528335571, 1.9323999881744385, 1.9172999858856201, 1.8841999769210815, 1.8753000497817993, 1.8746000528335571, 1.8730000257492065, 1.8557000160217285, 1.854099988937378, 1.830399990081787, 1.8295999765396118, 1.8241000175476074, 1.798799991607666, 1.7937999963760376, 1.7927000522613525, 1.7869000434875488, 1.7657999992370605, 1.753100037574768, 1.7473000288009644, 1.7436000108718872, 1.7416000366210938, 1.7128000259399414, 1.2044999599456787, 1.4802000522613525, 1.1924999952316284, 1.2926000356674194, 1.6513999700546265, 1.191100001335144, 0.9143000245094299, 0.33799999952316284, 0.6366999745368958, 0.9491000175476074, 0.3269999921321869, 1.2905999422073364, -1.0255999565124512, -0.6416000127792358, 2.1673998832702637, 2.1015000343322754, 2.0959999561309814, 2.0397000312805176, 2.0355000495910645, 2.02839994430542, 2.0136001110076904, 2.004699945449829, 1.9888999462127686, 1.972100019454956, 1.948199987411499, 1.9444999694824219, 1.9421000480651855, 1.9401999711990356, 1.9266999959945679, 1.919100046157837, 1.916100025177002, 1.913100004196167, 1.9082000255584717, 1.9035999774932861, 1.885699987411499, 1.882599949836731, 1.8791999816894531, 1.8730000257492065, 1.8639999628067017, 1.8509000539779663, 1.8319000005722046, 1.8300000429153442, 1.8280999660491943, 1.8174999952316284, 1.8112000226974487, 1.7832000255584717, 0.6425999999046326, 0.9581000208854675, 1.5535000562667847, 0.8116999864578247, -0.6758000254631042, -0.5954999923706055, 2.2711000442504883, 2.2083001136779785, 2.1740000247955322, 2.1092000007629395, 2.09660005569458, 2.012700080871582, 2.000499963760376, 1.9918999671936035, 1.9881000518798828, 1.899399995803833, 1.899399995803833, 1.899399995803833, 1.899399995803833, 1.899399995803833, 1.899399995803833, 1.8916000127792358, 1.8601000308990479, 1.8377000093460083, 1.8207000494003296, 1.81659996509552, 1.81659996509552, 1.81659996509552, 1.81659996509552, 1.81659996509552, 1.805799961090088, 1.7942999601364136, 1.7869999408721924, 1.7869999408721924, 1.773800015449524, 1.753600001335144, 1.6965999603271484, 1.5508999824523926, 1.3521000146865845, 2.6656999588012695, 2.480600118637085, 2.427999973297119, 2.2994000911712646, 2.288599967956543, 2.2493999004364014, 2.2376999855041504, 2.1928000450134277, 2.1791000366210938, 2.1714999675750732, 2.147200107574463, 2.130500078201294, 2.1201999187469482, 2.1185998916625977, 2.1178998947143555, 2.093600034713745, 2.0866000652313232, 2.0766000747680664, 2.0511999130249023, 2.0125999450683594, 2.0120999813079834, 2.0116000175476074, 2.0116000175476074, 2.001699924468994, 2.000200033187866, 1.9757000207901, 1.9723000526428223, 1.8414000272750854, 1.8371000289916992, 1.833299994468689, 1.4531999826431274, 1.7201000452041626, 1.1080000400543213], \"logprob\": [30.0, 29.0, 28.0, 27.0, 26.0, 25.0, 24.0, 23.0, 22.0, 21.0, 20.0, 19.0, 18.0, 17.0, 16.0, 15.0, 14.0, 13.0, 12.0, 11.0, 10.0, 9.0, 8.0, 7.0, 6.0, 5.0, 4.0, 3.0, 2.0, 1.0, -4.969900131225586, -5.48799991607666, -5.684599876403809, -5.7434000968933105, -5.8125, -5.855100154876709, -5.874100208282471, -5.905099868774414, -5.952600002288818, -5.9710001945495605, -5.984399795532227, -5.9857001304626465, -5.998899936676025, -6.016200065612793, -6.046599864959717, -6.081900119781494, -6.085100173950195, -6.104599952697754, -6.110899925231934, -6.1209001541137695, -6.170100212097168, -6.168900012969971, -6.215700149536133, -6.220799922943115, -6.222700119018555, -6.228600025177002, -6.245500087738037, -6.255199909210205, -6.272600173950195, -6.2804999351501465, -5.98799991607666, -6.03380012512207, -6.205599784851074, -5.867400169372559, -5.958700180053711, -6.010300159454346, -6.195799827575684, -6.596700191497803, -6.596700191497803, -6.945300102233887, -7.0065999031066895, -6.075300216674805, -7.325300216674805, -7.359099864959717, -7.444300174713135, -7.621300220489502, -7.6722002029418945, -7.690100193023682, -7.69379997253418, -7.568299770355225, -7.687900066375732, -7.843500137329102, -7.865900039672852, -7.886899948120117, -7.946300029754639, -8.035300254821777, -7.942299842834473, -8.063799858093262, -8.117799758911133, -7.856200218200684, -8.184200286865234, -8.05150032043457, -7.952700138092041, -7.710599899291992, -4.973999977111816, -6.896200180053711, -6.30810022354126, -6.644800186157227, -7.763800144195557, -6.966899871826172, -6.847099781036377, -6.219600200653076, -6.724299907684326, -7.415599822998047, -7.177800178527832, -7.673500061035156, -7.46589994430542, -7.556099891662598, -6.119200229644775, -6.897200107574463, -6.954899787902832, -7.314599990844727, -7.318999767303467, -7.406199932098389, -7.425600051879883, -7.342899799346924, -7.578999996185303, -7.633600234985352, -7.745999813079834, -7.72189998626709, -7.804800033569336, -7.735499858856201, -7.813600063323975, -6.470200061798096, -7.904399871826172, -7.857500076293945, -7.88040018081665, -7.934999942779541, -7.956399917602539, -8.019200325012207, -8.01609992980957, -8.038299560546875, -7.977399826049805, -8.111800193786621, -8.154199600219727, -6.750999927520752, -8.188699722290039, -8.156900405883789, -7.796500205993652, -7.639599800109863, -6.226399898529053, -6.751500129699707, -7.765600204467773, -7.539299964904785, -7.149899959564209, -7.514400005340576, -5.826300144195557, -6.660699844360352, -6.929299831390381, -6.560500144958496, -7.398399829864502, -7.753699779510498, -7.8171000480651855, -7.847300052642822, -7.862500190734863, -8.1451997756958, -8.1451997756958, -8.1451997756958, -8.1451997756958, -8.1451997756958, -8.1451997756958, -8.152099609375, -8.25510025024414, -8.312800407409668, -8.321599960327148, -8.368900299072266, -8.368900299072266, -8.368900299072266, -8.368900299072266, -8.368900299072266, -8.361300468444824, -8.418800354003906, -8.441900253295898, -8.441900253295898, -8.465200424194336, -8.361000061035156, -7.627200126647949, -6.365300178527832, -7.805799961090088, -2.5188000202178955, -6.823999881744385, -7.115699768066406, -7.556600093841553, -7.569799900054932, -7.554699897766113, -7.764100074768066, -7.870200157165527, -7.903900146484375, -7.900899887084961, -4.442399978637695, -7.24560022354126, -8.020700454711914, -7.967199802398682, -7.874499797821045, -8.109399795532227, -8.005599975585938, -8.140700340270996, -8.20930004119873, -8.298999786376953, -8.06149959564209, -8.299799919128418, -8.299799919128418, -8.319600105285645, -8.301199913024902, -8.293600082397461, -8.348699569702148, -8.61050033569336, -8.588800430297852, -8.62339973449707, -4.963600158691406, -8.25790023803711, -8.341899871826172]}, \"token.table\": {\"Topic\": [1, 2, 1, 4, 2, 2, 1, 2, 5, 4, 1, 4, 3, 2, 5, 2, 1, 2, 4, 4, 5, 1, 3, 2, 2, 1, 1, 2, 4, 3, 4, 4, 1, 5, 1, 2, 2, 4, 1, 3, 1, 2, 2, 1, 1, 3, 5, 3, 2, 2, 3, 5, 5, 3, 4, 1, 5, 4, 1, 1, 3, 4, 2, 1, 4, 4, 1, 2, 5, 1, 3, 3, 3, 3, 3, 2, 4, 1, 3, 3, 2, 1, 1, 3, 2, 1, 2, 5, 5, 2, 3, 1, 3, 1, 2, 1, 3, 3, 1, 3, 1, 1, 4, 3, 1, 2, 4, 2, 2, 1, 2, 1, 5, 2, 3, 3, 2, 1, 5, 1, 4, 2, 1, 2, 3, 1, 3, 2, 3, 1, 4, 4, 1, 4, 1, 1, 3, 2, 2, 2, 1, 2, 1, 2, 4, 4, 4, 1, 2, 1, 1, 2, 3, 3, 4, 1, 3, 2, 1, 5, 1, 2, 5, 1, 3, 1, 3, 1, 1, 1, 1, 4, 3, 2, 3, 1, 2, 4, 1, 3, 1, 1, 3, 2, 5, 4, 1, 2, 5, 4], \"Freq\": [0.6243833303451538, 0.46828749775886536, 0.9911280870437622, 1.1050835847854614, 0.9922147393226624, 0.6005976796150208, 0.3495282530784607, 0.3495282530784607, 1.04892897605896, 0.7796589732170105, 0.9998565912246704, 1.0297459363937378, 0.5621206760406494, 0.8024356961250305, 1.0588387250900269, 0.7556099891662598, 0.8123669624328613, 0.1624733954668045, 1.1855558156967163, 1.1639875173568726, 0.9774162173271179, 0.9980663657188416, 0.8380448818206787, 0.7633181810379028, 0.7376863360404968, 1.0067527294158936, 0.9908860921859741, 0.9869927167892456, 1.1855558156967163, 0.9599996209144592, 1.1855558156967163, 1.0297460556030273, 0.5277231931686401, 0.5277231931686401, 0.388416588306427, 0.5826248526573181, 0.9947852492332458, 1.0297459363937378, 0.9494675993919373, 0.04521274194121361, 0.7738447785377502, 0.21104857325553894, 0.5536054372787476, 0.9838936924934387, 0.2382921278476715, 0.7148763537406921, 0.9866851568222046, 1.0015318393707275, 0.6663960218429565, 0.9196610450744629, 0.6639511585235596, 1.0730435848236084, 0.8547962307929993, 0.5595606565475464, 1.0297459363937378, 0.01596015691757202, 0.9815496802330017, 1.104436993598938, 0.9856885075569153, 0.9273998737335205, 0.05796249210834503, 1.028847098350525, 0.8482300043106079, 1.000998854637146, 1.135530710220337, 1.1855558156967163, 0.9972526431083679, 0.7262925505638123, 0.6240445375442505, 0.757344126701355, 0.18933603167533875, 0.7624450922012329, 0.723657488822937, 0.9488677978515625, 0.7645924091339111, 0.7108442187309265, 0.5943896174430847, 0.9820727109909058, 0.6393481492996216, 0.7971819639205933, 0.6386584043502808, 0.9940224885940552, 0.9802210330963135, 0.6652975082397461, 0.5532839298248291, 0.5758017897605896, 0.38386785984039307, 0.8528357148170471, 1.1338622570037842, 0.5487891435623169, 1.0329387187957764, 0.9895991683006287, 0.8229910731315613, 0.9785006046295166, 1.0115752220153809, 0.9951876997947693, 0.8869587779045105, 0.8875686526298523, 0.9756869673728943, 0.7254309058189392, 0.9797985553741455, 0.49032479524612427, 0.49032479524612427, 0.7596129775047302, 0.8191038966178894, 0.15751998126506805, 0.848217248916626, 0.8766217827796936, 0.9420347809791565, 0.9933097958564758, 0.6263976097106934, 0.7115046977996826, 0.3010212182998657, 0.830215334892273, 0.7120904326438904, 0.901241660118103, 0.6372707486152649, 0.4228775203227997, 0.5855227112770081, 0.26040512323379517, 0.7812153100967407, 0.7146952152252197, 0.5007954835891724, 0.5007954835891724, 0.782974362373352, 0.5681585073471069, 0.8404572606086731, 0.4985167384147644, 0.4985167384147644, 0.500846803188324, 0.500846803188324, 1.1448290348052979, 0.42429250478744507, 0.42429250478744507, 0.988345205783844, 0.19672584533691406, 0.7869033813476562, 1.0403764247894287, 1.0117764472961426, 0.9467886090278625, 0.5662056803703308, 0.40443265438079834, 0.13601471483707428, 0.8160883188247681, 0.8385535478591919, 1.1855558156967163, 0.9535323977470398, 0.9525918364524841, 0.056034814566373825, 0.9959782958030701, 0.9453197717666626, 0.04501522704958916, 0.5529724955558777, 0.8928042054176331, 0.8035569190979004, 0.6978597044944763, 0.2990827262401581, 0.9697977304458618, 0.9957382678985596, 1.0701513290405273, 0.9917089939117432, 0.7255157828330994, 0.8096522092819214, 0.7742293477058411, 0.21506372094154358, 0.9899841547012329, 1.0257797241210938, 0.9947007298469543, 0.976789116859436, 0.991554856300354, 0.9988645315170288, 1.0297459363937378, 0.8410725593566895, 0.622970700263977, 0.7054429650306702, 0.6299411654472351, 0.31497058272361755, 1.0297459363937378, 1.0042527914047241, 1.0327355861663818, 0.9898862242698669, 0.987384557723999, 0.9713143706321716, 0.9869927167892456, 0.982631504535675, 0.881587028503418, 0.5822383165359497, 0.4097232520580292, 1.0799239873886108, 0.8206978440284729], \"Term\": [\"airport\", \"airport\", \"also\", \"antony\", \"arrive\", \"asst\", \"att\", \"att\", \"awhile\", \"aye\", \"back\", \"backstory\", \"bader\", \"bahrain\", \"barnett\", \"bed\", \"blackberry\", \"blackberry\", \"blakerstategov\", \"boswell\", \"caitlin\", \"call\", \"campbelikmstategov\", \"cannon\", \"capricia\", \"cdm\", \"cheryl\", \"cingular\", \"cits\", \"cloakroom\", \"compliment\", \"congratsiiiiii\", \"count\", \"count\", \"daily\", \"daily\", \"depart\", \"discouraging\", \"discus\", \"discus\", \"done\", \"done\", \"easter\", \"email\", \"faxed\", \"faxed\", \"feltmann\", \"ferraro\", \"figured\", \"finalizing\", \"flagged\", \"froman\", \"fuchsmhstategov\", \"fvi\", \"fvl\", \"fyi\", \"fyi\", \"fyl\", \"get\", \"good\", \"good\", \"haim\", \"hoo\", \"hrodclintonemailcom\", \"hrodclintonemailcorn\", \"httpwwwsuntimescomdesireerogersquitsarticle\", \"huma\", \"humaclintonemailcom\", \"imagejpg\", \"interesting\", \"interesting\", \"isabelle\", \"jakesullivan\", \"jillian\", \"karine\", \"katie\", \"kellycstategov\", \"know\", \"kristy\", \"kudos\", \"laguardia\", \"let\", \"like\", \"lois\", \"lucky\", \"mail\", \"mail\", \"marianne\", \"marina\", \"marshall\", \"mashabane\", \"may\", \"mcguire\", \"meeting\", \"memcon\", \"mill\", \"millscdstategoy\", \"min\", \"monday\", \"napolitano\", \"need\", \"nice\", \"nice\", \"nope\", \"office\", \"office\", \"omg\", \"ordering\", \"outer\", \"part\", \"pdb\", \"pls\", \"pls\", \"postdoc\", \"postpone\", \"ppd\", \"preceding\", \"print\", \"print\", \"printed\", \"printed\", \"printing\", \"private\", \"private\", \"proofread\", \"proposing\", \"quam\", \"rch\", \"rch\", \"recd\", \"recd\", \"recieved\", \"regret\", \"regret\", \"release\", \"remind\", \"remind\", \"reschedule\", \"residence\", \"roger\", \"room\", \"room\", \"route\", \"route\", \"rshah\", \"schwartzepstategov\", \"scroll\", \"secretary\", \"secretary\", \"see\", \"sent\", \"sent\", \"shouldnt\", \"shouldve\", \"sigh\", \"sound\", \"sound\", \"spray\", \"state\", \"sullivanstategov\", \"talk\", \"terry\", \"thai\", \"thanks\", \"thanks\", \"think\", \"thnx\", \"thx\", \"time\", \"today\", \"tomorrow\", \"touche\", \"unfolds\", \"updating\", \"vermarrstategov\", \"via\", \"via\", \"viz\", \"want\", \"wexler\", \"work\", \"would\", \"wout\", \"xpress\", \"yeah\", \"yep\", \"yes\", \"yes\", \"yohannes\", \"yup\"]}, \"R\": 30, \"lambda.step\": 0.01, \"plot.opts\": {\"xlab\": \"PC1\", \"ylab\": \"PC2\"}, \"topic.order\": [2, 4, 1, 3, 5]};\n",
       "\n",
       "function LDAvis_load_lib(url, callback){\n",
       "  var s = document.createElement('script');\n",
       "  s.src = url;\n",
       "  s.async = true;\n",
       "  s.onreadystatechange = s.onload = callback;\n",
       "  s.onerror = function(){console.warn(\"failed to load library \" + url);};\n",
       "  document.getElementsByTagName(\"head\")[0].appendChild(s);\n",
       "}\n",
       "\n",
       "if(typeof(LDAvis) !== \"undefined\"){\n",
       "   // already loaded: just create the visualization\n",
       "   !function(LDAvis){\n",
       "       new LDAvis(\"#\" + \"ldavis_el1798815984184130403462949932\", ldavis_el1798815984184130403462949932_data);\n",
       "   }(LDAvis);\n",
       "}else if(typeof define === \"function\" && define.amd){\n",
       "   // require.js is available: use it to load d3/LDAvis\n",
       "   require.config({paths: {d3: \"https://cdnjs.cloudflare.com/ajax/libs/d3/3.5.5/d3.min\"}});\n",
       "   require([\"d3\"], function(d3){\n",
       "      window.d3 = d3;\n",
       "      LDAvis_load_lib(\"https://cdn.rawgit.com/bmabey/pyLDAvis/files/ldavis.v1.0.0.js\", function(){\n",
       "        new LDAvis(\"#\" + \"ldavis_el1798815984184130403462949932\", ldavis_el1798815984184130403462949932_data);\n",
       "      });\n",
       "    });\n",
       "}else{\n",
       "    // require.js not available: dynamically load d3 & LDAvis\n",
       "    LDAvis_load_lib(\"https://cdnjs.cloudflare.com/ajax/libs/d3/3.5.5/d3.min.js\", function(){\n",
       "         LDAvis_load_lib(\"https://cdn.rawgit.com/bmabey/pyLDAvis/files/ldavis.v1.0.0.js\", function(){\n",
       "                 new LDAvis(\"#\" + \"ldavis_el1798815984184130403462949932\", ldavis_el1798815984184130403462949932_data);\n",
       "            })\n",
       "         });\n",
       "}\n",
       "</script>"
      ],
      "text/plain": [
       "PreparedData(topic_coordinates=              x         y  topics  cluster       Freq\n",
       "topic                                                \n",
       "1     -0.184589  0.002395       1        1  60.447502\n",
       "3      0.042109 -0.018878       2        1  12.203269\n",
       "0      0.042281 -0.010010       3        1  10.724696\n",
       "2      0.041900 -0.007060       4        1   9.810116\n",
       "4      0.058299  0.033553       5        1   6.814418, topic_info=      Category        Freq       Term       Total  loglift  logprob\n",
       "9346   Default  125.000000        fyi  125.000000  30.0000  30.0000\n",
       "18375  Default   30.000000      print   30.000000  29.0000  29.0000\n",
       "17821  Default   36.000000        pls   36.000000  28.0000  28.0000\n",
       "26606  Default   46.000000        yes   46.000000  27.0000  27.0000\n",
       "3323   Default   94.000000       call   94.000000  26.0000  26.0000\n",
       "...        ...         ...        ...         ...      ...      ...\n",
       "9574    Topic5    0.283746      ghana    0.663252   1.8371  -8.5888\n",
       "12444   Topic5    0.274080    jakepls    0.643072   1.8333  -8.6234\n",
       "17821   Topic5   10.649821        pls   36.542274   1.4532  -4.9636\n",
       "23417   Topic5    0.395017       tech    1.037928   1.7201  -8.2579\n",
       "18590   Topic5    0.363220  proposing    1.760072   1.1080  -8.3419\n",
       "\n",
       "[212 rows x 6 columns], token_table=       Topic      Freq      Term\n",
       "term                            \n",
       "587        1  0.624383   airport\n",
       "587        2  0.468287   airport\n",
       "802        1  0.991128      also\n",
       "1189       4  1.105084    antony\n",
       "1482       2  0.992215    arrive\n",
       "...      ...       ...       ...\n",
       "26604      4  0.881587       yep\n",
       "26606      1  0.582238       yes\n",
       "26606      2  0.409723       yes\n",
       "26635      5  1.079924  yohannes\n",
       "26690      4  0.820698       yup\n",
       "\n",
       "[190 rows x 3 columns], R=30, lambda_step=0.01, plot_opts={'xlab': 'PC1', 'ylab': 'PC2'}, topic_order=[2, 4, 1, 3, 5])"
      ]
     },
     "execution_count": 157,
     "metadata": {},
     "output_type": "execute_result"
    }
   ],
   "source": [
    "vis = pyLDAvis.gensim.prepare(lda_tfidf, corpus, dictionary)\n",
    "vis"
   ]
  },
  {
   "cell_type": "code",
   "execution_count": null,
   "metadata": {},
   "outputs": [],
   "source": []
  }
 ],
 "metadata": {
  "kernelspec": {
   "display_name": "Python 3",
   "language": "python",
   "name": "python3"
  },
  "language_info": {
   "codemirror_mode": {
    "name": "ipython",
    "version": 3
   },
   "file_extension": ".py",
   "mimetype": "text/x-python",
   "name": "python",
   "nbconvert_exporter": "python",
   "pygments_lexer": "ipython3",
   "version": "3.8.3"
  }
 },
 "nbformat": 4,
 "nbformat_minor": 4
}

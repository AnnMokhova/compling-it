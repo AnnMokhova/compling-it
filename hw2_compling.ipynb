{
 "cells": [
  {
   "cell_type": "markdown",
   "metadata": {},
   "source": [
    "# Снижение размерности"
   ]
  },
  {
   "cell_type": "code",
   "execution_count": 1,
   "metadata": {},
   "outputs": [],
   "source": [
    "import os\n",
    "import pandas as pd"
   ]
  },
  {
   "cell_type": "code",
   "execution_count": 2,
   "metadata": {},
   "outputs": [],
   "source": [
    "dirnames = ['Фанфик', 'Философия', 'Фэнтези']"
   ]
  },
  {
   "cell_type": "code",
   "execution_count": 3,
   "metadata": {},
   "outputs": [],
   "source": [
    "curr_dir = os.getcwd()\n",
    "filepaths = []\n",
    "for dirname in dirnames:\n",
    "    filepath = os.path.join(curr_dir, dirname)\n",
    "    for root, dirs, files in os.walk(filepath):\n",
    "        for name in files[:150]:\n",
    "            filepaths.append(os.path.join(root, name))"
   ]
  },
  {
   "cell_type": "code",
   "execution_count": 4,
   "metadata": {},
   "outputs": [],
   "source": [
    "df = pd.DataFrame(columns=['text', 'filepath', 'genre'])"
   ]
  },
  {
   "cell_type": "code",
   "execution_count": 5,
   "metadata": {},
   "outputs": [],
   "source": [
    "df['filepath'] = filepaths"
   ]
  },
  {
   "cell_type": "code",
   "execution_count": 6,
   "metadata": {},
   "outputs": [],
   "source": [
    "for i, row in df.iterrows():\n",
    "    if 'Философия' in row['filepath']:\n",
    "        row['genre'] = 'философия'\n",
    "    elif 'Фанфик' in row['filepath']:\n",
    "        row['genre'] = 'фанфик'\n",
    "    else:\n",
    "        row['genre'] = 'фэнтази'"
   ]
  },
  {
   "cell_type": "code",
   "execution_count": 7,
   "metadata": {
    "scrolled": true
   },
   "outputs": [],
   "source": [
    "import nltk\n",
    "from nltk.corpus import stopwords\n",
    "from spacy.lang.ru import Russian\n",
    "from spacy_russian_tokenizer import RussianTokenizer, MERGE_PATTERNS\n",
    "from pymorphy2 import MorphAnalyzer\n",
    "import pymorphy2"
   ]
  },
  {
   "cell_type": "code",
   "execution_count": 11,
   "metadata": {},
   "outputs": [],
   "source": [
    "nlp = Russian()\n",
    "nlp.max_length = 2500000\n",
    "russian_tokenizer = RussianTokenizer(nlp, MERGE_PATTERNS)\n",
    "nlp.add_pipe(russian_tokenizer, name='russian_tokenizer')\n",
    "morph = pymorphy2.MorphAnalyzer()\n",
    "\n",
    "def preproc(filename):\n",
    "    with open(filename, 'r', encoding='utf-8') as f:\n",
    "        text = f.read()\n",
    "        # убираем стоп-слова\n",
    "        text = ' '.join([word for word in text.lower().split() if word not in stopwords.words('russian')])\n",
    "        # разбиваем на токены\n",
    "        doc = nlp(text)\n",
    "        tokenized = [token.text for token in doc if token.text not in ',.!?-();:\"\"«»—_–#' and '.' not in token.text]\n",
    "        # лемматизируем\n",
    "        return ' '.join([morph.parse(word)[0].normal_form for word in tokenized])"
   ]
  },
  {
   "cell_type": "code",
   "execution_count": 12,
   "metadata": {},
   "outputs": [],
   "source": [
    "from tqdm._tqdm_notebook import tqdm_notebook\n",
    "tqdm_notebook.pandas('PROGRESS>>>')"
   ]
  },
  {
   "cell_type": "code",
   "execution_count": 13,
   "metadata": {},
   "outputs": [
    {
     "data": {
      "application/vnd.jupyter.widget-view+json": {
       "model_id": "ece5251c24594120b5c50c835689e92f",
       "version_major": 2,
       "version_minor": 0
      },
      "text/plain": [
       "HBox(children=(FloatProgress(value=0.0, max=450.0), HTML(value='')))"
      ]
     },
     "metadata": {},
     "output_type": "display_data"
    },
    {
     "name": "stdout",
     "output_type": "stream",
     "text": [
      "\n"
     ]
    }
   ],
   "source": [
    "df['text'] = df['filepath'].progress_apply(preproc)"
   ]
  },
  {
   "cell_type": "code",
   "execution_count": 14,
   "metadata": {},
   "outputs": [
    {
     "data": {
      "text/html": [
       "<div>\n",
       "<style scoped>\n",
       "    .dataframe tbody tr th:only-of-type {\n",
       "        vertical-align: middle;\n",
       "    }\n",
       "\n",
       "    .dataframe tbody tr th {\n",
       "        vertical-align: top;\n",
       "    }\n",
       "\n",
       "    .dataframe thead th {\n",
       "        text-align: right;\n",
       "    }\n",
       "</style>\n",
       "<table border=\"1\" class=\"dataframe\">\n",
       "  <thead>\n",
       "    <tr style=\"text-align: right;\">\n",
       "      <th></th>\n",
       "      <th>text</th>\n",
       "      <th>filepath</th>\n",
       "      <th>genre</th>\n",
       "    </tr>\n",
       "  </thead>\n",
       "  <tbody>\n",
       "    <tr>\n",
       "      <th>0</th>\n",
       "      <td>ленточка фанфик роман андрей круз земля лишний...</td>\n",
       "      <td>C:\\Users\\vital\\Фанфик\\kowalenko_e_blentochka2.txt</td>\n",
       "      <td>фанфик</td>\n",
       "    </tr>\n",
       "    <tr>\n",
       "      <th>1</th>\n",
       "      <td>mass effect while the reaper назвый mass effec...</td>\n",
       "      <td>C:\\Users\\vital\\Фанфик\\kowizhenko_w_wmasseffect...</td>\n",
       "      <td>фанфик</td>\n",
       "    </tr>\n",
       "    <tr>\n",
       "      <th>2</th>\n",
       "      <td>дмитрий крам s t i k s подкидыш улья андрей пр...</td>\n",
       "      <td>C:\\Users\\vital\\Фанфик\\kram_dhivepodkidyshiulxj...</td>\n",
       "      <td>фанфик</td>\n",
       "    </tr>\n",
       "    <tr>\n",
       "      <th>3</th>\n",
       "      <td>дмитрий крам исчезнуть клан фанфик играть жить...</td>\n",
       "      <td>C:\\Users\\vital\\Фанфик\\kram_discheznuwshijklan.txt</td>\n",
       "      <td>фанфик</td>\n",
       "    </tr>\n",
       "    <tr>\n",
       "      <th>4</th>\n",
       "      <td>содержание часть 1 акклиматиазия часть 2 полёт...</td>\n",
       "      <td>C:\\Users\\vital\\Фанфик\\krasnoperowa_ahp_peste.txt</td>\n",
       "      <td>фанфик</td>\n",
       "    </tr>\n",
       "  </tbody>\n",
       "</table>\n",
       "</div>"
      ],
      "text/plain": [
       "                                                text  \\\n",
       "0  ленточка фанфик роман андрей круз земля лишний...   \n",
       "1  mass effect while the reaper назвый mass effec...   \n",
       "2  дмитрий крам s t i k s подкидыш улья андрей пр...   \n",
       "3  дмитрий крам исчезнуть клан фанфик играть жить...   \n",
       "4  содержание часть 1 акклиматиазия часть 2 полёт...   \n",
       "\n",
       "                                            filepath   genre  \n",
       "0  C:\\Users\\vital\\Фанфик\\kowalenko_e_blentochka2.txt  фанфик  \n",
       "1  C:\\Users\\vital\\Фанфик\\kowizhenko_w_wmasseffect...  фанфик  \n",
       "2  C:\\Users\\vital\\Фанфик\\kram_dhivepodkidyshiulxj...  фанфик  \n",
       "3  C:\\Users\\vital\\Фанфик\\kram_discheznuwshijklan.txt  фанфик  \n",
       "4   C:\\Users\\vital\\Фанфик\\krasnoperowa_ahp_peste.txt  фанфик  "
      ]
     },
     "execution_count": 14,
     "metadata": {},
     "output_type": "execute_result"
    }
   ],
   "source": [
    "df.head()"
   ]
  },
  {
   "cell_type": "code",
   "execution_count": 15,
   "metadata": {},
   "outputs": [],
   "source": [
    "#df.to_csv('df.csv')"
   ]
  },
  {
   "cell_type": "code",
   "execution_count": 81,
   "metadata": {},
   "outputs": [],
   "source": [
    "from sklearn.feature_extraction.text import CountVectorizer\n",
    "from sklearn.feature_extraction.text import TfidfVectorizer"
   ]
  },
  {
   "cell_type": "code",
   "execution_count": 111,
   "metadata": {},
   "outputs": [],
   "source": [
    "vectorizer = TfidfVectorizer(max_features=25000)"
   ]
  },
  {
   "cell_type": "code",
   "execution_count": 112,
   "metadata": {},
   "outputs": [],
   "source": [
    "X = vectorizer.fit_transform(df['text'])"
   ]
  },
  {
   "cell_type": "code",
   "execution_count": 114,
   "metadata": {},
   "outputs": [],
   "source": [
    "from sklearn.decomposition import PCA\n",
    "import matplotlib.pyplot as plt"
   ]
  },
  {
   "cell_type": "code",
   "execution_count": 115,
   "metadata": {},
   "outputs": [],
   "source": [
    "pca = PCA(n_components=2)"
   ]
  },
  {
   "cell_type": "code",
   "execution_count": 116,
   "metadata": {},
   "outputs": [],
   "source": [
    "principalComponents = pca.fit_transform(X.todense())\n",
    "df_pca = pd.DataFrame(data = principalComponents\n",
    "             , columns = ['principal component 1', 'principal component 2'])"
   ]
  },
  {
   "cell_type": "code",
   "execution_count": 117,
   "metadata": {},
   "outputs": [],
   "source": [
    "df_final = pd.concat([df_pca, df[['genre']]], axis = 1)"
   ]
  },
  {
   "cell_type": "code",
   "execution_count": 118,
   "metadata": {},
   "outputs": [
    {
     "data": {
      "text/html": [
       "<div>\n",
       "<style scoped>\n",
       "    .dataframe tbody tr th:only-of-type {\n",
       "        vertical-align: middle;\n",
       "    }\n",
       "\n",
       "    .dataframe tbody tr th {\n",
       "        vertical-align: top;\n",
       "    }\n",
       "\n",
       "    .dataframe thead th {\n",
       "        text-align: right;\n",
       "    }\n",
       "</style>\n",
       "<table border=\"1\" class=\"dataframe\">\n",
       "  <thead>\n",
       "    <tr style=\"text-align: right;\">\n",
       "      <th></th>\n",
       "      <th>principal component 1</th>\n",
       "      <th>principal component 2</th>\n",
       "      <th>genre</th>\n",
       "    </tr>\n",
       "  </thead>\n",
       "  <tbody>\n",
       "    <tr>\n",
       "      <th>0</th>\n",
       "      <td>0.132489</td>\n",
       "      <td>-0.065356</td>\n",
       "      <td>фанфик</td>\n",
       "    </tr>\n",
       "    <tr>\n",
       "      <th>1</th>\n",
       "      <td>-0.287312</td>\n",
       "      <td>-0.037368</td>\n",
       "      <td>фанфик</td>\n",
       "    </tr>\n",
       "    <tr>\n",
       "      <th>2</th>\n",
       "      <td>0.014455</td>\n",
       "      <td>0.030648</td>\n",
       "      <td>фанфик</td>\n",
       "    </tr>\n",
       "    <tr>\n",
       "      <th>3</th>\n",
       "      <td>0.278568</td>\n",
       "      <td>0.027481</td>\n",
       "      <td>фанфик</td>\n",
       "    </tr>\n",
       "    <tr>\n",
       "      <th>4</th>\n",
       "      <td>-0.271592</td>\n",
       "      <td>0.019683</td>\n",
       "      <td>фанфик</td>\n",
       "    </tr>\n",
       "  </tbody>\n",
       "</table>\n",
       "</div>"
      ],
      "text/plain": [
       "   principal component 1  principal component 2   genre\n",
       "0               0.132489              -0.065356  фанфик\n",
       "1              -0.287312              -0.037368  фанфик\n",
       "2               0.014455               0.030648  фанфик\n",
       "3               0.278568               0.027481  фанфик\n",
       "4              -0.271592               0.019683  фанфик"
      ]
     },
     "execution_count": 118,
     "metadata": {},
     "output_type": "execute_result"
    }
   ],
   "source": [
    "df_final.head()"
   ]
  },
  {
   "cell_type": "markdown",
   "metadata": {},
   "source": [
    "Визуализация документов на плоскости методом главных компонент снижения размерности Bag-of-Words векторов"
   ]
  },
  {
   "cell_type": "code",
   "execution_count": 119,
   "metadata": {},
   "outputs": [
    {
     "data": {
      "image/png": "[encoded data removed]",
      "text/plain": [
       "<Figure size 576x576 with 1 Axes>"
      ]
     },
     "metadata": {
      "needs_background": "light"
     },
     "output_type": "display_data"
    }
   ],
   "source": [
    "fig = plt.figure(figsize = (8,8))\n",
    "ax = fig.add_subplot(1,1,1)\n",
    "ax.set_xlabel('Principal Component 1', fontsize = 15)\n",
    "ax.set_ylabel('Principal Component 2', fontsize = 15)\n",
    "ax.set_title('2 component PCA', fontsize = 20)\n",
    "targets = ['философия', 'фанфик', 'фэнтази']\n",
    "colors = ['lightpink', 'palegreen', 'lightskyblue']\n",
    "for target, color in zip(targets,colors):\n",
    "    indicesToKeep = df_final['genre'] == target\n",
    "    ax.scatter(df_final.loc[indicesToKeep, 'principal component 1']\n",
    "               , df_final.loc[indicesToKeep, 'principal component 2']\n",
    "               , c = color\n",
    "               , s = 50)\n",
    "ax.legend(targets)\n",
    "ax.grid()"
   ]
  },
  {
   "cell_type": "markdown",
   "metadata": {},
   "source": [
    "Визуализация документов на плоскости методом t-SNE снижения размерности Bag-of-Words векторов."
   ]
  },
  {
   "cell_type": "code",
   "execution_count": 105,
   "metadata": {},
   "outputs": [],
   "source": [
    "from sklearn.manifold import TSNE"
   ]
  },
  {
   "cell_type": "code",
   "execution_count": 120,
   "metadata": {},
   "outputs": [],
   "source": [
    "tsne = TSNE(n_components=2).fit_transform(X.todense())"
   ]
  },
  {
   "cell_type": "code",
   "execution_count": 121,
   "metadata": {},
   "outputs": [],
   "source": [
    "df_tsne = pd.DataFrame(data = tsne\n",
    "             , columns = ['principal component 1', 'principal component 2'])"
   ]
  },
  {
   "cell_type": "code",
   "execution_count": 122,
   "metadata": {},
   "outputs": [],
   "source": [
    "tsne_final = pd.concat([df_tsne, df[['genre']]], axis = 1)"
   ]
  },
  {
   "cell_type": "code",
   "execution_count": 123,
   "metadata": {},
   "outputs": [
    {
     "data": {
      "image/png": "[encoded data removed]",
      "text/plain": [
       "<Figure size 576x576 with 1 Axes>"
      ]
     },
     "metadata": {
      "needs_background": "light"
     },
     "output_type": "display_data"
    }
   ],
   "source": [
    "fig = plt.figure(figsize = (8,8))\n",
    "ax = fig.add_subplot(1,1,1) \n",
    "ax.set_xlabel('Principal Component 1', fontsize = 15)\n",
    "ax.set_ylabel('Principal Component 2', fontsize = 15)\n",
    "ax.set_title('2 component tSNE', fontsize = 20)\n",
    "targets = ['философия', 'фанфик', 'фэнтази']\n",
    "colors = ['lightpink', 'palegreen', 'lightskyblue']\n",
    "for target, color in zip(targets,colors):\n",
    "    indicesToKeep = tsne_final['genre'] == target\n",
    "    ax.scatter(tsne_final.loc[indicesToKeep, 'principal component 1']\n",
    "               , tsne_final.loc[indicesToKeep, 'principal component 2']\n",
    "               , c = color\n",
    "               , s = 50)\n",
    "ax.legend(targets)\n",
    "ax.grid()"
   ]
  },
  {
   "cell_type": "markdown",
   "metadata": {},
   "source": [
    "# Тематическое моделирование"
   ]
  },
  {
   "cell_type": "code",
   "execution_count": 124,
   "metadata": {},
   "outputs": [],
   "source": [
    "df_emails = pd.read_csv('Emails.csv')"
   ]
  },
  {
   "cell_type": "code",
   "execution_count": 125,
   "metadata": {},
   "outputs": [
    {
     "data": {
      "text/html": [
       "<div>\n",
       "<style scoped>\n",
       "    .dataframe tbody tr th:only-of-type {\n",
       "        vertical-align: middle;\n",
       "    }\n",
       "\n",
       "    .dataframe tbody tr th {\n",
       "        vertical-align: top;\n",
       "    }\n",
       "\n",
       "    .dataframe thead th {\n",
       "        text-align: right;\n",
       "    }\n",
       "</style>\n",
       "<table border=\"1\" class=\"dataframe\">\n",
       "  <thead>\n",
       "    <tr style=\"text-align: right;\">\n",
       "      <th></th>\n",
       "      <th>Id</th>\n",
       "      <th>DocNumber</th>\n",
       "      <th>MetadataSubject</th>\n",
       "      <th>MetadataTo</th>\n",
       "      <th>MetadataFrom</th>\n",
       "      <th>SenderPersonId</th>\n",
       "      <th>MetadataDateSent</th>\n",
       "      <th>MetadataDateReleased</th>\n",
       "      <th>MetadataPdfLink</th>\n",
       "      <th>MetadataCaseNumber</th>\n",
       "      <th>...</th>\n",
       "      <th>ExtractedTo</th>\n",
       "      <th>ExtractedFrom</th>\n",
       "      <th>ExtractedCc</th>\n",
       "      <th>ExtractedDateSent</th>\n",
       "      <th>ExtractedCaseNumber</th>\n",
       "      <th>ExtractedDocNumber</th>\n",
       "      <th>ExtractedDateReleased</th>\n",
       "      <th>ExtractedReleaseInPartOrFull</th>\n",
       "      <th>ExtractedBodyText</th>\n",
       "      <th>RawText</th>\n",
       "    </tr>\n",
       "  </thead>\n",
       "  <tbody>\n",
       "    <tr>\n",
       "      <th>0</th>\n",
       "      <td>1</td>\n",
       "      <td>C05739545</td>\n",
       "      <td>WOW</td>\n",
       "      <td>H</td>\n",
       "      <td>Sullivan, Jacob J</td>\n",
       "      <td>87.0</td>\n",
       "      <td>2012-09-12T04:00:00+00:00</td>\n",
       "      <td>2015-05-22T04:00:00+00:00</td>\n",
       "      <td>DOCUMENTS/HRC_Email_1_296/HRCH2/DOC_0C05739545...</td>\n",
       "      <td>F-2015-04841</td>\n",
       "      <td>...</td>\n",
       "      <td>NaN</td>\n",
       "      <td>Sullivan, Jacob J &lt;Sullivan11@state.gov&gt;</td>\n",
       "      <td>NaN</td>\n",
       "      <td>Wednesday, September 12, 2012 10:16 AM</td>\n",
       "      <td>F-2015-04841</td>\n",
       "      <td>C05739545</td>\n",
       "      <td>05/13/2015</td>\n",
       "      <td>RELEASE IN FULL</td>\n",
       "      <td>NaN</td>\n",
       "      <td>UNCLASSIFIED\\nU.S. Department of State\\nCase N...</td>\n",
       "    </tr>\n",
       "    <tr>\n",
       "      <th>1</th>\n",
       "      <td>2</td>\n",
       "      <td>C05739546</td>\n",
       "      <td>H: LATEST: HOW SYRIA IS AIDING QADDAFI AND MOR...</td>\n",
       "      <td>H</td>\n",
       "      <td>NaN</td>\n",
       "      <td>NaN</td>\n",
       "      <td>2011-03-03T05:00:00+00:00</td>\n",
       "      <td>2015-05-22T04:00:00+00:00</td>\n",
       "      <td>DOCUMENTS/HRC_Email_1_296/HRCH1/DOC_0C05739546...</td>\n",
       "      <td>F-2015-04841</td>\n",
       "      <td>...</td>\n",
       "      <td>NaN</td>\n",
       "      <td>NaN</td>\n",
       "      <td>NaN</td>\n",
       "      <td>NaN</td>\n",
       "      <td>F-2015-04841</td>\n",
       "      <td>C05739546</td>\n",
       "      <td>05/13/2015</td>\n",
       "      <td>RELEASE IN PART</td>\n",
       "      <td>B6\\nThursday, March 3, 2011 9:45 PM\\nH: Latest...</td>\n",
       "      <td>UNCLASSIFIED\\nU.S. Department of State\\nCase N...</td>\n",
       "    </tr>\n",
       "    <tr>\n",
       "      <th>2</th>\n",
       "      <td>3</td>\n",
       "      <td>C05739547</td>\n",
       "      <td>CHRIS STEVENS</td>\n",
       "      <td>;H</td>\n",
       "      <td>Mills, Cheryl D</td>\n",
       "      <td>32.0</td>\n",
       "      <td>2012-09-12T04:00:00+00:00</td>\n",
       "      <td>2015-05-22T04:00:00+00:00</td>\n",
       "      <td>DOCUMENTS/HRC_Email_1_296/HRCH2/DOC_0C05739547...</td>\n",
       "      <td>F-2015-04841</td>\n",
       "      <td>...</td>\n",
       "      <td>B6</td>\n",
       "      <td>Mills, Cheryl D &lt;MillsCD@state.gov&gt;</td>\n",
       "      <td>Abedin, Huma</td>\n",
       "      <td>Wednesday, September 12, 2012 11:52 AM</td>\n",
       "      <td>F-2015-04841</td>\n",
       "      <td>C05739547</td>\n",
       "      <td>05/14/2015</td>\n",
       "      <td>RELEASE IN PART</td>\n",
       "      <td>Thx</td>\n",
       "      <td>UNCLASSIFIED\\nU.S. Department of State\\nCase N...</td>\n",
       "    </tr>\n",
       "    <tr>\n",
       "      <th>3</th>\n",
       "      <td>4</td>\n",
       "      <td>C05739550</td>\n",
       "      <td>CAIRO CONDEMNATION - FINAL</td>\n",
       "      <td>H</td>\n",
       "      <td>Mills, Cheryl D</td>\n",
       "      <td>32.0</td>\n",
       "      <td>2012-09-12T04:00:00+00:00</td>\n",
       "      <td>2015-05-22T04:00:00+00:00</td>\n",
       "      <td>DOCUMENTS/HRC_Email_1_296/HRCH2/DOC_0C05739550...</td>\n",
       "      <td>F-2015-04841</td>\n",
       "      <td>...</td>\n",
       "      <td>NaN</td>\n",
       "      <td>Mills, Cheryl D &lt;MillsCD@state.gov&gt;</td>\n",
       "      <td>Mitchell, Andrew B</td>\n",
       "      <td>Wednesday, September 12,2012 12:44 PM</td>\n",
       "      <td>F-2015-04841</td>\n",
       "      <td>C05739550</td>\n",
       "      <td>05/13/2015</td>\n",
       "      <td>RELEASE IN PART</td>\n",
       "      <td>NaN</td>\n",
       "      <td>UNCLASSIFIED\\nU.S. Department of State\\nCase N...</td>\n",
       "    </tr>\n",
       "    <tr>\n",
       "      <th>4</th>\n",
       "      <td>5</td>\n",
       "      <td>C05739554</td>\n",
       "      <td>H: LATEST: HOW SYRIA IS AIDING QADDAFI AND MOR...</td>\n",
       "      <td>Abedin, Huma</td>\n",
       "      <td>H</td>\n",
       "      <td>80.0</td>\n",
       "      <td>2011-03-11T05:00:00+00:00</td>\n",
       "      <td>2015-05-22T04:00:00+00:00</td>\n",
       "      <td>DOCUMENTS/HRC_Email_1_296/HRCH1/DOC_0C05739554...</td>\n",
       "      <td>F-2015-04841</td>\n",
       "      <td>...</td>\n",
       "      <td>NaN</td>\n",
       "      <td>NaN</td>\n",
       "      <td>NaN</td>\n",
       "      <td>NaN</td>\n",
       "      <td>F-2015-04841</td>\n",
       "      <td>C05739554</td>\n",
       "      <td>05/13/2015</td>\n",
       "      <td>RELEASE IN PART</td>\n",
       "      <td>H &lt;hrod17@clintonemail.com&gt;\\nFriday, March 11,...</td>\n",
       "      <td>B6\\nUNCLASSIFIED\\nU.S. Department of State\\nCa...</td>\n",
       "    </tr>\n",
       "  </tbody>\n",
       "</table>\n",
       "<p>5 rows × 22 columns</p>\n",
       "</div>"
      ],
      "text/plain": [
       "   Id  DocNumber                                    MetadataSubject  \\\n",
       "0   1  C05739545                                                WOW   \n",
       "1   2  C05739546  H: LATEST: HOW SYRIA IS AIDING QADDAFI AND MOR...   \n",
       "2   3  C05739547                                      CHRIS STEVENS   \n",
       "3   4  C05739550                         CAIRO CONDEMNATION - FINAL   \n",
       "4   5  C05739554  H: LATEST: HOW SYRIA IS AIDING QADDAFI AND MOR...   \n",
       "\n",
       "     MetadataTo       MetadataFrom  SenderPersonId           MetadataDateSent  \\\n",
       "0             H  Sullivan, Jacob J            87.0  2012-09-12T04:00:00+00:00   \n",
       "1             H                NaN             NaN  2011-03-03T05:00:00+00:00   \n",
       "2            ;H    Mills, Cheryl D            32.0  2012-09-12T04:00:00+00:00   \n",
       "3             H    Mills, Cheryl D            32.0  2012-09-12T04:00:00+00:00   \n",
       "4  Abedin, Huma                  H            80.0  2011-03-11T05:00:00+00:00   \n",
       "\n",
       "        MetadataDateReleased  \\\n",
       "0  2015-05-22T04:00:00+00:00   \n",
       "1  2015-05-22T04:00:00+00:00   \n",
       "2  2015-05-22T04:00:00+00:00   \n",
       "3  2015-05-22T04:00:00+00:00   \n",
       "4  2015-05-22T04:00:00+00:00   \n",
       "\n",
       "                                     MetadataPdfLink MetadataCaseNumber  ...  \\\n",
       "0  DOCUMENTS/HRC_Email_1_296/HRCH2/DOC_0C05739545...       F-2015-04841  ...   \n",
       "1  DOCUMENTS/HRC_Email_1_296/HRCH1/DOC_0C05739546...       F-2015-04841  ...   \n",
       "2  DOCUMENTS/HRC_Email_1_296/HRCH2/DOC_0C05739547...       F-2015-04841  ...   \n",
       "3  DOCUMENTS/HRC_Email_1_296/HRCH2/DOC_0C05739550...       F-2015-04841  ...   \n",
       "4  DOCUMENTS/HRC_Email_1_296/HRCH1/DOC_0C05739554...       F-2015-04841  ...   \n",
       "\n",
       "  ExtractedTo                             ExtractedFrom         ExtractedCc  \\\n",
       "0         NaN  Sullivan, Jacob J <Sullivan11@state.gov>                 NaN   \n",
       "1         NaN                                       NaN                 NaN   \n",
       "2          B6       Mills, Cheryl D <MillsCD@state.gov>        Abedin, Huma   \n",
       "3         NaN       Mills, Cheryl D <MillsCD@state.gov>  Mitchell, Andrew B   \n",
       "4         NaN                                       NaN                 NaN   \n",
       "\n",
       "                        ExtractedDateSent ExtractedCaseNumber  \\\n",
       "0  Wednesday, September 12, 2012 10:16 AM        F-2015-04841   \n",
       "1                                     NaN        F-2015-04841   \n",
       "2  Wednesday, September 12, 2012 11:52 AM        F-2015-04841   \n",
       "3   Wednesday, September 12,2012 12:44 PM        F-2015-04841   \n",
       "4                                     NaN        F-2015-04841   \n",
       "\n",
       "  ExtractedDocNumber ExtractedDateReleased ExtractedReleaseInPartOrFull  \\\n",
       "0          C05739545            05/13/2015              RELEASE IN FULL   \n",
       "1          C05739546            05/13/2015              RELEASE IN PART   \n",
       "2          C05739547            05/14/2015              RELEASE IN PART   \n",
       "3          C05739550            05/13/2015              RELEASE IN PART   \n",
       "4          C05739554            05/13/2015              RELEASE IN PART   \n",
       "\n",
       "                                   ExtractedBodyText  \\\n",
       "0                                                NaN   \n",
       "1  B6\\nThursday, March 3, 2011 9:45 PM\\nH: Latest...   \n",
       "2                                                Thx   \n",
       "3                                                NaN   \n",
       "4  H <hrod17@clintonemail.com>\\nFriday, March 11,...   \n",
       "\n",
       "                                             RawText  \n",
       "0  UNCLASSIFIED\\nU.S. Department of State\\nCase N...  \n",
       "1  UNCLASSIFIED\\nU.S. Department of State\\nCase N...  \n",
       "2  UNCLASSIFIED\\nU.S. Department of State\\nCase N...  \n",
       "3  UNCLASSIFIED\\nU.S. Department of State\\nCase N...  \n",
       "4  B6\\nUNCLASSIFIED\\nU.S. Department of State\\nCa...  \n",
       "\n",
       "[5 rows x 22 columns]"
      ]
     },
     "execution_count": 125,
     "metadata": {},
     "output_type": "execute_result"
    }
   ],
   "source": [
    "df_emails.head()"
   ]
  },
  {
   "cell_type": "code",
   "execution_count": 137,
   "metadata": {},
   "outputs": [],
   "source": [
    "from nltk.stem import WordNetLemmatizer\n",
    "from string import punctuation\n",
    "import string\n",
    "import re"
   ]
  },
  {
   "cell_type": "code",
   "execution_count": 134,
   "metadata": {},
   "outputs": [],
   "source": [
    "def preproc_eng(text):\n",
    "    text = str(text)\n",
    "    lemmatizer = WordNetLemmatizer()\n",
    "    clean_text = ' '.join([word for word in text.lower().split()])\n",
    "    # убираем знаки препинания\n",
    "    clean_text = clean_text.translate(str.maketrans(dict.fromkeys(string.punctuation))).split()\n",
    "    clean_text = [re.sub('[«|»|…]', '', word) for word in clean_text]\n",
    "    clean_text = [re.sub('\\d', '', word) for word in clean_text]\n",
    "    # лемматизируем\n",
    "    clean_text = ' '.join([lemmatizer.lemmatize(word) for word in clean_text])\n",
    "    clean_text = clean_text.replace('\\n', '')\n",
    "    clean_text = clean_text.replace('nan', '')\n",
    "    # убираем стоп-слова\n",
    "    clean_text = ' '.join([word for word in clean_text.split() if word not in stopwords.words('english') and len(word) > 2])\n",
    "    return clean_text"
   ]
  },
  {
   "cell_type": "code",
   "execution_count": 135,
   "metadata": {},
   "outputs": [],
   "source": [
    "#from tqdm._tqdm_notebook import tqdm_notebook\n",
    "#tqdm_notebook.pandas('PROGRESS>>>')"
   ]
  },
  {
   "cell_type": "code",
   "execution_count": 138,
   "metadata": {},
   "outputs": [
    {
     "data": {
      "application/vnd.jupyter.widget-view+json": {
       "model_id": "d2094cad0d284956988c9da833f81623",
       "version_major": 2,
       "version_minor": 0
      },
      "text/plain": [
       "HBox(children=(FloatProgress(value=0.0, max=7945.0), HTML(value='')))"
      ]
     },
     "metadata": {},
     "output_type": "display_data"
    },
    {
     "name": "stdout",
     "output_type": "stream",
     "text": [
      "\n"
     ]
    }
   ],
   "source": [
    "emails_corpus = df_emails['ExtractedBodyText'].progress_apply(preproc_eng)"
   ]
  },
  {
   "cell_type": "markdown",
   "metadata": {},
   "source": [
    "**Для CountVectorizer**"
   ]
  },
  {
   "cell_type": "code",
   "execution_count": 139,
   "metadata": {},
   "outputs": [],
   "source": [
    "vec = CountVectorizer()\n",
    "X = vec.fit_transform(emails_corpus)\n",
    "vocab = vec.get_feature_names()"
   ]
  },
  {
   "cell_type": "code",
   "execution_count": 140,
   "metadata": {},
   "outputs": [],
   "source": [
    "import gensim\n",
    "from gensim import matutils\n",
    "from gensim.models.ldamodel import LdaModel\n",
    "from scipy.sparse import csc"
   ]
  },
  {
   "cell_type": "code",
   "execution_count": 141,
   "metadata": {},
   "outputs": [],
   "source": [
    "vocab_dict = dict([(i, s) for i, s in enumerate(vocab)])"
   ]
  },
  {
   "cell_type": "code",
   "execution_count": 142,
   "metadata": {},
   "outputs": [],
   "source": [
    "corpus = gensim.matutils.Sparse2Corpus(csc.csc_matrix(X))\n",
    "dictionary = gensim.corpora.Dictionary.from_corpus(corpus, vocab_dict)"
   ]
  },
  {
   "cell_type": "code",
   "execution_count": 143,
   "metadata": {},
   "outputs": [],
   "source": [
    "lda = LdaModel(matutils.Sparse2Corpus(X.T), num_topics=5, passes=20, id2word=vocab_dict)"
   ]
  },
  {
   "cell_type": "code",
   "execution_count": 144,
   "metadata": {},
   "outputs": [
    {
     "name": "stdout",
     "output_type": "stream",
     "text": [
      "(0, '0.023*\"call\" + 0.010*\"tomorrow\" + 0.010*\"get\" + 0.009*\"see\" + 0.009*\"know\" + 0.008*\"want\" + 0.008*\"email\" + 0.008*\"today\" + 0.007*\"also\" + 0.006*\"back\"')\n",
      "(1, '0.015*\"secretary\" + 0.015*\"office\" + 0.010*\"house\" + 0.008*\"obama\" + 0.008*\"republican\" + 0.008*\"president\" + 0.008*\"meeting\" + 0.008*\"state\" + 0.007*\"room\" + 0.007*\"time\"')\n",
      "(2, '0.007*\"state\" + 0.007*\"would\" + 0.005*\"one\" + 0.004*\"said\" + 0.004*\"people\" + 0.004*\"year\" + 0.004*\"also\" + 0.004*\"government\" + 0.004*\"new\" + 0.004*\"woman\"')\n",
      "(3, '0.031*\"fyi\" + 0.017*\"state\" + 0.013*\"cheryl\" + 0.013*\"huma\" + 0.010*\"mill\" + 0.009*\"benghazi\" + 0.009*\"abedin\" + 0.008*\"doc\" + 0.008*\"hrodclintonemailcom\" + 0.008*\"print\"')\n",
      "(4, '0.009*\"israel\" + 0.006*\"israeli\" + 0.006*\"party\" + 0.006*\"american\" + 0.004*\"palestinian\" + 0.004*\"koch\" + 0.004*\"group\" + 0.003*\"political\" + 0.003*\"right\" + 0.003*\"obama\"')\n"
     ]
    }
   ],
   "source": [
    "topics = lda.print_topics(num_topics=-1, num_words=10)\n",
    "for topic in topics:\n",
    "    print(topic)"
   ]
  },
  {
   "cell_type": "code",
   "execution_count": 147,
   "metadata": {},
   "outputs": [],
   "source": [
    "from pyLDAvis import gensim\n",
    "import pyLDAvis"
   ]
  },
  {
   "cell_type": "code",
   "execution_count": 148,
   "metadata": {},
   "outputs": [],
   "source": [
    "pyLDAvis.enable_notebook()"
   ]
  },
  {
   "cell_type": "code",
   "execution_count": 149,
   "metadata": {},
   "outputs": [
    {
     "name": "stderr",
     "output_type": "stream",
     "text": [
      "C:\\Users\\vital\\anaconda3\\lib\\site-packages\\pyLDAvis\\_prepare.py:257: FutureWarning: Sorting because non-concatenation axis is not aligned. A future version\n",
      "of pandas will change to not sort by default.\n",
      "\n",
      "To accept the future behavior, pass 'sort=False'.\n",
      "\n",
      "To retain the current behavior and silence the warning, pass 'sort=True'.\n",
      "\n",
      "  return pd.concat([default_term_info] + list(topic_dfs))\n"
     ]
    },
    {
     "data": {
      "text/html": [
       "\n",
       "<link rel=\"stylesheet\" type=\"text/css\" href=\"https://cdn.rawgit.com/bmabey/pyLDAvis/files/ldavis.v1.0.0.css\">\n",
       "\n",
       "\n",
       "<div id=\"ldavis_el1798815984213802247407738202\"></div>\n",
       "<script type=\"text/javascript\">\n",
       "\n",
       "var ldavis_el1798815984213802247407738202_data = {\"mdsDat\": {\"x\": [-0.1543780196503809, -0.10561563297679162, -0.09640270725228088, 0.2670610197331581, 0.08933534014629588], \"y\": [-0.07469417549874101, 0.06945406004304773, -0.09982311481439224, -0.13056516289660475, 0.2356283931666904], \"topics\": [1, 2, 3, 4, 5], \"cluster\": [1, 1, 1, 1, 1], \"Freq\": [32.89689254760742, 31.31502342224121, 19.073400497436523, 10.007104873657227, 6.707571506500244]}, \"tinfo\": {\"Category\": [\"Default\", \"Default\", \"Default\", \"Default\", \"Default\", \"Default\", \"Default\", \"Default\", \"Default\", \"Default\", \"Default\", \"Default\", \"Default\", \"Default\", \"Default\", \"Default\", \"Default\", \"Default\", \"Default\", \"Default\", \"Default\", \"Default\", \"Default\", \"Default\", \"Default\", \"Default\", \"Default\", \"Default\", \"Default\", \"Default\", \"Topic1\", \"Topic1\", \"Topic1\", \"Topic1\", \"Topic1\", \"Topic1\", \"Topic1\", \"Topic1\", \"Topic1\", \"Topic1\", \"Topic1\", \"Topic1\", \"Topic1\", \"Topic1\", \"Topic1\", \"Topic1\", \"Topic1\", \"Topic1\", \"Topic1\", \"Topic1\", \"Topic1\", \"Topic1\", \"Topic1\", \"Topic1\", \"Topic1\", \"Topic1\", \"Topic1\", \"Topic1\", \"Topic1\", \"Topic1\", \"Topic1\", \"Topic1\", \"Topic1\", \"Topic1\", \"Topic1\", \"Topic1\", \"Topic1\", \"Topic1\", \"Topic1\", \"Topic1\", \"Topic1\", \"Topic1\", \"Topic1\", \"Topic1\", \"Topic1\", \"Topic1\", \"Topic1\", \"Topic1\", \"Topic1\", \"Topic1\", \"Topic1\", \"Topic1\", \"Topic1\", \"Topic1\", \"Topic1\", \"Topic1\", \"Topic1\", \"Topic1\", \"Topic1\", \"Topic1\", \"Topic1\", \"Topic1\", \"Topic1\", \"Topic1\", \"Topic1\", \"Topic1\", \"Topic1\", \"Topic1\", \"Topic1\", \"Topic1\", \"Topic1\", \"Topic1\", \"Topic2\", \"Topic2\", \"Topic2\", \"Topic2\", \"Topic2\", \"Topic2\", \"Topic2\", \"Topic2\", \"Topic2\", \"Topic2\", \"Topic2\", \"Topic2\", \"Topic2\", \"Topic2\", \"Topic2\", \"Topic2\", \"Topic2\", \"Topic2\", \"Topic2\", \"Topic2\", \"Topic2\", \"Topic2\", \"Topic2\", \"Topic2\", \"Topic2\", \"Topic2\", \"Topic2\", \"Topic2\", \"Topic2\", \"Topic2\", \"Topic2\", \"Topic2\", \"Topic2\", \"Topic2\", \"Topic2\", \"Topic2\", \"Topic2\", \"Topic2\", \"Topic2\", \"Topic2\", \"Topic2\", \"Topic2\", \"Topic2\", \"Topic2\", \"Topic2\", \"Topic2\", \"Topic2\", \"Topic2\", \"Topic2\", \"Topic2\", \"Topic2\", \"Topic2\", \"Topic2\", \"Topic2\", \"Topic2\", \"Topic2\", \"Topic2\", \"Topic2\", \"Topic2\", \"Topic2\", \"Topic2\", \"Topic2\", \"Topic2\", \"Topic2\", \"Topic2\", \"Topic2\", \"Topic2\", \"Topic2\", \"Topic2\", \"Topic2\", \"Topic2\", \"Topic2\", \"Topic2\", \"Topic2\", \"Topic2\", \"Topic3\", \"Topic3\", \"Topic3\", \"Topic3\", \"Topic3\", \"Topic3\", \"Topic3\", \"Topic3\", \"Topic3\", \"Topic3\", \"Topic3\", \"Topic3\", \"Topic3\", \"Topic3\", \"Topic3\", \"Topic3\", \"Topic3\", \"Topic3\", \"Topic3\", \"Topic3\", \"Topic3\", \"Topic3\", \"Topic3\", \"Topic3\", \"Topic3\", \"Topic3\", \"Topic3\", \"Topic3\", \"Topic3\", \"Topic3\", \"Topic3\", \"Topic3\", \"Topic3\", \"Topic3\", \"Topic3\", \"Topic3\", \"Topic3\", \"Topic3\", \"Topic3\", \"Topic3\", \"Topic3\", \"Topic3\", \"Topic3\", \"Topic3\", \"Topic3\", \"Topic3\", \"Topic3\", \"Topic3\", \"Topic3\", \"Topic3\", \"Topic3\", \"Topic3\", \"Topic3\", \"Topic3\", \"Topic3\", \"Topic3\", \"Topic3\", \"Topic3\", \"Topic3\", \"Topic3\", \"Topic3\", \"Topic3\", \"Topic3\", \"Topic3\", \"Topic3\", \"Topic4\", \"Topic4\", \"Topic4\", \"Topic4\", \"Topic4\", \"Topic4\", \"Topic4\", \"Topic4\", \"Topic4\", \"Topic4\", \"Topic4\", \"Topic4\", \"Topic4\", \"Topic4\", \"Topic4\", \"Topic4\", \"Topic4\", \"Topic4\", \"Topic4\", \"Topic4\", \"Topic4\", \"Topic4\", \"Topic4\", \"Topic4\", \"Topic4\", \"Topic4\", \"Topic4\", \"Topic4\", \"Topic4\", \"Topic4\", \"Topic4\", \"Topic4\", \"Topic4\", \"Topic4\", \"Topic4\", \"Topic4\", \"Topic4\", \"Topic4\", \"Topic4\", \"Topic4\", \"Topic4\", \"Topic4\", \"Topic4\", \"Topic4\", \"Topic4\", \"Topic4\", \"Topic4\", \"Topic4\", \"Topic4\", \"Topic4\", \"Topic4\", \"Topic5\", \"Topic5\", \"Topic5\", \"Topic5\", \"Topic5\", \"Topic5\", \"Topic5\", \"Topic5\", \"Topic5\", \"Topic5\", \"Topic5\", \"Topic5\", \"Topic5\", \"Topic5\", \"Topic5\", \"Topic5\", \"Topic5\", \"Topic5\", \"Topic5\", \"Topic5\", \"Topic5\", \"Topic5\", \"Topic5\", \"Topic5\", \"Topic5\", \"Topic5\", \"Topic5\", \"Topic5\", \"Topic5\", \"Topic5\", \"Topic5\", \"Topic5\", \"Topic5\", \"Topic5\", \"Topic5\", \"Topic5\", \"Topic5\", \"Topic5\", \"Topic5\", \"Topic5\", \"Topic5\", \"Topic5\", \"Topic5\", \"Topic5\", \"Topic5\", \"Topic5\", \"Topic5\", \"Topic5\", \"Topic5\", \"Topic5\", \"Topic5\", \"Topic5\", \"Topic5\", \"Topic5\", \"Topic5\", \"Topic5\", \"Topic5\", \"Topic5\", \"Topic5\", \"Topic5\", \"Topic5\", \"Topic5\", \"Topic5\", \"Topic5\", \"Topic5\", \"Topic5\", \"Topic5\", \"Topic5\", \"Topic5\", \"Topic5\", \"Topic5\"], \"Freq\": [1028.0, 707.0, 1811.0, 1284.0, 1027.0, 414.0, 919.0, 401.0, 906.0, 502.0, 756.0, 636.0, 732.0, 506.0, 327.0, 464.0, 544.0, 665.0, 446.0, 475.0, 291.0, 283.0, 505.0, 415.0, 270.0, 414.0, 984.0, 246.0, 302.0, 295.0, 424.8944396972656, 139.72354125976562, 304.6664123535156, 106.46360778808594, 225.0506134033203, 93.2144775390625, 91.24327087402344, 84.89794921875, 78.05933380126953, 74.44249725341797, 195.25567626953125, 658.3182373046875, 62.79941177368164, 62.54154968261719, 61.95196533203125, 62.5050048828125, 59.407615661621094, 56.267120361328125, 56.679588317871094, 55.337677001953125, 55.19681930541992, 54.249141693115234, 53.837093353271484, 53.69845199584961, 50.17048263549805, 49.36567687988281, 49.29679489135742, 47.67253112792969, 47.329750061035156, 47.26808166503906, 901.5330200195312, 119.5523910522461, 446.3603820800781, 129.7599334716797, 162.5123291015625, 103.74402618408203, 287.61541748046875, 243.17918395996094, 131.45208740234375, 81.28998565673828, 235.35877990722656, 96.55756378173828, 267.98193359375, 148.09446716308594, 146.53024291992188, 207.168701171875, 122.37976837158203, 265.5661926269531, 146.0599365234375, 130.7303009033203, 581.7315673828125, 413.0769958496094, 581.2191772460938, 240.84774780273438, 357.8384704589844, 357.37542724609375, 223.22879028320312, 166.31939697265625, 217.2789764404297, 220.2227783203125, 351.3697814941406, 282.28912353515625, 329.86358642578125, 324.3303527832031, 279.3385314941406, 205.42926025390625, 257.7884521484375, 202.28622436523438, 217.8757781982422, 218.4665985107422, 212.38360595703125, 217.6855926513672, 144.5870819091797, 100.45185852050781, 91.42154693603516, 89.038818359375, 87.49603271484375, 83.29067993164062, 77.28994750976562, 204.82791137695312, 77.48877716064453, 68.86264038085938, 68.2132339477539, 62.617958068847656, 63.28818893432617, 62.474693298339844, 60.13041305541992, 59.932315826416016, 54.501651763916016, 103.3802719116211, 52.88490295410156, 49.88014221191406, 47.8080940246582, 59.1589241027832, 53.2098274230957, 43.65501403808594, 42.460201263427734, 42.5811653137207, 39.490360260009766, 39.12657165527344, 39.567840576171875, 38.32331848144531, 127.69727325439453, 134.94630432128906, 134.3474884033203, 248.6346435546875, 127.1746597290039, 234.33518981933594, 89.47584533691406, 143.6855926513672, 140.04171752929688, 323.5132751464844, 75.46800231933594, 383.7204284667969, 143.69126892089844, 152.61866760253906, 177.3054962158203, 339.7744445800781, 439.8490905761719, 274.9558410644531, 272.7720642089844, 331.8611755371094, 203.811767578125, 428.7362365722656, 311.90399169921875, 288.493896484375, 295.5681457519531, 651.16455078125, 419.4918212890625, 281.6741027832031, 309.1836853027344, 205.4435272216797, 430.9275817871094, 318.51171875, 504.2784729003906, 250.58984375, 277.03826904296875, 265.0501708984375, 663.0243530273438, 446.3417053222656, 392.09136962890625, 224.6201934814453, 275.0429382324219, 335.8420104980469, 307.2218322753906, 260.5108337402344, 277.1079406738281, 336.5879211425781, 294.5318298339844, 292.8176574707031, 280.89794921875, 142.06297302246094, 128.36831665039062, 127.7170181274414, 104.33268737792969, 72.57109832763672, 68.59549713134766, 67.16002655029297, 63.297542572021484, 60.08184814453125, 352.404541015625, 57.17087173461914, 54.1934814453125, 219.80763244628906, 50.272281646728516, 50.778724670410156, 48.40115737915039, 60.00515365600586, 44.65129470825195, 42.21331024169922, 41.005462646484375, 144.464599609375, 39.18395233154297, 39.273338317871094, 37.867610931396484, 37.91691970825195, 42.43981170654297, 453.10223388671875, 167.75965881347656, 193.66476440429688, 182.83006286621094, 145.1456756591797, 75.60733032226562, 435.11920166015625, 312.7404479980469, 889.7877807617188, 329.3898010253906, 61.65440368652344, 933.1905517578125, 184.34474182128906, 204.8247528076172, 278.7511291503906, 270.4076232910156, 102.75174713134766, 513.0975952148438, 591.0427856445312, 481.6103210449219, 240.70535278320312, 137.4705047607422, 514.2958984375, 482.5025329589844, 270.01702880859375, 365.9697265625, 450.3447265625, 378.76171875, 236.65216064453125, 366.4540710449219, 475.302978515625, 288.87945556640625, 217.3579864501953, 209.93597412109375, 210.446533203125, 400.5434875488281, 290.6948547363281, 282.89422607421875, 270.00836181640625, 258.2438049316406, 212.07992553710938, 200.2517547607422, 196.5572052001953, 193.880859375, 193.880859375, 190.73362731933594, 185.8917999267578, 128.6215057373047, 124.15982055664062, 120.14942932128906, 113.7994613647461, 155.33255004882812, 81.14225006103516, 79.150390625, 74.65048217773438, 55.18854904174805, 53.179420471191406, 52.5597038269043, 51.862789154052734, 49.01771545410156, 43.28746032714844, 41.56949234008789, 199.4596710205078, 34.767208099365234, 33.52421951293945, 404.6774597167969, 319.3385314941406, 191.63345336914062, 253.3128662109375, 978.1390991210938, 203.27198791503906, 257.9208984375, 254.08712768554688, 257.4867858886719, 201.87933349609375, 191.4783172607422, 200.06390380859375, 235.8907012939453, 217.8727264404297, 205.55206298828125, 550.3909301757812, 233.84629821777344, 252.8882293701172, 222.84542846679688, 222.09048461914062, 197.08119201660156, 52.84219741821289, 30.203702926635742, 28.71516990661621, 26.363243103027344, 24.689300537109375, 24.29289436340332, 24.869062423706055, 22.67545509338379, 21.803375244140625, 17.57024383544922, 17.413921356201172, 17.26309585571289, 17.26309585571289, 17.26309585571289, 16.776653289794922, 16.346660614013672, 16.312885284423828, 16.312885284423828, 16.36644744873047, 16.137258529663086, 15.225229263305664, 14.845730781555176, 15.390806198120117, 14.555501937866211, 14.4293794631958, 13.323674201965332, 35.23958206176758, 12.405816078186035, 12.244094848632812, 11.24595832824707, 46.602210998535156, 122.96476745605469, 212.39834594726562, 44.722904205322266, 166.34616088867188, 498.1705627441406, 73.23822021484375, 21.079198837280273, 46.26399230957031, 82.02019500732422, 121.15270233154297, 91.5533676147461, 77.80518341064453, 38.412662506103516, 91.62732696533203, 41.707984924316406, 57.43556594848633, 80.28287506103516, 133.95484924316406, 92.36701202392578, 86.83468627929688, 208.09996032714844, 70.08197784423828, 201.7564697265625, 191.7296905517578, 173.52830505371094, 162.37171936035156, 134.59716796875, 71.38835906982422, 138.92465209960938, 80.30304718017578, 155.162353515625, 132.416259765625, 118.67156219482422, 100.9636001586914, 95.93438720703125, 125.49647521972656, 120.40383911132812, 93.2156982421875, 76.29733276367188, 76.4165267944336], \"Term\": [\"fyi\", \"call\", \"state\", \"secretary\", \"office\", \"cheryl\", \"israel\", \"huma\", \"house\", \"get\", \"department\", \"also\", \"republican\", \"know\", \"mill\", \"room\", \"see\", \"israeli\", \"want\", \"white\", \"benghazi\", \"abedin\", \"work\", \"need\", \"doc\", \"today\", \"party\", \"tomorrow\", \"date\", \"subject\", \"koch\", \"jew\", \"jewish\", \"skousen\", \"beck\", \"murder\", \"wilder\", \"blumenthal\", \"juarez\", \"richards\", \"jerusalem\", \"israeli\", \"netanyahus\", \"birch\", \"idf\", \"hiker\", \"conspiracy\", \"libertarian\", \"flotilla\", \"farright\", \"skousens\", \"vargas\", \"settler\", \"buckley\", \"stupak\", \"glenn\", \"hamas\", \"zionist\", \"zionism\", \"arrest\", \"israel\", \"islamic\", \"palestinian\", \"gaza\", \"charles\", \"communist\", \"tea\", \"netanyahu\", \"rightwing\", \"rally\", \"movement\", \"district\", \"arab\", \"claim\", \"iranian\", \"city\", \"activist\", \"book\", \"muslim\", \"black\", \"party\", \"group\", \"american\", \"conservative\", \"political\", \"right\", \"called\", \"school\", \"peace\", \"told\", \"obama\", \"like\", \"new\", \"one\", \"year\", \"david\", \"say\", \"former\", \"government\", \"republican\", \"first\", \"time\", \"afghan\", \"conflict\", \"opportunity\", \"approach\", \"taliban\", \"chinese\", \"progress\", \"china\", \"commitment\", \"goal\", \"build\", \"haitian\", \"particularly\", \"regional\", \"solution\", \"include\", \"weve\", \"relationship\", \"answer\", \"respect\", \"effective\", \"beyond\", \"lack\", \"seek\", \"capacity\", \"kabul\", \"growth\", \"gender\", \"necessary\", \"prevent\", \"important\", \"pakistan\", \"diplomacy\", \"effort\", \"nuclear\", \"afghanistan\", \"region\", \"development\", \"global\", \"security\", \"focus\", \"woman\", \"must\", \"economic\", \"change\", \"country\", \"people\", \"make\", \"many\", \"policy\", \"military\", \"also\", \"issue\", \"world\", \"need\", \"would\", \"government\", \"united\", \"could\", \"international\", \"year\", \"work\", \"one\", \"well\", \"support\", \"way\", \"state\", \"said\", \"new\", \"official\", \"clinton\", \"president\", \"time\", \"like\", \"american\", \"democrat\", \"arrive\", \"route\", \"depart\", \"boehner\", \"tory\", \"labour\", \"aide\", \"lobbyist\", \"reid\", \"gop\", \"biden\", \"spray\", \"senate\", \"rating\", \"tbd\", \"residence\", \"dup\", \"chamber\", \"bloomberg\", \"unionist\", \"preceding\", \"britain\", \"miliband\", \"brown\", \"prebrief\", \"baucus\", \"cloture\", \"rahm\", \"sinn\", \"room\", \"floor\", \"daily\", \"poll\", \"airport\", \"uup\", \"white\", \"private\", \"office\", \"vote\", \"outer\", \"secretary\", \"senator\", \"voter\", \"staff\", \"percent\", \"ireland\", \"republican\", \"house\", \"meeting\", \"conference\", \"treaty\", \"obama\", \"president\", \"washington\", \"department\", \"time\", \"party\", \"election\", \"said\", \"state\", \"new\", \"bill\", \"minister\", \"foreign\", \"huma\", \"benghazi\", \"abedin\", \"doc\", \"hrodclintonemailcom\", \"dept\", \"comm\", \"waiver\", \"redaction\", \"foia\", \"millscdstategov\", \"lona\", \"abedinhstategov\", \"sullivanjjstategov\", \"valmoro\", \"lauren\", \"libya\", \"jilotylcstategov\", \"libyan\", \"statescb\", \"stategov\", \"jiloty\", \"preines\", \"declassify\", \"ashton\", \"statecb\", \"docx\", \"jacob\", \"tripoli\", \"cherylmills\", \"cheryl\", \"mill\", \"select\", \"sullivan\", \"fyi\", \"sensitive\", \"print\", \"subject\", \"date\", \"saturday\", \"produced\", \"wednesday\", \"sunday\", \"information\", \"friday\", \"state\", \"case\", \"department\", \"house\", \"secretary\", \"monday\", \"wjc\", \"thru\", \"dkna\", \"dem\", \"hrd\", \"tot\", \"worn\", \"ind\", \"edits\", \"noon\", \"asap\", \"votevol\", \"smone\", \"wldnt\", \"elsevol\", \"joanne\", \"xpress\", \"cingular\", \"ellen\", \"anytime\", \"wht\", \"emailed\", \"summary\", \"quinnipiac\", \"hvnt\", \"cherie\", \"min\", \"derek\", \"laszczych\", \"blk\", \"sheet\", \"thx\", \"tomorrow\", \"unfavorable\", \"email\", \"call\", \"ops\", \"checking\", \"favorable\", \"draft\", \"yes\", \"send\", \"ill\", \"mtg\", \"cdm\", \"sorry\", \"schedule\", \"discus\", \"let\", \"sure\", \"morning\", \"get\", \"please\", \"see\", \"know\", \"want\", \"today\", \"talk\", \"jake\", \"back\", \"thanks\", \"also\", \"work\", \"need\", \"think\", \"good\", \"time\", \"would\", \"like\", \"pls\", \"office\"], \"Total\": [1028.0, 707.0, 1811.0, 1284.0, 1027.0, 414.0, 919.0, 401.0, 906.0, 502.0, 756.0, 636.0, 732.0, 506.0, 327.0, 464.0, 544.0, 665.0, 446.0, 475.0, 291.0, 283.0, 505.0, 415.0, 270.0, 414.0, 984.0, 246.0, 302.0, 295.0, 425.5820007324219, 140.414306640625, 306.3965148925781, 107.15005493164062, 226.58876037597656, 93.91625213623047, 91.9310073852539, 85.59214782714844, 78.74705505371094, 75.13099670410156, 197.0706787109375, 665.5458374023438, 63.48945236206055, 63.2331657409668, 62.63906478881836, 63.20134353637695, 60.09796905517578, 56.953670501708984, 57.37302780151367, 56.025142669677734, 55.883182525634766, 54.93601989746094, 54.524070739746094, 54.38767623901367, 50.85635757446289, 50.0595703125, 49.990413665771484, 48.35877227783203, 48.01606369018555, 47.96311569213867, 919.3997802734375, 121.96135711669922, 461.8497314453125, 132.6007843017578, 167.01190185546875, 106.27064514160156, 305.03472900390625, 263.0664367675781, 139.28709411621094, 84.03382873535156, 262.9542236328125, 101.38639831542969, 305.5162658691406, 165.3414764404297, 167.63784790039062, 252.79739379882812, 137.17059326171875, 341.13433837890625, 169.4925994873047, 150.2705535888672, 984.9703369140625, 639.95361328125, 1013.6693725585938, 350.0883483886719, 613.962890625, 646.6170654296875, 357.0159606933594, 227.42198181152344, 360.6564025878906, 397.9671630859375, 1011.9213256835938, 681.9511108398438, 1019.701904296875, 990.4171752929688, 769.0367431640625, 379.9875793457031, 687.5507202148438, 400.9916687011719, 656.4419555664062, 732.0692749023438, 587.0361938476562, 1107.656005859375, 145.49246215820312, 101.37450408935547, 92.33159637451172, 89.94598388671875, 88.43694305419922, 84.21158599853516, 78.19737243652344, 207.23379516601562, 78.40034484863281, 69.78255462646484, 69.13540649414062, 63.51978302001953, 64.21106719970703, 63.38590621948242, 61.053470611572266, 60.856651306152344, 55.4162712097168, 105.128173828125, 53.80567169189453, 50.79422378540039, 48.72074890136719, 60.3138427734375, 54.27206039428711, 44.56432342529297, 43.36583709716797, 43.5030632019043, 40.39511489868164, 40.02851867675781, 40.485599517822266, 39.243919372558594, 131.94615173339844, 139.69773864746094, 139.1657257080078, 262.1056823730469, 132.3177947998047, 248.6497802734375, 93.00304412841797, 152.87828063964844, 150.28614807128906, 366.1805114746094, 78.50824737548828, 453.57861328125, 161.8020782470703, 175.11962890625, 208.3880157470703, 437.072509765625, 614.8846435546875, 359.3415832519531, 361.4612121582031, 456.57928466796875, 256.0723571777344, 636.507080078125, 443.068115234375, 401.97943115234375, 415.12982177734375, 1151.5499267578125, 656.4419555664062, 397.8129577636719, 465.75634765625, 270.7330017089844, 769.0367431640625, 505.4108581542969, 990.4171752929688, 365.7679443359375, 426.3013916015625, 400.3517150878906, 1811.20751953125, 1014.855712890625, 1019.701904296875, 345.5621032714844, 543.8525390625, 969.7523803710938, 1107.656005859375, 681.9511108398438, 1013.6693725585938, 337.4451904296875, 295.3714294433594, 293.6702880859375, 281.7419738769531, 142.91131591796875, 129.2090606689453, 128.57022094726562, 105.1821060180664, 73.43193817138672, 69.4349136352539, 68.03526306152344, 64.1757583618164, 60.919891357421875, 357.4998474121094, 58.04025650024414, 55.03835678100586, 223.44287109375, 51.1154899597168, 51.637969970703125, 49.26963424682617, 61.088809967041016, 45.487247467041016, 43.06439971923828, 41.85873031616211, 147.53724670410156, 40.022918701171875, 40.12256622314453, 38.70890426635742, 38.77108383178711, 43.42832565307617, 464.5971374511719, 172.00875854492188, 202.96571350097656, 191.6422882080078, 151.58303833007812, 77.93553924560547, 475.78704833984375, 343.8857727050781, 1027.009521484375, 374.751220703125, 63.4976806640625, 1284.5587158203125, 213.21812438964844, 240.40487670898438, 345.0105895996094, 338.9453430175781, 112.31083679199219, 732.0692749023438, 906.48876953125, 713.879638671875, 333.6965026855469, 166.07229614257812, 1011.9213256835938, 969.7523803710938, 419.0128479003906, 756.8816528320312, 1107.656005859375, 984.9703369140625, 396.39910888671875, 1014.855712890625, 1811.20751953125, 1019.701904296875, 411.26922607421875, 391.6822204589844, 434.208984375, 401.3082275390625, 291.4527893066406, 283.6563415527344, 270.76806640625, 259.002197265625, 212.84848022460938, 201.00990295410156, 197.31741333007812, 194.63861083984375, 194.63861083984375, 191.49122619628906, 186.6551055908203, 129.3792724609375, 124.91880798339844, 120.90715789794922, 114.56185150146484, 156.5361328125, 81.89926147460938, 79.9146728515625, 75.40889739990234, 55.962249755859375, 53.93720626831055, 53.323814392089844, 52.62749481201172, 49.82463455200195, 44.04413986206055, 42.33192443847656, 203.13946533203125, 35.52714920043945, 34.28276824951172, 414.5085144042969, 327.470458984375, 196.95901489257812, 261.2070007324219, 1028.6761474609375, 216.59994506835938, 282.2881774902344, 295.2302551269531, 302.51318359375, 240.8880615234375, 226.7521209716797, 248.76895141601562, 309.91717529296875, 292.8023681640625, 277.80938720703125, 1811.20751953125, 412.3517761230469, 756.8816528320312, 906.48876953125, 1284.5587158203125, 312.7039489746094, 53.758140563964844, 31.11577796936035, 29.623788833618164, 27.28494644165039, 25.59837532043457, 25.201642990112305, 25.820215225219727, 23.594486236572266, 22.714962005615234, 18.481473922729492, 18.32754898071289, 18.171796798706055, 18.171796798706055, 18.171796798706055, 17.68536949157715, 17.260265350341797, 17.22613525390625, 17.22613525390625, 17.297481536865234, 17.062007904052734, 16.134904861450195, 15.770967483520508, 16.35654640197754, 15.472230911254883, 15.339058876037598, 14.238969802856445, 37.77082824707031, 13.319124221801758, 13.160088539123535, 12.155655860900879, 50.99270248413086, 135.93212890625, 246.1344757080078, 50.54704284667969, 206.49188232421875, 707.38720703125, 88.88175964355469, 23.193941116333008, 56.422943115234375, 108.92912292480469, 176.58514404296875, 129.91549682617188, 109.40674591064453, 47.54188919067383, 137.91677856445312, 54.422889709472656, 82.44671630859375, 126.97647857666016, 266.00994873046875, 165.54486083984375, 153.27503967285156, 502.8890380859375, 115.73361206054688, 544.8452758789062, 506.24530029296875, 446.34869384765625, 414.54864501953125, 316.0650634765625, 126.07674407958984, 403.3626403808594, 162.2069091796875, 636.507080078125, 505.4108581542969, 415.12982177734375, 466.22491455078125, 421.0263671875, 1107.656005859375, 1151.5499267578125, 681.9511108398438, 238.87753295898438, 1027.009521484375], \"loglift\": [30.0, 29.0, 28.0, 27.0, 26.0, 25.0, 24.0, 23.0, 22.0, 21.0, 20.0, 19.0, 18.0, 17.0, 16.0, 15.0, 14.0, 13.0, 12.0, 11.0, 10.0, 9.0, 8.0, 7.0, 6.0, 5.0, 4.0, 3.0, 2.0, 1.0, 1.110200047492981, 1.1068999767303467, 1.1060999631881714, 1.1053999662399292, 1.1050000190734863, 1.1043000221252441, 1.1043000221252441, 1.103600025177002, 1.1030000448226929, 1.1025999784469604, 1.1024999618530273, 1.1009000539779663, 1.1009000539779663, 1.1008000373840332, 1.1008000373840332, 1.1007000207901, 1.1002000570297241, 1.0996999740600586, 1.0995999574661255, 1.0994000434875488, 1.0994000434875488, 1.0992000102996826, 1.0990999937057495, 1.0989999771118164, 1.0981999635696411, 1.0978000164031982, 1.0978000164031982, 1.097499966621399, 1.0973999500274658, 1.0972000360488892, 1.0922000408172607, 1.0917999744415283, 1.0777000188827515, 1.0901000499725342, 1.0844999551773071, 1.0877000093460083, 1.0529999732971191, 1.0332000255584717, 1.0539000034332275, 1.0786000490188599, 1.0009000301361084, 1.062999963760376, 0.9807000160217285, 1.0016000270843506, 0.9771999716758728, 0.9126999974250793, 0.9976999759674072, 0.8614000082015991, 0.9629999995231628, 0.9725000262260437, 0.5852000117301941, 0.6740000247955322, 0.5555999875068665, 0.7378000020980835, 0.5719000101089478, 0.5188000202178955, 0.6421999931335449, 0.7989000082015991, 0.6050000190734863, 0.5200999975204468, 0.05400000140070915, 0.2298000007867813, -0.01679999940097332, -0.004600000102072954, 0.09910000115633011, 0.4968000054359436, 0.13079999387264252, 0.42750000953674316, 0.008899999782443047, -0.09749999642372131, 0.09510000050067902, -0.5152000188827515, 1.1548000574111938, 1.151900053024292, 1.1512000560760498, 1.1509000062942505, 1.1504000425338745, 1.1500999927520752, 1.149399995803833, 1.149399995803833, 1.149399995803833, 1.1477999687194824, 1.1476000547409058, 1.1468000411987305, 1.1466000080108643, 1.1466000080108643, 1.145799994468689, 1.145799994468689, 1.1444000005722046, 1.1442999839782715, 1.1438000202178955, 1.142899990081787, 1.142199993133545, 1.141700029373169, 1.1412999629974365, 1.1404999494552612, 1.1399999856948853, 1.1397000551223755, 1.1383999586105347, 1.1382999420166016, 1.138100028038025, 1.1373000144958496, 1.1282999515533447, 1.1265000104904175, 1.1258000135421753, 1.108299970626831, 1.121399998664856, 1.1017999649047852, 1.1224000453948975, 1.0990999937057495, 1.090499997138977, 1.0371999740600586, 1.1216000318527222, 0.9937999844551086, 1.0424000024795532, 1.0234999656677246, 0.9994999766349792, 0.9093000292778015, 0.8260999917984009, 0.8934000134468079, 0.8795999884605408, 0.8420000076293945, 0.9327999949455261, 0.7659000158309937, 0.8100000023841858, 0.8292999863624573, 0.821399986743927, 0.5910000205039978, 0.7132999897003174, 0.8158000111579895, 0.7512999773025513, 0.8851000070571899, 0.5819000005722046, 0.699400007724762, 0.4860999882221222, 0.7828999757766724, 0.7300999760627747, 0.7486000061035156, 0.15610000491142273, 0.33970001339912415, 0.2053000032901764, 0.7303000092506409, 0.47929999232292175, 0.1006999984383583, -0.12139999866485596, 0.1987999975681305, -0.13590000569820404, 1.6542999744415283, 1.6540000438690186, 1.6540000438690186, 1.6539000272750854, 1.6509000062942505, 1.6503000259399414, 1.6502000093460083, 1.648800015449524, 1.6450999975204468, 1.644700050354004, 1.6439000368118286, 1.6431000232696533, 1.6430000066757202, 1.6425000429153442, 1.641800045967102, 1.6413999795913696, 1.6404999494552612, 1.6402000188827515, 1.6401000022888184, 1.6390999555587769, 1.6390000581741333, 1.6382999420166016, 1.6368999481201172, 1.636299967765808, 1.6358000040054321, 1.635699987411499, 1.6354999542236328, 1.6348999738693237, 1.634600043296814, 1.6339000463485718, 1.6318000555038452, 1.6318999528884888, 1.6100000143051147, 1.6097999811172485, 1.6134999990463257, 1.6265000104904175, 1.5674999952316284, 1.561900019645691, 1.5134999752044678, 1.527899980545044, 1.6274000406265259, 1.3372999429702759, 1.5113999843597412, 1.4967000484466553, 1.443600058555603, 1.430999994277954, 1.5678999423980713, 1.3014999628067017, 1.229200005531311, 1.2632999420166016, 1.330199956893921, 1.467900037765503, 0.9800999760627747, 0.9588000178337097, 1.2174999713897705, 0.9301999807357788, 0.7569000124931335, 0.701200008392334, 1.1410000324249268, 0.6381999850273132, 0.3190999925136566, 0.39559999108314514, 1.0191999673843384, 1.0332000255584717, 0.9326000213623047, 2.299999952316284, 2.299299955368042, 2.2992000579833984, 2.299099922180176, 2.2988998889923096, 2.29830002784729, 2.298099994659424, 2.2980000972747803, 2.2980000972747803, 2.2980000972747803, 2.2978999614715576, 2.297800064086914, 2.2960000038146973, 2.295799970626831, 2.295599937438965, 2.2952001094818115, 2.2941999435424805, 2.29259991645813, 2.29229998588562, 2.291800022125244, 2.2880001068115234, 2.2876999378204346, 2.287400007247925, 2.2871999740600586, 2.2855000495910645, 2.2844998836517334, 2.2836999893188477, 2.283600091934204, 2.2802999019622803, 2.2795000076293945, 2.277899980545044, 2.276700019836426, 2.2744998931884766, 2.271199941635132, 2.251499891281128, 2.2383999824523926, 2.2116000652313232, 2.1517999172210693, 2.140700101852417, 2.125200033187866, 2.1328001022338867, 2.0840001106262207, 2.028899908065796, 2.0062999725341797, 2.0006000995635986, 1.11080002784729, 1.7346999645233154, 1.2056000232696533, 0.8988000154495239, 0.5468000173568726, 1.8401999473571777, 2.6847000122070312, 2.6721999645233154, 2.670799970626831, 2.66759991645813, 2.665800094604492, 2.6651999950408936, 2.664400100708008, 2.6621999740600586, 2.6610000133514404, 2.651400089263916, 2.6507999897003174, 2.650599956512451, 2.650599956512451, 2.650599956512451, 2.649199962615967, 2.6475000381469727, 2.6475000381469727, 2.6475000381469727, 2.6466000080108643, 2.646199941635132, 2.643899917602539, 2.6414999961853027, 2.6410999298095703, 2.640899896621704, 2.6407999992370605, 2.635499954223633, 2.6326000690460205, 2.6308999061584473, 2.6298000812530518, 2.6240999698638916, 2.6119000911712646, 2.6017000675201416, 2.554500102996826, 2.5794999599456787, 2.4856998920440674, 2.351300001144409, 2.5083000659942627, 2.606300115585327, 2.5034000873565674, 2.4182000160217285, 2.325200080871582, 2.3519999980926514, 2.3610999584198, 2.4886999130249023, 2.2929999828338623, 2.435800075531006, 2.340399980545044, 2.243499994277954, 2.015899896621704, 2.118499994277954, 2.133699893951416, 1.819599986076355, 2.2002999782562256, 1.7085000276565552, 1.7309999465942383, 1.757200002670288, 1.7646000385284424, 1.8482999801635742, 2.13319993019104, 1.6360000371932983, 1.998900055885315, 1.2904000282287598, 1.3624999523162842, 1.4496999979019165, 1.1720000505447388, 1.2229000329971313, 0.5242000222206116, 0.4438999891281128, 0.711899995803833, 1.5606000423431396, 0.10369999706745148], \"logprob\": [30.0, 29.0, 28.0, 27.0, 26.0, 25.0, 24.0, 23.0, 22.0, 21.0, 20.0, 19.0, 18.0, 17.0, 16.0, 15.0, 14.0, 13.0, 12.0, 11.0, 10.0, 9.0, 8.0, 7.0, 6.0, 5.0, 4.0, 3.0, 2.0, 1.0, -5.509300231933594, -6.621399879455566, -5.841899871826172, -6.8933000564575195, -6.144800186157227, -7.026199817657471, -7.047599792480469, -7.11959981918335, -7.20359992980957, -7.251100063323975, -6.286799907684326, -5.071400165557861, -7.421199798583984, -7.425300121307373, -7.434700012207031, -7.425899982452393, -7.4766998291015625, -7.531000137329102, -7.52370023727417, -7.547599792480469, -7.55019998550415, -7.567500114440918, -7.575099945068359, -7.577700138092041, -7.645699977874756, -7.661799907684326, -7.6631999015808105, -7.696700096130371, -7.703999996185303, -7.7052998542785645, -4.756999969482422, -6.777299880981445, -5.460000038146973, -6.695400238037109, -6.470300197601318, -6.9191999435424805, -5.899499893188477, -6.067299842834473, -6.682499885559082, -7.163099765777588, -6.099999904632568, -6.991000175476074, -5.970200061798096, -6.563199996948242, -6.57390022277832, -6.22760009765625, -6.754000186920166, -5.9791998863220215, -6.577099800109863, -6.688000202178955, -5.195099830627441, -5.537499904632568, -5.196000099182129, -6.076900005340576, -5.681000232696533, -5.682300090789795, -6.152900218963623, -6.447199821472168, -6.179900169372559, -6.166500091552734, -5.6992998123168945, -5.9182000160217285, -5.762400150299072, -5.779300212860107, -5.928699970245361, -6.236000061035156, -6.008999824523926, -6.251399993896484, -6.177199840545654, -6.174499988555908, -6.202700138092041, -6.177999973297119, -6.537899971008301, -6.902100086212158, -6.996300220489502, -7.02269983291626, -7.040200233459473, -7.0894999504089355, -7.164299964904785, -6.189599990844727, -7.1616997718811035, -7.279699802398682, -7.2891998291015625, -7.374800205230713, -7.364099979400635, -7.377099990844727, -7.415299892425537, -7.418600082397461, -7.513599872589111, -6.8734002113342285, -7.543700218200684, -7.602200031280518, -7.644599914550781, -7.431600093841553, -7.537600040435791, -7.735499858856201, -7.763299942016602, -7.76039981842041, -7.8358001708984375, -7.84499979019165, -7.833799839019775, -7.865799903869629, -6.662199974060059, -6.606900215148926, -6.611400127410889, -5.995800018310547, -6.666299819946289, -6.055099964141846, -7.0177998542785645, -6.5441999435424805, -6.569900035858154, -5.732600212097168, -7.1880998611450195, -5.5619001388549805, -6.5441999435424805, -6.48390007019043, -6.333899974822998, -5.683499813079834, -5.4253997802734375, -5.895199775695801, -5.903200149536133, -5.707099914550781, -6.1946001052856445, -5.451000213623047, -5.769100189208984, -5.847099781036377, -5.82289981842041, -5.033100128173828, -5.472799777984619, -5.871099948883057, -5.777900218963623, -6.186600208282471, -5.445899963378906, -5.748199939727783, -5.288700103759766, -5.98799991607666, -5.887700080871582, -5.9319000244140625, -5.014999866485596, -5.410699844360352, -5.540299892425537, -6.097400188446045, -5.894899845123291, -5.695199966430664, -5.784200191497803, -5.94920015335083, -5.887400150299072, -5.197199821472168, -5.330599784851074, -5.33650016784668, -5.377999782562256, -6.059700012207031, -6.161099910736084, -6.166200160980225, -6.3684000968933105, -6.731400012969971, -6.787799835205078, -6.808899879455566, -6.868199825286865, -6.920300006866455, -5.151199817657471, -6.96999979019165, -7.023499965667725, -5.623300075531006, -7.098599910736084, -7.088500022888184, -7.136499881744385, -6.921599864959717, -7.217100143432617, -7.2733001708984375, -7.302299976348877, -6.043000221252441, -7.347700119018555, -7.3454999923706055, -7.381899833679199, -7.3805999755859375, -7.267899990081787, -4.899899959564209, -5.893499851226807, -5.749899864196777, -5.807499885559082, -6.038300037384033, -6.690499782562256, -4.940400123596191, -5.270599842071533, -4.224999904632568, -5.218800067901611, -6.894499778747559, -4.1774001121521, -5.799200057983398, -5.693900108337402, -5.385700225830078, -5.416100025177002, -6.383699893951416, -4.7754998207092285, -4.634099960327148, -4.838900089263916, -5.532400131225586, -6.092599868774414, -4.773200035095215, -4.836999893188477, -5.417500019073486, -5.113500118255615, -4.906000137329102, -5.079100131988525, -5.5493998527526855, -5.112100124359131, -4.852099895477295, -5.349999904632568, -5.634500026702881, -5.6691999435424805, -5.666800022125244, -4.378200054168701, -4.698699951171875, -4.725900173187256, -4.772600173950195, -4.8171000480651855, -5.014100074768066, -5.071400165557861, -5.090099811553955, -5.103799819946289, -5.103799819946289, -5.120100021362305, -5.145899772644043, -5.514100074768066, -5.5493998527526855, -5.582300186157227, -5.636600017547607, -5.325399875640869, -5.974800109863281, -5.99970006942749, -6.058199882507324, -6.360300064086914, -6.397299766540527, -6.40910005569458, -6.422399997711182, -6.478799819946289, -6.6031999588012695, -6.643599987030029, -5.075399875640869, -6.822299957275391, -6.858699798583984, -4.3678998947143555, -4.604800224304199, -5.1153998374938965, -4.836400032043457, -3.4853999614715576, -5.05649995803833, -4.818399906158447, -4.8333001136779785, -4.820000171661377, -5.063300132751465, -5.116199970245361, -5.072400093078613, -4.907599925994873, -4.987100124359131, -5.045300006866455, -4.060400009155273, -4.916399955749512, -4.838099956512451, -4.9644999504089355, -4.967899799346924, -5.087399959564209, -6.003600120544434, -6.563000202178955, -6.613500118255615, -6.698999881744385, -6.764599800109863, -6.780799865722656, -6.757299900054932, -6.849699974060059, -6.888899803161621, -7.104800224304199, -7.113699913024902, -7.122399806976318, -7.122399806976318, -7.122399806976318, -7.151000022888184, -7.1768999099731445, -7.178999900817871, -7.178999900817871, -7.1757001876831055, -7.189799785614014, -7.248000144958496, -7.273200035095215, -7.237199783325195, -7.293000221252441, -7.301700115203857, -7.381400108337402, -6.40880012512207, -7.4527997970581055, -7.46589994430542, -7.550899982452393, -6.129300117492676, -5.15910005569458, -4.612500190734863, -6.170499801635742, -4.856900215148926, -3.759999990463257, -5.677199840545654, -6.922699928283691, -6.136600017547607, -5.564000129699707, -5.173900127410889, -5.453999996185303, -5.616700172424316, -6.3225998878479, -5.453199863433838, -6.240300178527832, -5.920300006866455, -5.585400104522705, -5.073500156402588, -5.445199966430664, -5.506999969482422, -4.632900238037109, -5.72130012512207, -4.663899898529053, -4.714900016784668, -4.814599990844727, -4.881100177764893, -5.068699836730957, -5.7027997970581055, -5.0370001792907715, -5.585100173950195, -4.926499843597412, -5.085000038146973, -5.1946001052856445, -5.356200218200684, -5.407299995422363, -5.138700008392334, -5.180099964141846, -5.435999870300293, -5.636300086975098, -5.634799957275391]}, \"token.table\": {\"Topic\": [4, 4, 1, 2, 3, 2, 2, 3, 3, 2, 3, 1, 2, 3, 4, 5, 1, 2, 3, 2, 5, 2, 1, 2, 1, 3, 5, 4, 1, 2, 3, 5, 3, 1, 2, 4, 2, 3, 1, 2, 3, 4, 5, 1, 1, 3, 5, 3, 1, 3, 1, 2, 3, 4, 5, 3, 3, 5, 1, 2, 1, 2, 3, 5, 1, 2, 3, 5, 2, 1, 2, 3, 4, 4, 5, 3, 2, 3, 5, 1, 3, 2, 5, 5, 2, 4, 4, 2, 3, 2, 5, 1, 2, 3, 1, 2, 3, 1, 2, 3, 4, 3, 4, 2, 1, 2, 1, 2, 3, 5, 2, 1, 3, 1, 1, 2, 3, 5, 1, 2, 3, 2, 3, 1, 2, 3, 4, 1, 2, 3, 4, 4, 5, 3, 3, 2, 3, 4, 4, 5, 2, 3, 4, 2, 3, 2, 4, 5, 1, 2, 5, 4, 4, 2, 4, 5, 3, 2, 3, 5, 2, 1, 2, 3, 1, 2, 3, 5, 5, 5, 2, 5, 5, 1, 3, 5, 1, 2, 3, 5, 2, 3, 1, 2, 3, 4, 2, 3, 1, 2, 3, 2, 3, 4, 5, 1, 2, 3, 4, 1, 2, 2, 1, 2, 3, 5, 1, 2, 3, 4, 2, 1, 2, 3, 4, 5, 3, 1, 2, 3, 1, 2, 3, 2, 2, 1, 1, 1, 2, 3, 4, 5, 4, 4, 5, 1, 1, 2, 5, 2, 3, 2, 5, 2, 4, 5, 1, 2, 3, 4, 1, 2, 1, 3, 1, 3, 1, 2, 1, 3, 1, 2, 3, 4, 5, 2, 4, 2, 3, 4, 5, 1, 2, 1, 1, 3, 4, 4, 5, 1, 2, 1, 2, 3, 4, 5, 1, 3, 2, 5, 4, 1, 2, 4, 5, 1, 2, 4, 4, 1, 2, 3, 4, 5, 3, 4, 1, 2, 3, 5, 1, 2, 3, 2, 3, 4, 5, 3, 1, 2, 3, 3, 4, 4, 2, 5, 1, 2, 3, 1, 2, 3, 4, 5, 2, 3, 4, 5, 1, 2, 3, 3, 5, 1, 1, 2, 3, 1, 2, 2, 2, 5, 1, 3, 5, 1, 1, 2, 3, 4, 5, 5, 2, 3, 1, 2, 3, 1, 2, 3, 5, 1, 2, 3, 5, 1, 2, 3, 5, 2, 3, 4, 5, 3, 4, 2, 3, 1, 2, 3, 2, 1, 2, 3, 1, 2, 3, 1, 2, 3, 1, 2, 3, 2, 4, 5, 4, 5, 1, 2, 3, 1, 2, 3, 2, 3, 3, 3, 4, 1, 2, 3, 5, 2, 2, 3, 4, 2, 3, 1, 2, 4, 2, 5, 3, 1, 3, 3, 4, 2, 4, 2, 3, 2, 3, 1, 3, 2, 3, 2, 1, 1, 2, 3, 5, 1, 3, 2, 3, 3, 1, 2, 3, 5, 1, 2, 3, 4, 1, 2, 3, 5, 2, 4, 5, 1, 2, 3, 2, 3, 4, 1, 2, 3, 1, 2, 3, 4, 5, 2, 2, 4, 2, 3, 2, 3, 5, 1, 2, 5, 2, 4, 1, 2, 5, 3, 1, 1, 5, 2, 2, 5, 3, 2, 3, 4, 5, 1, 2, 3, 4, 4, 4, 4, 1, 1, 2, 4, 1, 4, 5, 4, 5, 1, 2, 3, 4, 1, 2, 3, 1, 2, 5, 2, 1, 2, 5, 3, 1, 3, 1, 2, 4, 5, 1, 2, 3, 4, 5, 5, 4, 5, 1, 2, 3, 4, 5, 1, 2, 3, 4, 5, 1, 2, 3, 5, 2, 4, 5, 3, 5, 2, 3, 4, 3, 5, 1, 3, 1, 2, 3, 5, 1, 3, 4, 1, 1, 3, 5, 1, 3, 5, 5, 4, 1, 2, 3, 4, 5, 1, 2, 3, 4, 1, 2, 3, 5, 2, 3, 4, 1, 2, 3, 4, 5, 2, 1, 3, 5, 1, 5, 5, 1, 2, 3, 1, 2, 3, 4, 5, 1, 2, 3, 5, 1, 2, 3, 5, 5, 1, 2, 3, 1, 2, 3, 4, 5, 1, 1], \"Freq\": [0.9976861476898193, 0.9970685243606567, 0.8894034624099731, 0.036450959742069244, 0.07290191948413849, 0.9966152310371399, 0.9410826563835144, 0.05630408972501755, 0.9887613654136658, 0.0395822636783123, 0.9565714001655579, 0.036134712398052216, 0.6739909052848816, 0.045561157166957855, 0.0015710744773969054, 0.24351653456687927, 0.5731651782989502, 0.27326464653015137, 0.15290981531143188, 0.9850262403488159, 0.9377560019493103, 0.9894827604293823, 0.8772037029266357, 0.12110648304224014, 0.9799196720123291, 0.9987425208091736, 0.9275653958320618, 0.9834492802619934, 0.1561869978904724, 0.37683212757110596, 0.12395793199539185, 0.3446030616760254, 0.9720215797424316, 0.9929883480072021, 0.004413281567394733, 0.9984464645385742, 0.9782165884971619, 0.9816790819168091, 0.17749929428100586, 0.14345833659172058, 0.5276349186897278, 0.03647245839238167, 0.1118488758802414, 0.9963126182556152, 0.8717609643936157, 0.12643861770629883, 0.9049285650253296, 0.9742308855056763, 0.9930817484855652, 0.9936231970787048, 0.7797514796257019, 0.055696532130241394, 0.07914770394563675, 0.02051977626979351, 0.06742212176322937, 0.9752835631370544, 0.9760247468948364, 0.013555899262428284, 0.9928719997406006, 0.9835770726203918, 0.04099593684077263, 0.07492360472679138, 0.17812027037143707, 0.7039991617202759, 0.6246219277381897, 0.11203981190919876, 0.07562687247991562, 0.18766668438911438, 0.9685043096542358, 0.17703330516815186, 0.2449364960193634, 0.009700455702841282, 0.5674766302108765, 0.33353447914123535, 0.6670689582824707, 0.9876453280448914, 0.8493770360946655, 0.08157858997583389, 0.06718236953020096, 0.9759783744812012, 0.02395038865506649, 0.04311470687389374, 0.9054088592529297, 0.9129874110221863, 0.02171246148645878, 0.9770607352256775, 0.9917519092559814, 0.989220917224884, 0.009650935418903828, 0.9856125712394714, 0.9288212060928345, 0.818837583065033, 0.174052432179451, 0.003955736756324768, 0.8951172232627869, 0.06048089265823364, 0.04233662411570549, 0.09745288640260696, 0.5056517720222473, 0.30339106917381287, 0.09193668514490128, 0.9816862940788269, 0.9949758648872375, 0.9821385145187378, 0.9786333441734314, 0.01881987228989601, 0.017980409786105156, 0.2397388070821762, 0.7222131490707397, 0.020977145060896873, 0.9864413142204285, 0.6883976459503174, 0.3113499879837036, 0.9817303419113159, 0.15244022011756897, 0.663437008857727, 0.04508795216679573, 0.13741090893745422, 0.20820343494415283, 0.7779029607772827, 0.013727699406445026, 0.044342465698719025, 0.955826461315155, 0.04297333210706711, 0.09916923195123672, 0.009916923008859158, 0.8495497703552246, 0.5394912958145142, 0.05263330042362213, 0.3605380952358246, 0.04473830386996269, 0.9880766868591309, 0.9529063701629639, 0.9986807107925415, 0.9973664879798889, 0.1823270469903946, 0.48356303572654724, 0.3342662751674652, 0.9960137009620667, 0.9009601473808289, 0.9419258236885071, 0.04578806087374687, 0.01308230310678482, 0.9628807902336121, 0.028742710128426552, 0.35439634323120117, 0.00787547416985035, 0.6300379633903503, 0.9567358493804932, 0.03945302218198776, 0.9789429903030396, 0.9971633553504944, 0.9921590089797974, 0.1468845009803772, 0.10098309814929962, 0.7527830600738525, 0.9781770706176758, 0.8736884593963623, 0.12562841176986694, 0.9685246348381042, 0.9852065443992615, 0.04196780547499657, 0.9499984979629517, 0.007630509790033102, 0.2573164105415344, 0.10595382004976273, 0.5978822708129883, 0.037840649485588074, 0.924990177154541, 0.9612465500831604, 0.1888694167137146, 0.8039056658744812, 0.9511147737503052, 0.9817020893096924, 0.1595095843076706, 0.8152711987495422, 0.36113616824150085, 0.3798743486404419, 0.2112305909395218, 0.04769723117351532, 0.023254629224538803, 0.9766944646835327, 0.9934982061386108, 0.9553136229515076, 0.0254750307649374, 0.9967190027236938, 0.5135775804519653, 0.48363807797431946, 0.5037510991096497, 0.13466614484786987, 0.35910969972610474, 0.17637993395328522, 0.046794675290584564, 0.7415156364440918, 0.032396312803030014, 0.013609725050628185, 0.018470341339707375, 0.01652609556913376, 0.9507365226745605, 0.9803863763809204, 0.01508286688476801, 0.9743053317070007, 0.035793185234069824, 0.45536884665489197, 0.09544849395751953, 0.4136101305484772, 0.978833794593811, 0.931556224822998, 0.05988575890660286, 0.006653973367065191, 0.9887858033180237, 0.14963433146476746, 0.46552902460098267, 0.016626037657260895, 0.14013373851776123, 0.22801421582698822, 0.984783411026001, 0.33209332823753357, 0.6382895112037659, 0.02894391492009163, 0.6453592777252197, 0.2672068774700165, 0.08750633895397186, 0.9654632806777954, 0.9918169975280762, 0.9801879525184631, 0.9968142509460449, 0.057364195585250854, 0.04412630572915077, 0.6519661545753479, 0.2460041493177414, 0.9766244888305664, 0.9961305260658264, 0.9992319345474243, 0.9127026796340942, 0.9897976517677307, 0.18280407786369324, 0.10968244820833206, 0.7129359245300293, 0.9700927138328552, 0.030315397307276726, 0.9859234690666199, 0.9748040437698364, 0.22540801763534546, 0.7445294857025146, 0.030737455934286118, 0.10711660236120224, 0.7572035789489746, 0.12927865982055664, 0.0036936760880053043, 0.8768903017044067, 0.1252700388431549, 0.08013474196195602, 0.9170976281166077, 0.9839181900024414, 0.016398636624217033, 0.981074869632721, 0.018490323796868324, 0.9886621832847595, 0.010517682880163193, 0.07222365587949753, 0.7041806578636169, 0.12187742441892624, 0.06770967692136765, 0.036111827939748764, 0.014768179506063461, 0.9796225428581238, 0.03965838626027107, 0.03965838626027107, 0.35692545771598816, 0.5631490349769592, 0.9894927144050598, 0.005074321758002043, 0.9970493912696838, 0.9954421520233154, 0.0032637447584420443, 0.9826241135597229, 0.9890199303627014, 0.9269846081733704, 0.9905132055282593, 0.9884361624717712, 0.11061830818653107, 0.47605380415916443, 0.0177779421210289, 0.015802616253495216, 0.379262775182724, 0.9986324310302734, 0.995564877986908, 0.976561427116394, 0.9118479490280151, 0.9950956702232361, 0.026314806193113327, 0.42103689908981323, 0.048870351165533066, 0.5037405490875244, 0.9832553267478943, 0.006388301495462656, 0.9901866912841797, 0.9885543584823608, 0.41351938247680664, 0.38272538781166077, 0.061587993055582047, 0.005865523125976324, 0.13637341558933258, 0.9941178560256958, 0.9964902997016907, 0.008348602801561356, 0.7652885317802429, 0.027828674763441086, 0.19758358597755432, 0.22962352633476257, 0.7552677392959595, 0.013832743279635906, 0.15128600597381592, 0.6751838326454163, 0.09245256334543228, 0.08124618977308273, 0.979485034942627, 0.18354187905788422, 0.7966498136520386, 0.01952573098242283, 0.0244296845048666, 0.9741336703300476, 0.9974347352981567, 0.052950918674468994, 0.926641047000885, 0.11999523639678955, 0.34211406111717224, 0.5361489057540894, 0.04796869307756424, 0.035177040845155716, 0.1087290421128273, 0.6299888491630554, 0.17588521540164948, 0.28054144978523254, 0.019572658464312553, 0.13048438727855682, 0.5676071047782898, 0.8936916589736938, 0.057044148445129395, 0.045635320246219635, 0.16827265918254852, 0.7992951273918152, 0.9902439713478088, 0.8613945245742798, 0.12979917228221893, 0.00589996250346303, 0.11124702543020248, 0.8899762034416199, 0.9880056381225586, 0.7130299806594849, 0.28665730357170105, 0.9237210154533386, 0.06082113832235336, 0.01520528458058834, 0.9922907948493958, 0.32362398505210876, 0.384426087141037, 0.28341615200042725, 0.0009806787129491568, 0.007845429703593254, 0.9739482998847961, 0.9598104357719421, 0.03023025020956993, 0.3468649089336395, 0.14427998661994934, 0.507944643497467, 0.0370006300508976, 0.022395119071006775, 0.8665937185287476, 0.0740012601017952, 0.008681507781147957, 0.6511130928993225, 0.31253427267074585, 0.028938358649611473, 0.3271348774433136, 0.5088765025138855, 0.12923847138881683, 0.033319294452667236, 0.9855781197547913, 0.09000721573829651, 0.07875631749629974, 0.8213158845901489, 0.9764136075973511, 0.015748606994748116, 0.9663721323013306, 0.028633248060941696, 0.9656820893287659, 0.028147682547569275, 0.0043304129503667355, 0.9811393022537231, 0.5908807516098022, 0.024366216734051704, 0.38478314876556396, 0.6016806960105896, 0.3743174970149994, 0.02218177728354931, 0.2406955510377884, 0.7155813574790955, 0.04228435456752777, 0.10621181130409241, 0.0944105014204979, 0.7965885996818542, 0.3196997046470642, 0.0691242590546608, 0.6048372387886047, 0.6781717538833618, 0.3181546628475189, 0.14236301183700562, 0.7271464467048645, 0.13141199946403503, 0.5830971598625183, 0.2492007315158844, 0.16776257753372192, 0.04174444079399109, 0.9549040794372559, 0.974441647529602, 0.9892882704734802, 0.9939274191856384, 0.150553897023201, 0.34648019075393677, 0.4980652928352356, 0.005155955441296101, 0.9683029055595398, 0.0460522286593914, 0.03896727040410042, 0.9139596223831177, 0.08723826706409454, 0.9101859331130981, 0.11466265469789505, 0.03969091922044754, 0.8423295021057129, 0.9846878051757812, 0.9694787859916687, 0.9801118969917297, 0.9638975262641907, 0.023799939081072807, 0.9820770025253296, 0.9967190027236938, 0.9569579362869263, 0.03225700929760933, 0.9781354069709778, 0.9937363862991333, 0.9797564148902893, 0.009512198157608509, 0.29778602719306946, 0.7007533311843872, 0.013426250778138638, 0.9845917224884033, 0.9843639135360718, 0.9849463105201721, 0.5521041750907898, 0.38353458046913147, 0.024744166061282158, 0.038662757724523544, 0.9405034780502319, 0.0502559132874012, 0.023676427081227303, 0.9750382900238037, 0.997717559337616, 0.16652613878250122, 0.4394713342189789, 0.3606424033641815, 0.03251693770289421, 0.012453917413949966, 0.11623656004667282, 0.03321044519543648, 0.8385637402534485, 0.37524503469467163, 0.3054320216178894, 0.2690710723400116, 0.04945089668035507, 0.09703236818313599, 0.20619377493858337, 0.6913555860519409, 0.7299206256866455, 0.25063541531562805, 0.017588449642062187, 0.10042358934879303, 0.7263194918632507, 0.1728219985961914, 0.060079656541347504, 0.8848094940185547, 0.05461787059903145, 0.1303122192621231, 0.3028382658958435, 0.02018921822309494, 0.17803218960762024, 0.370747447013855, 0.9873368740081787, 0.025385992601513863, 0.9748221039772034, 0.011188816279172897, 0.9846158027648926, 0.08911062031984329, 0.8629660606384277, 0.04221029579639435, 0.08467042446136475, 0.2078274041414261, 0.7081526517868042, 0.06001848354935646, 0.9372116923332214, 0.9903882741928101, 0.07844259589910507, 0.9217005372047424, 0.9671107530593872, 0.9892668724060059, 0.98419588804245, 0.9355156421661377, 0.9827451109886169, 0.22049546241760254, 0.7717341184616089, 0.9848999977111816, 0.12173539400100708, 0.8086708188056946, 0.03478154167532921, 0.03478154167532921, 0.06735837459564209, 0.36605414748191833, 0.2622559666633606, 0.30366480350494385, 0.9762933254241943, 0.9828053712844849, 0.9945775866508484, 0.9831612706184387, 0.04064624011516571, 0.09822841733694077, 0.8603454232215881, 0.0191419068723917, 0.9685804843902588, 0.007656762842088938, 0.9926447868347168, 0.9170640110969543, 0.016133341938257217, 0.12261340767145157, 0.10002672672271729, 0.7614938020706177, 0.2087724804878235, 0.6497750282287598, 0.14074549078941345, 0.11477251350879669, 0.3261955678462982, 0.5557405948638916, 0.9837517738342285, 0.098081074655056, 0.4745858311653137, 0.42712724208831787, 0.9811339378356934, 0.9441547989845276, 0.055731359869241714, 0.11096937954425812, 0.16028910875320435, 0.2342686951160431, 0.4931972324848175, 0.20376431941986084, 0.4911792278289795, 0.057911962270736694, 0.03002842515707016, 0.2166336327791214, 0.9641410708427429, 0.0882793515920639, 0.9048633575439453, 0.1968120038509369, 0.2771618664264679, 0.4062633216381073, 0.0063196513801813126, 0.11285091936588287, 0.06271881610155106, 0.4679788649082184, 0.014473572373390198, 0.06271881610155106, 0.39078646898269653, 0.5528094172477722, 0.2261493057012558, 0.12312573939561844, 0.09548526257276535, 0.11782177537679672, 0.02031409926712513, 0.8613177537918091, 0.9906426072120667, 0.9523188471794128, 0.16860127449035645, 0.8249419331550598, 0.985162079334259, 0.09891775250434875, 0.8902598023414612, 0.016369609162211418, 0.9821766018867493, 0.20864076912403107, 0.708875834941864, 0.07038483768701553, 0.012568720616400242, 0.02566223405301571, 0.9751648902893066, 0.9924970865249634, 0.9829616546630859, 0.0747162327170372, 0.8779157400131226, 0.045363426208496094, 0.14142808318138123, 0.8527281284332275, 0.00415964936837554, 0.9355156421661377, 0.998391330242157, 0.10753924399614334, 0.45480138063430786, 0.04256761819124222, 0.006721202749758959, 0.38982975482940674, 0.08591622114181519, 0.26252177357673645, 0.6443716287612915, 0.007159684784710407, 0.1698506474494934, 0.6619179844856262, 0.049956075847148895, 0.1173967719078064, 0.07637608796358109, 0.11657403409481049, 0.8039588332176208, 0.046477556228637695, 0.6862274408340454, 0.041009608656167984, 0.046477556228637695, 0.18044227361679077, 0.9924882650375366, 0.08407122641801834, 0.9142745733261108, 0.9296615123748779, 0.9898727536201477, 0.9858971834182739, 0.9355156421661377, 0.13448606431484222, 0.8466007709503174, 0.019842205569148064, 0.09101506322622299, 0.6311696767807007, 0.013850118033587933, 0.001978588290512562, 0.26117366552352905, 0.2711581587791443, 0.7164545655250549, 0.009950757957994938, 0.968233585357666, 0.17802093923091888, 0.5653250217437744, 0.1519690901041031, 0.10420738160610199, 0.9288212060928345, 0.362791508436203, 0.5604413747787476, 0.07541902363300323, 0.10759682208299637, 0.08494485914707184, 0.028314951807260513, 0.09060785174369812, 0.6852218508720398, 0.978839099407196, 0.9925810098648071], \"Term\": [\"abedin\", \"abedinhstategov\", \"activist\", \"activist\", \"activist\", \"afghan\", \"afghanistan\", \"afghanistan\", \"aide\", \"airport\", \"airport\", \"also\", \"also\", \"also\", \"also\", \"also\", \"american\", \"american\", \"american\", \"answer\", \"anytime\", \"approach\", \"arab\", \"arab\", \"arrest\", \"arrive\", \"asap\", \"ashton\", \"back\", \"back\", \"back\", \"back\", \"baucus\", \"beck\", \"beck\", \"benghazi\", \"beyond\", \"biden\", \"bill\", \"bill\", \"bill\", \"bill\", \"bill\", \"birch\", \"black\", \"black\", \"blk\", \"bloomberg\", \"blumenthal\", \"boehner\", \"book\", \"book\", \"book\", \"book\", \"book\", \"britain\", \"brown\", \"brown\", \"buckley\", \"build\", \"call\", \"call\", \"call\", \"call\", \"called\", \"called\", \"called\", \"called\", \"capacity\", \"case\", \"case\", \"case\", \"case\", \"cdm\", \"cdm\", \"chamber\", \"change\", \"change\", \"change\", \"charles\", \"charles\", \"checking\", \"checking\", \"cherie\", \"cheryl\", \"cheryl\", \"cherylmills\", \"china\", \"china\", \"chinese\", \"cingular\", \"city\", \"city\", \"city\", \"claim\", \"claim\", \"claim\", \"clinton\", \"clinton\", \"clinton\", \"clinton\", \"cloture\", \"comm\", \"commitment\", \"communist\", \"communist\", \"conference\", \"conference\", \"conference\", \"conference\", \"conflict\", \"conservative\", \"conservative\", \"conspiracy\", \"could\", \"could\", \"could\", \"could\", \"country\", \"country\", \"country\", \"daily\", \"daily\", \"date\", \"date\", \"date\", \"date\", \"david\", \"david\", \"david\", \"david\", \"declassify\", \"dem\", \"democrat\", \"depart\", \"department\", \"department\", \"department\", \"dept\", \"derek\", \"development\", \"development\", \"development\", \"diplomacy\", \"diplomacy\", \"discus\", \"discus\", \"discus\", \"district\", \"district\", \"dkna\", \"doc\", \"docx\", \"draft\", \"draft\", \"draft\", \"dup\", \"economic\", \"economic\", \"edits\", \"effective\", \"effort\", \"effort\", \"effort\", \"election\", \"election\", \"election\", \"election\", \"ellen\", \"elsevol\", \"email\", \"email\", \"emailed\", \"farright\", \"favorable\", \"favorable\", \"first\", \"first\", \"first\", \"first\", \"floor\", \"floor\", \"flotilla\", \"focus\", \"focus\", \"foia\", \"foreign\", \"foreign\", \"former\", \"former\", \"former\", \"friday\", \"friday\", \"friday\", \"friday\", \"fyi\", \"fyi\", \"fyi\", \"fyi\", \"gaza\", \"gaza\", \"gender\", \"get\", \"get\", \"get\", \"get\", \"glenn\", \"global\", \"global\", \"global\", \"goal\", \"good\", \"good\", \"good\", \"good\", \"good\", \"gop\", \"government\", \"government\", \"government\", \"group\", \"group\", \"group\", \"growth\", \"haitian\", \"hamas\", \"hiker\", \"house\", \"house\", \"house\", \"house\", \"hrd\", \"hrodclintonemailcom\", \"huma\", \"hvnt\", \"idf\", \"ill\", \"ill\", \"ill\", \"important\", \"important\", \"include\", \"ind\", \"information\", \"information\", \"information\", \"international\", \"international\", \"international\", \"international\", \"iranian\", \"iranian\", \"ireland\", \"ireland\", \"islamic\", \"islamic\", \"israel\", \"israel\", \"israeli\", \"israeli\", \"issue\", \"issue\", \"issue\", \"issue\", \"issue\", \"jacob\", \"jacob\", \"jake\", \"jake\", \"jake\", \"jake\", \"jerusalem\", \"jerusalem\", \"jew\", \"jewish\", \"jewish\", \"jiloty\", \"jilotylcstategov\", \"joanne\", \"juarez\", \"kabul\", \"know\", \"know\", \"know\", \"know\", \"know\", \"koch\", \"labour\", \"lack\", \"laszczych\", \"lauren\", \"let\", \"let\", \"let\", \"let\", \"libertarian\", \"libya\", \"libya\", \"libyan\", \"like\", \"like\", \"like\", \"like\", \"like\", \"lobbyist\", \"lona\", \"make\", \"make\", \"make\", \"make\", \"many\", \"many\", \"many\", \"meeting\", \"meeting\", \"meeting\", \"meeting\", \"miliband\", \"military\", \"military\", \"military\", \"mill\", \"mill\", \"millscdstategov\", \"min\", \"min\", \"minister\", \"minister\", \"minister\", \"monday\", \"monday\", \"monday\", \"monday\", \"monday\", \"morning\", \"morning\", \"morning\", \"morning\", \"movement\", \"movement\", \"movement\", \"mtg\", \"mtg\", \"murder\", \"muslim\", \"muslim\", \"muslim\", \"must\", \"must\", \"necessary\", \"need\", \"need\", \"netanyahu\", \"netanyahu\", \"netanyahu\", \"netanyahus\", \"new\", \"new\", \"new\", \"new\", \"new\", \"noon\", \"nuclear\", \"nuclear\", \"obama\", \"obama\", \"obama\", \"office\", \"office\", \"office\", \"office\", \"official\", \"official\", \"official\", \"official\", \"one\", \"one\", \"one\", \"one\", \"opportunity\", \"ops\", \"ops\", \"ops\", \"outer\", \"outer\", \"pakistan\", \"pakistan\", \"palestinian\", \"palestinian\", \"palestinian\", \"particularly\", \"party\", \"party\", \"party\", \"peace\", \"peace\", \"peace\", \"people\", \"people\", \"people\", \"percent\", \"percent\", \"percent\", \"please\", \"please\", \"please\", \"pls\", \"pls\", \"policy\", \"policy\", \"policy\", \"political\", \"political\", \"political\", \"poll\", \"poll\", \"prebrief\", \"preceding\", \"preines\", \"president\", \"president\", \"president\", \"president\", \"prevent\", \"print\", \"print\", \"print\", \"private\", \"private\", \"produced\", \"produced\", \"produced\", \"progress\", \"quinnipiac\", \"rahm\", \"rally\", \"rally\", \"rating\", \"redaction\", \"region\", \"region\", \"regional\", \"reid\", \"relationship\", \"relationship\", \"republican\", \"republican\", \"residence\", \"residence\", \"respect\", \"richards\", \"right\", \"right\", \"right\", \"right\", \"rightwing\", \"rightwing\", \"room\", \"room\", \"route\", \"said\", \"said\", \"said\", \"said\", \"saturday\", \"saturday\", \"saturday\", \"saturday\", \"say\", \"say\", \"say\", \"say\", \"schedule\", \"schedule\", \"schedule\", \"school\", \"school\", \"school\", \"secretary\", \"secretary\", \"secretary\", \"security\", \"security\", \"security\", \"see\", \"see\", \"see\", \"see\", \"see\", \"seek\", \"select\", \"select\", \"senate\", \"senate\", \"senator\", \"senator\", \"senator\", \"send\", \"send\", \"send\", \"sensitive\", \"sensitive\", \"settler\", \"sheet\", \"sheet\", \"sinn\", \"skousen\", \"skousens\", \"smone\", \"solution\", \"sorry\", \"sorry\", \"spray\", \"staff\", \"staff\", \"staff\", \"staff\", \"state\", \"state\", \"state\", \"state\", \"statecb\", \"stategov\", \"statescb\", \"stupak\", \"subject\", \"subject\", \"subject\", \"sullivan\", \"sullivan\", \"sullivan\", \"sullivanjjstategov\", \"summary\", \"sunday\", \"sunday\", \"sunday\", \"sunday\", \"support\", \"support\", \"support\", \"sure\", \"sure\", \"sure\", \"taliban\", \"talk\", \"talk\", \"talk\", \"tbd\", \"tea\", \"tea\", \"thanks\", \"thanks\", \"thanks\", \"thanks\", \"think\", \"think\", \"think\", \"think\", \"think\", \"thru\", \"thx\", \"thx\", \"time\", \"time\", \"time\", \"time\", \"time\", \"today\", \"today\", \"today\", \"today\", \"today\", \"told\", \"told\", \"told\", \"told\", \"tomorrow\", \"tomorrow\", \"tomorrow\", \"tory\", \"tot\", \"treaty\", \"treaty\", \"tripoli\", \"unfavorable\", \"unfavorable\", \"unionist\", \"unionist\", \"united\", \"united\", \"united\", \"united\", \"uup\", \"uup\", \"valmoro\", \"vargas\", \"vote\", \"vote\", \"vote\", \"voter\", \"voter\", \"voter\", \"votevol\", \"waiver\", \"want\", \"want\", \"want\", \"want\", \"want\", \"washington\", \"washington\", \"washington\", \"washington\", \"way\", \"way\", \"way\", \"way\", \"wednesday\", \"wednesday\", \"wednesday\", \"well\", \"well\", \"well\", \"well\", \"well\", \"weve\", \"white\", \"white\", \"wht\", \"wilder\", \"wjc\", \"wldnt\", \"woman\", \"woman\", \"woman\", \"work\", \"work\", \"work\", \"work\", \"work\", \"world\", \"world\", \"world\", \"worn\", \"would\", \"would\", \"would\", \"would\", \"xpress\", \"year\", \"year\", \"year\", \"yes\", \"yes\", \"yes\", \"yes\", \"yes\", \"zionism\", \"zionist\"]}, \"R\": 30, \"lambda.step\": 0.01, \"plot.opts\": {\"xlab\": \"PC1\", \"ylab\": \"PC2\"}, \"topic.order\": [5, 3, 2, 4, 1]};\n",
       "\n",
       "function LDAvis_load_lib(url, callback){\n",
       "  var s = document.createElement('script');\n",
       "  s.src = url;\n",
       "  s.async = true;\n",
       "  s.onreadystatechange = s.onload = callback;\n",
       "  s.onerror = function(){console.warn(\"failed to load library \" + url);};\n",
       "  document.getElementsByTagName(\"head\")[0].appendChild(s);\n",
       "}\n",
       "\n",
       "if(typeof(LDAvis) !== \"undefined\"){\n",
       "   // already loaded: just create the visualization\n",
       "   !function(LDAvis){\n",
       "       new LDAvis(\"#\" + \"ldavis_el1798815984213802247407738202\", ldavis_el1798815984213802247407738202_data);\n",
       "   }(LDAvis);\n",
       "}else if(typeof define === \"function\" && define.amd){\n",
       "   // require.js is available: use it to load d3/LDAvis\n",
       "   require.config({paths: {d3: \"https://cdnjs.cloudflare.com/ajax/libs/d3/3.5.5/d3.min\"}});\n",
       "   require([\"d3\"], function(d3){\n",
       "      window.d3 = d3;\n",
       "      LDAvis_load_lib(\"https://cdn.rawgit.com/bmabey/pyLDAvis/files/ldavis.v1.0.0.js\", function(){\n",
       "        new LDAvis(\"#\" + \"ldavis_el1798815984213802247407738202\", ldavis_el1798815984213802247407738202_data);\n",
       "      });\n",
       "    });\n",
       "}else{\n",
       "    // require.js not available: dynamically load d3 & LDAvis\n",
       "    LDAvis_load_lib(\"https://cdnjs.cloudflare.com/ajax/libs/d3/3.5.5/d3.min.js\", function(){\n",
       "         LDAvis_load_lib(\"https://cdn.rawgit.com/bmabey/pyLDAvis/files/ldavis.v1.0.0.js\", function(){\n",
       "                 new LDAvis(\"#\" + \"ldavis_el1798815984213802247407738202\", ldavis_el1798815984213802247407738202_data);\n",
       "            })\n",
       "         });\n",
       "}\n",
       "</script>"
      ],
      "text/plain": [
       "PreparedData(topic_coordinates=              x         y  topics  cluster       Freq\n",
       "topic                                                \n",
       "4     -0.154378 -0.074694       1        1  32.896893\n",
       "2     -0.105616  0.069454       2        1  31.315023\n",
       "1     -0.096403 -0.099823       3        1  19.073400\n",
       "3      0.267061 -0.130565       4        1  10.007105\n",
       "0      0.089335  0.235628       5        1   6.707572, topic_info=      Category         Freq       Term        Total  loglift  logprob\n",
       "9346   Default  1028.000000        fyi  1028.000000  30.0000  30.0000\n",
       "3323   Default   707.000000       call   707.000000  29.0000  29.0000\n",
       "22469  Default  1811.000000      state  1811.000000  28.0000  28.0000\n",
       "21025  Default  1284.000000  secretary  1284.000000  27.0000  27.0000\n",
       "16425  Default  1027.000000     office  1027.000000  26.0000  26.0000\n",
       "...        ...          ...        ...          ...      ...      ...\n",
       "23843   Topic5   125.496475       time  1107.656006   0.5242  -5.1387\n",
       "26349   Topic5   120.403839      would  1151.549927   0.4439  -5.1801\n",
       "13648   Topic5    93.215698       like   681.951111   0.7119  -5.4360\n",
       "17821   Topic5    76.297333        pls   238.877533   1.5606  -5.6363\n",
       "16425   Topic5    76.416527     office  1027.009521   0.1037  -5.6348\n",
       "\n",
       "[364 rows x 6 columns], token_table=       Topic      Freq             Term\n",
       "term                                   \n",
       "42         4  0.997686           abedin\n",
       "45         4  0.997069  abedinhstategov\n",
       "250        1  0.889403         activist\n",
       "250        2  0.036451         activist\n",
       "250        3  0.072902         activist\n",
       "...      ...       ...              ...\n",
       "26606      3  0.028315              yes\n",
       "26606      4  0.090608              yes\n",
       "26606      5  0.685222              yes\n",
       "26751      1  0.978839          zionism\n",
       "26752      1  0.992581          zionist\n",
       "\n",
       "[659 rows x 3 columns], R=30, lambda_step=0.01, plot_opts={'xlab': 'PC1', 'ylab': 'PC2'}, topic_order=[5, 3, 2, 4, 1])"
      ]
     },
     "execution_count": 149,
     "metadata": {},
     "output_type": "execute_result"
    }
   ],
   "source": [
    "vis = pyLDAvis.gensim.prepare(lda, corpus, dictionary)\n",
    "vis"
   ]
  },
  {
   "cell_type": "markdown",
   "metadata": {},
   "source": [
    "**Для TfIdf Vectorizer**"
   ]
  },
  {
   "cell_type": "code",
   "execution_count": 150,
   "metadata": {},
   "outputs": [],
   "source": [
    "tfidf = TfidfVectorizer()\n",
    "X = tfidf.fit_transform(emails_corpus)\n",
    "vocab = vec.get_feature_names()"
   ]
  },
  {
   "cell_type": "code",
   "execution_count": 151,
   "metadata": {},
   "outputs": [],
   "source": [
    "vocab_dict = dict([(i, s) for i, s in enumerate(vocab)])"
   ]
  },
  {
   "cell_type": "code",
   "execution_count": 152,
   "metadata": {},
   "outputs": [
    {
     "ename": "AttributeError",
     "evalue": "module 'pyLDAvis.gensim' has no attribute 'matutils'",
     "output_type": "error",
     "traceback": [
      "\u001b[1;31m---------------------------------------------------------------------------\u001b[0m",
      "\u001b[1;31mAttributeError\u001b[0m                            Traceback (most recent call last)",
      "\u001b[1;32m<ipython-input-152-6728cac835a3>\u001b[0m in \u001b[0;36m<module>\u001b[1;34m\u001b[0m\n\u001b[1;32m----> 1\u001b[1;33m \u001b[0mcorpus\u001b[0m \u001b[1;33m=\u001b[0m \u001b[0mgensim\u001b[0m\u001b[1;33m.\u001b[0m\u001b[0mmatutils\u001b[0m\u001b[1;33m.\u001b[0m\u001b[0mSparse2Corpus\u001b[0m\u001b[1;33m(\u001b[0m\u001b[0mcsc\u001b[0m\u001b[1;33m.\u001b[0m\u001b[0mcsc_matrix\u001b[0m\u001b[1;33m(\u001b[0m\u001b[0mX\u001b[0m\u001b[1;33m)\u001b[0m\u001b[1;33m)\u001b[0m\u001b[1;33m\u001b[0m\u001b[1;33m\u001b[0m\u001b[0m\n\u001b[0m\u001b[0;32m      2\u001b[0m \u001b[0mdictionary\u001b[0m \u001b[1;33m=\u001b[0m \u001b[0mgensim\u001b[0m\u001b[1;33m.\u001b[0m\u001b[0mcorpora\u001b[0m\u001b[1;33m.\u001b[0m\u001b[0mDictionary\u001b[0m\u001b[1;33m.\u001b[0m\u001b[0mfrom_corpus\u001b[0m\u001b[1;33m(\u001b[0m\u001b[0mcorpus\u001b[0m\u001b[1;33m,\u001b[0m \u001b[0mvocab_dict\u001b[0m\u001b[1;33m)\u001b[0m\u001b[1;33m\u001b[0m\u001b[1;33m\u001b[0m\u001b[0m\n",
      "\u001b[1;31mAttributeError\u001b[0m: module 'pyLDAvis.gensim' has no attribute 'matutils'"
     ]
    }
   ],
   "source": [
    "corpus = gensim.matutils.Sparse2Corpus(csc.csc_matrix(X))\n",
    "dictionary = gensim.corpora.Dictionary.from_corpus(corpus, vocab_dict)"
   ]
  },
  {
   "cell_type": "code",
   "execution_count": null,
   "metadata": {},
   "outputs": [],
   "source": [
    "lda_tfidf = LdaModel(matutils.Sparse2Corpus(X.T), num_topics=5, passes=20, id2word=vocab_dict)"
   ]
  },
  {
   "cell_type": "code",
   "execution_count": null,
   "metadata": {},
   "outputs": [],
   "source": [
    "topics = lda_tfidf.print_topics(num_topics=-1, num_words=10)\n",
    "for topic in topics:\n",
    "    print(topic)"
   ]
  },
  {
   "cell_type": "code",
   "execution_count": null,
   "metadata": {},
   "outputs": [],
   "source": [
    "vis = pyLDAvis.gensim.prepare(lda_tfidf, corpus, dictionary)\n",
    "vis"
   ]
  },
  {
   "cell_type": "code",
   "execution_count": null,
   "metadata": {},
   "outputs": [],
   "source": []
  }
 ],
 "metadata": {
  "kernelspec": {
   "display_name": "Python 3",
   "language": "python",
   "name": "python3"
  },
  "language_info": {
   "codemirror_mode": {
    "name": "ipython",
    "version": 3
   },
   "file_extension": ".py",
   "mimetype": "text/x-python",
   "name": "python",
   "nbconvert_exporter": "python",
   "pygments_lexer": "ipython3",
   "version": "3.8.3"
  }
 },
 "nbformat": 4,
 "nbformat_minor": 4
}

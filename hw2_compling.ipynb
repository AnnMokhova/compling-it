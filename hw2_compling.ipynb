{
 "cells": [
  {
   "cell_type": "markdown",
   "metadata": {},
   "source": [
    "# Снижение размерности"
   ]
  },
  {
   "cell_type": "code",
   "execution_count": 2,
   "metadata": {},
   "outputs": [],
   "source": [
    "import os\n",
    "import pandas as pd"
   ]
  },
  {
   "cell_type": "code",
   "execution_count": 2,
   "metadata": {},
   "outputs": [],
   "source": [
    "dirnames = ['Фанфик', 'Философия', 'Фэнтези']"
   ]
  },
  {
   "cell_type": "code",
   "execution_count": 3,
   "metadata": {},
   "outputs": [],
   "source": [
    "curr_dir = os.getcwd()\n",
    "filepaths = []\n",
    "for dirname in dirnames:\n",
    "    filepath = os.path.join(curr_dir, dirname)\n",
    "    for root, dirs, files in os.walk(filepath):\n",
    "        for name in files[:150]:\n",
    "            filepaths.append(os.path.join(root, name))"
   ]
  },
  {
   "cell_type": "code",
   "execution_count": 4,
   "metadata": {},
   "outputs": [],
   "source": [
    "df = pd.DataFrame(columns=['text', 'filepath', 'genre'])"
   ]
  },
  {
   "cell_type": "code",
   "execution_count": 5,
   "metadata": {},
   "outputs": [],
   "source": [
    "df['filepath'] = filepaths"
   ]
  },
  {
   "cell_type": "code",
   "execution_count": 6,
   "metadata": {},
   "outputs": [],
   "source": [
    "for i, row in df.iterrows():\n",
    "    if 'Философия' in row['filepath']:\n",
    "        row['genre'] = 'философия'\n",
    "    elif 'Фанфик' in row['filepath']:\n",
    "        row['genre'] = 'фанфик'\n",
    "    else:\n",
    "        row['genre'] = 'фэнтази'"
   ]
  },
  {
   "cell_type": "code",
   "execution_count": 3,
   "metadata": {
    "scrolled": true
   },
   "outputs": [],
   "source": [
    "import nltk\n",
    "from nltk.corpus import stopwords\n",
    "from spacy.lang.ru import Russian\n",
    "from spacy_russian_tokenizer import RussianTokenizer, MERGE_PATTERNS\n",
    "from pymorphy2 import MorphAnalyzer\n",
    "import pymorphy2"
   ]
  },
  {
   "cell_type": "code",
   "execution_count": 11,
   "metadata": {},
   "outputs": [],
   "source": [
    "nlp = Russian()\n",
    "nlp.max_length = 2500000\n",
    "russian_tokenizer = RussianTokenizer(nlp, MERGE_PATTERNS)\n",
    "nlp.add_pipe(russian_tokenizer, name='russian_tokenizer')\n",
    "morph = pymorphy2.MorphAnalyzer()\n",
    "\n",
    "def preproc(filename):\n",
    "    with open(filename, 'r', encoding='utf-8') as f:\n",
    "        text = f.read()\n",
    "        # убираем стоп-слова\n",
    "        text = ' '.join([word for word in text.lower().split() if word not in stopwords.words('russian')])\n",
    "        # разбиваем на токены\n",
    "        doc = nlp(text)\n",
    "        tokenized = [token.text for token in doc if token.text not in ',.!?-();:\"\"«»—_–#' and '.' not in token.text]\n",
    "        # лемматизируем\n",
    "        return ' '.join([morph.parse(word)[0].normal_form for word in tokenized])"
   ]
  },
  {
   "cell_type": "code",
   "execution_count": 9,
   "metadata": {},
   "outputs": [
    {
     "name": "stderr",
     "output_type": "stream",
     "text": [
      "<ipython-input-9-33bc34927f9c>:1: TqdmDeprecationWarning: This function will be removed in tqdm==5.0.0\n",
      "Please use `tqdm.notebook.*` instead of `tqdm._tqdm_notebook.*`\n",
      "  from tqdm._tqdm_notebook import tqdm_notebook\n",
      "C:\\Users\\vital\\anaconda3\\lib\\site-packages\\tqdm\\std.py:658: FutureWarning: The Panel class is removed from pandas. Accessing it from the top-level namespace will also be removed in the next version\n",
      "  from pandas import Panel\n"
     ]
    }
   ],
   "source": [
    "from tqdm._tqdm_notebook import tqdm_notebook\n",
    "tqdm_notebook.pandas('PROGRESS>>>')"
   ]
  },
  {
   "cell_type": "code",
   "execution_count": 13,
   "metadata": {},
   "outputs": [
    {
     "data": {
      "application/vnd.jupyter.widget-view+json": {
       "model_id": "ece5251c24594120b5c50c835689e92f",
       "version_major": 2,
       "version_minor": 0
      },
      "text/plain": [
       "HBox(children=(FloatProgress(value=0.0, max=450.0), HTML(value='')))"
      ]
     },
     "metadata": {},
     "output_type": "display_data"
    },
    {
     "name": "stdout",
     "output_type": "stream",
     "text": [
      "\n"
     ]
    }
   ],
   "source": [
    "df['text'] = df['filepath'].progress_apply(preproc)"
   ]
  },
  {
   "cell_type": "code",
   "execution_count": 14,
   "metadata": {},
   "outputs": [
    {
     "data": {
      "text/html": [
       "<div>\n",
       "<style scoped>\n",
       "    .dataframe tbody tr th:only-of-type {\n",
       "        vertical-align: middle;\n",
       "    }\n",
       "\n",
       "    .dataframe tbody tr th {\n",
       "        vertical-align: top;\n",
       "    }\n",
       "\n",
       "    .dataframe thead th {\n",
       "        text-align: right;\n",
       "    }\n",
       "</style>\n",
       "<table border=\"1\" class=\"dataframe\">\n",
       "  <thead>\n",
       "    <tr style=\"text-align: right;\">\n",
       "      <th></th>\n",
       "      <th>text</th>\n",
       "      <th>filepath</th>\n",
       "      <th>genre</th>\n",
       "    </tr>\n",
       "  </thead>\n",
       "  <tbody>\n",
       "    <tr>\n",
       "      <th>0</th>\n",
       "      <td>ленточка фанфик роман андрей круз земля лишний...</td>\n",
       "      <td>C:\\Users\\vital\\Фанфик\\kowalenko_e_blentochka2.txt</td>\n",
       "      <td>фанфик</td>\n",
       "    </tr>\n",
       "    <tr>\n",
       "      <th>1</th>\n",
       "      <td>mass effect while the reaper назвый mass effec...</td>\n",
       "      <td>C:\\Users\\vital\\Фанфик\\kowizhenko_w_wmasseffect...</td>\n",
       "      <td>фанфик</td>\n",
       "    </tr>\n",
       "    <tr>\n",
       "      <th>2</th>\n",
       "      <td>дмитрий крам s t i k s подкидыш улья андрей пр...</td>\n",
       "      <td>C:\\Users\\vital\\Фанфик\\kram_dhivepodkidyshiulxj...</td>\n",
       "      <td>фанфик</td>\n",
       "    </tr>\n",
       "    <tr>\n",
       "      <th>3</th>\n",
       "      <td>дмитрий крам исчезнуть клан фанфик играть жить...</td>\n",
       "      <td>C:\\Users\\vital\\Фанфик\\kram_discheznuwshijklan.txt</td>\n",
       "      <td>фанфик</td>\n",
       "    </tr>\n",
       "    <tr>\n",
       "      <th>4</th>\n",
       "      <td>содержание часть 1 акклиматиазия часть 2 полёт...</td>\n",
       "      <td>C:\\Users\\vital\\Фанфик\\krasnoperowa_ahp_peste.txt</td>\n",
       "      <td>фанфик</td>\n",
       "    </tr>\n",
       "  </tbody>\n",
       "</table>\n",
       "</div>"
      ],
      "text/plain": [
       "                                                text  \\\n",
       "0  ленточка фанфик роман андрей круз земля лишний...   \n",
       "1  mass effect while the reaper назвый mass effec...   \n",
       "2  дмитрий крам s t i k s подкидыш улья андрей пр...   \n",
       "3  дмитрий крам исчезнуть клан фанфик играть жить...   \n",
       "4  содержание часть 1 акклиматиазия часть 2 полёт...   \n",
       "\n",
       "                                            filepath   genre  \n",
       "0  C:\\Users\\vital\\Фанфик\\kowalenko_e_blentochka2.txt  фанфик  \n",
       "1  C:\\Users\\vital\\Фанфик\\kowizhenko_w_wmasseffect...  фанфик  \n",
       "2  C:\\Users\\vital\\Фанфик\\kram_dhivepodkidyshiulxj...  фанфик  \n",
       "3  C:\\Users\\vital\\Фанфик\\kram_discheznuwshijklan.txt  фанфик  \n",
       "4   C:\\Users\\vital\\Фанфик\\krasnoperowa_ahp_peste.txt  фанфик  "
      ]
     },
     "execution_count": 14,
     "metadata": {},
     "output_type": "execute_result"
    }
   ],
   "source": [
    "df.head()"
   ]
  },
  {
   "cell_type": "code",
   "execution_count": 4,
   "metadata": {},
   "outputs": [],
   "source": [
    "from sklearn.feature_extraction.text import CountVectorizer\n",
    "from sklearn.feature_extraction.text import TfidfVectorizer"
   ]
  },
  {
   "cell_type": "code",
   "execution_count": 111,
   "metadata": {},
   "outputs": [],
   "source": [
    "vectorizer = TfidfVectorizer(max_features=25000)"
   ]
  },
  {
   "cell_type": "code",
   "execution_count": 112,
   "metadata": {},
   "outputs": [],
   "source": [
    "X = vectorizer.fit_transform(df['text'])"
   ]
  },
  {
   "cell_type": "code",
   "execution_count": 114,
   "metadata": {},
   "outputs": [],
   "source": [
    "from sklearn.decomposition import PCA\n",
    "import matplotlib.pyplot as plt"
   ]
  },
  {
   "cell_type": "code",
   "execution_count": 115,
   "metadata": {},
   "outputs": [],
   "source": [
    "pca = PCA(n_components=2)"
   ]
  },
  {
   "cell_type": "code",
   "execution_count": 116,
   "metadata": {},
   "outputs": [],
   "source": [
    "principalComponents = pca.fit_transform(X.todense())\n",
    "df_pca = pd.DataFrame(data = principalComponents\n",
    "             , columns = ['principal component 1', 'principal component 2'])"
   ]
  },
  {
   "cell_type": "code",
   "execution_count": 117,
   "metadata": {},
   "outputs": [],
   "source": [
    "df_final = pd.concat([df_pca, df[['genre']]], axis = 1)"
   ]
  },
  {
   "cell_type": "code",
   "execution_count": 118,
   "metadata": {},
   "outputs": [
    {
     "data": {
      "text/html": [
       "<div>\n",
       "<style scoped>\n",
       "    .dataframe tbody tr th:only-of-type {\n",
       "        vertical-align: middle;\n",
       "    }\n",
       "\n",
       "    .dataframe tbody tr th {\n",
       "        vertical-align: top;\n",
       "    }\n",
       "\n",
       "    .dataframe thead th {\n",
       "        text-align: right;\n",
       "    }\n",
       "</style>\n",
       "<table border=\"1\" class=\"dataframe\">\n",
       "  <thead>\n",
       "    <tr style=\"text-align: right;\">\n",
       "      <th></th>\n",
       "      <th>principal component 1</th>\n",
       "      <th>principal component 2</th>\n",
       "      <th>genre</th>\n",
       "    </tr>\n",
       "  </thead>\n",
       "  <tbody>\n",
       "    <tr>\n",
       "      <th>0</th>\n",
       "      <td>0.132489</td>\n",
       "      <td>-0.065356</td>\n",
       "      <td>фанфик</td>\n",
       "    </tr>\n",
       "    <tr>\n",
       "      <th>1</th>\n",
       "      <td>-0.287312</td>\n",
       "      <td>-0.037368</td>\n",
       "      <td>фанфик</td>\n",
       "    </tr>\n",
       "    <tr>\n",
       "      <th>2</th>\n",
       "      <td>0.014455</td>\n",
       "      <td>0.030648</td>\n",
       "      <td>фанфик</td>\n",
       "    </tr>\n",
       "    <tr>\n",
       "      <th>3</th>\n",
       "      <td>0.278568</td>\n",
       "      <td>0.027481</td>\n",
       "      <td>фанфик</td>\n",
       "    </tr>\n",
       "    <tr>\n",
       "      <th>4</th>\n",
       "      <td>-0.271592</td>\n",
       "      <td>0.019683</td>\n",
       "      <td>фанфик</td>\n",
       "    </tr>\n",
       "  </tbody>\n",
       "</table>\n",
       "</div>"
      ],
      "text/plain": [
       "   principal component 1  principal component 2   genre\n",
       "0               0.132489              -0.065356  фанфик\n",
       "1              -0.287312              -0.037368  фанфик\n",
       "2               0.014455               0.030648  фанфик\n",
       "3               0.278568               0.027481  фанфик\n",
       "4              -0.271592               0.019683  фанфик"
      ]
     },
     "execution_count": 118,
     "metadata": {},
     "output_type": "execute_result"
    }
   ],
   "source": [
    "df_final.head()"
   ]
  },
  {
   "cell_type": "markdown",
   "metadata": {},
   "source": [
    "Визуализация документов на плоскости методом главных компонент снижения размерности Bag-of-Words векторов"
   ]
  },
  {
   "cell_type": "code",
   "execution_count": 119,
   "metadata": {},
   "outputs": [
    {
     "data": {
      "image/png": "[encoded data removed]",
      "text/plain": [
       "<Figure size 576x576 with 1 Axes>"
      ]
     },
     "metadata": {
      "needs_background": "light"
     },
     "output_type": "display_data"
    }
   ],
   "source": [
    "fig = plt.figure(figsize = (8,8))\n",
    "ax = fig.add_subplot(1,1,1)\n",
    "ax.set_xlabel('Principal Component 1', fontsize = 15)\n",
    "ax.set_ylabel('Principal Component 2', fontsize = 15)\n",
    "ax.set_title('2 component PCA', fontsize = 20)\n",
    "targets = ['философия', 'фанфик', 'фэнтази']\n",
    "colors = ['lightpink', 'palegreen', 'lightskyblue']\n",
    "for target, color in zip(targets,colors):\n",
    "    indicesToKeep = df_final['genre'] == target\n",
    "    ax.scatter(df_final.loc[indicesToKeep, 'principal component 1']\n",
    "               , df_final.loc[indicesToKeep, 'principal component 2']\n",
    "               , c = color\n",
    "               , s = 50)\n",
    "ax.legend(targets)\n",
    "ax.grid()"
   ]
  },
  {
   "cell_type": "markdown",
   "metadata": {},
   "source": [
    "Визуализация документов на плоскости методом t-SNE снижения размерности Bag-of-Words векторов."
   ]
  },
  {
   "cell_type": "code",
   "execution_count": 105,
   "metadata": {},
   "outputs": [],
   "source": [
    "from sklearn.manifold import TSNE"
   ]
  },
  {
   "cell_type": "code",
   "execution_count": 120,
   "metadata": {},
   "outputs": [],
   "source": [
    "tsne = TSNE(n_components=2).fit_transform(X.todense())"
   ]
  },
  {
   "cell_type": "code",
   "execution_count": 121,
   "metadata": {},
   "outputs": [],
   "source": [
    "df_tsne = pd.DataFrame(data = tsne\n",
    "             , columns = ['principal component 1', 'principal component 2'])"
   ]
  },
  {
   "cell_type": "code",
   "execution_count": 122,
   "metadata": {},
   "outputs": [],
   "source": [
    "tsne_final = pd.concat([df_tsne, df[['genre']]], axis = 1)"
   ]
  },
  {
   "cell_type": "code",
   "execution_count": 123,
   "metadata": {},
   "outputs": [
    {
     "data": {
      "image/png": "[encoded data removed]",
      "text/plain": [
       "<Figure size 576x576 with 1 Axes>"
      ]
     },
     "metadata": {
      "needs_background": "light"
     },
     "output_type": "display_data"
    }
   ],
   "source": [
    "fig = plt.figure(figsize = (8,8))\n",
    "ax = fig.add_subplot(1,1,1) \n",
    "ax.set_xlabel('Principal Component 1', fontsize = 15)\n",
    "ax.set_ylabel('Principal Component 2', fontsize = 15)\n",
    "ax.set_title('2 component tSNE', fontsize = 20)\n",
    "targets = ['философия', 'фанфик', 'фэнтази']\n",
    "colors = ['lightpink', 'palegreen', 'lightskyblue']\n",
    "for target, color in zip(targets,colors):\n",
    "    indicesToKeep = tsne_final['genre'] == target\n",
    "    ax.scatter(tsne_final.loc[indicesToKeep, 'principal component 1']\n",
    "               , tsne_final.loc[indicesToKeep, 'principal component 2']\n",
    "               , c = color\n",
    "               , s = 50)\n",
    "ax.legend(targets)\n",
    "ax.grid()"
   ]
  },
  {
   "cell_type": "markdown",
   "metadata": {},
   "source": [
    "# Тематическое моделирование"
   ]
  },
  {
   "cell_type": "code",
   "execution_count": 5,
   "metadata": {},
   "outputs": [],
   "source": [
    "df_emails = pd.read_csv('Emails.csv')"
   ]
  },
  {
   "cell_type": "code",
   "execution_count": 6,
   "metadata": {},
   "outputs": [
    {
     "data": {
      "text/html": [
       "<div>\n",
       "<style scoped>\n",
       "    .dataframe tbody tr th:only-of-type {\n",
       "        vertical-align: middle;\n",
       "    }\n",
       "\n",
       "    .dataframe tbody tr th {\n",
       "        vertical-align: top;\n",
       "    }\n",
       "\n",
       "    .dataframe thead th {\n",
       "        text-align: right;\n",
       "    }\n",
       "</style>\n",
       "<table border=\"1\" class=\"dataframe\">\n",
       "  <thead>\n",
       "    <tr style=\"text-align: right;\">\n",
       "      <th></th>\n",
       "      <th>Id</th>\n",
       "      <th>DocNumber</th>\n",
       "      <th>MetadataSubject</th>\n",
       "      <th>MetadataTo</th>\n",
       "      <th>MetadataFrom</th>\n",
       "      <th>SenderPersonId</th>\n",
       "      <th>MetadataDateSent</th>\n",
       "      <th>MetadataDateReleased</th>\n",
       "      <th>MetadataPdfLink</th>\n",
       "      <th>MetadataCaseNumber</th>\n",
       "      <th>...</th>\n",
       "      <th>ExtractedTo</th>\n",
       "      <th>ExtractedFrom</th>\n",
       "      <th>ExtractedCc</th>\n",
       "      <th>ExtractedDateSent</th>\n",
       "      <th>ExtractedCaseNumber</th>\n",
       "      <th>ExtractedDocNumber</th>\n",
       "      <th>ExtractedDateReleased</th>\n",
       "      <th>ExtractedReleaseInPartOrFull</th>\n",
       "      <th>ExtractedBodyText</th>\n",
       "      <th>RawText</th>\n",
       "    </tr>\n",
       "  </thead>\n",
       "  <tbody>\n",
       "    <tr>\n",
       "      <th>0</th>\n",
       "      <td>1</td>\n",
       "      <td>C05739545</td>\n",
       "      <td>WOW</td>\n",
       "      <td>H</td>\n",
       "      <td>Sullivan, Jacob J</td>\n",
       "      <td>87.0</td>\n",
       "      <td>2012-09-12T04:00:00+00:00</td>\n",
       "      <td>2015-05-22T04:00:00+00:00</td>\n",
       "      <td>DOCUMENTS/HRC_Email_1_296/HRCH2/DOC_0C05739545...</td>\n",
       "      <td>F-2015-04841</td>\n",
       "      <td>...</td>\n",
       "      <td>NaN</td>\n",
       "      <td>Sullivan, Jacob J &lt;Sullivan11@state.gov&gt;</td>\n",
       "      <td>NaN</td>\n",
       "      <td>Wednesday, September 12, 2012 10:16 AM</td>\n",
       "      <td>F-2015-04841</td>\n",
       "      <td>C05739545</td>\n",
       "      <td>05/13/2015</td>\n",
       "      <td>RELEASE IN FULL</td>\n",
       "      <td>NaN</td>\n",
       "      <td>UNCLASSIFIED\\nU.S. Department of State\\nCase N...</td>\n",
       "    </tr>\n",
       "    <tr>\n",
       "      <th>1</th>\n",
       "      <td>2</td>\n",
       "      <td>C05739546</td>\n",
       "      <td>H: LATEST: HOW SYRIA IS AIDING QADDAFI AND MOR...</td>\n",
       "      <td>H</td>\n",
       "      <td>NaN</td>\n",
       "      <td>NaN</td>\n",
       "      <td>2011-03-03T05:00:00+00:00</td>\n",
       "      <td>2015-05-22T04:00:00+00:00</td>\n",
       "      <td>DOCUMENTS/HRC_Email_1_296/HRCH1/DOC_0C05739546...</td>\n",
       "      <td>F-2015-04841</td>\n",
       "      <td>...</td>\n",
       "      <td>NaN</td>\n",
       "      <td>NaN</td>\n",
       "      <td>NaN</td>\n",
       "      <td>NaN</td>\n",
       "      <td>F-2015-04841</td>\n",
       "      <td>C05739546</td>\n",
       "      <td>05/13/2015</td>\n",
       "      <td>RELEASE IN PART</td>\n",
       "      <td>B6\\nThursday, March 3, 2011 9:45 PM\\nH: Latest...</td>\n",
       "      <td>UNCLASSIFIED\\nU.S. Department of State\\nCase N...</td>\n",
       "    </tr>\n",
       "    <tr>\n",
       "      <th>2</th>\n",
       "      <td>3</td>\n",
       "      <td>C05739547</td>\n",
       "      <td>CHRIS STEVENS</td>\n",
       "      <td>;H</td>\n",
       "      <td>Mills, Cheryl D</td>\n",
       "      <td>32.0</td>\n",
       "      <td>2012-09-12T04:00:00+00:00</td>\n",
       "      <td>2015-05-22T04:00:00+00:00</td>\n",
       "      <td>DOCUMENTS/HRC_Email_1_296/HRCH2/DOC_0C05739547...</td>\n",
       "      <td>F-2015-04841</td>\n",
       "      <td>...</td>\n",
       "      <td>B6</td>\n",
       "      <td>Mills, Cheryl D &lt;MillsCD@state.gov&gt;</td>\n",
       "      <td>Abedin, Huma</td>\n",
       "      <td>Wednesday, September 12, 2012 11:52 AM</td>\n",
       "      <td>F-2015-04841</td>\n",
       "      <td>C05739547</td>\n",
       "      <td>05/14/2015</td>\n",
       "      <td>RELEASE IN PART</td>\n",
       "      <td>Thx</td>\n",
       "      <td>UNCLASSIFIED\\nU.S. Department of State\\nCase N...</td>\n",
       "    </tr>\n",
       "    <tr>\n",
       "      <th>3</th>\n",
       "      <td>4</td>\n",
       "      <td>C05739550</td>\n",
       "      <td>CAIRO CONDEMNATION - FINAL</td>\n",
       "      <td>H</td>\n",
       "      <td>Mills, Cheryl D</td>\n",
       "      <td>32.0</td>\n",
       "      <td>2012-09-12T04:00:00+00:00</td>\n",
       "      <td>2015-05-22T04:00:00+00:00</td>\n",
       "      <td>DOCUMENTS/HRC_Email_1_296/HRCH2/DOC_0C05739550...</td>\n",
       "      <td>F-2015-04841</td>\n",
       "      <td>...</td>\n",
       "      <td>NaN</td>\n",
       "      <td>Mills, Cheryl D &lt;MillsCD@state.gov&gt;</td>\n",
       "      <td>Mitchell, Andrew B</td>\n",
       "      <td>Wednesday, September 12,2012 12:44 PM</td>\n",
       "      <td>F-2015-04841</td>\n",
       "      <td>C05739550</td>\n",
       "      <td>05/13/2015</td>\n",
       "      <td>RELEASE IN PART</td>\n",
       "      <td>NaN</td>\n",
       "      <td>UNCLASSIFIED\\nU.S. Department of State\\nCase N...</td>\n",
       "    </tr>\n",
       "    <tr>\n",
       "      <th>4</th>\n",
       "      <td>5</td>\n",
       "      <td>C05739554</td>\n",
       "      <td>H: LATEST: HOW SYRIA IS AIDING QADDAFI AND MOR...</td>\n",
       "      <td>Abedin, Huma</td>\n",
       "      <td>H</td>\n",
       "      <td>80.0</td>\n",
       "      <td>2011-03-11T05:00:00+00:00</td>\n",
       "      <td>2015-05-22T04:00:00+00:00</td>\n",
       "      <td>DOCUMENTS/HRC_Email_1_296/HRCH1/DOC_0C05739554...</td>\n",
       "      <td>F-2015-04841</td>\n",
       "      <td>...</td>\n",
       "      <td>NaN</td>\n",
       "      <td>NaN</td>\n",
       "      <td>NaN</td>\n",
       "      <td>NaN</td>\n",
       "      <td>F-2015-04841</td>\n",
       "      <td>C05739554</td>\n",
       "      <td>05/13/2015</td>\n",
       "      <td>RELEASE IN PART</td>\n",
       "      <td>H &lt;hrod17@clintonemail.com&gt;\\nFriday, March 11,...</td>\n",
       "      <td>B6\\nUNCLASSIFIED\\nU.S. Department of State\\nCa...</td>\n",
       "    </tr>\n",
       "  </tbody>\n",
       "</table>\n",
       "<p>5 rows × 22 columns</p>\n",
       "</div>"
      ],
      "text/plain": [
       "   Id  DocNumber                                    MetadataSubject  \\\n",
       "0   1  C05739545                                                WOW   \n",
       "1   2  C05739546  H: LATEST: HOW SYRIA IS AIDING QADDAFI AND MOR...   \n",
       "2   3  C05739547                                      CHRIS STEVENS   \n",
       "3   4  C05739550                         CAIRO CONDEMNATION - FINAL   \n",
       "4   5  C05739554  H: LATEST: HOW SYRIA IS AIDING QADDAFI AND MOR...   \n",
       "\n",
       "     MetadataTo       MetadataFrom  SenderPersonId           MetadataDateSent  \\\n",
       "0             H  Sullivan, Jacob J            87.0  2012-09-12T04:00:00+00:00   \n",
       "1             H                NaN             NaN  2011-03-03T05:00:00+00:00   \n",
       "2            ;H    Mills, Cheryl D            32.0  2012-09-12T04:00:00+00:00   \n",
       "3             H    Mills, Cheryl D            32.0  2012-09-12T04:00:00+00:00   \n",
       "4  Abedin, Huma                  H            80.0  2011-03-11T05:00:00+00:00   \n",
       "\n",
       "        MetadataDateReleased  \\\n",
       "0  2015-05-22T04:00:00+00:00   \n",
       "1  2015-05-22T04:00:00+00:00   \n",
       "2  2015-05-22T04:00:00+00:00   \n",
       "3  2015-05-22T04:00:00+00:00   \n",
       "4  2015-05-22T04:00:00+00:00   \n",
       "\n",
       "                                     MetadataPdfLink MetadataCaseNumber  ...  \\\n",
       "0  DOCUMENTS/HRC_Email_1_296/HRCH2/DOC_0C05739545...       F-2015-04841  ...   \n",
       "1  DOCUMENTS/HRC_Email_1_296/HRCH1/DOC_0C05739546...       F-2015-04841  ...   \n",
       "2  DOCUMENTS/HRC_Email_1_296/HRCH2/DOC_0C05739547...       F-2015-04841  ...   \n",
       "3  DOCUMENTS/HRC_Email_1_296/HRCH2/DOC_0C05739550...       F-2015-04841  ...   \n",
       "4  DOCUMENTS/HRC_Email_1_296/HRCH1/DOC_0C05739554...       F-2015-04841  ...   \n",
       "\n",
       "  ExtractedTo                             ExtractedFrom         ExtractedCc  \\\n",
       "0         NaN  Sullivan, Jacob J <Sullivan11@state.gov>                 NaN   \n",
       "1         NaN                                       NaN                 NaN   \n",
       "2          B6       Mills, Cheryl D <MillsCD@state.gov>        Abedin, Huma   \n",
       "3         NaN       Mills, Cheryl D <MillsCD@state.gov>  Mitchell, Andrew B   \n",
       "4         NaN                                       NaN                 NaN   \n",
       "\n",
       "                        ExtractedDateSent ExtractedCaseNumber  \\\n",
       "0  Wednesday, September 12, 2012 10:16 AM        F-2015-04841   \n",
       "1                                     NaN        F-2015-04841   \n",
       "2  Wednesday, September 12, 2012 11:52 AM        F-2015-04841   \n",
       "3   Wednesday, September 12,2012 12:44 PM        F-2015-04841   \n",
       "4                                     NaN        F-2015-04841   \n",
       "\n",
       "  ExtractedDocNumber ExtractedDateReleased ExtractedReleaseInPartOrFull  \\\n",
       "0          C05739545            05/13/2015              RELEASE IN FULL   \n",
       "1          C05739546            05/13/2015              RELEASE IN PART   \n",
       "2          C05739547            05/14/2015              RELEASE IN PART   \n",
       "3          C05739550            05/13/2015              RELEASE IN PART   \n",
       "4          C05739554            05/13/2015              RELEASE IN PART   \n",
       "\n",
       "                                   ExtractedBodyText  \\\n",
       "0                                                NaN   \n",
       "1  B6\\nThursday, March 3, 2011 9:45 PM\\nH: Latest...   \n",
       "2                                                Thx   \n",
       "3                                                NaN   \n",
       "4  H <hrod17@clintonemail.com>\\nFriday, March 11,...   \n",
       "\n",
       "                                             RawText  \n",
       "0  UNCLASSIFIED\\nU.S. Department of State\\nCase N...  \n",
       "1  UNCLASSIFIED\\nU.S. Department of State\\nCase N...  \n",
       "2  UNCLASSIFIED\\nU.S. Department of State\\nCase N...  \n",
       "3  UNCLASSIFIED\\nU.S. Department of State\\nCase N...  \n",
       "4  B6\\nUNCLASSIFIED\\nU.S. Department of State\\nCa...  \n",
       "\n",
       "[5 rows x 22 columns]"
      ]
     },
     "execution_count": 6,
     "metadata": {},
     "output_type": "execute_result"
    }
   ],
   "source": [
    "df_emails.head()"
   ]
  },
  {
   "cell_type": "code",
   "execution_count": 7,
   "metadata": {},
   "outputs": [],
   "source": [
    "from nltk.stem import WordNetLemmatizer\n",
    "from string import punctuation\n",
    "import string\n",
    "import re"
   ]
  },
  {
   "cell_type": "code",
   "execution_count": 8,
   "metadata": {},
   "outputs": [],
   "source": [
    "def preproc_eng(text):\n",
    "    text = str(text)\n",
    "    lemmatizer = WordNetLemmatizer()\n",
    "    clean_text = ' '.join([word for word in text.lower().split()])\n",
    "    # убираем знаки препинания\n",
    "    clean_text = clean_text.translate(str.maketrans(dict.fromkeys(string.punctuation))).split()\n",
    "    clean_text = [re.sub('[«|»|…]', '', word) for word in clean_text]\n",
    "    clean_text = [re.sub('\\d', '', word) for word in clean_text]\n",
    "    # лемматизируем\n",
    "    clean_text = ' '.join([lemmatizer.lemmatize(word) for word in clean_text])\n",
    "    clean_text = clean_text.replace('\\n', '')\n",
    "    clean_text = clean_text.replace('nan', '')\n",
    "    # убираем стоп-слова\n",
    "    clean_text = ' '.join([word for word in clean_text.split() if word not in stopwords.words('english') and len(word) > 2])\n",
    "    return clean_text"
   ]
  },
  {
   "cell_type": "code",
   "execution_count": 10,
   "metadata": {},
   "outputs": [
    {
     "data": {
      "application/vnd.jupyter.widget-view+json": {
       "model_id": "13725c2a93614ba5a60b5160d570d8b7",
       "version_major": 2,
       "version_minor": 0
      },
      "text/plain": [
       "HBox(children=(FloatProgress(value=0.0, max=7945.0), HTML(value='')))"
      ]
     },
     "metadata": {},
     "output_type": "display_data"
    },
    {
     "name": "stdout",
     "output_type": "stream",
     "text": [
      "\n"
     ]
    }
   ],
   "source": [
    "emails_corpus = df_emails['ExtractedBodyText'].progress_apply(preproc_eng)"
   ]
  },
  {
   "cell_type": "markdown",
   "metadata": {},
   "source": [
    "**Для CountVectorizer**"
   ]
  },
  {
   "cell_type": "code",
   "execution_count": 11,
   "metadata": {},
   "outputs": [],
   "source": [
    "vec = CountVectorizer()\n",
    "X = vec.fit_transform(emails_corpus)\n",
    "vocab = vec.get_feature_names()"
   ]
  },
  {
   "cell_type": "code",
   "execution_count": 12,
   "metadata": {},
   "outputs": [],
   "source": [
    "import gensim\n",
    "from gensim import matutils\n",
    "from gensim.models.ldamodel import LdaModel\n",
    "from scipy.sparse import csc"
   ]
  },
  {
   "cell_type": "code",
   "execution_count": 13,
   "metadata": {},
   "outputs": [],
   "source": [
    "vocab_dict = dict([(i, s) for i, s in enumerate(vocab)])"
   ]
  },
  {
   "cell_type": "code",
   "execution_count": 14,
   "metadata": {},
   "outputs": [],
   "source": [
    "corpus = gensim.matutils.Sparse2Corpus(csc.csc_matrix(X))\n",
    "dictionary = gensim.corpora.Dictionary.from_corpus(corpus, vocab_dict)"
   ]
  },
  {
   "cell_type": "code",
   "execution_count": 15,
   "metadata": {},
   "outputs": [],
   "source": [
    "lda = LdaModel(matutils.Sparse2Corpus(X.T), num_topics=5, passes=20, id2word=vocab_dict)"
   ]
  },
  {
   "cell_type": "code",
   "execution_count": 17,
   "metadata": {},
   "outputs": [
    {
     "name": "stdout",
     "output_type": "stream",
     "text": [
      "(0, '0.013*\"state\" + 0.005*\"israel\" + 0.005*\"american\" + 0.004*\"security\" + 0.004*\"government\" + 0.004*\"department\" + 0.004*\"would\" + 0.004*\"new\" + 0.004*\"united\" + 0.004*\"said\" + 0.004*\"israeli\" + 0.004*\"president\" + 0.003*\"people\" + 0.003*\"one\" + 0.003*\"world\"')\n",
      "(1, '0.045*\"secretary\" + 0.042*\"office\" + 0.021*\"state\" + 0.021*\"meeting\" + 0.020*\"room\" + 0.016*\"department\" + 0.014*\"arrive\" + 0.014*\"route\" + 0.014*\"depart\" + 0.012*\"private\" + 0.011*\"conference\" + 0.011*\"residence\" + 0.010*\"time\" + 0.008*\"staff\" + 0.008*\"daily\"')\n",
      "(2, '0.006*\"china\" + 0.005*\"woman\" + 0.004*\"year\" + 0.004*\"would\" + 0.004*\"one\" + 0.004*\"people\" + 0.004*\"work\" + 0.003*\"haiti\" + 0.003*\"country\" + 0.003*\"say\" + 0.003*\"group\" + 0.003*\"also\" + 0.003*\"could\" + 0.003*\"time\" + 0.003*\"school\"')\n",
      "(3, '0.016*\"call\" + 0.013*\"fyi\" + 0.009*\"see\" + 0.008*\"get\" + 0.008*\"know\" + 0.007*\"tomorrow\" + 0.007*\"want\" + 0.006*\"also\" + 0.006*\"today\" + 0.006*\"work\" + 0.006*\"cheryl\" + 0.005*\"good\" + 0.005*\"think\" + 0.005*\"would\" + 0.005*\"huma\"')\n",
      "(4, '0.007*\"obama\" + 0.006*\"said\" + 0.006*\"party\" + 0.006*\"president\" + 0.006*\"republican\" + 0.005*\"would\" + 0.004*\"one\" + 0.004*\"time\" + 0.004*\"new\" + 0.004*\"american\" + 0.004*\"house\" + 0.003*\"vote\" + 0.003*\"say\" + 0.003*\"year\" + 0.003*\"white\"')\n"
     ]
    }
   ],
   "source": [
    "topics = lda.print_topics(num_topics=-1, num_words=15)\n",
    "for topic in topics:\n",
    "    print(topic)"
   ]
  },
  {
   "cell_type": "markdown",
   "metadata": {},
   "source": [
    "- **тема 0:** переписки о американо-израильских отношениях\n",
    "- **тема 1:** переписки с канцелярией государственного секретаря о времени и месте проведения встреч/конференций\n",
    "- **тема 2:** ??? переписки о внешней политике (названия стран Китай, Гаити)\n",
    "- **тема 3:** переписки-распоряжения и оповещения (много глаголов и наречий времени)\n",
    "- **тема 4:** переписки об Обаме, президентских выборах и политических партиях"
   ]
  },
  {
   "cell_type": "code",
   "execution_count": 18,
   "metadata": {},
   "outputs": [],
   "source": [
    "from pyLDAvis import gensim\n",
    "import pyLDAvis"
   ]
  },
  {
   "cell_type": "code",
   "execution_count": 19,
   "metadata": {},
   "outputs": [],
   "source": [
    "pyLDAvis.enable_notebook()"
   ]
  },
  {
   "cell_type": "code",
   "execution_count": 20,
   "metadata": {},
   "outputs": [
    {
     "name": "stderr",
     "output_type": "stream",
     "text": [
      "C:\\Users\\vital\\anaconda3\\lib\\site-packages\\pyLDAvis\\_prepare.py:257: FutureWarning: Sorting because non-concatenation axis is not aligned. A future version\n",
      "of pandas will change to not sort by default.\n",
      "\n",
      "To accept the future behavior, pass 'sort=False'.\n",
      "\n",
      "To retain the current behavior and silence the warning, pass 'sort=True'.\n",
      "\n",
      "  return pd.concat([default_term_info] + list(topic_dfs))\n"
     ]
    },
    {
     "data": {
      "text/html": [
       "\n",
       "<link rel=\"stylesheet\" type=\"text/css\" href=\"https://cdn.rawgit.com/bmabey/pyLDAvis/files/ldavis.v1.0.0.css\">\n",
       "\n",
       "\n",
       "<div id=\"ldavis_el2174823605316561448140051896\"></div>\n",
       "<script type=\"text/javascript\">\n",
       "\n",
       "var ldavis_el2174823605316561448140051896_data = {\"mdsDat\": {\"x\": [0.06635770616993358, 0.08240893863415906, 0.048046098490605545, 0.10764750232655346, -0.3044602456212516], \"y\": [-0.08304766481398948, -0.08786021108672167, -0.09318788289250818, 0.23691690719030217, 0.02717885160291703], \"topics\": [1, 2, 3, 4, 5], \"cluster\": [1, 1, 1, 1, 1], \"Freq\": [28.636863708496094, 27.263446807861328, 26.369237899780273, 11.4443941116333, 6.286049842834473]}, \"tinfo\": {\"Category\": [\"Default\", \"Default\", \"Default\", \"Default\", \"Default\", \"Default\", \"Default\", \"Default\", \"Default\", \"Default\", \"Default\", \"Default\", \"Default\", \"Default\", \"Default\", \"Default\", \"Default\", \"Default\", \"Default\", \"Default\", \"Default\", \"Default\", \"Default\", \"Default\", \"Default\", \"Default\", \"Default\", \"Default\", \"Default\", \"Default\", \"Topic1\", \"Topic1\", \"Topic1\", \"Topic1\", \"Topic1\", \"Topic1\", \"Topic1\", \"Topic1\", \"Topic1\", \"Topic1\", \"Topic1\", \"Topic1\", \"Topic1\", \"Topic1\", \"Topic1\", \"Topic1\", \"Topic1\", \"Topic1\", \"Topic1\", \"Topic1\", \"Topic1\", \"Topic1\", \"Topic1\", \"Topic1\", \"Topic1\", \"Topic1\", \"Topic1\", \"Topic1\", \"Topic1\", \"Topic1\", \"Topic1\", \"Topic1\", \"Topic1\", \"Topic1\", \"Topic1\", \"Topic1\", \"Topic1\", \"Topic1\", \"Topic1\", \"Topic1\", \"Topic1\", \"Topic1\", \"Topic1\", \"Topic1\", \"Topic1\", \"Topic1\", \"Topic1\", \"Topic1\", \"Topic1\", \"Topic1\", \"Topic1\", \"Topic1\", \"Topic1\", \"Topic1\", \"Topic1\", \"Topic1\", \"Topic1\", \"Topic1\", \"Topic1\", \"Topic1\", \"Topic1\", \"Topic1\", \"Topic1\", \"Topic1\", \"Topic1\", \"Topic1\", \"Topic1\", \"Topic2\", \"Topic2\", \"Topic2\", \"Topic2\", \"Topic2\", \"Topic2\", \"Topic2\", \"Topic2\", \"Topic2\", \"Topic2\", \"Topic2\", \"Topic2\", \"Topic2\", \"Topic2\", \"Topic2\", \"Topic2\", \"Topic2\", \"Topic2\", \"Topic2\", \"Topic2\", \"Topic2\", \"Topic2\", \"Topic2\", \"Topic2\", \"Topic2\", \"Topic2\", \"Topic2\", \"Topic2\", \"Topic2\", \"Topic2\", \"Topic2\", \"Topic2\", \"Topic2\", \"Topic2\", \"Topic2\", \"Topic2\", \"Topic2\", \"Topic2\", \"Topic2\", \"Topic2\", \"Topic2\", \"Topic2\", \"Topic2\", \"Topic2\", \"Topic2\", \"Topic2\", \"Topic2\", \"Topic2\", \"Topic2\", \"Topic2\", \"Topic2\", \"Topic2\", \"Topic2\", \"Topic2\", \"Topic2\", \"Topic2\", \"Topic2\", \"Topic2\", \"Topic2\", \"Topic2\", \"Topic2\", \"Topic2\", \"Topic2\", \"Topic2\", \"Topic2\", \"Topic2\", \"Topic2\", \"Topic2\", \"Topic2\", \"Topic2\", \"Topic2\", \"Topic2\", \"Topic2\", \"Topic2\", \"Topic2\", \"Topic2\", \"Topic2\", \"Topic2\", \"Topic2\", \"Topic2\", \"Topic2\", \"Topic2\", \"Topic2\", \"Topic2\", \"Topic2\", \"Topic2\", \"Topic3\", \"Topic3\", \"Topic3\", \"Topic3\", \"Topic3\", \"Topic3\", \"Topic3\", \"Topic3\", \"Topic3\", \"Topic3\", \"Topic3\", \"Topic3\", \"Topic3\", \"Topic3\", \"Topic3\", \"Topic3\", \"Topic3\", \"Topic3\", \"Topic3\", \"Topic3\", \"Topic3\", \"Topic3\", \"Topic3\", \"Topic3\", \"Topic3\", \"Topic3\", \"Topic3\", \"Topic3\", \"Topic3\", \"Topic3\", \"Topic3\", \"Topic3\", \"Topic3\", \"Topic3\", \"Topic3\", \"Topic3\", \"Topic3\", \"Topic3\", \"Topic3\", \"Topic3\", \"Topic3\", \"Topic3\", \"Topic3\", \"Topic3\", \"Topic3\", \"Topic3\", \"Topic3\", \"Topic3\", \"Topic3\", \"Topic3\", \"Topic3\", \"Topic3\", \"Topic3\", \"Topic3\", \"Topic3\", \"Topic3\", \"Topic3\", \"Topic3\", \"Topic3\", \"Topic3\", \"Topic3\", \"Topic3\", \"Topic3\", \"Topic3\", \"Topic3\", \"Topic3\", \"Topic3\", \"Topic3\", \"Topic3\", \"Topic3\", \"Topic3\", \"Topic3\", \"Topic3\", \"Topic3\", \"Topic3\", \"Topic4\", \"Topic4\", \"Topic4\", \"Topic4\", \"Topic4\", \"Topic4\", \"Topic4\", \"Topic4\", \"Topic4\", \"Topic4\", \"Topic4\", \"Topic4\", \"Topic4\", \"Topic4\", \"Topic4\", \"Topic4\", \"Topic4\", \"Topic4\", \"Topic4\", \"Topic4\", \"Topic4\", \"Topic4\", \"Topic4\", \"Topic4\", \"Topic4\", \"Topic4\", \"Topic4\", \"Topic4\", \"Topic4\", \"Topic4\", \"Topic4\", \"Topic4\", \"Topic4\", \"Topic4\", \"Topic4\", \"Topic4\", \"Topic4\", \"Topic4\", \"Topic4\", \"Topic4\", \"Topic4\", \"Topic4\", \"Topic4\", \"Topic4\", \"Topic4\", \"Topic4\", \"Topic4\", \"Topic4\", \"Topic4\", \"Topic4\", \"Topic4\", \"Topic4\", \"Topic4\", \"Topic4\", \"Topic4\", \"Topic4\", \"Topic4\", \"Topic4\", \"Topic4\", \"Topic4\", \"Topic4\", \"Topic4\", \"Topic4\", \"Topic4\", \"Topic4\", \"Topic4\", \"Topic4\", \"Topic4\", \"Topic4\", \"Topic5\", \"Topic5\", \"Topic5\", \"Topic5\", \"Topic5\", \"Topic5\", \"Topic5\", \"Topic5\", \"Topic5\", \"Topic5\", \"Topic5\", \"Topic5\", \"Topic5\", \"Topic5\", \"Topic5\", \"Topic5\", \"Topic5\", \"Topic5\", \"Topic5\", \"Topic5\", \"Topic5\", \"Topic5\", \"Topic5\", \"Topic5\", \"Topic5\", \"Topic5\", \"Topic5\", \"Topic5\", \"Topic5\", \"Topic5\", \"Topic5\", \"Topic5\", \"Topic5\", \"Topic5\", \"Topic5\", \"Topic5\", \"Topic5\", \"Topic5\", \"Topic5\", \"Topic5\", \"Topic5\", \"Topic5\", \"Topic5\", \"Topic5\", \"Topic5\", \"Topic5\", \"Topic5\", \"Topic5\", \"Topic5\", \"Topic5\", \"Topic5\", \"Topic5\", \"Topic5\", \"Topic5\", \"Topic5\", \"Topic5\", \"Topic5\", \"Topic5\", \"Topic5\", \"Topic5\", \"Topic5\", \"Topic5\"], \"Freq\": [1206.0, 1043.0, 1743.0, 702.0, 691.0, 470.0, 767.0, 543.0, 287.0, 285.0, 353.0, 274.0, 363.0, 1167.0, 718.0, 524.0, 583.0, 563.0, 218.0, 344.0, 618.0, 447.0, 393.0, 608.0, 280.0, 774.0, 611.0, 412.0, 515.0, 412.0, 523.2318725585938, 307.4425048828125, 277.9410705566406, 199.56658935546875, 193.91796875, 185.88235473632812, 145.09933471679688, 117.31415557861328, 105.99880981445312, 105.47916412353516, 86.93636322021484, 86.15870666503906, 75.74713134765625, 70.28015899658203, 69.88179779052734, 64.23108673095703, 63.1125373840332, 59.9482536315918, 57.623680114746094, 56.638221740722656, 55.477943420410156, 55.35734558105469, 49.66104507446289, 48.58574676513672, 47.14138412475586, 80.34842681884766, 158.823486328125, 43.07627487182617, 43.450035095214844, 41.51643753051758, 161.83981323242188, 76.1796646118164, 102.60523986816406, 118.1961898803711, 220.74758911132812, 86.90885925292969, 545.9287719726562, 280.798095703125, 198.6913299560547, 208.6765899658203, 608.0690307617188, 256.4529724121094, 133.5736083984375, 199.15394592285156, 249.66995239257812, 157.99786376953125, 285.2188720703125, 537.6517333984375, 557.9503173828125, 234.2266387939453, 131.938232421875, 274.24725341796875, 201.1307830810547, 491.3601989746094, 344.05859375, 324.1466369628906, 395.6641540527344, 301.9619140625, 357.1318359375, 359.7850341796875, 256.5283508300781, 290.6771240234375, 246.6470489501953, 234.44918823242188, 201.45770263671875, 202.33509826660156, 200.71542358398438, 180.1431427001953, 103.67256927490234, 81.64278411865234, 69.01326751708984, 57.5778694152832, 49.38737106323242, 50.30949401855469, 47.88106918334961, 40.60221862792969, 38.37225341796875, 44.178462982177734, 37.12828826904297, 37.09096145629883, 37.68459701538086, 35.89628982543945, 34.26084899902344, 32.47209930419922, 32.44755172729492, 33.01407241821289, 31.652118682861328, 31.62799644470215, 30.586774826049805, 31.624509811401367, 29.804553985595703, 29.761253356933594, 29.76829719543457, 29.506301879882812, 28.693933486938477, 29.069114685058594, 27.982275009155273, 227.54360961914062, 539.7369995117188, 54.649166107177734, 69.41377258300781, 50.68511962890625, 46.12558364868164, 121.63131713867188, 79.15499114990234, 126.42015075683594, 75.46974182128906, 282.0271301269531, 44.903724670410156, 54.00992202758789, 70.65618133544922, 234.73118591308594, 154.81576538085938, 222.97756958007812, 72.12214660644531, 207.53805541992188, 56.12723922729492, 85.00908660888672, 106.18827819824219, 86.84599304199219, 433.11956787109375, 68.13924407958984, 95.22518920898438, 82.53298950195312, 108.0179214477539, 75.09393310546875, 101.95085906982422, 163.68101501464844, 389.7200622558594, 133.8413543701172, 174.32666015625, 276.7435302734375, 304.982177734375, 258.2187805175781, 311.1676025390625, 149.92372131347656, 273.370849609375, 220.7613067626953, 340.61431884765625, 247.2459716796875, 379.35198974609375, 152.03834533691406, 154.493896484375, 206.18133544921875, 255.5767822265625, 204.8876953125, 220.006591796875, 198.8006591796875, 229.6944580078125, 235.0955352783203, 180.4774932861328, 168.6652069091797, 173.1333770751953, 138.18710327148438, 173.2952880859375, 187.0750732421875, 119.40864562988281, 120.1609878540039, 96.2142333984375, 117.1757583618164, 97.64026641845703, 93.39253997802734, 115.54451751708984, 115.5444107055664, 137.18092346191406, 442.6141662597656, 226.86227416992188, 63.88743591308594, 49.60450744628906, 47.255706787109375, 46.525821685791016, 172.8370819091797, 175.9731903076172, 50.55617141723633, 38.479087829589844, 37.13521194458008, 36.19518280029297, 34.06465148925781, 165.4965057373047, 34.79937744140625, 31.095294952392578, 29.568666458129883, 29.16485595703125, 307.0008544921875, 173.33023071289062, 81.05926513671875, 248.07244873046875, 155.95611572265625, 267.2752685546875, 122.19408416748047, 80.04337310791016, 119.13410949707031, 268.8693542480469, 122.54972839355469, 275.61505126953125, 124.43712615966797, 127.19731140136719, 146.91075134277344, 225.3001708984375, 376.2518005371094, 1081.0313720703125, 205.63162231445312, 330.43408203125, 159.3592529296875, 245.3601837158203, 391.2519836425781, 205.90744018554688, 219.83932495117188, 344.7804260253906, 362.7244873046875, 283.604736328125, 246.56785583496094, 256.1542053222656, 220.92701721191406, 252.41195678710938, 330.70562744140625, 293.54400634765625, 320.750244140625, 341.30755615234375, 296.647705078125, 277.7955627441406, 258.2686462402344, 239.18994140625, 292.9701232910156, 241.222412109375, 241.0548858642578, 245.3443603515625, 231.86306762695312, 166.69137573242188, 146.478759765625, 139.07577514648438, 126.962890625, 127.04329681396484, 93.76728820800781, 63.234619140625, 61.04082489013672, 60.37464141845703, 56.973140716552734, 55.95686721801758, 39.890647888183594, 194.21432495117188, 34.52827072143555, 33.32974624633789, 28.04532814025879, 26.141464233398438, 27.13563346862793, 25.841739654541016, 25.44190216064453, 25.506671905517578, 25.096824645996094, 24.925395965576172, 22.661741256713867, 21.9560489654541, 90.61265563964844, 20.082401275634766, 80.02345275878906, 19.909629821777344, 29.16330337524414, 202.5340576171875, 157.09921264648438, 69.89508819580078, 96.60841369628906, 492.71038818359375, 122.06597900390625, 252.96766662597656, 41.54475784301758, 134.3186492919922, 105.01285552978516, 101.03335571289062, 571.9915161132812, 123.35322570800781, 105.26071166992188, 141.37059020996094, 160.6581573486328, 162.3046112060547, 315.21319580078125, 92.53943634033203, 121.79902648925781, 180.0900115966797, 187.41897583007812, 297.1988830566406, 113.72224426269531, 284.2062072753906, 238.54434204101562, 183.86532592773438, 207.574462890625, 126.3111572265625, 197.75978088378906, 196.5917510986328, 184.89222717285156, 230.85235595703125, 207.0470733642578, 175.33071899414062, 156.2065887451172, 195.06105041503906, 171.4431915283203, 150.70973205566406, 286.78936767578125, 285.1204833984375, 273.51715087890625, 218.10137939453125, 58.456886291503906, 52.79909133911133, 43.48440170288086, 38.165748596191406, 34.5048713684082, 25.86682891845703, 25.86682891845703, 59.525856018066406, 21.515460968017578, 20.402189254760742, 18.95722770690918, 17.6512508392334, 15.717246055603027, 15.669784545898438, 15.264097213745117, 15.014925003051758, 13.925607681274414, 13.886995315551758, 13.109308242797852, 13.356842994689941, 11.9900541305542, 11.636078834533691, 29.296289443969727, 11.286375045776367, 11.036712646484375, 10.892037391662598, 11.461222648620605, 410.7859802246094, 139.29660034179688, 851.0685424804688, 901.9238891601562, 66.21910095214844, 64.71006774902344, 151.69024658203125, 101.84807586669922, 73.69587707519531, 242.13186645507812, 425.84033203125, 84.40849304199219, 110.6359634399414, 218.81283569335938, 328.8816833496094, 54.19596481323242, 53.32639694213867, 95.43575286865234, 160.44448852539062, 86.01483917236328, 429.46746826171875, 66.0483169555664, 194.71534729003906, 119.57158660888672, 146.95472717285156, 110.97942352294922, 87.43159484863281, 109.28962707519531, 80.90054321289062, 95.2649917602539, 78.9161605834961], \"Term\": [\"secretary\", \"office\", \"state\", \"meeting\", \"department\", \"room\", \"call\", \"fyi\", \"arrive\", \"route\", \"private\", \"depart\", \"conference\", \"time\", \"house\", \"republican\", \"see\", \"china\", \"residence\", \"staff\", \"get\", \"israel\", \"white\", \"know\", \"tomorrow\", \"obama\", \"party\", \"minister\", \"foreign\", \"washington\", \"republican\", \"vote\", \"democrat\", \"conservative\", \"koch\", \"voter\", \"tea\", \"boehner\", \"tory\", \"labour\", \"cameron\", \"aide\", \"liberal\", \"palin\", \"favorable\", \"unfavorable\", \"uup\", \"lobbyist\", \"amendment\", \"reid\", \"gop\", \"refused\", \"unionist\", \"skousen\", \"race\", \"healthcare\", \"poll\", \"ford\", \"fox\", \"dup\", \"candidate\", \"charles\", \"beck\", \"brown\", \"obamas\", \"ireland\", \"party\", \"election\", \"democratic\", \"campaign\", \"obama\", \"senate\", \"mcchrystal\", \"david\", \"percent\", \"senator\", \"white\", \"president\", \"said\", \"bill\", \"reform\", \"political\", \"former\", \"would\", \"american\", \"house\", \"one\", \"say\", \"new\", \"time\", \"clinton\", \"year\", \"first\", \"like\", \"leader\", \"two\", \"last\", \"haitian\", \"palau\", \"juarez\", \"latrine\", \"currency\", \"ingo\", \"joanne\", \"carleto\", \"greece\", \"oak\", \"llosa\", \"uighur\", \"wiking\", \"laszczych\", \"verizon\", \"administrator\", \"fisa\", \"isi\", \"warming\", \"wfp\", \"pen\", \"maquiladora\", \"patrol\", \"yeo\", \"pih\", \"dynasty\", \"civic\", \"jamal\", \"toivnfstategov\", \"diagnostic\", \"chinese\", \"china\", \"vargas\", \"port\", \"euro\", \"wage\", \"germany\", \"recipient\", \"worker\", \"kid\", \"haiti\", \"intergovernmental\", \"singapore\", \"hospital\", \"school\", \"india\", \"child\", \"medical\", \"local\", \"parent\", \"growth\", \"rate\", \"mother\", \"woman\", \"german\", \"asia\", \"pay\", \"student\", \"indian\", \"education\", \"company\", \"year\", \"system\", \"economic\", \"country\", \"work\", \"group\", \"people\", \"law\", \"say\", \"many\", \"one\", \"could\", \"would\", \"million\", \"home\", \"way\", \"also\", \"day\", \"government\", \"policy\", \"new\", \"time\", \"world\", \"even\", \"need\", \"produced\", \"benghazi\", \"afghan\", \"comm\", \"select\", \"diplomat\", \"waiver\", \"muslim\", \"jerusalem\", \"redaction\", \"foia\", \"sensitive\", \"israel\", \"palestinian\", \"gaza\", \"resolution\", \"libyan\", \"sanction\", \"arab\", \"pakistan\", \"gender\", \"iraqi\", \"missile\", \"objective\", \"territory\", \"nuclear\", \"negotiating\", \"revolutionary\", \"netanyahus\", \"idf\", \"israeli\", \"diplomacy\", \"pakistani\", \"agreement\", \"doc\", \"peace\", \"dept\", \"diplomatic\", \"civilian\", \"military\", \"conflict\", \"afghanistan\", \"netanyahu\", \"strategic\", \"iraq\", \"iran\", \"security\", \"state\", \"information\", \"united\", \"subject\", \"effort\", \"american\", \"force\", \"case\", \"department\", \"government\", \"world\", \"official\", \"support\", \"international\", \"foreign\", \"new\", \"people\", \"said\", \"would\", \"president\", \"woman\", \"country\", \"issue\", \"one\", \"clinton\", \"also\", \"secretary\", \"house\", \"pls\", \"thx\", \"abedin\", \"hrodclintonemailcom\", \"cdm\", \"millscdstategov\", \"abedinhstategov\", \"sullivanjjstategov\", \"wjc\", \"sheet\", \"lauren\", \"jilotylcstategov\", \"huma\", \"thru\", \"shaun\", \"strobe\", \"jiloty\", \"stategov\", \"preines\", \"readout\", \"declassify\", \"copying\", \"edits\", \"pir\", \"govt\", \"ops\", \"noon\", \"schedule\", \"asap\", \"judith\", \"cheryl\", \"mill\", \"blackberry\", \"jacob\", \"fyi\", \"sullivan\", \"tomorrow\", \"min\", \"print\", \"draft\", \"jake\", \"call\", \"thanks\", \"hrc\", \"yes\", \"monday\", \"sent\", \"see\", \"ill\", \"morning\", \"email\", \"let\", \"get\", \"send\", \"know\", \"want\", \"talk\", \"today\", \"friday\", \"good\", \"think\", \"back\", \"also\", \"work\", \"need\", \"may\", \"would\", \"time\", \"like\", \"arrive\", \"route\", \"depart\", \"residence\", \"spray\", \"tbd\", \"preceding\", \"prebrief\", \"laguardia\", \"cingular\", \"xpress\", \"outer\", \"verveermsstategov\", \"bilat\", \"dropby\", \"dirksen\", \"yorklaguardia\", \"monroe\", \"tauscher\", \"pavilion\", \"waldorfastoria\", \"wassistant\", \"luncheon\", \"gillibrand\", \"afb\", \"francisco\", \"availability\", \"davutoglu\", \"wregional\", \"airway\", \"mcc\", \"room\", \"airport\", \"office\", \"secretary\", \"valmoro\", \"camera\", \"daily\", \"assistant\", \"bilateral\", \"private\", \"meeting\", \"briefing\", \"floor\", \"conference\", \"department\", \"andrew\", \"hotel\", \"treaty\", \"staff\", \"photo\", \"state\", \"lona\", \"time\", \"minister\", \"house\", \"washington\", \"press\", \"foreign\", \"special\", \"white\", \"call\"], \"Total\": [1206.0, 1043.0, 1743.0, 702.0, 691.0, 470.0, 767.0, 543.0, 287.0, 285.0, 353.0, 274.0, 363.0, 1167.0, 718.0, 524.0, 583.0, 563.0, 218.0, 344.0, 618.0, 447.0, 393.0, 608.0, 280.0, 774.0, 611.0, 412.0, 515.0, 412.0, 524.0643310546875, 308.2742004394531, 278.76531982421875, 200.389892578125, 194.75364685058594, 186.7042999267578, 145.9270477294922, 118.13652038574219, 106.81890106201172, 106.30037689208984, 87.76507568359375, 86.984130859375, 76.58150482177734, 71.10350799560547, 70.70709991455078, 65.05187225341797, 63.93323516845703, 60.77315902709961, 58.45363998413086, 57.46014404296875, 56.30854034423828, 56.190433502197266, 50.481300354003906, 49.40635681152344, 47.96712875366211, 81.83106231689453, 161.83712768554688, 43.90234375, 44.28846740722656, 42.338218688964844, 166.614990234375, 78.25948333740234, 106.14453125, 123.05548095703125, 235.09901428222656, 89.99659729003906, 611.3536376953125, 316.244873046875, 223.2096405029297, 236.63140869140625, 774.23583984375, 302.9875183105469, 148.2200469970703, 241.38465881347656, 318.7386169433594, 188.67681884765625, 393.1104736328125, 918.515869140625, 1059.156005859375, 344.8672180175781, 156.65357971191406, 457.0595703125, 296.8702392578125, 1407.2628173828125, 771.0999755859375, 718.3778076171875, 1118.4385986328125, 728.1675415039062, 1033.405029296875, 1167.8131103515625, 538.4318237304688, 937.810546875, 585.9691162109375, 680.6096801757812, 412.3699645996094, 530.798095703125, 524.9546508789062, 180.76649475097656, 104.29865264892578, 82.26622772216797, 69.63545227050781, 58.20249938964844, 50.00956344604492, 50.94984817504883, 48.50285339355469, 41.22786331176758, 38.99403762817383, 44.89640808105469, 37.752342224121094, 37.71727752685547, 38.32137680053711, 36.54105758666992, 34.90093231201172, 33.095550537109375, 33.074249267578125, 33.656124114990234, 32.27479553222656, 32.25335693359375, 31.20916748046875, 32.27021026611328, 30.427026748657227, 30.383451461791992, 30.39105987548828, 30.13376235961914, 29.316518783569336, 29.704362869262695, 28.60379409790039, 233.61151123046875, 563.7422485351562, 56.15199661254883, 71.75526428222656, 52.227787017822266, 47.47091293334961, 128.1239471435547, 82.80390167236328, 134.9961700439453, 79.60547637939453, 328.8138427734375, 46.697418212890625, 57.039676666259766, 76.82428741455078, 283.80792236328125, 183.76268005371094, 278.4593811035156, 79.19783020019531, 265.7311706542969, 60.568443298339844, 98.30331420898438, 128.49264526367188, 101.76484680175781, 770.7031860351562, 77.00328826904297, 117.11927795410156, 98.63484954833984, 142.41094970703125, 88.5948257446289, 136.88523864746094, 267.9198303222656, 937.810546875, 202.69215393066406, 310.924072265625, 637.0513305664062, 746.1821899414062, 598.7304077148438, 823.1472778320312, 256.8446350097656, 728.1675415039062, 510.3238220214844, 1118.4385986328125, 650.599609375, 1407.2628173828125, 281.0157470703125, 289.990478515625, 550.0081176757812, 892.3424682617188, 555.7841186523438, 777.2040405273438, 615.3861694335938, 1033.405029296875, 1167.8131103515625, 525.7388916015625, 495.11895751953125, 603.7650146484375, 139.02748107910156, 174.3778839111328, 188.27081298828125, 120.37228393554688, 121.15313720703125, 97.03485870361328, 118.17911529541016, 98.49152374267578, 94.21089935302734, 116.57752990722656, 116.5775375366211, 138.50942993164062, 447.4123840332031, 229.4393768310547, 64.7061767578125, 50.43867492675781, 48.073699951171875, 47.35279846191406, 175.99891662597656, 179.35308837890625, 51.62506103515625, 39.299652099609375, 37.956668853759766, 37.02862548828125, 34.8896598815918, 169.53970336914062, 35.688663482666016, 31.9305477142334, 30.386295318603516, 29.981021881103516, 316.6722106933594, 178.71922302246094, 83.39177703857422, 258.629638671875, 162.74497985839844, 284.6081237792969, 128.0692596435547, 83.5425033569336, 126.8696060180664, 299.9830627441406, 131.8678741455078, 315.3736267089844, 134.8034210205078, 138.7213134765625, 163.19229125976562, 265.5376892089844, 484.5005187988281, 1743.211181640625, 245.01654052734375, 482.6453552246094, 191.82461547851562, 371.9734191894531, 771.0999755859375, 287.8702392578125, 330.2971496582031, 691.3179931640625, 777.2040405273438, 525.7388916015625, 447.067138671875, 490.280029296875, 370.7817077636719, 515.8019409179688, 1033.405029296875, 823.1472778320312, 1059.156005859375, 1407.2628173828125, 918.515869140625, 770.7031860351562, 637.0513305664062, 495.6485900878906, 1118.4385986328125, 538.4318237304688, 892.3424682617188, 1206.103759765625, 718.3778076171875, 167.53538513183594, 147.3223876953125, 139.92552185058594, 127.80610656738281, 127.8896255493164, 94.6126937866211, 64.07789611816406, 61.884788513183594, 61.235626220703125, 57.82954788208008, 56.800392150878906, 40.733543395996094, 198.82821655273438, 35.37397766113281, 34.24047088623047, 28.912961959838867, 26.987518310546875, 28.02054786682129, 26.689579010009766, 26.287391662597656, 26.35713005065918, 25.940269470214844, 25.770877838134766, 23.510679244995117, 22.808658599853516, 94.3350601196289, 20.926658630371094, 83.40460968017578, 20.752206802368164, 30.478498458862305, 211.85299682617188, 164.98068237304688, 73.81803131103516, 103.01364135742188, 543.744140625, 131.728759765625, 280.6558837890625, 43.61418533325195, 153.28565979003906, 118.61070251464844, 115.9825439453125, 767.8052978515625, 149.67385864257812, 126.6366195678711, 179.746826171875, 211.75180053710938, 222.63525390625, 583.8936157226562, 112.65461730957031, 165.01119995117188, 292.061767578125, 311.18096923828125, 618.6051635742188, 152.28225708007812, 608.90185546875, 541.978271484375, 368.2541198730469, 505.2695617675781, 183.36082458496094, 481.2468566894531, 547.6421508789062, 480.2039794921875, 892.3424682617188, 746.1821899414062, 603.7650146484375, 439.5892639160156, 1407.2628173828125, 1167.8131103515625, 680.6096801757812, 287.59417724609375, 285.931884765625, 274.3319091796875, 218.99546813964844, 59.27404022216797, 53.59286880493164, 44.276004791259766, 38.95796203613281, 35.29657745361328, 26.668087005615234, 26.668087005615234, 61.37820816040039, 22.311246871948242, 21.195831298828125, 19.748857498168945, 18.528207778930664, 16.508846282958984, 16.461408615112305, 16.082080841064453, 15.848661422729492, 14.717621803283691, 14.678714752197266, 13.915776252746582, 14.236071586608887, 12.781683921813965, 12.437573432922363, 31.371910095214844, 12.088258743286133, 11.828322410583496, 11.68363094329834, 12.298820495605469, 470.71307373046875, 160.07073974609375, 1043.46923828125, 1206.103759765625, 78.37483215332031, 77.61293029785156, 194.97817993164062, 132.1468963623047, 92.37996673583984, 353.76629638671875, 702.8400268554688, 115.77436065673828, 160.5370635986328, 363.65362548828125, 691.3179931640625, 74.33290100097656, 73.65802764892578, 165.7918243408203, 344.6285400390625, 144.09942626953125, 1743.211181640625, 110.66058349609375, 1167.8131103515625, 412.103515625, 718.3778076171875, 412.1260070800781, 254.49472045898438, 515.8019409179688, 203.50694274902344, 393.1104736328125, 767.8052978515625], \"loglift\": [30.0, 29.0, 28.0, 27.0, 26.0, 25.0, 24.0, 23.0, 22.0, 21.0, 20.0, 19.0, 18.0, 17.0, 16.0, 15.0, 14.0, 13.0, 12.0, 11.0, 10.0, 9.0, 8.0, 7.0, 6.0, 5.0, 4.0, 3.0, 2.0, 1.0, 1.248900055885315, 1.2477999925613403, 1.247499942779541, 1.246399998664856, 1.2461999654769897, 1.2460999488830566, 1.2447999715805054, 1.243499994277954, 1.242799997329712, 1.2426999807357788, 1.2410000562667847, 1.2409000396728516, 1.2395000457763672, 1.238800048828125, 1.238700032234192, 1.2378000020980835, 1.2375999689102173, 1.236799955368042, 1.236199975013733, 1.2360999584197998, 1.2355999946594238, 1.2354999780654907, 1.2340999841690063, 1.2337000370025635, 1.2331000566482544, 1.232200026512146, 1.2316999435424805, 1.2315000295639038, 1.2314000129699707, 1.2309000492095947, 1.2214000225067139, 1.2235000133514404, 1.216599941253662, 1.2101999521255493, 1.1875, 1.2156000137329102, 1.1373000144958496, 1.131600022315979, 1.1340999603271484, 1.1247999668121338, 1.0089000463485718, 1.0836999416351318, 1.146399974822998, 1.0582000017166138, 1.0061999559402466, 1.0729999542236328, 0.9296000003814697, 0.714900016784668, 0.609499990940094, 0.8636000156402588, 1.0787999629974365, 0.7397000193595886, 0.8611000180244446, 0.19830000400543213, 0.44350001215934753, 0.4546999931335449, 0.21140000224113464, 0.3702000081539154, 0.18799999356269836, 0.0731000006198883, 0.5091000199317932, 0.07909999787807465, 0.38519999384880066, 0.18469999730587006, 0.5340999960899353, 0.28600001335144043, 0.2890999913215637, 1.2962000370025635, 1.2935999631881714, 1.2920000553131104, 1.2905999422073364, 1.2888000011444092, 1.2870999574661255, 1.2869999408721924, 1.2867000102996826, 1.2842999696731567, 1.2834999561309814, 1.2834999561309814, 1.2829999923706055, 1.2828999757766724, 1.2828999757766724, 1.2818000316619873, 1.2811000347137451, 1.2805999517440796, 1.280500054359436, 1.280400037765503, 1.2800999879837036, 1.2799999713897705, 1.2795000076293945, 1.2793999910354614, 1.2790000438690186, 1.2789000272750854, 1.2789000272750854, 1.2785999774932861, 1.2782000303268433, 1.277999997138977, 1.2776999473571777, 1.273300051689148, 1.256100058555603, 1.2725000381469727, 1.2663999795913696, 1.2696000337600708, 1.270900011062622, 1.2475999593734741, 1.2546000480651855, 1.2339999675750732, 1.2462999820709229, 1.1461000442504883, 1.2604999542236328, 1.2450000047683716, 1.21589994430542, 1.1097999811172485, 1.1282000541687012, 1.0773999691009521, 1.2059999704360962, 1.0525000095367432, 1.2235000133514404, 1.1542999744415283, 1.1089999675750732, 1.1411000490188599, 0.7232999801635742, 1.177299976348877, 1.0927000045776367, 1.121399998664856, 1.0232000350952148, 1.1342999935150146, 1.0049999952316284, 0.8069000244140625, 0.42149999737739563, 0.8845999836921692, 0.7210000157356262, 0.4659000039100647, 0.4049000144004822, 0.4586000144481659, 0.32679998874664307, 0.7613000273704529, 0.3199000060558319, 0.4616999924182892, 0.11069999635219574, 0.3321000039577484, -0.011300000362098217, 0.6852999925613403, 0.6699000000953674, 0.31839999556541443, 0.049300000071525574, 0.30169999599456787, 0.03759999945759773, 0.1696999967098236, -0.20419999957084656, -0.30329999327659607, 0.2303999960422516, 0.22269999980926514, 0.05050000175833702, 1.3269000053405762, 1.32669997215271, 1.3265999555587769, 1.3249000310897827, 1.3246999979019165, 1.3244999647140503, 1.3243999481201172, 1.3243000507354736, 1.3242000341415405, 1.3241000175476074, 1.3241000175476074, 1.3233000040054321, 1.3221999406814575, 1.3216999769210815, 1.320199966430664, 1.3163000345230103, 1.3157999515533447, 1.3154000043869019, 1.3148000240325928, 1.3138999938964844, 1.312000036239624, 1.311900019645691, 1.3111000061035156, 1.3101999759674072, 1.309000015258789, 1.3087999820709229, 1.3077000379562378, 1.30649995803833, 1.3056999444961548, 1.305400013923645, 1.3020000457763672, 1.30239999294281, 1.3046000003814697, 1.2913000583648682, 1.2904000282287598, 1.2700999975204468, 1.2860000133514404, 1.2901999950408936, 1.2700999975204468, 1.2235000133514404, 1.2596999406814575, 1.198199987411499, 1.253000020980835, 1.2461999654769897, 1.2279000282287598, 1.1685999631881714, 1.0801000595092773, 0.8551999926567078, 1.1576999425888062, 0.9541000127792358, 1.1476000547409058, 0.9168999791145325, 0.6545000076293945, 0.9979000091552734, 0.9258999824523926, 0.6373000144958496, 0.570900022983551, 0.7156999707221985, 0.7379000186920166, 0.6837999820709229, 0.8151999711990356, 0.6183000206947327, 0.19359999895095825, 0.3018999993801117, 0.13840000331401825, -0.0835999995470047, 0.20280000567436218, 0.3125999867916107, 0.4300999939441681, 0.6043999791145325, -0.006599999964237213, 0.5299999713897705, 0.02410000003874302, -0.25949999690055847, 0.2020999938249588, 2.162600040435791, 2.161900043487549, 2.161600112915039, 2.161099910736084, 2.1610000133514404, 2.1586999893188477, 2.154400110244751, 2.153899908065796, 2.1535000801086426, 2.1528000831604004, 2.1526999473571777, 2.1468000411987305, 2.144200086593628, 2.1435000896453857, 2.140700101852417, 2.137200117111206, 2.1357998847961426, 2.1356000900268555, 2.1354000568389893, 2.134999990463257, 2.1349000930786133, 2.1345999240875244, 2.1342999935150146, 2.1308999061584473, 2.1296000480651855, 2.1273999214172363, 2.126499891281128, 2.126300096511841, 2.126199960708618, 2.1236000061035156, 2.1226999759674072, 2.1187000274658203, 2.113100051879883, 2.1034998893737793, 2.0690999031066895, 2.0915000438690186, 2.063800096511841, 2.1191000938415527, 2.035599946975708, 2.0459001064300537, 2.0297000408172607, 1.8732999563217163, 1.9743000268936157, 1.982800006866455, 1.9275000095367432, 1.8914999961853027, 1.8516000509262085, 1.551200032234192, 1.9709999561309814, 1.8639999628067017, 1.6842000484466553, 1.660599946975708, 1.4345999956130981, 1.8756999969482422, 1.4056999683380127, 1.347000002861023, 1.473099946975708, 1.2781000137329102, 1.7949999570846558, 1.2783000469207764, 1.1432000398635864, 1.2131999731063843, 0.8155999779701233, 0.8855999708175659, 0.9312000274658203, 1.1330000162124634, 0.1915999948978424, 0.24899999797344208, 0.6600000262260437, 2.7639999389648438, 2.7639999389648438, 2.7639000415802, 2.762700080871582, 2.753000020980835, 2.7518999576568604, 2.748800039291382, 2.746299982070923, 2.7441999912261963, 2.736299991607666, 2.736299991607666, 2.7362000942230225, 2.7304999828338623, 2.7286999225616455, 2.7258999347686768, 2.7183001041412354, 2.7177000045776367, 2.717600107192993, 2.714600086212158, 2.7128000259399414, 2.7114999294281006, 2.711400032043457, 2.7070999145507812, 2.7030999660491943, 2.702899932861328, 2.700200080871582, 2.6984000205993652, 2.698199987411499, 2.6975998878479004, 2.696700096130371, 2.6963000297546387, 2.63070011138916, 2.6277999877929688, 2.562999963760376, 2.4762001037597656, 2.598299980163574, 2.5850000381469727, 2.5157999992370605, 2.5064001083374023, 2.5408999919891357, 2.387700080871582, 2.2657999992370605, 2.450900077819824, 2.3945999145507812, 2.2588999271392822, 2.023900032043457, 2.450900077819824, 2.4437999725341797, 2.214600086212158, 2.0023000240325928, 2.2509000301361084, 1.3659000396728516, 2.2507998943328857, 0.9754999876022339, 1.5295000076293945, 1.1799999475479126, 1.4549000263214111, 1.6984000205993652, 1.2151000499725342, 1.8444000482559204, 1.3494000434875488, 0.4916999936103821], \"logprob\": [30.0, 29.0, 28.0, 27.0, 26.0, 25.0, 24.0, 23.0, 22.0, 21.0, 20.0, 19.0, 18.0, 17.0, 16.0, 15.0, 14.0, 13.0, 12.0, 11.0, 10.0, 9.0, 8.0, 7.0, 6.0, 5.0, 4.0, 3.0, 2.0, 1.0, -5.162399768829346, -5.6940999031066895, -5.795000076293945, -6.126299858093262, -6.15500020980835, -6.197299957275391, -6.445000171661377, -6.657599925994873, -6.758999824523926, -6.763899803161621, -6.957200050354004, -6.96619987487793, -7.09499979019165, -7.169899940490723, -7.175600051879883, -7.259900093078613, -7.277500152587891, -7.32889986038208, -7.368500232696533, -7.385700225830078, -7.406400203704834, -7.408599853515625, -7.517199993133545, -7.539100170135498, -7.569300174713135, -7.035999774932861, -6.354599952697754, -7.65939998626709, -7.6508002281188965, -7.696300029754639, -6.3358001708984375, -7.089300155639648, -6.791500091552734, -6.650100231170654, -6.025400161743164, -6.957600116729736, -5.119900226593018, -5.784800052642822, -6.13070011138916, -6.081600189208984, -5.0121002197265625, -5.875500202178955, -6.5278000831604, -6.128300189971924, -5.902299880981445, -6.359799861907959, -5.769199848175049, -5.135200023651123, -5.098100185394287, -5.966100215911865, -6.54010009765625, -5.8084001541137695, -6.118500232696533, -5.225200176239014, -5.581600189208984, -5.641200065612793, -5.441800117492676, -5.712100028991699, -5.544300079345703, -5.536900043487549, -5.875199794769287, -5.750199794769287, -5.9145002365112305, -5.965199947357178, -6.116799831390381, -6.112500190734863, -6.120500087738037, -6.179500102996826, -6.73199987411499, -6.970900058746338, -7.138999938964844, -7.320099830627441, -7.473599910736084, -7.455100059509277, -7.504499912261963, -7.669400215148926, -7.725900173187256, -7.585000038146973, -7.758900165557861, -7.759900093078613, -7.74399995803833, -7.792600154876709, -7.839300155639648, -7.892899990081787, -7.893599987030029, -7.876299858093262, -7.918499946594238, -7.9191999435424805, -7.952700138092041, -7.919300079345703, -7.978600025177002, -7.980100154876709, -7.979800224304199, -7.988699913024902, -8.016599655151367, -8.003600120544434, -8.04170036315918, -5.945899963378906, -5.082200050354004, -7.372300148010254, -7.133200168609619, -7.4475998878479, -7.541900157928467, -6.572299957275391, -7.0019001960754395, -6.533699989318848, -7.049499988555908, -5.731299877166748, -7.568699836730957, -7.384099960327148, -7.1153998374938965, -5.91480016708374, -6.330999851226807, -5.96619987487793, -7.094900131225586, -6.037899971008301, -7.345600128173828, -6.930500030517578, -6.708000183105469, -6.90910005569458, -5.302199840545654, -7.151700019836426, -6.816999912261963, -6.960100173950195, -6.690999984741211, -7.054500102996826, -6.748799800872803, -6.275300025939941, -5.407800197601318, -6.476600170135498, -6.212299823760986, -5.750199794769287, -5.6529998779296875, -5.819499969482422, -5.632900238037109, -6.363100051879883, -5.762400150299072, -5.976200103759766, -5.542500019073486, -5.8628997802734375, -5.434800148010254, -6.349100112915039, -6.333099842071533, -6.04449987411499, -5.829699993133545, -6.05079984664917, -5.979599952697754, -6.080999851226807, -5.936500072479248, -5.913300037384033, -6.177700042724609, -6.245299816131592, -6.219200134277344, -6.411300182342529, -6.184899806976318, -6.108399868011475, -6.557400226593018, -6.55109977722168, -6.7733001708984375, -6.576200008392334, -6.758600234985352, -6.803100109100342, -6.5903000831604, -6.5903000831604, -6.418600082397461, -5.247200012207031, -5.915599822998047, -7.182799816131592, -7.435800075531006, -7.484300136566162, -7.499899864196777, -6.187600135803223, -6.169600009918213, -7.416800022125244, -7.689799785614014, -7.725299835205078, -7.750999927520752, -7.811699867248535, -6.230999946594238, -7.790299892425537, -7.902900218963623, -7.953199863433838, -7.966899871826172, -5.613100051879883, -6.184700012207031, -6.944699764251709, -5.826200008392334, -6.290299892425537, -5.7515997886657715, -6.534299850463867, -6.957300186157227, -6.559700012207031, -5.745699882507324, -6.531400203704834, -5.720900058746338, -6.51609992980957, -6.494200229644775, -6.350100040435791, -5.922500133514404, -5.4096999168396, -4.3541998863220215, -6.013800144195557, -5.5395002365112305, -6.268799781799316, -5.837200164794922, -5.37060022354126, -6.012499809265137, -5.947000026702881, -5.497000217437744, -5.446300029754639, -5.692299842834473, -5.832300186157227, -5.794099807739258, -5.9421000480651855, -5.808899879455566, -5.538700103759766, -5.657899856567383, -5.569300174713135, -5.5071001052856445, -5.64739990234375, -5.7129998207092285, -5.785900115966797, -5.86269998550415, -5.659800052642822, -5.8541998863220215, -5.854899883270264, -5.837299823760986, -5.893799781799316, -5.389100074768066, -5.5183000564575195, -5.570199966430664, -5.661300182342529, -5.660699844360352, -5.964399814605713, -6.358399868011475, -6.393700122833252, -6.404600143432617, -6.462600231170654, -6.480599880218506, -6.8190999031066895, -5.236299991607666, -6.963399887084961, -6.998799800872803, -7.17140007019043, -7.241700172424316, -7.204400062561035, -7.253200054168701, -7.268799781799316, -7.266300201416016, -7.28249979019165, -7.289299964904785, -7.384500026702881, -7.416200160980225, -5.998600006103516, -7.50540018081665, -6.122900009155273, -7.513999938964844, -7.132299900054932, -5.194300174713135, -5.448299884796143, -6.258200168609619, -5.934500217437744, -4.305300235748291, -5.700699806213379, -4.9720001220703125, -6.77839994430542, -5.605000019073486, -5.851099967956543, -5.889800071716309, -4.156099796295166, -5.690199851989746, -5.848800182342529, -5.553800106048584, -5.425899982452393, -5.4156999588012695, -4.751999855041504, -5.97760009765625, -5.7027997970581055, -5.311800003051758, -5.271900177001953, -4.810800075531006, -5.771500110626221, -4.855500221252441, -5.030700206756592, -5.290999889373779, -5.1697001457214355, -5.666500091552734, -5.218200206756592, -5.224100112915039, -5.285399913787842, -5.063399791717529, -5.172299861907959, -5.338500022888184, -5.453999996185303, -5.231900215148926, -5.361000061035156, -5.4899001121521, -4.247300148010254, -4.2530999183654785, -4.2947001457214355, -4.521100044250488, -5.837800025939941, -5.939599990844727, -6.133600234985352, -6.264100074768066, -6.3649001121521, -6.65310001373291, -6.65310001373291, -5.8196001052856445, -6.837299823760986, -6.890399932861328, -6.963900089263916, -7.035200119018555, -7.151299953460693, -7.154300212860107, -7.180500030517578, -7.197000026702881, -7.272299766540527, -7.275100231170654, -7.332699775695801, -7.314000129699707, -7.421999931335449, -7.451900005340576, -6.528600215911865, -7.482500076293945, -7.504799842834473, -7.51800012588501, -7.467100143432617, -3.888000011444092, -4.969399929046631, -3.159600019454956, -3.1015000343322754, -5.713099956512451, -5.736100196838379, -4.884200096130371, -5.282599925994873, -5.606100082397461, -4.416600227355957, -3.8519999980926514, -5.470399856567383, -5.19980001449585, -4.5177998542785645, -4.110300064086914, -5.913400173187256, -5.929599761962891, -5.347599983215332, -4.828100204467773, -5.451499938964844, -3.8434998989105225, -5.715700149536133, -4.634500026702881, -5.122099876403809, -4.915900230407715, -5.196700096130371, -5.435200214385986, -5.211999893188477, -5.512800216674805, -5.349400043487549, -5.537700176239014]}, \"token.table\": {\"Topic\": [4, 4, 2, 5, 2, 3, 1, 2, 3, 1, 3, 5, 1, 2, 5, 5, 1, 2, 3, 4, 1, 1, 2, 3, 5, 1, 3, 4, 5, 2, 3, 5, 4, 1, 2, 3, 4, 5, 1, 2, 3, 4, 5, 3, 5, 1, 2, 3, 4, 1, 2, 3, 5, 3, 5, 1, 3, 4, 5, 2, 4, 1, 1, 3, 5, 1, 4, 5, 1, 3, 4, 5, 1, 2, 3, 5, 1, 1, 3, 1, 2, 2, 1, 2, 3, 4, 5, 4, 1, 3, 5, 4, 5, 1, 2, 3, 5, 1, 2, 3, 2, 3, 5, 2, 1, 3, 1, 2, 3, 4, 5, 3, 1, 2, 3, 1, 2, 3, 4, 5, 1, 2, 3, 1, 4, 1, 2, 3, 4, 1, 2, 3, 2, 1, 3, 5, 1, 2, 3, 4, 5, 5, 1, 2, 3, 4, 5, 4, 1, 1, 3, 5, 1, 2, 3, 5, 3, 5, 2, 3, 5, 3, 3, 4, 5, 5, 3, 5, 3, 4, 5, 1, 2, 1, 2, 3, 5, 4, 1, 2, 3, 5, 1, 2, 3, 4, 5, 1, 3, 4, 1, 2, 4, 1, 2, 1, 2, 3, 4, 1, 1, 2, 3, 4, 5, 2, 1, 3, 5, 3, 1, 2, 3, 5, 1, 1, 2, 3, 5, 1, 2, 3, 5, 1, 5, 1, 3, 4, 1, 2, 3, 4, 5, 3, 2, 3, 1, 2, 5, 1, 2, 1, 2, 3, 4, 5, 1, 2, 3, 4, 1, 1, 2, 3, 5, 4, 2, 1, 2, 3, 4, 5, 1, 2, 3, 2, 3, 4, 5, 2, 1, 3, 1, 2, 3, 4, 5, 1, 2, 3, 4, 1, 2, 3, 5, 1, 3, 4, 5, 3, 4, 5, 4, 4, 5, 3, 1, 3, 4, 2, 3, 4, 5, 2, 3, 5, 1, 2, 3, 4, 2, 2, 5, 1, 2, 3, 5, 1, 3, 4, 5, 1, 3, 5, 3, 1, 5, 2, 1, 3, 1, 3, 5, 1, 2, 3, 4, 5, 3, 4, 3, 4, 5, 2, 3, 4, 4, 2, 2, 2, 4, 1, 2, 1, 2, 3, 4, 1, 1, 5, 1, 2, 3, 4, 2, 2, 4, 1, 2, 3, 1, 2, 3, 5, 1, 2, 3, 4, 1, 3, 1, 2, 3, 4, 2, 1, 1, 2, 3, 4, 5, 5, 1, 2, 3, 4, 2, 1, 2, 3, 4, 5, 1, 3, 2, 3, 1, 3, 4, 5, 1, 2, 3, 5, 4, 5, 1, 2, 3, 4, 2, 4, 1, 2, 3, 5, 3, 1, 3, 4, 5, 5, 1, 3, 4, 5, 1, 2, 3, 5, 3, 1, 2, 3, 4, 3, 3, 5, 3, 1, 2, 3, 4, 5, 4, 3, 5, 2, 1, 3, 5, 1, 3, 3, 1, 2, 3, 5, 1, 2, 3, 4, 5, 1, 2, 3, 4, 5, 4, 5, 3, 5, 2, 3, 5, 2, 3, 5, 2, 3, 5, 1, 1, 2, 3, 5, 1, 3, 5, 2, 5, 1, 2, 3, 1, 3, 5, 2, 1, 2, 3, 4, 1, 2, 3, 1, 2, 3, 4, 5, 2, 4, 4, 1, 2, 3, 5, 1, 2, 3, 5, 1, 3, 2, 3, 5, 5, 4, 1, 2, 3, 4, 5, 1, 2, 3, 4, 5, 1, 2, 3, 4, 1, 2, 3, 5, 3, 1, 1, 2, 4, 2, 3, 3, 1, 2, 3, 1, 1, 1, 5, 3, 3, 1, 2, 3, 5, 5, 1, 2, 3, 4, 3, 1, 2, 3, 4, 3, 4, 5, 1, 2, 3, 5, 1, 2, 3, 5, 1, 2, 3, 5, 1, 2, 3, 4, 3, 1, 3, 5, 1, 3, 4, 5, 1, 2, 3, 4, 3, 5, 1, 2, 3, 4, 4, 4, 2, 5, 1, 1, 2, 3, 5, 5, 1, 2, 3, 4, 5, 1, 2, 3, 5, 4, 1, 3, 5, 4, 1, 2, 3, 5, 1, 2, 3, 4, 5, 1, 3, 4, 5, 4, 1, 2, 3, 1, 2, 3, 4, 1, 2, 3, 4, 5, 5, 1, 3, 1, 3, 4, 1, 2, 3, 4, 4, 4, 1, 2, 3, 4, 5, 1, 2, 3, 4, 2, 1, 3, 4, 1, 3, 5, 1, 2, 3, 4, 5, 2, 1, 1, 1, 2, 3, 5, 1, 4, 5, 1, 2, 2, 5, 1, 1, 2, 3, 3, 5, 1, 2, 3, 4, 2, 1, 2, 3, 5, 5, 1, 2, 3, 4, 2, 1, 3, 5, 2, 4, 1, 2, 3, 4, 5, 1, 2, 3, 4, 5, 1, 2, 1, 2, 3, 4, 5, 1, 2, 3, 4, 5, 5, 1, 2, 3, 4, 2, 1, 3, 4, 5], \"Freq\": [0.9933856129646301, 0.9831783175468445, 0.9741860032081604, 0.9388434290885925, 0.005311497952789068, 0.9932500720024109, 0.12049200385808945, 0.006341684143990278, 0.8751524686813354, 0.01933266408741474, 0.9589001536369324, 0.01933266408741474, 0.9886860847473145, 0.1249447613954544, 0.8683660626411438, 0.9414881467819214, 0.18490658700466156, 0.2868853807449341, 0.2700756788253784, 0.2588692307472229, 0.9922392964363098, 0.4461159408092499, 0.03890546038746834, 0.507067859172821, 0.007781092077493668, 0.1883419007062912, 0.026905985549092293, 0.040358979254961014, 0.72646164894104, 0.017045559361577034, 0.98296058177948, 0.9979339838027954, 0.9637529253959656, 0.017076607793569565, 0.8111388683319092, 0.14515116810798645, 0.008538303896784782, 0.017076607793569565, 0.08324069529771805, 0.022702008485794067, 0.09080803394317627, 0.03026934526860714, 0.7718682885169983, 0.031875647604465485, 0.9243938326835632, 0.2623884975910187, 0.2373991161584854, 0.1166171059012413, 0.3852529525756836, 0.9703750014305115, 0.02826334908604622, 0.9920982718467712, 0.943581759929657, 0.19484743475914001, 0.801039457321167, 0.678521990776062, 0.07539133727550507, 0.24067233502864838, 0.0028996667824685574, 0.04064047709107399, 0.9482777714729309, 0.9903795719146729, 0.02591247297823429, 0.24184975028038025, 0.7255492210388184, 0.9589170813560486, 0.016252830624580383, 0.016252830624580383, 0.06902791559696198, 0.08335446566343307, 0.74498051404953, 0.10289067029953003, 0.051537804305553436, 0.07730670273303986, 0.051537804305553436, 0.8374893069267273, 0.9912827014923096, 0.8832301497459412, 0.11410150676965714, 0.9723014831542969, 0.024007443338632584, 0.9896324872970581, 0.08477215468883514, 0.15743400156497955, 0.6660668849945068, 0.08779972791671753, 0.0030275769531726837, 0.9930437803268433, 0.9711282849311829, 0.012778003700077534, 0.012778003700077534, 0.9582116007804871, 0.04248228669166565, 0.04309425503015518, 0.8008349537849426, 0.14723871648311615, 0.007182375993579626, 0.008869301527738571, 0.9578845500946045, 0.031929485499858856, 0.9759793281555176, 0.02568366564810276, 0.9749480485916138, 0.9955610632896423, 0.05517476052045822, 0.9379709362983704, 0.4773120582103729, 0.0018572453409433365, 0.44759613275527954, 0.06128909811377525, 0.013000717386603355, 0.9885996580123901, 0.37697842717170715, 0.612123429775238, 0.011197379790246487, 0.06874673813581467, 0.08249608427286148, 0.2447383850812912, 0.002749869367107749, 0.6022214293479919, 0.05308343842625618, 0.015166696161031723, 0.9327518343925476, 0.9980543255805969, 0.9637525081634521, 0.24900107085704803, 0.3796497881412506, 0.21826019883155823, 0.15216732025146484, 0.16011269390583038, 0.43481582403182983, 0.40499091148376465, 0.9965207576751709, 0.11796192079782486, 0.09744679927825928, 0.7795743942260742, 0.8244103193283081, 0.004142765421420336, 0.04557041823863983, 0.07871253788471222, 0.04557041823863983, 0.9099739193916321, 0.2824837863445282, 0.3688482642173767, 0.1961193084716797, 0.1385429948568344, 0.012594818137586117, 0.9864503145217896, 0.9972546100616455, 0.8915385603904724, 0.10752223432064056, 0.9987901449203491, 0.0014465122949331999, 0.023144196718931198, 0.4990467429161072, 0.4759025573730469, 0.9526095390319824, 0.03904137387871742, 0.978891134262085, 0.9679988622665405, 0.02797684445977211, 0.9893351793289185, 0.9575964212417603, 0.011969954706728458, 0.023939909413456917, 0.9714916944503784, 0.9585549235343933, 0.036867495626211166, 0.10960225015878677, 0.8852489590644836, 0.9620809555053711, 0.9920114874839783, 0.9871324300765991, 0.19618937373161316, 0.5596221685409546, 0.23478400707244873, 0.009648658335208893, 0.9700872302055359, 0.06574850529432297, 0.7451497316360474, 0.15341317653656006, 0.03652694821357727, 0.09946947544813156, 0.22044585645198822, 0.658649206161499, 0.01613018475472927, 0.002688364125788212, 0.8885519504547119, 0.09802530705928802, 0.012648425996303558, 0.07532653212547302, 0.30473005771636963, 0.6163079738616943, 0.01914689503610134, 0.9764916896820068, 0.40192362666130066, 0.3413321077823639, 0.2423660010099411, 0.01413801684975624, 0.9899995923042297, 0.42152392864227295, 0.22014811635017395, 0.24233359098434448, 0.09386160224676132, 0.022185469046235085, 0.9668973684310913, 0.28030911087989807, 0.02491636388003826, 0.6914291381835938, 0.9950459003448486, 0.11116119474172592, 0.05210680887103081, 0.7156001925468445, 0.12158256024122238, 0.9794465899467468, 0.17060811817646027, 0.1279560923576355, 0.48855963349342346, 0.21132142841815948, 0.6770634651184082, 0.0875803530216217, 0.22568783164024353, 0.010105425491929054, 0.9709073901176453, 0.9648184180259705, 0.14725065231323242, 0.16361182928085327, 0.6871696710586548, 0.009195500984787941, 0.06069030985236168, 0.007356401067227125, 0.9066764116287231, 0.016551902517676353, 0.989086389541626, 0.019370436668395996, 0.9878922700881958, 0.09090521186590195, 0.8830791711807251, 0.025972917675971985, 0.04682965204119682, 0.9522029757499695, 0.2651125490665436, 0.15518784523010254, 0.09860894083976746, 0.48011237382888794, 0.913173258304596, 0.1994818150997162, 0.25974196195602417, 0.13090994954109192, 0.4114312529563904, 0.9767612218856812, 0.24703937768936157, 0.28306594491004944, 0.46705880761146545, 0.0025733269285410643, 0.9645459651947021, 0.9944730997085571, 0.313997745513916, 0.4309118092060089, 0.20376449823379517, 0.021712610498070717, 0.028393413871526718, 0.061035580933094025, 0.8646707534790039, 0.0712081789970398, 0.8576281070709229, 0.027371110394597054, 0.10644320398569107, 0.006082469131797552, 0.9957597255706787, 0.9776238799095154, 0.012220297940075397, 0.14483234286308289, 0.5310519337654114, 0.15172912180423737, 0.155177503824234, 0.01724194549024105, 0.0390501506626606, 0.9241868853569031, 0.02603343315422535, 0.013016716577112675, 0.1357625275850296, 0.09503377228975296, 0.05430500954389572, 0.7195413708686829, 0.4510161578655243, 0.3229498565196991, 0.020880376920104027, 0.20462770760059357, 0.07106949388980865, 0.8291440606117249, 0.09475932270288467, 0.9936927556991577, 0.9757166504859924, 0.02011786960065365, 0.9672785997390747, 0.07101351022720337, 0.10652026534080505, 0.825532078742981, 0.8434792160987854, 0.09795242547988892, 0.054418012499809265, 0.005441801156848669, 0.8465505838394165, 0.13544809818267822, 0.011287340894341469, 0.008162714540958405, 0.13468478620052338, 0.8407595753669739, 0.01632542908191681, 0.9798126220703125, 0.9636507034301758, 0.021414460614323616, 0.059334103018045425, 0.28588250279426575, 0.5960380434989929, 0.059334103018045425, 0.09791453927755356, 0.8473373651504517, 0.03389349207282066, 0.018829718232154846, 0.08578836917877197, 0.9007778167724609, 0.006127740256488323, 0.9669296741485596, 0.9667032361030579, 0.022223062813282013, 0.9675200581550598, 0.008940298110246658, 0.9901379942893982, 0.015789197757840157, 0.9694567322731018, 0.01263135764747858, 0.2764055132865906, 0.04842140153050423, 0.48219648003578186, 0.17754514515399933, 0.016140468418598175, 0.05824471265077591, 0.9416228532791138, 0.04310993477702141, 0.8708207011222839, 0.08621986955404282, 0.9892033934593201, 0.9871469140052795, 0.963408350944519, 0.9819916486740112, 0.981357216835022, 0.9967638254165649, 0.032810013741254807, 0.9514904618263245, 0.05024779960513115, 0.9421462416648865, 0.19214919209480286, 0.16751468181610107, 0.17244158685207367, 0.4664134383201599, 0.9961302280426025, 0.9877669811248779, 0.9915975332260132, 0.3828902244567871, 0.2038271278142929, 0.2666897177696228, 0.1485842615365982, 0.9916136264801025, 0.9908745884895325, 0.9859086871147156, 0.18298999965190887, 0.584010660648346, 0.22971084713935852, 0.48742637038230896, 0.007275020703673363, 0.4995514154434204, 0.004850013647228479, 0.11568830907344818, 0.061057716608047485, 0.22173592448234558, 0.6009364724159241, 0.9924067258834839, 0.9776655435562134, 0.3438093960285187, 0.22039063274860382, 0.21304428577423096, 0.2218599021434784, 0.9800338745117188, 0.9872779250144958, 0.06021122634410858, 0.7827459573745728, 0.15805447101593018, 0.39761221408843994, 0.5964183211326599, 0.9341915249824524, 0.19987308979034424, 0.43305835127830505, 0.3213645815849304, 0.04702896252274513, 0.9932978749275208, 0.288906067609787, 0.13649104535579681, 0.22066053748130798, 0.35487672686576843, 0.8943946957588196, 0.9040612578392029, 0.09445416182279587, 0.9091157913208008, 0.08838625997304916, 0.07540833950042725, 0.1892322450876236, 0.12805189192295074, 0.6061123013496399, 0.040002256631851196, 0.05666986480355263, 0.8967173099517822, 0.003333521541208029, 0.9516265392303467, 0.042429208755493164, 0.3522934317588806, 0.5408949851989746, 0.1067555844783783, 0.9935241937637329, 0.04585663974285126, 0.9629894495010376, 0.1844196766614914, 0.10676929354667664, 0.41737085580825806, 0.2911889851093292, 0.9747957587242126, 0.09917271137237549, 0.08028267323970795, 0.7603241205215454, 0.06139263138175011, 0.97197026014328, 0.06666214019060135, 0.1818058341741562, 0.7393437623977661, 0.006060194689780474, 0.07861261069774628, 0.8549121022224426, 0.049132879823446274, 0.01965315267443657, 0.9950094819068909, 0.10103268176317215, 0.2865353226661682, 0.3229733407497406, 0.28984785079956055, 0.980703592300415, 0.9198579788208008, 0.07418209314346313, 0.987287163734436, 0.345459908246994, 0.2225652039051056, 0.3203003704547882, 0.04741606488823891, 0.06483421474695206, 0.9557187557220459, 0.9732233881950378, 0.017694970592856407, 0.9745079874992371, 0.7852904200553894, 0.20923857390880585, 0.005166384391486645, 0.9400294423103333, 0.059549376368522644, 0.972220778465271, 0.10733426362276077, 0.05079210549592972, 0.026833565905690193, 0.8155487179756165, 0.13197122514247894, 0.1834176480770111, 0.552489697933197, 0.01118400227278471, 0.12078722566366196, 0.35406503081321716, 0.3048893213272095, 0.2619723677635193, 0.07599880546331406, 0.0035764144267886877, 0.9646466374397278, 0.03180153667926788, 0.016292426735162735, 0.9775456190109253, 0.005575594026595354, 0.9813045263290405, 0.011151188053190708, 0.01199159026145935, 0.971318781375885, 0.01199159026145935, 0.9971365332603455, 0.9893680810928345, 0.008716899901628494, 0.9844802618026733, 0.0330204963684082, 0.9245738983154297, 0.0330204963684082, 0.0165102481842041, 0.8931000828742981, 0.10141430050134659, 0.004907143302261829, 0.9916266202926636, 0.9464521408081055, 0.13179925084114075, 0.8414875864982605, 0.030415212735533714, 0.04567684233188629, 0.9381320476531982, 0.014054412953555584, 0.992144763469696, 0.24296988546848297, 0.37781816720962524, 0.35716572403907776, 0.021867290139198303, 0.7843417525291443, 0.21334095299243927, 0.003137366846203804, 0.04163791611790657, 0.24982750415802002, 0.10409479588270187, 0.006939652841538191, 0.5968101620674133, 0.9873796105384827, 0.9782788157463074, 0.9968043565750122, 0.30549922585487366, 0.3233741819858551, 0.36237409710884094, 0.009749975055456161, 0.5994842052459717, 0.04375797137618065, 0.35225167870521545, 0.002187898615375161, 0.9824692606925964, 0.0123581038787961, 0.9616019129753113, 0.027872519567608833, 0.9754103422164917, 0.9711806774139404, 0.9741629958152771, 0.5857275128364563, 0.016330692917108536, 0.32334771752357483, 0.011975840665400028, 0.06314534693956375, 0.1493154764175415, 0.003929354716092348, 0.3811473846435547, 0.12180998921394348, 0.3418538570404053, 0.07828520983457565, 0.02609506994485855, 0.013047534972429276, 0.8741848468780518, 0.14698968827724457, 0.09610864520072937, 0.07349484413862228, 0.68406742811203, 0.9926095008850098, 0.9798376560211182, 0.17121602594852448, 0.8249499201774597, 0.9510262608528137, 0.9540613293647766, 0.0362301766872406, 0.9950459599494934, 0.8426235914230347, 0.025534048676490784, 0.12767024338245392, 0.9788143038749695, 0.9919919371604919, 0.9979690909385681, 0.9954543709754944, 0.9913027882575989, 0.9708571434020996, 0.03823985531926155, 0.0764797106385231, 0.014871055260300636, 0.8731433749198914, 0.9967408776283264, 0.5268345475196838, 0.1236833855509758, 0.3030714988708496, 0.04720740020275116, 0.9925495982170105, 0.414739727973938, 0.3749137222766876, 0.1359577178955078, 0.07278544455766678, 0.023979490622878075, 0.9591795802116394, 0.011989745311439037, 0.09513476490974426, 0.8280248045921326, 0.07047019898891449, 0.007047019433230162, 0.04808873310685158, 0.0008291160338558257, 0.20313343405723572, 0.747862696647644, 0.0619194395840168, 0.14035072922706604, 0.7760569453239441, 0.02063981257379055, 0.16270087659358978, 0.18839047849178314, 0.1078963652253151, 0.5394818186759949, 0.990481972694397, 0.8449192643165588, 0.029704194515943527, 0.12211724370718002, 0.8374107480049133, 0.07420095056295395, 0.05300068110227585, 0.03180040791630745, 0.04596727341413498, 0.11163480579853058, 0.09193454682826996, 0.7486098408699036, 0.989102303981781, 0.007219724822789431, 0.08084972947835922, 0.11229129135608673, 0.07635807991027832, 0.7276475429534912, 0.9637718200683594, 0.9856553077697754, 0.9467094540596008, 0.05259496718645096, 0.9917752146720886, 0.2997440695762634, 0.07862139493227005, 0.22603651881217957, 0.39802083373069763, 0.9785059094429016, 0.3569060266017914, 0.06673852354288101, 0.10446029901504517, 0.005803349893540144, 0.4642679989337921, 0.08719540387392044, 0.04646597057580948, 0.6201199293136597, 0.24609754979610443, 0.9635785818099976, 0.028834789991378784, 0.9155045747756958, 0.05046088248491287, 0.9684237837791443, 0.02808772772550583, 0.7583686709403992, 0.1966141015291214, 0.02106579579412937, 0.02606547623872757, 0.0156392864882946, 0.8288821578025818, 0.11990119516849518, 0.010426190681755543, 0.01518271304666996, 0.022774070501327515, 0.9261454939842224, 0.03036542609333992, 0.985702633857727, 0.3161458671092987, 0.16113241016864777, 0.5221505761146545, 0.12333974987268448, 0.6611010432243347, 0.19241000711917877, 0.024667950347065926, 0.08418100327253342, 0.062456872314214706, 0.35573261976242065, 0.49965497851371765, 0.932715117931366, 0.9889375567436218, 0.9936471581459045, 0.9745007753372192, 0.06013074144721031, 0.11358028650283813, 0.8217867612838745, 0.268423467874527, 0.27024945616722107, 0.10225655883550644, 0.3597239553928375, 0.9894278645515442, 0.99102383852005, 0.3082685172557831, 0.20123082399368286, 0.17725439369678497, 0.14642754197120667, 0.16697877645492554, 0.20187243819236755, 0.15437304973602295, 0.2335387021303177, 0.41166144609451294, 0.9762875437736511, 0.028504658490419388, 0.07126164436340332, 0.901459813117981, 0.9923337697982788, 0.4222162365913391, 0.5730077624320984, 0.3805590271949768, 0.2581019103527069, 0.2938970625400543, 0.06593844294548035, 0.0018839555559679866, 0.9800716638565063, 0.9838302731513977, 0.9904657602310181, 0.11188339442014694, 0.18440040946006775, 0.6837318539619446, 0.01864723302423954, 0.9854030013084412, 0.14035117626190186, 0.8421070575714111, 0.017808806151151657, 0.9794843196868896, 0.985193133354187, 0.9860497713088989, 0.9958666563034058, 0.9962277412414551, 0.9690144658088684, 0.02106553129851818, 0.9900226593017578, 0.9512406587600708, 0.19373470544815063, 0.1752837747335434, 0.19188961386680603, 0.4409770965576172, 0.9805050492286682, 0.40764230489730835, 0.055808175355196, 0.2693350911140442, 0.2693350911140442, 0.9537619948387146, 0.2454509288072586, 0.37453991174697876, 0.2381782978773117, 0.14181609451770782, 0.9914857745170593, 0.7249870300292969, 0.030525770038366318, 0.24166235327720642, 0.980982780456543, 0.9798218011856079, 0.054495688527822495, 0.5618245601654053, 0.360709547996521, 0.006487581878900528, 0.016867712140083313, 0.08711009472608566, 0.4087473452091217, 0.22380593419075012, 0.27741214632987976, 0.0026803105138242245, 0.05926094204187393, 0.9333598017692566, 0.10271258652210236, 0.3423752784729004, 0.5401921272277832, 0.007608339656144381, 0.007608339656144381, 0.34890425205230713, 0.2693171501159668, 0.24231436848640442, 0.13856686651706696, 0.9299712777137756, 0.9749480485916138, 0.3102972209453583, 0.41586223244667053, 0.23992052674293518, 0.034122031182050705, 0.9859655499458313, 0.15577465295791626, 0.05563380569219589, 0.7844366431236267, 0.9691773653030396], \"Term\": [\"abedin\", \"abedinhstategov\", \"administrator\", \"afb\", \"afghan\", \"afghan\", \"afghanistan\", \"afghanistan\", \"afghanistan\", \"agreement\", \"agreement\", \"agreement\", \"aide\", \"airport\", \"airport\", \"airway\", \"also\", \"also\", \"also\", \"also\", \"amendment\", \"american\", \"american\", \"american\", \"american\", \"andrew\", \"andrew\", \"andrew\", \"andrew\", \"arab\", \"arab\", \"arrive\", \"asap\", \"asia\", \"asia\", \"asia\", \"asia\", \"asia\", \"assistant\", \"assistant\", \"assistant\", \"assistant\", \"assistant\", \"availability\", \"availability\", \"back\", \"back\", \"back\", \"back\", \"beck\", \"beck\", \"benghazi\", \"bilat\", \"bilateral\", \"bilateral\", \"bill\", \"bill\", \"bill\", \"bill\", \"blackberry\", \"blackberry\", \"boehner\", \"briefing\", \"briefing\", \"briefing\", \"brown\", \"brown\", \"brown\", \"call\", \"call\", \"call\", \"call\", \"camera\", \"camera\", \"camera\", \"camera\", \"cameron\", \"campaign\", \"campaign\", \"candidate\", \"candidate\", \"carleto\", \"case\", \"case\", \"case\", \"case\", \"case\", \"cdm\", \"charles\", \"charles\", \"charles\", \"cheryl\", \"cheryl\", \"child\", \"child\", \"child\", \"child\", \"china\", \"china\", \"china\", \"chinese\", \"chinese\", \"cingular\", \"civic\", \"civilian\", \"civilian\", \"clinton\", \"clinton\", \"clinton\", \"clinton\", \"clinton\", \"comm\", \"company\", \"company\", \"company\", \"conference\", \"conference\", \"conference\", \"conference\", \"conference\", \"conflict\", \"conflict\", \"conflict\", \"conservative\", \"copying\", \"could\", \"could\", \"could\", \"could\", \"country\", \"country\", \"country\", \"currency\", \"daily\", \"daily\", \"daily\", \"david\", \"david\", \"david\", \"david\", \"david\", \"davutoglu\", \"day\", \"day\", \"day\", \"day\", \"day\", \"declassify\", \"democrat\", \"democratic\", \"democratic\", \"depart\", \"department\", \"department\", \"department\", \"department\", \"dept\", \"dept\", \"diagnostic\", \"diplomacy\", \"diplomacy\", \"diplomat\", \"diplomatic\", \"diplomatic\", \"diplomatic\", \"dirksen\", \"doc\", \"doc\", \"draft\", \"draft\", \"dropby\", \"dup\", \"dynasty\", \"economic\", \"economic\", \"economic\", \"economic\", \"edits\", \"education\", \"education\", \"education\", \"education\", \"effort\", \"effort\", \"effort\", \"effort\", \"effort\", \"election\", \"election\", \"election\", \"email\", \"email\", \"email\", \"euro\", \"euro\", \"even\", \"even\", \"even\", \"even\", \"favorable\", \"first\", \"first\", \"first\", \"first\", \"first\", \"fisa\", \"floor\", \"floor\", \"floor\", \"foia\", \"force\", \"force\", \"force\", \"force\", \"ford\", \"foreign\", \"foreign\", \"foreign\", \"foreign\", \"former\", \"former\", \"former\", \"former\", \"fox\", \"francisco\", \"friday\", \"friday\", \"friday\", \"fyi\", \"fyi\", \"fyi\", \"fyi\", \"fyi\", \"gaza\", \"gender\", \"gender\", \"german\", \"german\", \"german\", \"germany\", \"germany\", \"get\", \"get\", \"get\", \"get\", \"gillibrand\", \"good\", \"good\", \"good\", \"good\", \"gop\", \"government\", \"government\", \"government\", \"government\", \"govt\", \"greece\", \"group\", \"group\", \"group\", \"group\", \"group\", \"growth\", \"growth\", \"growth\", \"haiti\", \"haiti\", \"haiti\", \"haiti\", \"haitian\", \"healthcare\", \"healthcare\", \"home\", \"home\", \"home\", \"home\", \"home\", \"hospital\", \"hospital\", \"hospital\", \"hospital\", \"hotel\", \"hotel\", \"hotel\", \"hotel\", \"house\", \"house\", \"house\", \"house\", \"hrc\", \"hrc\", \"hrc\", \"hrodclintonemailcom\", \"huma\", \"huma\", \"idf\", \"ill\", \"ill\", \"ill\", \"india\", \"india\", \"india\", \"india\", \"indian\", \"indian\", \"indian\", \"information\", \"information\", \"information\", \"information\", \"ingo\", \"intergovernmental\", \"intergovernmental\", \"international\", \"international\", \"international\", \"international\", \"iran\", \"iran\", \"iran\", \"iran\", \"iraq\", \"iraq\", \"iraq\", \"iraqi\", \"ireland\", \"ireland\", \"isi\", \"israel\", \"israel\", \"israeli\", \"israeli\", \"israeli\", \"issue\", \"issue\", \"issue\", \"issue\", \"issue\", \"jacob\", \"jacob\", \"jake\", \"jake\", \"jake\", \"jamal\", \"jerusalem\", \"jiloty\", \"jilotylcstategov\", \"joanne\", \"juarez\", \"judith\", \"judith\", \"kid\", \"kid\", \"know\", \"know\", \"know\", \"know\", \"koch\", \"labour\", \"laguardia\", \"last\", \"last\", \"last\", \"last\", \"laszczych\", \"latrine\", \"lauren\", \"law\", \"law\", \"law\", \"leader\", \"leader\", \"leader\", \"leader\", \"let\", \"let\", \"let\", \"let\", \"liberal\", \"libyan\", \"like\", \"like\", \"like\", \"like\", \"llosa\", \"lobbyist\", \"local\", \"local\", \"local\", \"lona\", \"lona\", \"luncheon\", \"many\", \"many\", \"many\", \"many\", \"maquiladora\", \"may\", \"may\", \"may\", \"may\", \"mcc\", \"mcchrystal\", \"mcchrystal\", \"medical\", \"medical\", \"meeting\", \"meeting\", \"meeting\", \"meeting\", \"military\", \"military\", \"military\", \"military\", \"mill\", \"mill\", \"million\", \"million\", \"million\", \"millscdstategov\", \"min\", \"min\", \"minister\", \"minister\", \"minister\", \"minister\", \"missile\", \"monday\", \"monday\", \"monday\", \"monday\", \"monroe\", \"morning\", \"morning\", \"morning\", \"morning\", \"mother\", \"mother\", \"mother\", \"mother\", \"muslim\", \"need\", \"need\", \"need\", \"need\", \"negotiating\", \"netanyahu\", \"netanyahu\", \"netanyahus\", \"new\", \"new\", \"new\", \"new\", \"new\", \"noon\", \"nuclear\", \"nuclear\", \"oak\", \"obama\", \"obama\", \"obama\", \"obamas\", \"obamas\", \"objective\", \"office\", \"office\", \"office\", \"office\", \"official\", \"official\", \"official\", \"official\", \"official\", \"one\", \"one\", \"one\", \"one\", \"one\", \"ops\", \"ops\", \"outer\", \"outer\", \"pakistan\", \"pakistan\", \"pakistan\", \"pakistani\", \"pakistani\", \"pakistani\", \"palau\", \"palestinian\", \"palestinian\", \"palin\", \"parent\", \"parent\", \"parent\", \"parent\", \"party\", \"party\", \"party\", \"patrol\", \"pavilion\", \"pay\", \"pay\", \"pay\", \"peace\", \"peace\", \"peace\", \"pen\", \"people\", \"people\", \"people\", \"people\", \"percent\", \"percent\", \"percent\", \"photo\", \"photo\", \"photo\", \"photo\", \"photo\", \"pih\", \"pir\", \"pls\", \"policy\", \"policy\", \"policy\", \"policy\", \"political\", \"political\", \"political\", \"political\", \"poll\", \"poll\", \"port\", \"port\", \"prebrief\", \"preceding\", \"preines\", \"president\", \"president\", \"president\", \"president\", \"president\", \"press\", \"press\", \"press\", \"press\", \"press\", \"print\", \"print\", \"print\", \"print\", \"private\", \"private\", \"private\", \"private\", \"produced\", \"race\", \"rate\", \"rate\", \"readout\", \"recipient\", \"recipient\", \"redaction\", \"reform\", \"reform\", \"reform\", \"refused\", \"reid\", \"republican\", \"residence\", \"resolution\", \"revolutionary\", \"room\", \"room\", \"room\", \"room\", \"route\", \"said\", \"said\", \"said\", \"said\", \"sanction\", \"say\", \"say\", \"say\", \"say\", \"schedule\", \"schedule\", \"schedule\", \"school\", \"school\", \"school\", \"school\", \"secretary\", \"secretary\", \"secretary\", \"secretary\", \"security\", \"security\", \"security\", \"security\", \"see\", \"see\", \"see\", \"see\", \"select\", \"senate\", \"senate\", \"senate\", \"senator\", \"senator\", \"senator\", \"senator\", \"send\", \"send\", \"send\", \"send\", \"sensitive\", \"sensitive\", \"sent\", \"sent\", \"sent\", \"sent\", \"shaun\", \"sheet\", \"singapore\", \"singapore\", \"skousen\", \"special\", \"special\", \"special\", \"special\", \"spray\", \"staff\", \"staff\", \"staff\", \"staff\", \"staff\", \"state\", \"state\", \"state\", \"state\", \"stategov\", \"strategic\", \"strategic\", \"strategic\", \"strobe\", \"student\", \"student\", \"student\", \"student\", \"subject\", \"subject\", \"subject\", \"subject\", \"subject\", \"sullivan\", \"sullivan\", \"sullivan\", \"sullivan\", \"sullivanjjstategov\", \"support\", \"support\", \"support\", \"system\", \"system\", \"system\", \"system\", \"talk\", \"talk\", \"talk\", \"talk\", \"tauscher\", \"tbd\", \"tea\", \"territory\", \"thanks\", \"thanks\", \"thanks\", \"think\", \"think\", \"think\", \"think\", \"thru\", \"thx\", \"time\", \"time\", \"time\", \"time\", \"time\", \"today\", \"today\", \"today\", \"today\", \"toivnfstategov\", \"tomorrow\", \"tomorrow\", \"tomorrow\", \"tory\", \"treaty\", \"treaty\", \"two\", \"two\", \"two\", \"two\", \"two\", \"uighur\", \"unfavorable\", \"unionist\", \"united\", \"united\", \"united\", \"united\", \"uup\", \"valmoro\", \"valmoro\", \"vargas\", \"vargas\", \"verizon\", \"verveermsstategov\", \"vote\", \"voter\", \"wage\", \"wage\", \"waiver\", \"waldorfastoria\", \"want\", \"want\", \"want\", \"want\", \"warming\", \"washington\", \"washington\", \"washington\", \"washington\", \"wassistant\", \"way\", \"way\", \"way\", \"way\", \"wfp\", \"white\", \"white\", \"white\", \"wiking\", \"wjc\", \"woman\", \"woman\", \"woman\", \"woman\", \"woman\", \"work\", \"work\", \"work\", \"work\", \"work\", \"worker\", \"worker\", \"world\", \"world\", \"world\", \"world\", \"world\", \"would\", \"would\", \"would\", \"would\", \"wregional\", \"xpress\", \"year\", \"year\", \"year\", \"year\", \"yeo\", \"yes\", \"yes\", \"yes\", \"yorklaguardia\"]}, \"R\": 30, \"lambda.step\": 0.01, \"plot.opts\": {\"xlab\": \"PC1\", \"ylab\": \"PC2\"}, \"topic.order\": [5, 3, 1, 4, 2]};\n",
       "\n",
       "function LDAvis_load_lib(url, callback){\n",
       "  var s = document.createElement('script');\n",
       "  s.src = url;\n",
       "  s.async = true;\n",
       "  s.onreadystatechange = s.onload = callback;\n",
       "  s.onerror = function(){console.warn(\"failed to load library \" + url);};\n",
       "  document.getElementsByTagName(\"head\")[0].appendChild(s);\n",
       "}\n",
       "\n",
       "if(typeof(LDAvis) !== \"undefined\"){\n",
       "   // already loaded: just create the visualization\n",
       "   !function(LDAvis){\n",
       "       new LDAvis(\"#\" + \"ldavis_el2174823605316561448140051896\", ldavis_el2174823605316561448140051896_data);\n",
       "   }(LDAvis);\n",
       "}else if(typeof define === \"function\" && define.amd){\n",
       "   // require.js is available: use it to load d3/LDAvis\n",
       "   require.config({paths: {d3: \"https://cdnjs.cloudflare.com/ajax/libs/d3/3.5.5/d3.min\"}});\n",
       "   require([\"d3\"], function(d3){\n",
       "      window.d3 = d3;\n",
       "      LDAvis_load_lib(\"https://cdn.rawgit.com/bmabey/pyLDAvis/files/ldavis.v1.0.0.js\", function(){\n",
       "        new LDAvis(\"#\" + \"ldavis_el2174823605316561448140051896\", ldavis_el2174823605316561448140051896_data);\n",
       "      });\n",
       "    });\n",
       "}else{\n",
       "    // require.js not available: dynamically load d3 & LDAvis\n",
       "    LDAvis_load_lib(\"https://cdnjs.cloudflare.com/ajax/libs/d3/3.5.5/d3.min.js\", function(){\n",
       "         LDAvis_load_lib(\"https://cdn.rawgit.com/bmabey/pyLDAvis/files/ldavis.v1.0.0.js\", function(){\n",
       "                 new LDAvis(\"#\" + \"ldavis_el2174823605316561448140051896\", ldavis_el2174823605316561448140051896_data);\n",
       "            })\n",
       "         });\n",
       "}\n",
       "</script>"
      ],
      "text/plain": [
       "PreparedData(topic_coordinates=              x         y  topics  cluster       Freq\n",
       "topic                                                \n",
       "4      0.066358 -0.083048       1        1  28.636864\n",
       "2      0.082409 -0.087860       2        1  27.263447\n",
       "0      0.048046 -0.093188       3        1  26.369238\n",
       "3      0.107648  0.236917       4        1  11.444394\n",
       "1     -0.304460  0.027179       5        1   6.286050, topic_info=      Category         Freq        Term        Total  loglift  logprob\n",
       "21025  Default  1206.000000   secretary  1206.000000  30.0000  30.0000\n",
       "16425  Default  1043.000000      office  1043.000000  29.0000  29.0000\n",
       "22469  Default  1743.000000       state  1743.000000  28.0000  28.0000\n",
       "14685  Default   702.000000     meeting   702.000000  27.0000  27.0000\n",
       "5986   Default   691.000000  department   691.000000  26.0000  26.0000\n",
       "...        ...          ...         ...          ...      ...      ...\n",
       "18299   Topic5    87.431595       press   254.494720   1.6984  -5.4352\n",
       "8952    Topic5   109.289627     foreign   515.801941   1.2151  -5.2120\n",
       "22183   Topic5    80.900543     special   203.506943   1.8444  -5.5128\n",
       "25979   Topic5    95.264992       white   393.110474   1.3494  -5.3494\n",
       "3323    Topic5    78.916161        call   767.805298   0.4917  -5.5377\n",
       "\n",
       "[389 rows x 6 columns], token_table=       Topic      Freq             Term\n",
       "term                                   \n",
       "42         4  0.993386           abedin\n",
       "45         4  0.983178  abedinhstategov\n",
       "327        2  0.974186    administrator\n",
       "405        5  0.938843              afb\n",
       "438        2  0.005311           afghan\n",
       "...      ...       ...              ...\n",
       "26601      2  0.985966              yeo\n",
       "26606      1  0.155775              yes\n",
       "26606      3  0.055634              yes\n",
       "26606      4  0.784437              yes\n",
       "26649      5  0.969177    yorklaguardia\n",
       "\n",
       "[779 rows x 3 columns], R=30, lambda_step=0.01, plot_opts={'xlab': 'PC1', 'ylab': 'PC2'}, topic_order=[5, 3, 1, 4, 2])"
      ]
     },
     "execution_count": 20,
     "metadata": {},
     "output_type": "execute_result"
    }
   ],
   "source": [
    "pyLDAvis.gensim.prepare(lda, corpus, dictionary)"
   ]
  },
  {
   "cell_type": "markdown",
   "metadata": {},
   "source": [
    "**Для TfIdf Vectorizer**"
   ]
  },
  {
   "cell_type": "code",
   "execution_count": 21,
   "metadata": {},
   "outputs": [],
   "source": [
    "tfidf = TfidfVectorizer()\n",
    "X = tfidf.fit_transform(emails_corpus)\n",
    "vocab = vec.get_feature_names()"
   ]
  },
  {
   "cell_type": "code",
   "execution_count": 22,
   "metadata": {},
   "outputs": [],
   "source": [
    "vocab_dict = dict([(i, s) for i, s in enumerate(vocab)])"
   ]
  },
  {
   "cell_type": "code",
   "execution_count": 23,
   "metadata": {},
   "outputs": [],
   "source": [
    "import gensim\n",
    "from gensim import matutils\n",
    "from gensim.models.ldamodel import LdaModel\n",
    "from scipy.sparse import csc"
   ]
  },
  {
   "cell_type": "code",
   "execution_count": 24,
   "metadata": {},
   "outputs": [],
   "source": [
    "corpus = gensim.matutils.Sparse2Corpus(csc.csc_matrix(X))\n",
    "dictionary = gensim.corpora.Dictionary.from_corpus(corpus, vocab_dict)"
   ]
  },
  {
   "cell_type": "code",
   "execution_count": 28,
   "metadata": {},
   "outputs": [],
   "source": [
    "lda_tfidf = LdaModel(matutils.Sparse2Corpus(X.T), num_topics=5, passes=10, id2word=vocab_dict)"
   ]
  },
  {
   "cell_type": "code",
   "execution_count": 29,
   "metadata": {},
   "outputs": [
    {
     "name": "stdout",
     "output_type": "stream",
     "text": [
      "(0, '0.007*\"call\" + 0.004*\"see\" + 0.003*\"get\" + 0.003*\"know\" + 0.003*\"tomorrow\" + 0.003*\"talk\" + 0.003*\"state\" + 0.003*\"would\" + 0.003*\"good\" + 0.003*\"time\" + 0.003*\"work\" + 0.003*\"also\" + 0.003*\"want\" + 0.003*\"today\" + 0.002*\"let\"')\n",
      "(1, '0.005*\"thx\" + 0.003*\"importance\" + 0.003*\"high\" + 0.002*\"traffic\" + 0.002*\"remind\" + 0.001*\"yeah\" + 0.001*\"sigh\" + 0.001*\"isabelle\" + 0.001*\"tues\" + 0.001*\"mashabane\" + 0.001*\"discus\" + 0.001*\"bader\" + 0.001*\"confidential\" + 0.001*\"marianne\" + 0.001*\"recd\"')\n",
      "(2, '0.003*\"roger\" + 0.002*\"min\" + 0.002*\"declassify\" + 0.002*\"nice\" + 0.001*\"course\" + 0.001*\"ellen\" + 0.001*\"scroll\" + 0.001*\"noon\" + 0.001*\"problem\" + 0.001*\"reason\" + 0.001*\"count\" + 0.001*\"thnx\" + 0.001*\"messa\" + 0.001*\"yang\" + 0.001*\"rch\"')\n",
      "(3, '0.072*\"fyi\" + 0.006*\"yes\" + 0.006*\"mill\" + 0.006*\"cheryl\" + 0.006*\"millscdstategov\" + 0.004*\"hillary\" + 0.004*\"abedinhstategov\" + 0.003*\"abedin\" + 0.003*\"hrodclintonemailcom\" + 0.003*\"huma\" + 0.002*\"yep\" + 0.002*\"sullivanjjstategov\" + 0.002*\"october\" + 0.002*\"sullivan\" + 0.002*\"friday\"')\n",
      "(4, '0.012*\"print\" + 0.008*\"pls\" + 0.006*\"release\" + 0.006*\"part\" + 0.004*\"office\" + 0.003*\"arrive\" + 0.003*\"secretary\" + 0.002*\"depart\" + 0.002*\"route\" + 0.002*\"room\" + 0.002*\"residence\" + 0.002*\"private\" + 0.001*\"printed\" + 0.001*\"copy\" + 0.001*\"daily\"')\n"
     ]
    }
   ],
   "source": [
    "topics = lda_tfidf.print_topics(num_topics=-1, num_words=15)\n",
    "for topic in topics:\n",
    "    print(topic)"
   ]
  },
  {
   "cell_type": "markdown",
   "metadata": {},
   "source": [
    "LDA на TfIdfVectorizer представлениях показывает неравномерно распределенные и менее осмысленные результаты (в визуализации ниже представлено, что первая тема содержит около 60% токенов). Все темы содержат подходят под описание обычной деловой переписки с обсуждением встреч и звонков, вот некоторые закономерности, которые можно попытаться выделить:\n",
    "\n",
    "- тема 0: письма с выражением просьбы или приказа (больше глаголов)\n",
    "- тема 3: переписка с Черил Миллс\n",
    "- тема 4: письма с конкретным назначением печати в офис секретаря"
   ]
  },
  {
   "cell_type": "code",
   "execution_count": 30,
   "metadata": {},
   "outputs": [
    {
     "name": "stderr",
     "output_type": "stream",
     "text": [
      "C:\\Users\\vital\\anaconda3\\lib\\site-packages\\pyLDAvis\\_prepare.py:257: FutureWarning: Sorting because non-concatenation axis is not aligned. A future version\n",
      "of pandas will change to not sort by default.\n",
      "\n",
      "To accept the future behavior, pass 'sort=False'.\n",
      "\n",
      "To retain the current behavior and silence the warning, pass 'sort=True'.\n",
      "\n",
      "  return pd.concat([default_term_info] + list(topic_dfs))\n"
     ]
    },
    {
     "data": {
      "text/html": [
       "\n",
       "<link rel=\"stylesheet\" type=\"text/css\" href=\"https://cdn.rawgit.com/bmabey/pyLDAvis/files/ldavis.v1.0.0.css\">\n",
       "\n",
       "\n",
       "<div id=\"ldavis_el2174823605314637448729375322\"></div>\n",
       "<script type=\"text/javascript\">\n",
       "\n",
       "var ldavis_el2174823605314637448729375322_data = {\"mdsDat\": {\"x\": [-0.1784411509484123, 0.04527303210832111, 0.042337471765234676, 0.04444910353173841, 0.04638154354311828], \"y\": [0.000738312331713085, -0.014373863282895827, -0.030255658442134122, -0.014334065425328613, 0.05822527481864544], \"topics\": [1, 2, 3, 4, 5], \"cluster\": [1, 1, 1, 1, 1], \"Freq\": [59.88902282714844, 12.68781852722168, 10.244827270507812, 10.060226440429688, 7.11810827255249]}, \"tinfo\": {\"Category\": [\"Default\", \"Default\", \"Default\", \"Default\", \"Default\", \"Default\", \"Default\", \"Default\", \"Default\", \"Default\", \"Default\", \"Default\", \"Default\", \"Default\", \"Default\", \"Default\", \"Default\", \"Default\", \"Default\", \"Default\", \"Default\", \"Default\", \"Default\", \"Default\", \"Default\", \"Default\", \"Default\", \"Default\", \"Default\", \"Default\", \"Topic1\", \"Topic1\", \"Topic1\", \"Topic1\", \"Topic1\", \"Topic1\", \"Topic1\", \"Topic1\", \"Topic1\", \"Topic1\", \"Topic1\", \"Topic1\", \"Topic1\", \"Topic1\", \"Topic1\", \"Topic1\", \"Topic1\", \"Topic1\", \"Topic1\", \"Topic1\", \"Topic1\", \"Topic1\", \"Topic1\", \"Topic1\", \"Topic1\", \"Topic1\", \"Topic1\", \"Topic1\", \"Topic1\", \"Topic1\", \"Topic1\", \"Topic1\", \"Topic1\", \"Topic1\", \"Topic1\", \"Topic1\", \"Topic2\", \"Topic2\", \"Topic2\", \"Topic2\", \"Topic2\", \"Topic2\", \"Topic2\", \"Topic2\", \"Topic2\", \"Topic2\", \"Topic2\", \"Topic2\", \"Topic2\", \"Topic2\", \"Topic2\", \"Topic2\", \"Topic2\", \"Topic2\", \"Topic2\", \"Topic2\", \"Topic2\", \"Topic2\", \"Topic2\", \"Topic2\", \"Topic2\", \"Topic2\", \"Topic2\", \"Topic2\", \"Topic2\", \"Topic2\", \"Topic2\", \"Topic2\", \"Topic2\", \"Topic2\", \"Topic2\", \"Topic2\", \"Topic2\", \"Topic2\", \"Topic2\", \"Topic2\", \"Topic3\", \"Topic3\", \"Topic3\", \"Topic3\", \"Topic3\", \"Topic3\", \"Topic3\", \"Topic3\", \"Topic3\", \"Topic3\", \"Topic3\", \"Topic3\", \"Topic3\", \"Topic3\", \"Topic3\", \"Topic3\", \"Topic3\", \"Topic3\", \"Topic3\", \"Topic3\", \"Topic3\", \"Topic3\", \"Topic3\", \"Topic3\", \"Topic3\", \"Topic3\", \"Topic3\", \"Topic3\", \"Topic3\", \"Topic3\", \"Topic3\", \"Topic3\", \"Topic3\", \"Topic3\", \"Topic3\", \"Topic3\", \"Topic3\", \"Topic3\", \"Topic3\", \"Topic3\", \"Topic3\", \"Topic3\", \"Topic3\", \"Topic3\", \"Topic3\", \"Topic4\", \"Topic4\", \"Topic4\", \"Topic4\", \"Topic4\", \"Topic4\", \"Topic4\", \"Topic4\", \"Topic4\", \"Topic4\", \"Topic4\", \"Topic4\", \"Topic4\", \"Topic4\", \"Topic4\", \"Topic4\", \"Topic4\", \"Topic4\", \"Topic4\", \"Topic4\", \"Topic4\", \"Topic4\", \"Topic4\", \"Topic4\", \"Topic4\", \"Topic4\", \"Topic4\", \"Topic4\", \"Topic4\", \"Topic4\", \"Topic4\", \"Topic4\", \"Topic4\", \"Topic4\", \"Topic4\", \"Topic4\", \"Topic4\", \"Topic4\", \"Topic4\", \"Topic4\", \"Topic5\", \"Topic5\", \"Topic5\", \"Topic5\", \"Topic5\", \"Topic5\", \"Topic5\", \"Topic5\", \"Topic5\", \"Topic5\", \"Topic5\", \"Topic5\", \"Topic5\", \"Topic5\", \"Topic5\", \"Topic5\", \"Topic5\", \"Topic5\", \"Topic5\", \"Topic5\", \"Topic5\", \"Topic5\", \"Topic5\", \"Topic5\", \"Topic5\", \"Topic5\", \"Topic5\", \"Topic5\", \"Topic5\", \"Topic5\", \"Topic5\", \"Topic5\", \"Topic5\", \"Topic5\", \"Topic5\", \"Topic5\", \"Topic5\", \"Topic5\", \"Topic5\", \"Topic5\", \"Topic5\", \"Topic5\", \"Topic5\", \"Topic5\", \"Topic5\", \"Topic5\", \"Topic5\", \"Topic5\", \"Topic5\", \"Topic5\", \"Topic5\", \"Topic5\", \"Topic5\", \"Topic5\", \"Topic5\"], \"Freq\": [115.0, 38.0, 42.0, 36.0, 43.0, 97.0, 20.0, 21.0, 22.0, 14.0, 29.0, 22.0, 26.0, 14.0, 17.0, 10.0, 34.0, 16.0, 23.0, 15.0, 14.0, 15.0, 23.0, 9.0, 10.0, 12.0, 20.0, 44.0, 6.0, 9.0, 97.13822174072266, 44.6816291809082, 41.64126205444336, 40.10075378417969, 39.3515739440918, 36.465274810791016, 36.42626953125, 35.38125991821289, 34.98666763305664, 34.41691970825195, 34.206382751464844, 31.98261070251465, 31.239511489868164, 31.170257568359375, 31.046112060546875, 28.78369903564453, 35.585533142089844, 27.355003356933594, 25.18050193786621, 24.439924240112305, 37.628475189208984, 25.987457275390625, 23.298686981201172, 23.19329833984375, 23.191974639892578, 22.076692581176758, 21.9117488861084, 21.591693878173828, 21.423480987548828, 20.665790557861328, 56.305328369140625, 25.321327209472656, 28.545686721801758, 30.87603759765625, 25.688188552856445, 24.18523597717285, 7.62348747253418, 6.042983531951904, 3.6449086666107178, 3.7922897338867188, 1.8893821239471436, 1.8719221353530884, 1.8122644424438477, 1.9489572048187256, 1.7714507579803467, 1.5925434827804565, 1.65413236618042, 1.368462324142456, 1.590503454208374, 1.2272006273269653, 1.2255305051803589, 1.1832317113876343, 1.1523120403289795, 1.1195091009140015, 1.0736795663833618, 1.2185463905334473, 0.9840747117996216, 1.0220643281936646, 1.0272272825241089, 0.9354463219642639, 0.9123584032058716, 0.8987495303153992, 0.8154110312461853, 0.8874183297157288, 0.8373627662658691, 0.8062102794647217, 2.1132867336273193, 5.109097957611084, 4.301252841949463, 3.8649556636810303, 2.572314500808716, 2.2454516887664795, 2.3181376457214355, 1.22187340259552, 1.1359755992889404, 1.1130343675613403, 6.1417622566223145, 5.3017048835754395, 4.4245076179504395, 3.213202953338623, 5.109557151794434, 1.7857025861740112, 1.8285245895385742, 1.4825865030288696, 1.6181204319000244, 1.4064985513687134, 1.3182947635650635, 1.3399683237075806, 1.2823736667633057, 1.3175172805786133, 1.220832109451294, 1.2459112405776978, 1.0812476873397827, 1.1239168643951416, 1.000967264175415, 0.9570914506912231, 1.0210040807724, 28.44243812561035, 1.141400694847107, 0.926486611366272, 0.8479023575782776, 0.847983181476593, 0.8815942406654358, 0.7960204482078552, 0.8093224167823792, 0.7187914848327637, 13.84689712524414, 12.752582550048828, 2.625688076019287, 18.25177574157715, 3.5196735858917236, 4.954665660858154, 8.027425765991211, 2.448172092437744, 5.903921604156494, 3.205728769302368, 1.3259031772613525, 2.207878351211548, 2.4692788124084473, 1.889357328414917, 1.5012658834457397, 2.553347110748291, 2.3062894344329834, 2.0628933906555176, 1.553842544555664, 1.362301230430603, 1.8088632822036743, 1.2711613178253174, 1.0981431007385254, 7.105973720550537, 1.0529820919036865, 1.107144832611084, 0.9856202006340027, 3.484441041946411, 0.9469161033630371, 0.8974944353103638, 0.8883203864097595, 0.8872877359390259, 0.8872877359390259, 0.8484225869178772, 1.1209269762039185, 0.8099766969680786, 0.7726185917854309, 0.7841858267784119, 0.7526706457138062, 0.7115621566772461, 0.7108913660049438, 0.689047634601593, 0.6890475749969482, 0.689047634601593, 0.689047634601593, 0.689047634601593, 6.08029842376709, 0.7887589931488037, 4.41670036315918, 0.9296326041221619, 1.1986656188964844, 12.283453941345215, 1.346028447151184, 0.9675583839416504, 1.457123041152954, 114.94529724121094, 9.656699180603027, 6.24190092086792, 3.927079677581787, 1.8731483221054077, 1.8731483221054077, 1.6839340925216675, 1.8914752006530762, 1.2857673168182373, 1.0864853858947754, 0.8947843313217163, 9.821541786193848, 0.7302917838096619, 0.6973148584365845, 0.5869410037994385, 0.5395777225494385, 0.5037939548492432, 0.49614086747169495, 0.4586704969406128, 0.49857470393180847, 0.6169580221176147, 0.4543192684650421, 0.4109126925468445, 0.3964754641056061, 0.39010944962501526, 0.38902541995048523, 0.4767071008682251, 0.3643771708011627, 0.37853074073791504, 9.802430152893066, 6.367518901824951, 3.384106397628784, 3.849738836288452, 1.3599224090576172, 10.222203254699707, 5.08038854598999, 2.3715946674346924, 2.7832062244415283, 3.245004653930664, 3.0214314460754395, 4.687668323516846, 3.3227317333221436, 2.285442352294922, 3.2287702560424805, 3.2738170623779297, 4.176329612731934, 2.4032440185546875, 2.9316043853759766, 2.36750864982605, 2.5837697982788086, 2.760101556777954, 2.453890323638916, 2.482947826385498, 2.18233060836792, 2.137946605682373], \"Term\": [\"fyi\", \"print\", \"pls\", \"yes\", \"thx\", \"call\", \"cheryl\", \"release\", \"part\", \"mill\", \"office\", \"hrodclintonemailcom\", \"huma\", \"hillary\", \"abedin\", \"millscdstategov\", \"secretary\", \"friday\", \"may\", \"wednesday\", \"sullivan\", \"saturday\", \"monday\", \"importance\", \"sullivanjjstategov\", \"jacob\", \"sunday\", \"get\", \"abedinhstategov\", \"high\", \"call\", \"get\", \"know\", \"tomorrow\", \"talk\", \"would\", \"good\", \"work\", \"also\", \"want\", \"today\", \"let\", \"think\", \"email\", \"back\", \"need\", \"time\", \"like\", \"thanks\", \"well\", \"state\", \"cdm\", \"one\", \"make\", \"sure\", \"said\", \"new\", \"great\", \"could\", \"send\", \"see\", \"meeting\", \"secretary\", \"thx\", \"yes\", \"pls\", \"roger\", \"min\", \"scroll\", \"ellen\", \"messa\", \"yang\", \"rch\", \"thnx\", \"jakesullivar\", \"fvi\", \"tauscher\", \"agis\", \"kouchner\", \"napolitano\", \"pdb\", \"cisco\", \"barnett\", \"allawi\", \"bbbdb\", \"mikulski\", \"shouldve\", \"bed\", \"kudos\", \"campbelikmstategov\", \"nonsecure\", \"imuscatine\", \"hoo\", \"revcon\", \"richards\", \"youand\", \"count\", \"declassify\", \"nice\", \"course\", \"noon\", \"reason\", \"problem\", \"regret\", \"carlos\", \"class\", \"arrive\", \"depart\", \"residence\", \"printed\", \"route\", \"bbdb\", \"bbd\", \"outer\", \"tbd\", \"spray\", \"kellycstategov\", \"prebrief\", \"reschedule\", \"claire\", \"fuchsmhstategov\", \"mcgovern\", \"updating\", \"reinespstategov\", \"laguardia\", \"preceding\", \"flagged\", \"print\", \"easter\", \"marty\", \"omg\", \"froman\", \"frattini\", \"fedex\", \"feingold\", \"ppd\", \"release\", \"part\", \"daily\", \"pls\", \"private\", \"room\", \"office\", \"airport\", \"secretary\", \"copy\", \"camera\", \"department\", \"meeting\", \"conference\", \"floor\", \"yeah\", \"sigh\", \"isabelle\", \"mashabane\", \"bader\", \"tues\", \"marianne\", \"feltmann\", \"importance\", \"kristy\", \"periodically\", \"awhile\", \"remind\", \"aye\", \"mcguire\", \"yup\", \"aung\", \"suu\", \"karine\", \"lucky\", \"capricia\", \"kyi\", \"gratifying\", \"graduatehowarduniversitystudentbeatstheodds\", \"mswashdcibwashdcstatesbu\", \"diagnostic\", \"discouraging\", \"backstory\", \"touche\", \"fvl\", \"viz\", \"high\", \"administrator\", \"traffic\", \"esther\", \"recd\", \"thx\", \"confidential\", \"lewis\", \"discus\", \"fyi\", \"millscdstategov\", \"abedinhstategov\", \"yep\", \"cingular\", \"xpress\", \"docx\", \"forwarded\", \"imagejpg\", \"att\", \"ebeling\", \"mill\", \"abedinh\", \"millscd\", \"russorvstategov\", \"humaclintonemailcom\", \"sullivanjj\", \"yohannes\", \"millscdstategoy\", \"quam\", \"lois\", \"intermittently\", \"einhorn\", \"janua\", \"paymaster\", \"cryptic\", \"russo\", \"abedinhstategoy\", \"dans\", \"cheryl\", \"hillary\", \"october\", \"sullivanjjstategov\", \"shuttle\", \"yes\", \"abedin\", \"traffic\", \"february\", \"jacob\", \"august\", \"hrodclintonemailcom\", \"sullivan\", \"april\", \"wednesday\", \"friday\", \"huma\", \"november\", \"saturday\", \"january\", \"thursday\", \"may\", \"sunday\", \"monday\", \"june\", \"september\"], \"Total\": [115.0, 38.0, 42.0, 36.0, 43.0, 97.0, 20.0, 21.0, 22.0, 14.0, 29.0, 22.0, 26.0, 14.0, 17.0, 10.0, 34.0, 16.0, 23.0, 15.0, 14.0, 15.0, 23.0, 9.0, 10.0, 12.0, 20.0, 44.0, 6.0, 9.0, 97.44781494140625, 44.9844970703125, 41.9446907043457, 40.40409469604492, 39.65449142456055, 36.768028259277344, 36.72937774658203, 35.68444061279297, 35.290531158447266, 34.72016143798828, 34.51054382324219, 32.285552978515625, 31.54344940185547, 31.474281311035156, 31.348960876464844, 29.086843490600586, 35.969215393066406, 27.657939910888672, 25.48655128479004, 24.744613647460938, 38.1067008972168, 26.32294273376465, 23.601343154907227, 23.4959716796875, 23.495140075683594, 22.379756927490234, 22.215421676635742, 21.895374298095703, 21.72597885131836, 20.969261169433594, 57.21688461303711, 28.314151763916016, 34.67654037475586, 43.38357162475586, 36.166290283203125, 42.665191650390625, 7.960535049438477, 6.377461910247803, 3.959001064300537, 4.209063529968262, 2.208578586578369, 2.1899256706237793, 2.1330549716949463, 2.2973029613494873, 2.095284938812256, 1.9041048288345337, 2.0165514945983887, 1.6829487085342407, 1.9649477005004883, 1.5425223112106323, 1.5411927700042725, 1.4989835023880005, 1.4711551666259766, 1.4413352012634277, 1.389694094657898, 1.5837159156799316, 1.2972495555877686, 1.3537449836730957, 1.361038327217102, 1.2501730918884277, 1.2293305397033691, 1.237865686416626, 1.1267433166503906, 1.2262539863586426, 1.1639760732650757, 1.120923638343811, 2.961827039718628, 7.929460525512695, 9.303995132446289, 9.589369773864746, 5.670900344848633, 7.3376007080078125, 8.117391586303711, 2.5838537216186523, 2.5079855918884277, 2.5589778423309326, 6.511139392852783, 5.667815208435059, 4.80980110168457, 3.6634011268615723, 6.029009819030762, 2.121422052383423, 2.1841864585876465, 1.821803331375122, 1.990216612815857, 1.746145248413086, 1.656265139579773, 1.6840969324111938, 1.6236166954040527, 1.671541452407837, 1.5741550922393799, 1.634467601776123, 1.4317452907562256, 1.5023006200790405, 1.338306188583374, 1.2929167747497559, 1.3804296255111694, 38.882389068603516, 1.5639441013336182, 1.2827316522598267, 1.1832356452941895, 1.1992788314819336, 1.2602553367614746, 1.138395071029663, 1.1607035398483276, 1.0613071918487549, 21.88190269470215, 22.389986038208008, 4.485504627227783, 42.665191650390625, 7.1331634521484375, 11.134448051452637, 29.882204055786133, 5.820750713348389, 34.67654037475586, 14.231563568115234, 2.668837070465088, 15.821416854858398, 28.314151763916016, 10.352766990661621, 4.475894927978516, 2.900075912475586, 2.6459100246429443, 2.4012088775634766, 1.8987325429916382, 1.7121264934539795, 2.2814202308654785, 1.6107227802276611, 1.432311773300171, 9.287817001342773, 1.3897520303726196, 1.4620332717895508, 1.3250535726547241, 4.715983867645264, 1.2860850095748901, 1.230674386024475, 1.220470666885376, 1.2269628047943115, 1.2269628047943115, 1.18290376663208, 1.5837796926498413, 1.1542824506759644, 1.1119669675827026, 1.1293028593063354, 1.0847041606903076, 1.0440034866333008, 1.0462380647659302, 1.0209065675735474, 1.0209064483642578, 1.0209065675735474, 1.0209065675735474, 1.0209065675735474, 9.413267135620117, 1.173142433166504, 7.114934921264648, 1.4223500490188599, 1.9628772735595703, 43.38357162475586, 3.1711621284484863, 1.7508593797683716, 22.780954360961914, 115.46847534179688, 10.02303409576416, 6.619282245635986, 4.292928218841553, 2.2479214668273926, 2.2479214668273926, 2.081817865371704, 2.347963809967041, 1.6500790119171143, 1.4673882722854614, 1.2937707901000977, 14.62944507598877, 1.1095128059387207, 1.073758602142334, 0.9581298828125, 0.9075103402137756, 0.8756884336471558, 0.8773651123046875, 0.8234091401100159, 0.8979618549346924, 1.1365468502044678, 0.8623331785202026, 0.782771110534668, 0.7632508277893066, 0.7539736032485962, 0.7612752914428711, 0.9368081092834473, 0.7293421030044556, 0.7706151604652405, 20.119876861572266, 14.859365463256836, 8.833611488342285, 10.45703125, 3.245781898498535, 36.166290283203125, 17.272348403930664, 7.114934921264648, 9.884703636169434, 12.537040710449219, 11.54994010925293, 22.053537368774414, 14.859068870544434, 8.708160400390625, 15.741260528564453, 16.46054458618164, 26.06430435180664, 10.14767837524414, 15.937484741210938, 10.525257110595703, 14.880014419555664, 23.22742462158203, 20.026674270629883, 23.665544509887695, 11.487981796264648, 12.662286758422852], \"loglift\": [30.0, 29.0, 28.0, 27.0, 26.0, 25.0, 24.0, 23.0, 22.0, 21.0, 20.0, 19.0, 18.0, 17.0, 16.0, 15.0, 14.0, 13.0, 12.0, 11.0, 10.0, 9.0, 8.0, 7.0, 6.0, 5.0, 4.0, 3.0, 2.0, 1.0, 0.5095000267028809, 0.5059000253677368, 0.5054000020027161, 0.5051000118255615, 0.5049999952316284, 0.5044000148773193, 0.5044000148773193, 0.5041000247001648, 0.5040000081062317, 0.5038999915122986, 0.5037999749183655, 0.5031999945640564, 0.503000020980835, 0.503000020980835, 0.503000020980835, 0.5022000074386597, 0.5019999742507935, 0.5016999840736389, 0.5005999803543091, 0.5002999901771545, 0.5, 0.4999000132083893, 0.4997999966144562, 0.49970000982284546, 0.49970000982284546, 0.49900001287460327, 0.49889999628067017, 0.49869999289512634, 0.49869999289512634, 0.49810001254081726, 0.4966000020503998, 0.4009999930858612, 0.3181000053882599, 0.17260000109672546, 0.17059999704360962, -0.054999999701976776, 2.0213000774383545, 2.010699987411499, 1.9818999767303467, 1.9602999687194824, 1.908400058746338, 1.9076000452041626, 1.9014999866485596, 1.9000999927520752, 1.8966000080108643, 1.8858000040054321, 1.8664000034332275, 1.857699990272522, 1.8530999422073364, 1.835800051689148, 1.8352999687194824, 1.8279999494552612, 1.8202999830245972, 1.8118000030517578, 1.80649995803833, 1.80239999294281, 1.7882000207901, 1.7834999561309814, 1.7831000089645386, 1.7745000123977661, 1.7662999629974365, 1.7444000244140625, 1.7410999536514282, 1.7410999536514282, 1.735200047492981, 1.7350000143051147, 1.7269999980926514, 1.625, 1.2929999828338623, 1.1557999849319458, 1.2740000486373901, 0.8804000020027161, 0.8112999796867371, 1.315600037574768, 1.2725000381469727, 1.2319999933242798, 2.2200000286102295, 2.2116000652313232, 2.1949000358581543, 2.1473000049591064, 2.1129000186920166, 2.106100082397461, 2.1006999015808105, 2.0724000930786133, 2.0713999271392822, 2.0620999336242676, 2.0501999855041504, 2.049799919128418, 2.0425000190734863, 2.0404000282287598, 2.024199962615967, 2.0069000720977783, 1.9975999593734741, 1.9881999492645264, 1.9880000352859497, 1.9775999784469604, 1.9767999649047852, 1.9657000303268433, 1.9634000062942505, 1.9529999494552612, 1.945199966430664, 1.9318000078201294, 1.9211000204086304, 1.9206000566482544, 1.917799949645996, 1.888700008392334, 1.8207999467849731, 1.715499997138977, 1.742900013923645, 1.4292999505996704, 1.5720000267028809, 1.4687000513076782, 0.9639999866485596, 1.4122999906539917, 0.5080000162124634, 0.7878999710083008, 1.5787999629974365, 0.3091000020503998, -0.16099999845027924, 0.5774000287055969, 1.1859999895095825, 2.1691999435424805, 2.1591999530792236, 2.144700050354004, 2.096100091934204, 2.068000078201294, 2.064500093460083, 2.059799909591675, 2.030900001525879, 2.0288000106811523, 2.0190999507904053, 2.0185000896453857, 2.0006000995635986, 1.993899941444397, 1.990399956703186, 1.9809000492095947, 1.9788999557495117, 1.972499966621399, 1.972499966621399, 1.9642000198364258, 1.9508999586105347, 1.9423999786376953, 1.9325000047683716, 1.9319000244140625, 1.9311000108718872, 1.9132000207901, 1.910099983215332, 1.90339994430542, 1.90339994430542, 1.90339994430542, 1.90339994430542, 1.90339994430542, 1.8595000505447388, 1.8996000289916992, 1.8198000192642212, 1.8712999820709229, 1.8034000396728516, 1.0348000526428223, 1.4395999908447266, 1.7035000324249268, -0.4528999924659729, 2.638000011444092, 2.605299949645996, 2.5838000774383545, 2.553499937057495, 2.460099935531616, 2.460099935531616, 2.4303998947143555, 2.426300048828125, 2.3931000232696533, 2.3420000076293945, 2.2737998962402344, 2.2441000938415527, 2.224299907684326, 2.2107999324798584, 2.1524999141693115, 2.1226000785827637, 2.0896999835968018, 2.072499990463257, 2.0573999881744385, 2.0541999340057373, 2.031599998474121, 2.001699924468994, 1.9981000423431396, 1.9875999689102173, 1.9836000204086304, 1.9711999893188477, 1.9670000076293945, 1.9486000537872314, 1.9315999746322632, 1.9234999418258667, 1.7950999736785889, 1.6830999851226807, 1.6433000564575195, 1.7726000547409058, 1.378999948501587, 1.4187999963760376, 1.5439000129699707, 1.375100016593933, 1.2910000085830688, 1.3015999794006348, 1.093999981880188, 1.144700050354004, 1.304800033569336, 1.0583000183105469, 1.027500033378601, 0.8113999962806702, 1.2021000385284424, 0.949400007724762, 1.1505999565124512, 0.8917999863624573, 0.512499988079071, 0.5430999994277954, 0.3880000114440918, 0.9815999865531921, 0.8636999726295471], \"logprob\": [30.0, 29.0, 28.0, 27.0, 26.0, 25.0, 24.0, 23.0, 22.0, 21.0, 20.0, 19.0, 18.0, 17.0, 16.0, 15.0, 14.0, 13.0, 12.0, 11.0, 10.0, 9.0, 8.0, 7.0, 6.0, 5.0, 4.0, 3.0, 2.0, 1.0, -4.926400184631348, -5.703000068664551, -5.773499965667725, -5.811200141906738, -5.829999923706055, -5.906199932098389, -5.907299995422363, -5.936399936676025, -5.9475998878479, -5.964000225067139, -5.970200061798096, -6.037399768829346, -6.0609002113342285, -6.0630998611450195, -6.0671000480651855, -6.1427998542785645, -5.930600166320801, -6.193699836730957, -6.276500225067139, -6.306300163269043, -5.874800205230713, -6.244999885559082, -6.3541998863220215, -6.358699798583984, -6.358799934387207, -6.4079999923706055, -6.415500164031982, -6.430300235748291, -6.4380998611450195, -6.474100112915039, -5.471799850463867, -6.270899772644043, -6.151100158691406, -6.0725998878479, -6.256499767303467, -6.316800117492676, -5.91949987411499, -6.151800155639648, -6.657400131225586, -6.617700099945068, -7.314499855041504, -7.323699951171875, -7.356100082397461, -7.283400058746338, -7.378900051116943, -7.485400199890137, -7.447400093078613, -7.63700008392334, -7.486700057983398, -7.745999813079834, -7.747300148010254, -7.78249979019165, -7.808899879455566, -7.837800025939941, -7.8796000480651855, -7.7530999183654785, -7.966800212860107, -7.928899765014648, -7.923900127410889, -8.017399787902832, -8.042400360107422, -8.057499885559082, -8.154800415039062, -8.070199966430664, -8.128199577331543, -8.166099548339844, -7.202499866485596, -6.319699764251709, -6.491799831390381, -6.598800182342529, -7.005899906158447, -7.1417999267578125, -7.110000133514404, -7.75029993057251, -7.823200225830078, -7.843599796295166, -5.9217000007629395, -6.06879997253418, -6.24970006942749, -6.5696001052856445, -6.1057000160217285, -7.1570000648498535, -7.133299827575684, -7.343100070953369, -7.2555999755859375, -7.395699977874756, -7.4604997634887695, -7.444200038909912, -7.488100051879883, -7.461100101470947, -7.537300109863281, -7.517000198364258, -7.658699989318848, -7.619999885559082, -7.735899925231934, -7.780700206756592, -7.716100215911865, -4.388999938964844, -7.604599952697754, -7.813199996948242, -7.901800155639648, -7.901700019836426, -7.8628997802734375, -7.965000152587891, -7.948400020599365, -8.067000389099121, -5.108799934387207, -5.191100120544434, -6.771500110626221, -4.832600116729736, -6.478499889373779, -6.136499881744385, -5.6539998054504395, -6.8414998054504395, -5.96120023727417, -6.571899890899658, -7.454800128936768, -6.944799900054932, -6.832900047302246, -7.100599765777588, -7.33050012588501, -6.781300067901611, -6.882999897003174, -6.99459981918335, -7.277900218963623, -7.4095001220703125, -7.125999927520752, -7.478700160980225, -7.625, -5.757699966430664, -7.666999816894531, -7.6168999671936035, -7.733099937438965, -6.470399856567383, -7.773200035095215, -7.8267998695373535, -7.837100028991699, -7.838200092315674, -7.838200092315674, -7.882999897003174, -7.604499816894531, -7.9293999671936035, -7.976600170135498, -7.9618000984191895, -8.002799987792969, -8.059000015258789, -8.059900283813477, -8.091099739074707, -8.091099739074707, -8.091099739074707, -8.091099739074707, -8.091099739074707, -5.913599967956543, -7.955999851226807, -6.23330020904541, -7.791600227355957, -7.537499904632568, -5.210400104522705, -7.421500205993652, -7.7515997886657715, -7.342199802398682, -2.6282999515533447, -5.105100154876709, -5.541399955749512, -6.004799842834473, -6.745100021362305, -6.745100021362305, -6.851600170135498, -6.735400199890137, -7.121399879455566, -7.28980016708374, -7.48390007019043, -5.088099956512451, -7.686999797821045, -7.7332000732421875, -7.9054999351501465, -7.989699840545654, -8.058300018310547, -8.073599815368652, -8.152099609375, -8.068699836730957, -7.8557000160217285, -8.161700248718262, -8.262100219726562, -8.297900199890137, -8.314000129699707, -8.316800117492676, -8.11359977722168, -8.38230037689209, -8.344200134277344, -5.090099811553955, -5.521500110626221, -6.153600215911865, -6.024700164794922, -7.065299987792969, -5.0482001304626465, -5.747300148010254, -6.509200096130371, -6.349100112915039, -6.1956000328063965, -6.267000198364258, -5.8277997970581055, -6.171899795532227, -6.546199798583984, -6.2006001472473145, -6.186800003051758, -5.943299770355225, -6.4959001541137695, -6.2972002029418945, -6.510900020599365, -6.423500061035156, -6.357399940490723, -6.474999904632568, -6.4633002281188965, -6.592299938201904, -6.6128997802734375]}, \"token.table\": {\"Topic\": [1, 5, 5, 5, 4, 2, 1, 3, 2, 1, 1, 5, 3, 5, 1, 5, 4, 4, 4, 1, 4, 4, 2, 2, 3, 3, 2, 1, 1, 3, 2, 4, 1, 2, 1, 1, 5, 5, 2, 3, 1, 2, 1, 3, 1, 2, 4, 1, 3, 1, 1, 2, 1, 2, 1, 3, 1, 2, 3, 1, 3, 4, 4, 1, 4, 5, 3, 5, 2, 1, 4, 1, 5, 3, 3, 4, 3, 1, 3, 5, 3, 1, 5, 3, 3, 2, 4, 5, 1, 1, 4, 4, 1, 1, 4, 1, 5, 2, 1, 5, 1, 5, 5, 5, 1, 4, 2, 4, 1, 5, 2, 1, 5, 1, 5, 4, 3, 1, 2, 4, 2, 4, 3, 1, 1, 4, 1, 5, 4, 1, 4, 3, 4, 1, 5, 3, 4, 1, 3, 2, 2, 1, 5, 5, 5, 2, 1, 5, 4, 2, 1, 1, 1, 2, 2, 1, 2, 1, 5, 1, 5, 1, 3, 3, 1, 3, 1, 3, 2, 4, 1, 3, 3, 3, 3, 1, 3, 5, 3, 1, 3, 1, 2, 2, 1, 2, 1, 4, 1, 2, 3, 1, 3, 1, 4, 3, 3, 2, 2, 2, 1, 3, 1, 3, 5, 1, 1, 5, 2, 1, 3, 1, 1, 1, 5, 2, 1, 5, 4, 3, 1, 1, 5, 5, 1, 5, 1, 5, 1, 4, 1, 2, 3, 1, 1, 2, 1, 5, 1, 4, 1, 1, 1, 4, 4, 5, 4, 3, 4, 1, 1, 5, 1, 1, 1, 5, 2, 4, 5, 1, 5, 2, 4], \"Freq\": [0.6947520971298218, 0.2894800305366516, 0.9012964963912964, 0.9064427018165588, 0.8524113893508911, 0.5941951870918274, 0.5153974294662476, 0.34359830617904663, 0.6938011646270752, 0.9917674660682678, 0.689008891582489, 0.22966963052749634, 0.9214977025985718, 0.6814829111099243, 0.6926442980766296, 0.2597416043281555, 0.8150206208229065, 0.7546864748001099, 0.7775535583496094, 0.9888684749603271, 0.9795216917991638, 0.584069013595581, 0.67973792552948, 0.7195827960968018, 0.9156727194786072, 0.9427638649940491, 0.7386915683746338, 0.9954045414924622, 0.3746950328350067, 0.3746950328350067, 0.7998892068862915, 0.8663390874862671, 0.39872637391090393, 0.39872637391090393, 0.9877315163612366, 0.4970209300518036, 0.4970209300518036, 0.8897107839584351, 0.6671187281608582, 0.5982502102851868, 0.390781044960022, 0.390781044960022, 0.7727402448654175, 0.19318506121635437, 0.3153418004512787, 0.3153418004512787, 0.3153418004512787, 0.772929847240448, 0.21079903841018677, 0.9665847420692444, 0.33762943744659424, 0.6752588748931885, 0.6256928443908691, 0.4171285629272461, 0.4458807110786438, 0.6688210964202881, 0.37833595275878906, 0.6305599212646484, 0.8821741342544556, 0.8216710090637207, 0.12641093134880066, 0.9558054208755493, 0.9795215725898743, 0.9218226671218872, 0.04389631748199463, 0.9606988430023193, 0.639409065246582, 0.7729344367980957, 0.9503301382064819, 0.9849311709403992, 0.7030618190765381, 0.7081648707389832, 0.3034992218017578, 0.878429651260376, 0.8615464568138123, 0.6981720328330994, 0.7244121432304382, 0.670257031917572, 0.44683802127838135, 0.851801872253418, 0.7934899926185608, 0.789767324924469, 0.18225400149822235, 0.8338344693183899, 0.6352614164352417, 1.0503623485565186, 0.9795215725898743, 0.9959428310394287, 1.0003446340560913, 0.980141818523407, 0.9219103455543518, 0.8855020403862, 1.0047783851623535, 0.3186991214752197, 0.6373982429504395, 0.5383809804916382, 0.40378573536872864, 0.8875135779380798, 0.7708513736724854, 0.22672100365161896, 0.8440662622451782, 0.15346659719944, 1.1019158363342285, 0.606031596660614, 0.21533584594726562, 0.7536754608154297, 0.8078420758247375, 0.8329138159751892, 0.7178727388381958, 0.23929092288017273, 0.9545240998268127, 0.7600764632225037, 0.19001911580562592, 0.7834274172782898, 0.17409498989582062, 0.8453773260116577, 0.6037680506706238, 1.0013185739517212, 1.0178388357162476, 0.7195528149604797, 0.7347331643104553, 0.8993073105812073, 0.7472131848335266, 0.9911553859710693, 0.5711480975151062, 0.5711480975151062, 0.9762115478515625, 0.879858136177063, 0.6314009428024292, 0.9788911938667297, 0.6208392977714539, 0.7795862555503845, 1.0533342361450195, 0.8610511422157288, 0.1291576623916626, 0.6118200421333313, 0.8125626444816589, 0.8829507231712341, 0.07063605636358261, 0.905559778213501, 0.6314263939857483, 0.34177646040916443, 0.6835529208183289, 0.9313080310821533, 0.99770188331604, 0.9408131241798401, 0.887365996837616, 0.08451104909181595, 0.957851231098175, 0.6482888460159302, 0.9970143437385559, 0.9903030395507812, 0.5374035239219666, 0.42992284893989563, 0.8134508728981018, 0.5290165543556213, 0.5290165543556213, 0.689812958240509, 0.19708941876888275, 0.5660198926925659, 0.3396119475364685, 0.7362241148948669, 0.2677178680896759, 0.8451402187347412, 0.9745208024978638, 0.548906683921814, 0.4019654095172882, 0.5806167125701904, 0.6488481163978577, 0.6839789748191833, 0.5625194311141968, 0.4218895733356476, 0.9422342777252197, 0.5937900543212891, 0.7734450101852417, 0.25718584656715393, 0.720120370388031, 0.025718584656715393, 0.8189111351966858, 0.4205707609653473, 0.560761034488678, 0.7391536831855774, 0.24638456106185913, 0.9376223683357239, 0.6814216375350952, 0.2725686728954315, 0.509456217288971, 0.509456217288971, 0.3870187997817993, 0.3870187997817993, 0.6656457185745239, 0.3655989170074463, 0.639798104763031, 0.2120448350906372, 0.6361345052719116, 0.6159089207649231, 0.8316352367401123, 0.8154917359352112, 0.8591241836547852, 1.0049575567245483, 0.5388681888580322, 0.44905683398246765, 0.1658647209405899, 0.8293235898017883, 1.043699860572815, 0.9830312132835388, 0.8156870603561401, 0.18823547661304474, 1.010355830192566, 0.836300253868103, 0.1730276346206665, 0.9787320494651794, 1.001465916633606, 0.7897467613220215, 0.15794935822486877, 0.7708616852760315, 0.3080921769142151, 0.3080921769142151, 0.7558835744857788, 0.5726900696754456, 0.9971999526023865, 0.7402886748313904, 0.20189690589904785, 1.1419587135314941, 0.5737766027450562, 0.3825177550315857, 0.8488678336143494, 0.09986680746078491, 0.9789258241653442, 0.8150206208229065, 0.9834951758384705, 0.9917922019958496, 1.004915714263916, 0.9809094667434692, 0.9827713966369629, 0.870586097240448, 0.8064508438110352, 0.2016127109527588, 0.7145562171936035, 0.2766023874282837, 1.000855803489685, 0.985206127166748, 0.9899986982345581, 0.9795215725898743, 0.5621976852416992, 0.2810988426208496, 0.8766469359397888, 0.6984482407569885, 0.9795215725898743, 0.979258120059967, 0.7623277902603149, 0.19058194756507874, 0.9699080586433411, 0.9808196425437927, 0.9791114926338196, 0.8897107839584351, 0.9132729768753052, 1.03445565700531, 0.9317649602890015, 0.718901515007019, 0.2765005826950073, 0.892121434211731, 0.8193560242652893], \"Term\": [\"abedin\", \"abedin\", \"abedinh\", \"abedinhstategov\", \"administrator\", \"agis\", \"airport\", \"airport\", \"allawi\", \"also\", \"april\", \"april\", \"arrive\", \"att\", \"august\", \"august\", \"aung\", \"awhile\", \"aye\", \"back\", \"backstory\", \"bader\", \"barnett\", \"bbbdb\", \"bbd\", \"bbdb\", \"bed\", \"call\", \"camera\", \"camera\", \"campbelikmstategov\", \"capricia\", \"carlos\", \"carlos\", \"cdm\", \"cheryl\", \"cheryl\", \"cingular\", \"cisco\", \"claire\", \"class\", \"class\", \"conference\", \"conference\", \"confidential\", \"confidential\", \"confidential\", \"copy\", \"copy\", \"could\", \"count\", \"count\", \"course\", \"course\", \"daily\", \"daily\", \"declassify\", \"declassify\", \"depart\", \"department\", \"department\", \"diagnostic\", \"discouraging\", \"discus\", \"discus\", \"docx\", \"easter\", \"ebeling\", \"ellen\", \"email\", \"esther\", \"february\", \"february\", \"fedex\", \"feingold\", \"feltmann\", \"flagged\", \"floor\", \"floor\", \"forwarded\", \"frattini\", \"friday\", \"friday\", \"froman\", \"fuchsmhstategov\", \"fvi\", \"fvl\", \"fyi\", \"get\", \"good\", \"graduatehowarduniversitystudentbeatstheodds\", \"gratifying\", \"great\", \"high\", \"high\", \"hillary\", \"hillary\", \"hoo\", \"hrodclintonemailcom\", \"hrodclintonemailcom\", \"huma\", \"huma\", \"humaclintonemailcom\", \"imagejpg\", \"importance\", \"importance\", \"imuscatine\", \"isabelle\", \"jacob\", \"jacob\", \"jakesullivar\", \"january\", \"january\", \"june\", \"june\", \"karine\", \"kellycstategov\", \"know\", \"kouchner\", \"kristy\", \"kudos\", \"kyi\", \"laguardia\", \"let\", \"lewis\", \"lewis\", \"like\", \"lois\", \"lucky\", \"make\", \"marianne\", \"marty\", \"mashabane\", \"may\", \"may\", \"mcgovern\", \"mcguire\", \"meeting\", \"meeting\", \"messa\", \"mikulski\", \"mill\", \"mill\", \"millscd\", \"millscdstategov\", \"min\", \"monday\", \"monday\", \"mswashdcibwashdcstatesbu\", \"napolitano\", \"need\", \"new\", \"nice\", \"nice\", \"nonsecure\", \"noon\", \"noon\", \"november\", \"november\", \"october\", \"october\", \"office\", \"office\", \"omg\", \"one\", \"outer\", \"part\", \"part\", \"pdb\", \"periodically\", \"pls\", \"pls\", \"ppd\", \"prebrief\", \"preceding\", \"print\", \"print\", \"print\", \"printed\", \"private\", \"private\", \"problem\", \"problem\", \"rch\", \"reason\", \"reason\", \"recd\", \"recd\", \"regret\", \"regret\", \"reinespstategov\", \"release\", \"release\", \"remind\", \"remind\", \"reschedule\", \"residence\", \"revcon\", \"richards\", \"roger\", \"room\", \"room\", \"route\", \"route\", \"russorvstategov\", \"said\", \"saturday\", \"saturday\", \"scroll\", \"secretary\", \"secretary\", \"see\", \"send\", \"september\", \"september\", \"shouldve\", \"shuttle\", \"shuttle\", \"sigh\", \"spray\", \"state\", \"sullivan\", \"sullivan\", \"sullivanjj\", \"sullivanjjstategov\", \"sullivanjjstategov\", \"sunday\", \"sunday\", \"sure\", \"suu\", \"talk\", \"tauscher\", \"tbd\", \"thanks\", \"think\", \"thnx\", \"thursday\", \"thursday\", \"thx\", \"thx\", \"time\", \"today\", \"tomorrow\", \"touche\", \"traffic\", \"traffic\", \"tues\", \"updating\", \"viz\", \"want\", \"wednesday\", \"wednesday\", \"well\", \"work\", \"would\", \"xpress\", \"yang\", \"yeah\", \"yep\", \"yes\", \"yes\", \"youand\", \"yup\"]}, \"R\": 30, \"lambda.step\": 0.01, \"plot.opts\": {\"xlab\": \"PC1\", \"ylab\": \"PC2\"}, \"topic.order\": [1, 3, 5, 2, 4]};\n",
       "\n",
       "function LDAvis_load_lib(url, callback){\n",
       "  var s = document.createElement('script');\n",
       "  s.src = url;\n",
       "  s.async = true;\n",
       "  s.onreadystatechange = s.onload = callback;\n",
       "  s.onerror = function(){console.warn(\"failed to load library \" + url);};\n",
       "  document.getElementsByTagName(\"head\")[0].appendChild(s);\n",
       "}\n",
       "\n",
       "if(typeof(LDAvis) !== \"undefined\"){\n",
       "   // already loaded: just create the visualization\n",
       "   !function(LDAvis){\n",
       "       new LDAvis(\"#\" + \"ldavis_el2174823605314637448729375322\", ldavis_el2174823605314637448729375322_data);\n",
       "   }(LDAvis);\n",
       "}else if(typeof define === \"function\" && define.amd){\n",
       "   // require.js is available: use it to load d3/LDAvis\n",
       "   require.config({paths: {d3: \"https://cdnjs.cloudflare.com/ajax/libs/d3/3.5.5/d3.min\"}});\n",
       "   require([\"d3\"], function(d3){\n",
       "      window.d3 = d3;\n",
       "      LDAvis_load_lib(\"https://cdn.rawgit.com/bmabey/pyLDAvis/files/ldavis.v1.0.0.js\", function(){\n",
       "        new LDAvis(\"#\" + \"ldavis_el2174823605314637448729375322\", ldavis_el2174823605314637448729375322_data);\n",
       "      });\n",
       "    });\n",
       "}else{\n",
       "    // require.js not available: dynamically load d3 & LDAvis\n",
       "    LDAvis_load_lib(\"https://cdnjs.cloudflare.com/ajax/libs/d3/3.5.5/d3.min.js\", function(){\n",
       "         LDAvis_load_lib(\"https://cdn.rawgit.com/bmabey/pyLDAvis/files/ldavis.v1.0.0.js\", function(){\n",
       "                 new LDAvis(\"#\" + \"ldavis_el2174823605314637448729375322\", ldavis_el2174823605314637448729375322_data);\n",
       "            })\n",
       "         });\n",
       "}\n",
       "</script>"
      ],
      "text/plain": [
       "PreparedData(topic_coordinates=              x         y  topics  cluster       Freq\n",
       "topic                                                \n",
       "0     -0.178441  0.000738       1        1  59.889023\n",
       "2      0.045273 -0.014374       2        1  12.687819\n",
       "4      0.042337 -0.030256       3        1  10.244827\n",
       "1      0.044449 -0.014334       4        1  10.060226\n",
       "3      0.046382  0.058225       5        1   7.118108, topic_info=      Category        Freq       Term       Total  loglift  logprob\n",
       "9346   Default  115.000000        fyi  115.000000  30.0000  30.0000\n",
       "18375  Default   38.000000      print   38.000000  29.0000  29.0000\n",
       "17821  Default   42.000000        pls   42.000000  28.0000  28.0000\n",
       "26606  Default   36.000000        yes   36.000000  27.0000  27.0000\n",
       "23796  Default   43.000000        thx   43.000000  26.0000  26.0000\n",
       "...        ...         ...        ...         ...      ...      ...\n",
       "14522   Topic5    2.760102        may   23.227425   0.5125  -6.3574\n",
       "22965   Topic5    2.453890     sunday   20.026674   0.5431  -6.4750\n",
       "15225   Topic5    2.482948     monday   23.665545   0.3880  -6.4633\n",
       "12753   Topic5    2.182331       june   11.487982   0.9816  -6.5923\n",
       "21226   Topic5    2.137947  september   12.662287   0.8637  -6.6129\n",
       "\n",
       "[246 rows x 6 columns], token_table=       Topic      Freq             Term\n",
       "term                                   \n",
       "42         1  0.694752           abedin\n",
       "42         5  0.289480           abedin\n",
       "44         5  0.901296          abedinh\n",
       "45         5  0.906443  abedinhstategov\n",
       "327        4  0.852411    administrator\n",
       "...      ...       ...              ...\n",
       "26604      5  0.931765              yep\n",
       "26606      1  0.718902              yes\n",
       "26606      5  0.276501              yes\n",
       "26654      2  0.892121           youand\n",
       "26690      4  0.819356              yup\n",
       "\n",
       "[263 rows x 3 columns], R=30, lambda_step=0.01, plot_opts={'xlab': 'PC1', 'ylab': 'PC2'}, topic_order=[1, 3, 5, 2, 4])"
      ]
     },
     "execution_count": 30,
     "metadata": {},
     "output_type": "execute_result"
    }
   ],
   "source": [
    "pyLDAvis.gensim.prepare(lda_tfidf, corpus, dictionary)"
   ]
  },
  {
   "cell_type": "code",
   "execution_count": null,
   "metadata": {},
   "outputs": [],
   "source": []
  }
 ],
 "metadata": {
  "kernelspec": {
   "display_name": "Python 3",
   "language": "python",
   "name": "python3"
  },
  "language_info": {
   "codemirror_mode": {
    "name": "ipython",
    "version": 3
   },
   "file_extension": ".py",
   "mimetype": "text/x-python",
   "name": "python",
   "nbconvert_exporter": "python",
   "pygments_lexer": "ipython3",
   "version": "3.8.3"
  }
 },
 "nbformat": 4,
 "nbformat_minor": 4
}

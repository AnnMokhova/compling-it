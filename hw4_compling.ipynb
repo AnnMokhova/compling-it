{
  "nbformat": 4,
  "nbformat_minor": 0,
  "metadata": {
    "colab": {
      "name": "hw4_compling.ipynb",
      "provenance": [],
      "collapsed_sections": [
        "CWxQbUJX--r_",
        "hOVjlcGrIkJ6"
      ],
      "toc_visible": true,
      "authorship_tag": "ABX9TyNQ6MNi7hBtIVO2z2WJ38Ad"
    },
    "kernelspec": {
      "name": "python3",
      "display_name": "Python 3"
    },
    "widgets": {
      "application/vnd.jupyter.widget-state+json": {
        "29be688f8ae54d018178d2e562c67102": {
          "model_module": "@jupyter-widgets/controls",
          "model_name": "HBoxModel",
          "state": {
            "_view_name": "HBoxView",
            "_dom_classes": [],
            "_model_name": "HBoxModel",
            "_view_module": "@jupyter-widgets/controls",
            "_model_module_version": "1.5.0",
            "_view_count": null,
            "_view_module_version": "1.5.0",
            "box_style": "",
            "layout": "IPY_MODEL_a739c87a73404fbe9777b82ebf98a980",
            "_model_module": "@jupyter-widgets/controls",
            "children": [
              "IPY_MODEL_6fdd77bdd4b140bc80fa27bc313bd4b7",
              "IPY_MODEL_f4dd1cda17fc4ce2af5267054af53f92"
            ]
          }
        },
        "a739c87a73404fbe9777b82ebf98a980": {
          "model_module": "@jupyter-widgets/base",
          "model_name": "LayoutModel",
          "state": {
            "_view_name": "LayoutView",
            "grid_template_rows": null,
            "right": null,
            "justify_content": null,
            "_view_module": "@jupyter-widgets/base",
            "overflow": null,
            "_model_module_version": "1.2.0",
            "_view_count": null,
            "flex_flow": null,
            "width": null,
            "min_width": null,
            "border": null,
            "align_items": null,
            "bottom": null,
            "_model_module": "@jupyter-widgets/base",
            "top": null,
            "grid_column": null,
            "overflow_y": null,
            "overflow_x": null,
            "grid_auto_flow": null,
            "grid_area": null,
            "grid_template_columns": null,
            "flex": null,
            "_model_name": "LayoutModel",
            "justify_items": null,
            "grid_row": null,
            "max_height": null,
            "align_content": null,
            "visibility": null,
            "align_self": null,
            "height": null,
            "min_height": null,
            "padding": null,
            "grid_auto_rows": null,
            "grid_gap": null,
            "max_width": null,
            "order": null,
            "_view_module_version": "1.2.0",
            "grid_template_areas": null,
            "object_position": null,
            "object_fit": null,
            "grid_auto_columns": null,
            "margin": null,
            "display": null,
            "left": null
          }
        },
        "6fdd77bdd4b140bc80fa27bc313bd4b7": {
          "model_module": "@jupyter-widgets/controls",
          "model_name": "FloatProgressModel",
          "state": {
            "_view_name": "ProgressView",
            "style": "IPY_MODEL_650aab695dfe43cc921f538c27b6e127",
            "_dom_classes": [],
            "description": "100%",
            "_model_name": "FloatProgressModel",
            "bar_style": "success",
            "max": 3789,
            "_view_module": "@jupyter-widgets/controls",
            "_model_module_version": "1.5.0",
            "value": 3789,
            "_view_count": null,
            "_view_module_version": "1.5.0",
            "orientation": "horizontal",
            "min": 0,
            "description_tooltip": null,
            "_model_module": "@jupyter-widgets/controls",
            "layout": "IPY_MODEL_0c1fc4929e3c400daed9791dce3eb12c"
          }
        },
        "f4dd1cda17fc4ce2af5267054af53f92": {
          "model_module": "@jupyter-widgets/controls",
          "model_name": "HTMLModel",
          "state": {
            "_view_name": "HTMLView",
            "style": "IPY_MODEL_049f3b4e181e4a338ccd4713c3220543",
            "_dom_classes": [],
            "description": "",
            "_model_name": "HTMLModel",
            "placeholder": "​",
            "_view_module": "@jupyter-widgets/controls",
            "_model_module_version": "1.5.0",
            "value": " 3789/3789 [20:39&lt;00:00,  3.06it/s]",
            "_view_count": null,
            "_view_module_version": "1.5.0",
            "description_tooltip": null,
            "_model_module": "@jupyter-widgets/controls",
            "layout": "IPY_MODEL_4877f20aa1a34ac588148b0335792668"
          }
        },
        "650aab695dfe43cc921f538c27b6e127": {
          "model_module": "@jupyter-widgets/controls",
          "model_name": "ProgressStyleModel",
          "state": {
            "_view_name": "StyleView",
            "_model_name": "ProgressStyleModel",
            "description_width": "initial",
            "_view_module": "@jupyter-widgets/base",
            "_model_module_version": "1.5.0",
            "_view_count": null,
            "_view_module_version": "1.2.0",
            "bar_color": null,
            "_model_module": "@jupyter-widgets/controls"
          }
        },
        "0c1fc4929e3c400daed9791dce3eb12c": {
          "model_module": "@jupyter-widgets/base",
          "model_name": "LayoutModel",
          "state": {
            "_view_name": "LayoutView",
            "grid_template_rows": null,
            "right": null,
            "justify_content": null,
            "_view_module": "@jupyter-widgets/base",
            "overflow": null,
            "_model_module_version": "1.2.0",
            "_view_count": null,
            "flex_flow": null,
            "width": null,
            "min_width": null,
            "border": null,
            "align_items": null,
            "bottom": null,
            "_model_module": "@jupyter-widgets/base",
            "top": null,
            "grid_column": null,
            "overflow_y": null,
            "overflow_x": null,
            "grid_auto_flow": null,
            "grid_area": null,
            "grid_template_columns": null,
            "flex": null,
            "_model_name": "LayoutModel",
            "justify_items": null,
            "grid_row": null,
            "max_height": null,
            "align_content": null,
            "visibility": null,
            "align_self": null,
            "height": null,
            "min_height": null,
            "padding": null,
            "grid_auto_rows": null,
            "grid_gap": null,
            "max_width": null,
            "order": null,
            "_view_module_version": "1.2.0",
            "grid_template_areas": null,
            "object_position": null,
            "object_fit": null,
            "grid_auto_columns": null,
            "margin": null,
            "display": null,
            "left": null
          }
        },
        "049f3b4e181e4a338ccd4713c3220543": {
          "model_module": "@jupyter-widgets/controls",
          "model_name": "DescriptionStyleModel",
          "state": {
            "_view_name": "StyleView",
            "_model_name": "DescriptionStyleModel",
            "description_width": "",
            "_view_module": "@jupyter-widgets/base",
            "_model_module_version": "1.5.0",
            "_view_count": null,
            "_view_module_version": "1.2.0",
            "_model_module": "@jupyter-widgets/controls"
          }
        },
        "4877f20aa1a34ac588148b0335792668": {
          "model_module": "@jupyter-widgets/base",
          "model_name": "LayoutModel",
          "state": {
            "_view_name": "LayoutView",
            "grid_template_rows": null,
            "right": null,
            "justify_content": null,
            "_view_module": "@jupyter-widgets/base",
            "overflow": null,
            "_model_module_version": "1.2.0",
            "_view_count": null,
            "flex_flow": null,
            "width": null,
            "min_width": null,
            "border": null,
            "align_items": null,
            "bottom": null,
            "_model_module": "@jupyter-widgets/base",
            "top": null,
            "grid_column": null,
            "overflow_y": null,
            "overflow_x": null,
            "grid_auto_flow": null,
            "grid_area": null,
            "grid_template_columns": null,
            "flex": null,
            "_model_name": "LayoutModel",
            "justify_items": null,
            "grid_row": null,
            "max_height": null,
            "align_content": null,
            "visibility": null,
            "align_self": null,
            "height": null,
            "min_height": null,
            "padding": null,
            "grid_auto_rows": null,
            "grid_gap": null,
            "max_width": null,
            "order": null,
            "_view_module_version": "1.2.0",
            "grid_template_areas": null,
            "object_position": null,
            "object_fit": null,
            "grid_auto_columns": null,
            "margin": null,
            "display": null,
            "left": null
          }
        },
        "6f90ffdabde84854a9871e27b703e265": {
          "model_module": "@jupyter-widgets/controls",
          "model_name": "HBoxModel",
          "state": {
            "_view_name": "HBoxView",
            "_dom_classes": [],
            "_model_name": "HBoxModel",
            "_view_module": "@jupyter-widgets/controls",
            "_model_module_version": "1.5.0",
            "_view_count": null,
            "_view_module_version": "1.5.0",
            "box_style": "",
            "layout": "IPY_MODEL_1a5ce15e787a43ae97f269a03a66c22c",
            "_model_module": "@jupyter-widgets/controls",
            "children": [
              "IPY_MODEL_256363fe69db4c2bb062422707ff120d",
              "IPY_MODEL_123e53366ce945869ffe8488bf9d209a"
            ]
          }
        },
        "1a5ce15e787a43ae97f269a03a66c22c": {
          "model_module": "@jupyter-widgets/base",
          "model_name": "LayoutModel",
          "state": {
            "_view_name": "LayoutView",
            "grid_template_rows": null,
            "right": null,
            "justify_content": null,
            "_view_module": "@jupyter-widgets/base",
            "overflow": null,
            "_model_module_version": "1.2.0",
            "_view_count": null,
            "flex_flow": null,
            "width": null,
            "min_width": null,
            "border": null,
            "align_items": null,
            "bottom": null,
            "_model_module": "@jupyter-widgets/base",
            "top": null,
            "grid_column": null,
            "overflow_y": null,
            "overflow_x": null,
            "grid_auto_flow": null,
            "grid_area": null,
            "grid_template_columns": null,
            "flex": null,
            "_model_name": "LayoutModel",
            "justify_items": null,
            "grid_row": null,
            "max_height": null,
            "align_content": null,
            "visibility": null,
            "align_self": null,
            "height": null,
            "min_height": null,
            "padding": null,
            "grid_auto_rows": null,
            "grid_gap": null,
            "max_width": null,
            "order": null,
            "_view_module_version": "1.2.0",
            "grid_template_areas": null,
            "object_position": null,
            "object_fit": null,
            "grid_auto_columns": null,
            "margin": null,
            "display": null,
            "left": null
          }
        },
        "256363fe69db4c2bb062422707ff120d": {
          "model_module": "@jupyter-widgets/controls",
          "model_name": "FloatProgressModel",
          "state": {
            "_view_name": "ProgressView",
            "style": "IPY_MODEL_6decb10daac340898451e037650cf1d7",
            "_dom_classes": [],
            "description": "100%",
            "_model_name": "FloatProgressModel",
            "bar_style": "success",
            "max": 3789,
            "_view_module": "@jupyter-widgets/controls",
            "_model_module_version": "1.5.0",
            "value": 3789,
            "_view_count": null,
            "_view_module_version": "1.5.0",
            "orientation": "horizontal",
            "min": 0,
            "description_tooltip": null,
            "_model_module": "@jupyter-widgets/controls",
            "layout": "IPY_MODEL_dccb3241b9614281a182da5febe9492c"
          }
        },
        "123e53366ce945869ffe8488bf9d209a": {
          "model_module": "@jupyter-widgets/controls",
          "model_name": "HTMLModel",
          "state": {
            "_view_name": "HTMLView",
            "style": "IPY_MODEL_9fa652353fa54c4db86210aa17fe1a9d",
            "_dom_classes": [],
            "description": "",
            "_model_name": "HTMLModel",
            "placeholder": "​",
            "_view_module": "@jupyter-widgets/controls",
            "_model_module_version": "1.5.0",
            "value": " 3789/3789 [38:32&lt;00:00,  1.64it/s]",
            "_view_count": null,
            "_view_module_version": "1.5.0",
            "description_tooltip": null,
            "_model_module": "@jupyter-widgets/controls",
            "layout": "IPY_MODEL_b98e06420974493dba9fb004922c588d"
          }
        },
        "6decb10daac340898451e037650cf1d7": {
          "model_module": "@jupyter-widgets/controls",
          "model_name": "ProgressStyleModel",
          "state": {
            "_view_name": "StyleView",
            "_model_name": "ProgressStyleModel",
            "description_width": "initial",
            "_view_module": "@jupyter-widgets/base",
            "_model_module_version": "1.5.0",
            "_view_count": null,
            "_view_module_version": "1.2.0",
            "bar_color": null,
            "_model_module": "@jupyter-widgets/controls"
          }
        },
        "dccb3241b9614281a182da5febe9492c": {
          "model_module": "@jupyter-widgets/base",
          "model_name": "LayoutModel",
          "state": {
            "_view_name": "LayoutView",
            "grid_template_rows": null,
            "right": null,
            "justify_content": null,
            "_view_module": "@jupyter-widgets/base",
            "overflow": null,
            "_model_module_version": "1.2.0",
            "_view_count": null,
            "flex_flow": null,
            "width": null,
            "min_width": null,
            "border": null,
            "align_items": null,
            "bottom": null,
            "_model_module": "@jupyter-widgets/base",
            "top": null,
            "grid_column": null,
            "overflow_y": null,
            "overflow_x": null,
            "grid_auto_flow": null,
            "grid_area": null,
            "grid_template_columns": null,
            "flex": null,
            "_model_name": "LayoutModel",
            "justify_items": null,
            "grid_row": null,
            "max_height": null,
            "align_content": null,
            "visibility": null,
            "align_self": null,
            "height": null,
            "min_height": null,
            "padding": null,
            "grid_auto_rows": null,
            "grid_gap": null,
            "max_width": null,
            "order": null,
            "_view_module_version": "1.2.0",
            "grid_template_areas": null,
            "object_position": null,
            "object_fit": null,
            "grid_auto_columns": null,
            "margin": null,
            "display": null,
            "left": null
          }
        },
        "9fa652353fa54c4db86210aa17fe1a9d": {
          "model_module": "@jupyter-widgets/controls",
          "model_name": "DescriptionStyleModel",
          "state": {
            "_view_name": "StyleView",
            "_model_name": "DescriptionStyleModel",
            "description_width": "",
            "_view_module": "@jupyter-widgets/base",
            "_model_module_version": "1.5.0",
            "_view_count": null,
            "_view_module_version": "1.2.0",
            "_model_module": "@jupyter-widgets/controls"
          }
        },
        "b98e06420974493dba9fb004922c588d": {
          "model_module": "@jupyter-widgets/base",
          "model_name": "LayoutModel",
          "state": {
            "_view_name": "LayoutView",
            "grid_template_rows": null,
            "right": null,
            "justify_content": null,
            "_view_module": "@jupyter-widgets/base",
            "overflow": null,
            "_model_module_version": "1.2.0",
            "_view_count": null,
            "flex_flow": null,
            "width": null,
            "min_width": null,
            "border": null,
            "align_items": null,
            "bottom": null,
            "_model_module": "@jupyter-widgets/base",
            "top": null,
            "grid_column": null,
            "overflow_y": null,
            "overflow_x": null,
            "grid_auto_flow": null,
            "grid_area": null,
            "grid_template_columns": null,
            "flex": null,
            "_model_name": "LayoutModel",
            "justify_items": null,
            "grid_row": null,
            "max_height": null,
            "align_content": null,
            "visibility": null,
            "align_self": null,
            "height": null,
            "min_height": null,
            "padding": null,
            "grid_auto_rows": null,
            "grid_gap": null,
            "max_width": null,
            "order": null,
            "_view_module_version": "1.2.0",
            "grid_template_areas": null,
            "object_position": null,
            "object_fit": null,
            "grid_auto_columns": null,
            "margin": null,
            "display": null,
            "left": null
          }
        }
      }
    }
  },
  "cells": [
    {
      "cell_type": "markdown",
      "metadata": {
        "id": "CWxQbUJX--r_"
      },
      "source": [
        "# Блок 1: Аугментация с заменой слов на основе word2vec"
      ]
    },
    {
      "cell_type": "code",
      "metadata": {
        "id": "HUMrrgOi_AcT",
        "outputId": "47f14d2b-846c-4390-ed58-faf9c78f02b7",
        "colab": {
          "base_uri": "https://localhost:8080/"
        }
      },
      "source": [
        "!wget http://rusvectores.org/static/models/rusvectores4/fasttext/araneum_none_fasttextcbow_300_5_2018.tgz"
      ],
      "execution_count": null,
      "outputs": [
        {
          "output_type": "stream",
          "text": [
            "--2020-11-07 15:53:15--  http://rusvectores.org/static/models/rusvectores4/fasttext/araneum_none_fasttextcbow_300_5_2018.tgz\n",
            "Resolving rusvectores.org (rusvectores.org)... 116.203.104.23\n",
            "Connecting to rusvectores.org (rusvectores.org)|116.203.104.23|:80... connected.\n",
            "HTTP request sent, awaiting response... 200 OK\n",
            "Length: 2691248108 (2.5G) [application/x-gzip]\n",
            "Saving to: ‘araneum_none_fasttextcbow_300_5_2018.tgz’\n",
            "\n",
            "araneum_none_fastte 100%[===================>]   2.51G  27.1MB/s    in 99s     \n",
            "\n",
            "2020-11-07 15:54:54 (26.0 MB/s) - ‘araneum_none_fasttextcbow_300_5_2018.tgz’ saved [2691248108/2691248108]\n",
            "\n"
          ],
          "name": "stdout"
        }
      ]
    },
    {
      "cell_type": "code",
      "metadata": {
        "id": "ht3pSyWgI-zT",
        "outputId": "80e5992b-64a5-4df7-b7fa-75ed63aa3cda",
        "colab": {
          "base_uri": "https://localhost:8080/"
        }
      },
      "source": [
        "!tar --gunzip --extract --verbose --file=araneum_none_fasttextcbow_300_5_2018.tgz"
      ],
      "execution_count": null,
      "outputs": [
        {
          "output_type": "stream",
          "text": [
            "araneum_none_fasttextcbow_300_5_2018.model\n",
            "araneum_none_fasttextcbow_300_5_2018.model.vectors_ngrams.npy\n",
            "araneum_none_fasttextcbow_300_5_2018.model.vectors.npy\n",
            "araneum_none_fasttextcbow_300_5_2018.model.vectors_vocab.npy\n"
          ],
          "name": "stdout"
        }
      ]
    },
    {
      "cell_type": "code",
      "metadata": {
        "id": "HNSwYYM3Ksmx",
        "outputId": "6780df6f-3214-4708-ebea-42faf3dd3758",
        "colab": {
          "base_uri": "https://localhost:8080/"
        }
      },
      "source": [
        "pip install gensim==3.7.3"
      ],
      "execution_count": null,
      "outputs": [
        {
          "output_type": "stream",
          "text": [
            "Collecting gensim==3.7.3\n",
            "\u001b[?25l  Downloading https://files.pythonhosted.org/packages/d3/4b/19eecdf07d614665fa889857dc56ac965631c7bd816c3476d2f0cac6ea3b/gensim-3.7.3-cp36-cp36m-manylinux1_x86_64.whl (24.2MB)\n",
            "\u001b[K     |████████████████████████████████| 24.2MB 182kB/s \n",
            "\u001b[?25hRequirement already satisfied: numpy>=1.11.3 in /usr/local/lib/python3.6/dist-packages (from gensim==3.7.3) (1.18.5)\n",
            "Requirement already satisfied: scipy>=0.18.1 in /usr/local/lib/python3.6/dist-packages (from gensim==3.7.3) (1.4.1)\n",
            "Requirement already satisfied: smart-open>=1.7.0 in /usr/local/lib/python3.6/dist-packages (from gensim==3.7.3) (3.0.0)\n",
            "Requirement already satisfied: six>=1.5.0 in /usr/local/lib/python3.6/dist-packages (from gensim==3.7.3) (1.15.0)\n",
            "Requirement already satisfied: requests in /usr/local/lib/python3.6/dist-packages (from smart-open>=1.7.0->gensim==3.7.3) (2.23.0)\n",
            "Requirement already satisfied: chardet<4,>=3.0.2 in /usr/local/lib/python3.6/dist-packages (from requests->smart-open>=1.7.0->gensim==3.7.3) (3.0.4)\n",
            "Requirement already satisfied: idna<3,>=2.5 in /usr/local/lib/python3.6/dist-packages (from requests->smart-open>=1.7.0->gensim==3.7.3) (2.10)\n",
            "Requirement already satisfied: certifi>=2017.4.17 in /usr/local/lib/python3.6/dist-packages (from requests->smart-open>=1.7.0->gensim==3.7.3) (2020.6.20)\n",
            "Requirement already satisfied: urllib3!=1.25.0,!=1.25.1,<1.26,>=1.21.1 in /usr/local/lib/python3.6/dist-packages (from requests->smart-open>=1.7.0->gensim==3.7.3) (1.24.3)\n",
            "Installing collected packages: gensim\n",
            "  Found existing installation: gensim 3.6.0\n",
            "    Uninstalling gensim-3.6.0:\n",
            "      Successfully uninstalled gensim-3.6.0\n",
            "Successfully installed gensim-3.7.3\n"
          ],
          "name": "stdout"
        }
      ]
    },
    {
      "cell_type": "code",
      "metadata": {
        "id": "iKMGka6sKcXA"
      },
      "source": [
        "from gensim.models import KeyedVectors"
      ],
      "execution_count": null,
      "outputs": []
    },
    {
      "cell_type": "code",
      "metadata": {
        "id": "xsCEgbBS_DsW"
      },
      "source": [
        "model_file = 'araneum_none_fasttextcbow_300_5_2018.model'\n",
        "model = KeyedVectors.load(model_file)"
      ],
      "execution_count": null,
      "outputs": []
    },
    {
      "cell_type": "code",
      "metadata": {
        "id": "okq3u9XFDzvh"
      },
      "source": [
        "from razdel import tokenize\n",
        "import pymorphy2"
      ],
      "execution_count": null,
      "outputs": []
    },
    {
      "cell_type": "markdown",
      "metadata": {
        "id": "8gvB0xoHh-8T"
      },
      "source": [
        "**Напишите функцию, которая заменяет слова во входном предложении их ближайшими семантическими ассоциатами.**"
      ]
    },
    {
      "cell_type": "code",
      "metadata": {
        "id": "ADGQi_Xz_m7e"
      },
      "source": [
        "morph = pymorphy2.MorphAnalyzer()\n",
        "\n",
        "def augment_word2vec(sentence, model=model):\n",
        "    tokens = [_.text for _ in tokenize(sentence) if _.text not in '1234567890,.!?-();:\"\"«»—_–#' and '.' not in _.text]\n",
        "    lemmas = [morph.parse(t)[0].normal_form for t in tokens]\n",
        "    return ' '.join([model.most_similar(l, topn=1)[0][0] for l in lemmas if l in model])"
      ],
      "execution_count": null,
      "outputs": []
    },
    {
      "cell_type": "code",
      "metadata": {
        "id": "8g46FDp9E7yL",
        "outputId": "1beeaa6f-3d5a-4805-bad9-2d739a861770",
        "colab": {
          "base_uri": "https://localhost:8080/",
          "height": 35
        }
      },
      "source": [
        "sent = 'мама помыла окно тряпкой))'\n",
        "\n",
        "augment_word2vec(sent)"
      ],
      "execution_count": null,
      "outputs": [
        {
          "output_type": "execute_result",
          "data": {
            "application/vnd.google.colaboratory.intrinsic+json": {
              "type": "string"
            },
            "text/plain": [
              "'мамочка мыть окошко тряпочка'"
            ]
          },
          "metadata": {
            "tags": []
          },
          "execution_count": 14
        }
      ]
    },
    {
      "cell_type": "markdown",
      "metadata": {
        "id": "czr5xasQiLc8"
      },
      "source": [
        "**Измените функцию так, чтобы заменялись слова, относящиеся к заданному набору пос-тегов (например, ADJ, NOUN), и сохранялась грамматика**"
      ]
    },
    {
      "cell_type": "code",
      "metadata": {
        "id": "lBr6gaM3MHXT"
      },
      "source": [
        "def augment_word2vec_pos(sentence, model=model, \n",
        "                         list_of_pos=['NOUN','ADVB', 'PREP', \n",
        "                                      'CONJ', 'PRCL', 'INTJ']):\n",
        "    tokens = [_.text for _ in tokenize(sentence) if _.text not in '1234567890,.!?-();:\"\"«»—_–#' and '.' not in _.text]\n",
        "    lemmas = [morph.parse(t)[0].normal_form for t in tokens]\n",
        "    pos = [morph.parse(l)[0].tag.POS for l in lemmas]\n",
        "    result = []\n",
        "    for idx, lemma in enumerate(lemmas):\n",
        "        if pos[idx] in list_of_pos:\n",
        "            syn = model.most_similar(lemma, topn=1)[0][0]\n",
        "\n",
        "            if pos[idx] == 'NOUN':\n",
        "                p = morph.parse(tokens[idx])[0]\n",
        "                result.append(morph.parse(syn)[0].inflect({p.tag.case, p.tag.number}).word)\n",
        "\n",
        "            else:\n",
        "                result.append(syn)\n",
        "\n",
        "    return ' '.join(result)"
      ],
      "execution_count": null,
      "outputs": []
    },
    {
      "cell_type": "code",
      "metadata": {
        "id": "zr4-hKnmRlMV",
        "outputId": "05433a02-0b4a-481c-bcc0-8e7a47baff02",
        "colab": {
          "base_uri": "https://localhost:8080/",
          "height": 35
        }
      },
      "source": [
        "augment_word2vec_pos(sent)"
      ],
      "execution_count": null,
      "outputs": [
        {
          "output_type": "execute_result",
          "data": {
            "application/vnd.google.colaboratory.intrinsic+json": {
              "type": "string"
            },
            "text/plain": [
              "'мамочка окошко тряпочкой'"
            ]
          },
          "metadata": {
            "tags": []
          },
          "execution_count": 18
        }
      ]
    },
    {
      "cell_type": "markdown",
      "metadata": {
        "id": "hOVjlcGrIkJ6"
      },
      "source": [
        "# Блок 2: Регрессия; Medium Stories"
      ]
    },
    {
      "cell_type": "code",
      "metadata": {
        "id": "_bgCk_GyXXsa"
      },
      "source": [
        "import pandas as pd\n",
        "import seaborn as sns\n",
        "import matplotlib.pyplot as plt\n",
        "from sklearn.model_selection import train_test_split"
      ],
      "execution_count": null,
      "outputs": []
    },
    {
      "cell_type": "code",
      "metadata": {
        "id": "SU4H5GDPfy77"
      },
      "source": [
        "import warnings\n",
        "warnings.filterwarnings('ignore')"
      ],
      "execution_count": null,
      "outputs": []
    },
    {
      "cell_type": "code",
      "metadata": {
        "id": "6QcQRT1UI5_2",
        "outputId": "cdeb21c0-7703-4b91-f290-18e2b4014b5b",
        "colab": {
          "base_uri": "https://localhost:8080/"
        }
      },
      "source": [
        "from google.colab import drive\n",
        "drive.mount('gdrive')"
      ],
      "execution_count": null,
      "outputs": [
        {
          "output_type": "stream",
          "text": [
            "Drive already mounted at gdrive; to attempt to forcibly remount, call drive.mount(\"gdrive\", force_remount=True).\n"
          ],
          "name": "stdout"
        }
      ]
    },
    {
      "cell_type": "code",
      "metadata": {
        "id": "R2blUEo1LTjM",
        "outputId": "3a66f4bd-c797-4128-9450-2f9a60f64628",
        "colab": {
          "base_uri": "https://localhost:8080/"
        }
      },
      "source": [
        "%cd /content/gdrive/My Drive/medium_stories"
      ],
      "execution_count": null,
      "outputs": [
        {
          "output_type": "stream",
          "text": [
            "/content/gdrive/My Drive/medium_stories\n"
          ],
          "name": "stdout"
        }
      ]
    },
    {
      "cell_type": "code",
      "metadata": {
        "id": "9EVDFFnrLjig",
        "outputId": "f56fa419-448e-4993-89c9-a5b04a3e1fb2",
        "colab": {
          "base_uri": "https://localhost:8080/"
        }
      },
      "source": [
        "!ls"
      ],
      "execution_count": null,
      "outputs": [
        {
          "output_type": "stream",
          "text": [
            "Medium_Clean.csv\n"
          ],
          "name": "stdout"
        }
      ]
    },
    {
      "cell_type": "code",
      "metadata": {
        "id": "icVlPfSvLmZf",
        "outputId": "3dc1ecd7-198e-4768-8f9f-cdd651b1f980",
        "colab": {
          "base_uri": "https://localhost:8080/",
          "height": 551
        }
      },
      "source": [
        "usecols = ['Title', 'Subtitle', 'Image', 'Author', 'Publication', 'Year', 'Month', 'Day', 'Reading_Time', 'Claps', 'url', 'Author_url']\n",
        "\n",
        "df = pd.read_csv('Medium_Clean.csv', sep=\",\", usecols=usecols)\n",
        "df['Claps'] = df['Claps'].astype(int)\n",
        "df.head()"
      ],
      "execution_count": null,
      "outputs": [
        {
          "output_type": "execute_result",
          "data": {
            "text/html": [
              "<div>\n",
              "<style scoped>\n",
              "    .dataframe tbody tr th:only-of-type {\n",
              "        vertical-align: middle;\n",
              "    }\n",
              "\n",
              "    .dataframe tbody tr th {\n",
              "        vertical-align: top;\n",
              "    }\n",
              "\n",
              "    .dataframe thead th {\n",
              "        text-align: right;\n",
              "    }\n",
              "</style>\n",
              "<table border=\"1\" class=\"dataframe\">\n",
              "  <thead>\n",
              "    <tr style=\"text-align: right;\">\n",
              "      <th></th>\n",
              "      <th>Title</th>\n",
              "      <th>Subtitle</th>\n",
              "      <th>Image</th>\n",
              "      <th>Author</th>\n",
              "      <th>Publication</th>\n",
              "      <th>Year</th>\n",
              "      <th>Month</th>\n",
              "      <th>Day</th>\n",
              "      <th>Reading_Time</th>\n",
              "      <th>Claps</th>\n",
              "      <th>url</th>\n",
              "      <th>Author_url</th>\n",
              "    </tr>\n",
              "  </thead>\n",
              "  <tbody>\n",
              "    <tr>\n",
              "      <th>0</th>\n",
              "      <td>Online Animation: Mixamo vs Norah AI</td>\n",
              "      <td>Online animations tools provide game designers...</td>\n",
              "      <td>1</td>\n",
              "      <td>Emma Laurent</td>\n",
              "      <td>NaN</td>\n",
              "      <td>2017</td>\n",
              "      <td>8</td>\n",
              "      <td>1</td>\n",
              "      <td>5</td>\n",
              "      <td>12</td>\n",
              "      <td>https://medium.com/@laurentemma/online-animati...</td>\n",
              "      <td>https://medium.com/@laurentemma</td>\n",
              "    </tr>\n",
              "    <tr>\n",
              "      <th>1</th>\n",
              "      <td>A.I. ?</td>\n",
              "      <td>NaN</td>\n",
              "      <td>0</td>\n",
              "      <td>Sanparith Marukatat</td>\n",
              "      <td>NaN</td>\n",
              "      <td>2017</td>\n",
              "      <td>8</td>\n",
              "      <td>1</td>\n",
              "      <td>2</td>\n",
              "      <td>11</td>\n",
              "      <td>https://medium.com/@sanparithmarukatat/a-i-%E0...</td>\n",
              "      <td>https://medium.com/@sanparithmarukatat</td>\n",
              "    </tr>\n",
              "    <tr>\n",
              "      <th>2</th>\n",
              "      <td>Futures of AI, Friendly AI?</td>\n",
              "      <td>From Physics of the Future: How Science Will S...</td>\n",
              "      <td>1</td>\n",
              "      <td>Z</td>\n",
              "      <td>NaN</td>\n",
              "      <td>2017</td>\n",
              "      <td>8</td>\n",
              "      <td>1</td>\n",
              "      <td>3</td>\n",
              "      <td>1</td>\n",
              "      <td>https://medium.com/@otherside914/futures-of-ai...</td>\n",
              "      <td>https://medium.com/@otherside914</td>\n",
              "    </tr>\n",
              "    <tr>\n",
              "      <th>3</th>\n",
              "      <td>The Value Generated through AI led Mindfulness</td>\n",
              "      <td>A true product co-created by the Millennials</td>\n",
              "      <td>1</td>\n",
              "      <td>Emiko Sawaguchi</td>\n",
              "      <td>MILLENNIALSTIMES</td>\n",
              "      <td>2017</td>\n",
              "      <td>8</td>\n",
              "      <td>1</td>\n",
              "      <td>5</td>\n",
              "      <td>4</td>\n",
              "      <td>https://millennials-times.com/creativeflower-e...</td>\n",
              "      <td>https://millennials-times.com/@emikosawaguchi</td>\n",
              "    </tr>\n",
              "    <tr>\n",
              "      <th>4</th>\n",
              "      <td>Os Melhores Links de JulhoCmeras Vintage, Goog...</td>\n",
              "      <td>mas pera a?</td>\n",
              "      <td>1</td>\n",
              "      <td>Giovani Ferreira</td>\n",
              "      <td>NEW ORDER</td>\n",
              "      <td>2017</td>\n",
              "      <td>8</td>\n",
              "      <td>1</td>\n",
              "      <td>3</td>\n",
              "      <td>56</td>\n",
              "      <td>https://medium.com/neworder/os-melhores-links-...</td>\n",
              "      <td>https://medium.com/@gferreira</td>\n",
              "    </tr>\n",
              "  </tbody>\n",
              "</table>\n",
              "</div>"
            ],
            "text/plain": [
              "                                               Title  ...                                     Author_url\n",
              "0               Online Animation: Mixamo vs Norah AI  ...                https://medium.com/@laurentemma\n",
              "1                                             A.I. ?  ...         https://medium.com/@sanparithmarukatat\n",
              "2                        Futures of AI, Friendly AI?  ...               https://medium.com/@otherside914\n",
              "3     The Value Generated through AI led Mindfulness  ...  https://millennials-times.com/@emikosawaguchi\n",
              "4  Os Melhores Links de JulhoCmeras Vintage, Goog...  ...                  https://medium.com/@gferreira\n",
              "\n",
              "[5 rows x 12 columns]"
            ]
          },
          "metadata": {
            "tags": []
          },
          "execution_count": 6
        }
      ]
    },
    {
      "cell_type": "code",
      "metadata": {
        "id": "WAiH6cI6UfCq"
      },
      "source": [
        "df = df[0:100000]"
      ],
      "execution_count": null,
      "outputs": []
    },
    {
      "cell_type": "markdown",
      "metadata": {
        "id": "bXx2040TUZC1"
      },
      "source": [
        "**Эксплоративный анализ данных**"
      ]
    },
    {
      "cell_type": "code",
      "metadata": {
        "id": "ozYluSmzUZig",
        "outputId": "af89f8c0-80c3-4b22-e3d5-304d7359aee4",
        "colab": {
          "base_uri": "https://localhost:8080/"
        }
      },
      "source": [
        "df.shape"
      ],
      "execution_count": null,
      "outputs": [
        {
          "output_type": "execute_result",
          "data": {
            "text/plain": [
              "(100000, 12)"
            ]
          },
          "metadata": {
            "tags": []
          },
          "execution_count": 8
        }
      ]
    },
    {
      "cell_type": "code",
      "metadata": {
        "id": "xrMN9kC2Ue5P",
        "outputId": "d60cd8a4-6964-4050-9c05-17766afec1c1",
        "colab": {
          "base_uri": "https://localhost:8080/"
        }
      },
      "source": [
        "duplicate_rows_df = df[df.duplicated()]\n",
        "print('количество дублирующихся рядов: ', duplicate_rows_df.shape)"
      ],
      "execution_count": null,
      "outputs": [
        {
          "output_type": "stream",
          "text": [
            "количество дублирующихся рядов:  (0, 12)\n"
          ],
          "name": "stdout"
        }
      ]
    },
    {
      "cell_type": "code",
      "metadata": {
        "id": "vkD2tDM5P7PU",
        "outputId": "797cef96-5e54-417e-dbed-26d5632b19b0",
        "colab": {
          "base_uri": "https://localhost:8080/"
        }
      },
      "source": [
        "# до удаления рядов с нулевыми значениями\n",
        "df.count() "
      ],
      "execution_count": null,
      "outputs": [
        {
          "output_type": "execute_result",
          "data": {
            "text/plain": [
              "Title            96496\n",
              "Subtitle         66566\n",
              "Image           100000\n",
              "Author          100000\n",
              "Publication      30216\n",
              "Year            100000\n",
              "Month           100000\n",
              "Day             100000\n",
              "Reading_Time    100000\n",
              "Claps           100000\n",
              "url             100000\n",
              "Author_url      100000\n",
              "dtype: int64"
            ]
          },
          "metadata": {
            "tags": []
          },
          "execution_count": 10
        }
      ]
    },
    {
      "cell_type": "code",
      "metadata": {
        "id": "YDfSNBmYP9SA",
        "outputId": "6bcdb9bd-de2c-4a5c-8e91-8bb196f816ff",
        "colab": {
          "base_uri": "https://localhost:8080/"
        }
      },
      "source": [
        "print(df.isnull().sum())"
      ],
      "execution_count": null,
      "outputs": [
        {
          "output_type": "stream",
          "text": [
            "Title            3504\n",
            "Subtitle        33434\n",
            "Image               0\n",
            "Author              0\n",
            "Publication     69784\n",
            "Year                0\n",
            "Month               0\n",
            "Day                 0\n",
            "Reading_Time        0\n",
            "Claps               0\n",
            "url                 0\n",
            "Author_url          0\n",
            "dtype: int64\n"
          ],
          "name": "stdout"
        }
      ]
    },
    {
      "cell_type": "code",
      "metadata": {
        "id": "KW200NOgQGmK",
        "outputId": "937445cb-29a2-4fa9-c8f9-1a4c335637ff",
        "colab": {
          "base_uri": "https://localhost:8080/"
        }
      },
      "source": [
        "df = df.dropna() \n",
        "df.count()"
      ],
      "execution_count": null,
      "outputs": [
        {
          "output_type": "execute_result",
          "data": {
            "text/plain": [
              "Title           18449\n",
              "Subtitle        18449\n",
              "Image           18449\n",
              "Author          18449\n",
              "Publication     18449\n",
              "Year            18449\n",
              "Month           18449\n",
              "Day             18449\n",
              "Reading_Time    18449\n",
              "Claps           18449\n",
              "url             18449\n",
              "Author_url      18449\n",
              "dtype: int64"
            ]
          },
          "metadata": {
            "tags": []
          },
          "execution_count": 12
        }
      ]
    },
    {
      "cell_type": "code",
      "metadata": {
        "id": "MfZKdRRqQZF4",
        "outputId": "54fe6006-d100-48af-ae82-33a1e9db54e1",
        "colab": {
          "base_uri": "https://localhost:8080/"
        }
      },
      "source": [
        "print(df.isnull().sum()) "
      ],
      "execution_count": null,
      "outputs": [
        {
          "output_type": "stream",
          "text": [
            "Title           0\n",
            "Subtitle        0\n",
            "Image           0\n",
            "Author          0\n",
            "Publication     0\n",
            "Year            0\n",
            "Month           0\n",
            "Day             0\n",
            "Reading_Time    0\n",
            "Claps           0\n",
            "url             0\n",
            "Author_url      0\n",
            "dtype: int64\n"
          ],
          "name": "stdout"
        }
      ]
    },
    {
      "cell_type": "code",
      "metadata": {
        "id": "JQmCXhd2DTXT",
        "outputId": "f751fe6f-f925-41de-d47a-7dfae2411727",
        "colab": {
          "base_uri": "https://localhost:8080/"
        }
      },
      "source": [
        "df.info()"
      ],
      "execution_count": null,
      "outputs": [
        {
          "output_type": "stream",
          "text": [
            "<class 'pandas.core.frame.DataFrame'>\n",
            "Int64Index: 18449 entries, 3 to 99995\n",
            "Data columns (total 12 columns):\n",
            " #   Column        Non-Null Count  Dtype \n",
            "---  ------        --------------  ----- \n",
            " 0   Title         18449 non-null  object\n",
            " 1   Subtitle      18449 non-null  object\n",
            " 2   Image         18449 non-null  int64 \n",
            " 3   Author        18449 non-null  object\n",
            " 4   Publication   18449 non-null  object\n",
            " 5   Year          18449 non-null  int64 \n",
            " 6   Month         18449 non-null  int64 \n",
            " 7   Day           18449 non-null  int64 \n",
            " 8   Reading_Time  18449 non-null  int64 \n",
            " 9   Claps         18449 non-null  int64 \n",
            " 10  url           18449 non-null  object\n",
            " 11  Author_url    18449 non-null  object\n",
            "dtypes: int64(6), object(6)\n",
            "memory usage: 1.8+ MB\n"
          ],
          "name": "stdout"
        }
      ]
    },
    {
      "cell_type": "code",
      "metadata": {
        "id": "aFuJipYCD69t",
        "outputId": "777bb3cf-34ed-4619-91cc-ace2c7e26ff7",
        "colab": {
          "base_uri": "https://localhost:8080/"
        }
      },
      "source": [
        "# пропорция уникальных названий статей\n",
        "\n",
        "len(df['Title'].unique()) / df.shape[0]"
      ],
      "execution_count": null,
      "outputs": [
        {
          "output_type": "execute_result",
          "data": {
            "text/plain": [
              "0.9842267873597484"
            ]
          },
          "metadata": {
            "tags": []
          },
          "execution_count": 15
        }
      ]
    },
    {
      "cell_type": "code",
      "metadata": {
        "id": "Izzy68f2QayW",
        "outputId": "1c5beae0-e234-443f-e40b-299f68787dc8",
        "colab": {
          "base_uri": "https://localhost:8080/",
          "height": 297
        }
      },
      "source": [
        "sns.boxplot(x=df['Claps'])"
      ],
      "execution_count": null,
      "outputs": [
        {
          "output_type": "execute_result",
          "data": {
            "text/plain": [
              "<matplotlib.axes._subplots.AxesSubplot at 0x7f38da6a6b00>"
            ]
          },
          "metadata": {
            "tags": []
          },
          "execution_count": 16
        },
        {
          "output_type": "display_data",
          "data": {
            "image/png": "[encoded data removed]",
            "text/plain": [
              "<Figure size 432x288 with 1 Axes>"
            ]
          },
          "metadata": {
            "tags": [],
            "needs_background": "light"
          }
        }
      ]
    },
    {
      "cell_type": "code",
      "metadata": {
        "id": "1UMdDHT4RQOv",
        "outputId": "1a90b7c5-8af3-4fe9-a4b3-5c82c4c0c74c",
        "colab": {
          "base_uri": "https://localhost:8080/",
          "height": 545
        }
      },
      "source": [
        "# корреляция между переменными\n",
        "c = df.corr()\n",
        "sns.heatmap(c,cmap='BrBG',annot=True)\n",
        "c"
      ],
      "execution_count": null,
      "outputs": [
        {
          "output_type": "execute_result",
          "data": {
            "text/html": [
              "<div>\n",
              "<style scoped>\n",
              "    .dataframe tbody tr th:only-of-type {\n",
              "        vertical-align: middle;\n",
              "    }\n",
              "\n",
              "    .dataframe tbody tr th {\n",
              "        vertical-align: top;\n",
              "    }\n",
              "\n",
              "    .dataframe thead th {\n",
              "        text-align: right;\n",
              "    }\n",
              "</style>\n",
              "<table border=\"1\" class=\"dataframe\">\n",
              "  <thead>\n",
              "    <tr style=\"text-align: right;\">\n",
              "      <th></th>\n",
              "      <th>Image</th>\n",
              "      <th>Year</th>\n",
              "      <th>Month</th>\n",
              "      <th>Day</th>\n",
              "      <th>Reading_Time</th>\n",
              "      <th>Claps</th>\n",
              "    </tr>\n",
              "  </thead>\n",
              "  <tbody>\n",
              "    <tr>\n",
              "      <th>Image</th>\n",
              "      <td>1.000000</td>\n",
              "      <td>0.019553</td>\n",
              "      <td>-0.007048</td>\n",
              "      <td>-0.003931</td>\n",
              "      <td>0.085553</td>\n",
              "      <td>0.040982</td>\n",
              "    </tr>\n",
              "    <tr>\n",
              "      <th>Year</th>\n",
              "      <td>0.019553</td>\n",
              "      <td>1.000000</td>\n",
              "      <td>-0.851447</td>\n",
              "      <td>-0.005136</td>\n",
              "      <td>0.016584</td>\n",
              "      <td>0.054471</td>\n",
              "    </tr>\n",
              "    <tr>\n",
              "      <th>Month</th>\n",
              "      <td>-0.007048</td>\n",
              "      <td>-0.851447</td>\n",
              "      <td>1.000000</td>\n",
              "      <td>-0.020899</td>\n",
              "      <td>0.002082</td>\n",
              "      <td>-0.034259</td>\n",
              "    </tr>\n",
              "    <tr>\n",
              "      <th>Day</th>\n",
              "      <td>-0.003931</td>\n",
              "      <td>-0.005136</td>\n",
              "      <td>-0.020899</td>\n",
              "      <td>1.000000</td>\n",
              "      <td>0.007665</td>\n",
              "      <td>-0.002626</td>\n",
              "    </tr>\n",
              "    <tr>\n",
              "      <th>Reading_Time</th>\n",
              "      <td>0.085553</td>\n",
              "      <td>0.016584</td>\n",
              "      <td>0.002082</td>\n",
              "      <td>0.007665</td>\n",
              "      <td>1.000000</td>\n",
              "      <td>0.092448</td>\n",
              "    </tr>\n",
              "    <tr>\n",
              "      <th>Claps</th>\n",
              "      <td>0.040982</td>\n",
              "      <td>0.054471</td>\n",
              "      <td>-0.034259</td>\n",
              "      <td>-0.002626</td>\n",
              "      <td>0.092448</td>\n",
              "      <td>1.000000</td>\n",
              "    </tr>\n",
              "  </tbody>\n",
              "</table>\n",
              "</div>"
            ],
            "text/plain": [
              "                 Image      Year     Month       Day  Reading_Time     Claps\n",
              "Image         1.000000  0.019553 -0.007048 -0.003931      0.085553  0.040982\n",
              "Year          0.019553  1.000000 -0.851447 -0.005136      0.016584  0.054471\n",
              "Month        -0.007048 -0.851447  1.000000 -0.020899      0.002082 -0.034259\n",
              "Day          -0.003931 -0.005136 -0.020899  1.000000      0.007665 -0.002626\n",
              "Reading_Time  0.085553  0.016584  0.002082  0.007665      1.000000  0.092448\n",
              "Claps         0.040982  0.054471 -0.034259 -0.002626      0.092448  1.000000"
            ]
          },
          "metadata": {
            "tags": []
          },
          "execution_count": 17
        },
        {
          "output_type": "display_data",
          "data": {
            "image/png": "[encoded data removed]",
            "text/plain": [
              "<Figure size 432x288 with 2 Axes>"
            ]
          },
          "metadata": {
            "tags": [],
            "needs_background": "light"
          }
        }
      ]
    },
    {
      "cell_type": "markdown",
      "metadata": {
        "id": "v651KLTeU-pr"
      },
      "source": [
        "**Отбор важных признаков, поиск гиперпараметров, минимизация переобучения**"
      ]
    },
    {
      "cell_type": "code",
      "metadata": {
        "id": "octw_2-gU_-R"
      },
      "source": [
        "X_train, X_test, y_train, y_test = train_test_split(df['Title'], df.Claps.values, \n",
        "                                                    test_size=0.3, random_state=42)"
      ],
      "execution_count": null,
      "outputs": []
    },
    {
      "cell_type": "code",
      "metadata": {
        "id": "Qsn8KAcInj7o"
      },
      "source": [
        "from sklearn.feature_extraction.text import CountVectorizer\n",
        "count_vect = CountVectorizer()"
      ],
      "execution_count": null,
      "outputs": []
    },
    {
      "cell_type": "code",
      "metadata": {
        "id": "nCXt9ZGmn6r-"
      },
      "source": [
        "X_train = count_vect.fit_transform(X_train)\n",
        "X_test = count_vect.transform(X_test)"
      ],
      "execution_count": null,
      "outputs": []
    },
    {
      "cell_type": "code",
      "metadata": {
        "id": "Phuw7BT5oD5a",
        "outputId": "ad78d201-9336-4861-99a0-85df8599fe4b",
        "colab": {
          "base_uri": "https://localhost:8080/"
        }
      },
      "source": [
        "print(X_train.shape, X_test.shape, y_train.shape, y_test.shape)"
      ],
      "execution_count": null,
      "outputs": [
        {
          "output_type": "stream",
          "text": [
            "(12914, 16703) (5535, 16703) (12914,) (5535,)\n"
          ],
          "name": "stdout"
        }
      ]
    },
    {
      "cell_type": "code",
      "metadata": {
        "id": "n5vIDKp8oO9Z"
      },
      "source": [
        "from sklearn import linear_model\n",
        "from sklearn.metrics import mean_squared_error\n",
        "import numpy as np"
      ],
      "execution_count": null,
      "outputs": []
    },
    {
      "cell_type": "code",
      "metadata": {
        "id": "l1RdtUirMxef",
        "outputId": "cda67613-5600-48bf-b2c9-bdb62f9529ec",
        "colab": {
          "base_uri": "https://localhost:8080/"
        }
      },
      "source": [
        "lr = linear_model.LinearRegression()\n",
        "lr.fit(X_train, y_train)\n",
        "x_pred = lr.predict(X_test)\n",
        "print('Negative RMSE: ', -np.sqrt(mean_squared_error(y_test, x_pred)))"
      ],
      "execution_count": null,
      "outputs": [
        {
          "output_type": "stream",
          "text": [
            "Negative RMSE:  -1769.8447298037847\n"
          ],
          "name": "stdout"
        }
      ]
    },
    {
      "cell_type": "code",
      "metadata": {
        "id": "fNDtJ-k0oQ6D",
        "outputId": "7d6e030f-71d7-4be2-c0b6-8b6716e71775",
        "colab": {
          "base_uri": "https://localhost:8080/"
        }
      },
      "source": [
        "# используем модель Ridge, где регуляризация задается l2-нормой\n",
        "reg = linear_model.Ridge(alpha=0.1)\n",
        "reg.fit(X_train, y_train)\n",
        "x_pred = reg.predict(X_test)\n",
        "print('Negative RMSE: ', -np.sqrt(mean_squared_error(y_test, x_pred)))"
      ],
      "execution_count": null,
      "outputs": [
        {
          "output_type": "stream",
          "text": [
            "Negative RMSE:  -1268.4754141690344\n"
          ],
          "name": "stdout"
        }
      ]
    },
    {
      "cell_type": "code",
      "metadata": {
        "id": "Tvji8c6dqF5S"
      },
      "source": [
        "from sklearn.model_selection import GridSearchCV"
      ],
      "execution_count": null,
      "outputs": []
    },
    {
      "cell_type": "code",
      "metadata": {
        "id": "qIY_R0ipsJ8i",
        "outputId": "84497c65-91a3-4919-9b16-f607fe533aa5",
        "colab": {
          "base_uri": "https://localhost:8080/"
        }
      },
      "source": [
        "reg = linear_model.Ridge()\n",
        "\n",
        "parameters = {'alpha' : [0.1, 1.0, 10.0],\n",
        "              'normalize' : [False, True],\n",
        "              'max_iter': [2,10,50]\n",
        "              }\n",
        "\n",
        "grid_search = GridSearchCV(reg, parameters, scoring='neg_root_mean_squared_error', cv=5)\n",
        "grid_search.fit(X_train, y_train)\n",
        "print('Best score: {}'.format(grid_search.best_score_))\n",
        "print('Best parameters: {}'.format(grid_search.best_params_))"
      ],
      "execution_count": null,
      "outputs": [
        {
          "output_type": "stream",
          "text": [
            "Best score: -718.1556909807829\n",
            "Best parameters: {'alpha': 1.0, 'max_iter': 2, 'normalize': True}\n"
          ],
          "name": "stdout"
        }
      ]
    },
    {
      "cell_type": "code",
      "metadata": {
        "id": "ihTk-PTRPV26"
      },
      "source": [
        "model = linear_model.Ridge(**grid_search.best_params_)\n",
        "model.fit(X_train, y_train)\n",
        "x_pred = model.predict(X_test)"
      ],
      "execution_count": null,
      "outputs": []
    },
    {
      "cell_type": "code",
      "metadata": {
        "id": "_D6wmrkzO7wz",
        "outputId": "fe19747d-0289-4c12-d6a3-3fadafd66313",
        "colab": {
          "base_uri": "https://localhost:8080/"
        }
      },
      "source": [
        "pip install eli5"
      ],
      "execution_count": null,
      "outputs": [
        {
          "output_type": "stream",
          "text": [
            "Requirement already satisfied: eli5 in /usr/local/lib/python3.6/dist-packages (0.10.1)\n",
            "Requirement already satisfied: graphviz in /usr/local/lib/python3.6/dist-packages (from eli5) (0.10.1)\n",
            "Requirement already satisfied: jinja2 in /usr/local/lib/python3.6/dist-packages (from eli5) (2.11.2)\n",
            "Requirement already satisfied: scikit-learn>=0.18 in /usr/local/lib/python3.6/dist-packages (from eli5) (0.22.2.post1)\n",
            "Requirement already satisfied: tabulate>=0.7.7 in /usr/local/lib/python3.6/dist-packages (from eli5) (0.8.7)\n",
            "Requirement already satisfied: six in /usr/local/lib/python3.6/dist-packages (from eli5) (1.15.0)\n",
            "Requirement already satisfied: numpy>=1.9.0 in /usr/local/lib/python3.6/dist-packages (from eli5) (1.18.5)\n",
            "Requirement already satisfied: scipy in /usr/local/lib/python3.6/dist-packages (from eli5) (1.4.1)\n",
            "Requirement already satisfied: attrs>16.0.0 in /usr/local/lib/python3.6/dist-packages (from eli5) (20.2.0)\n",
            "Requirement already satisfied: MarkupSafe>=0.23 in /usr/local/lib/python3.6/dist-packages (from jinja2->eli5) (1.1.1)\n",
            "Requirement already satisfied: joblib>=0.11 in /usr/local/lib/python3.6/dist-packages (from scikit-learn>=0.18->eli5) (0.17.0)\n"
          ],
          "name": "stdout"
        }
      ]
    },
    {
      "cell_type": "code",
      "metadata": {
        "id": "6cTiFipHMF1l"
      },
      "source": [
        "import eli5\n",
        "from eli5.sklearn import PermutationImportance"
      ],
      "execution_count": null,
      "outputs": []
    },
    {
      "cell_type": "code",
      "metadata": {
        "id": "jakAIoWoPBcc"
      },
      "source": [
        "eli5_weights = eli5.formatters.as_dataframe.explain_weights_df(model)"
      ],
      "execution_count": null,
      "outputs": []
    },
    {
      "cell_type": "code",
      "metadata": {
        "id": "A-XLknE7RRcz"
      },
      "source": [
        "# возьмем индексы 100 наиболее значимых признаков (слов из названий текстов)\n",
        "features = [int(i[1:]) for i in eli5_weights.feature if 'BIAS' not in i][:100]"
      ],
      "execution_count": null,
      "outputs": []
    },
    {
      "cell_type": "code",
      "metadata": {
        "id": "uYY2iwdlRWQ1"
      },
      "source": [
        "top_features = [count_vect.get_feature_names()[i] for i in features]"
      ],
      "execution_count": null,
      "outputs": []
    },
    {
      "cell_type": "code",
      "metadata": {
        "id": "SrUapwUiU83C",
        "outputId": "f01b4703-0281-4032-a102-281c1b047f5d",
        "colab": {
          "base_uri": "https://localhost:8080/"
        }
      },
      "source": [
        "top_features"
      ],
      "execution_count": null,
      "outputs": [
        {
          "output_type": "execute_result",
          "data": {
            "text/plain": [
              "['phils',\n",
              " 'theses',\n",
              " '95',\n",
              " 'explainedsimply',\n",
              " 'adamant',\n",
              " 'struck',\n",
              " 'walletsbest',\n",
              " 'money20',\n",
              " 'wom',\n",
              " 'requiem',\n",
              " 'clap',\n",
              " 'alarming',\n",
              " 'deeply',\n",
              " 'heatmap',\n",
              " 'celebs',\n",
              " 'ubex',\n",
              " 'thaler',\n",
              " 'insolvency',\n",
              " 'bitgrail',\n",
              " 'slush',\n",
              " 'equilibria',\n",
              " 'planport',\n",
              " 'unchain',\n",
              " 'shadows',\n",
              " 'bugs',\n",
              " 'plandna',\n",
              " 'onchain',\n",
              " 'dawn',\n",
              " 'shl',\n",
              " 'illustrated',\n",
              " 'opportunitiespart',\n",
              " 'fostering',\n",
              " 'directive',\n",
              " 'curl',\n",
              " '400',\n",
              " 'kotlinit',\n",
              " 'stillwithher',\n",
              " 'dpos',\n",
              " 'strategists',\n",
              " 'eosio',\n",
              " 'eventum',\n",
              " 'prefetching',\n",
              " 'prl',\n",
              " 'xpt',\n",
              " 'layoutpreview',\n",
              " 'dividends',\n",
              " 'xrp',\n",
              " 'ubuntu',\n",
              " 'claims',\n",
              " 'reclaims',\n",
              " 'finalization',\n",
              " '2019',\n",
              " 'chynge',\n",
              " 'kids',\n",
              " 'efinity',\n",
              " 'attends',\n",
              " 'magic',\n",
              " 'bakers',\n",
              " 'sobolev',\n",
              " 'alexey',\n",
              " 'heroic',\n",
              " 'kills',\n",
              " 'greve',\n",
              " 'ethos',\n",
              " 'touchbar',\n",
              " 'skywire',\n",
              " 'motionlayout',\n",
              " 'tipspart',\n",
              " 'schmidt',\n",
              " 'primitives',\n",
              " 'cryptoeconomic',\n",
              " 'daggers',\n",
              " 'sharp',\n",
              " 'bfxthe',\n",
              " 'sh',\n",
              " 'bigco',\n",
              " 'grain',\n",
              " 'analytica',\n",
              " 'validation',\n",
              " 'omg',\n",
              " 'nexo',\n",
              " 'noticing',\n",
              " 'spantastic',\n",
              " 'spans',\n",
              " 'queries',\n",
              " 'ordinary',\n",
              " 'friendz',\n",
              " '0x',\n",
              " 'rippon',\n",
              " 'smartness',\n",
              " 'yazar',\n",
              " 'olunur',\n",
              " 'mediumda',\n",
              " 'yayna',\n",
              " 'refreshed',\n",
              " 'holger',\n",
              " 'kther',\n",
              " 'milestone',\n",
              " 'ton',\n",
              " 'icx']"
            ]
          },
          "metadata": {
            "tags": []
          },
          "execution_count": 34
        }
      ]
    },
    {
      "cell_type": "markdown",
      "metadata": {
        "id": "GmptV6mqDAVX"
      },
      "source": [
        "**Адаптация аугментации данных с заменой слов**"
      ]
    },
    {
      "cell_type": "code",
      "metadata": {
        "id": "fMaB9RKrDDSW",
        "outputId": "e8acb3ae-7785-455a-ca2d-dc2adb20e0d4",
        "colab": {
          "base_uri": "https://localhost:8080/"
        }
      },
      "source": [
        "!wget http://vectors.nlpl.eu/repository/20/5.zip"
      ],
      "execution_count": null,
      "outputs": [
        {
          "output_type": "stream",
          "text": [
            "--2020-11-06 21:33:08--  http://vectors.nlpl.eu/repository/20/5.zip\n",
            "Resolving vectors.nlpl.eu (vectors.nlpl.eu)... 129.240.189.225\n",
            "Connecting to vectors.nlpl.eu (vectors.nlpl.eu)|129.240.189.225|:80... connected.\n",
            "HTTP request sent, awaiting response... 200 OK\n",
            "Length: 574653290 (548M) [application/zip]\n",
            "Saving to: ‘5.zip’\n",
            "\n",
            "5.zip               100%[===================>] 548.03M  23.0MB/s    in 29s     \n",
            "\n",
            "2020-11-06 21:33:37 (18.8 MB/s) - ‘5.zip’ saved [574653290/574653290]\n",
            "\n"
          ],
          "name": "stdout"
        }
      ]
    },
    {
      "cell_type": "code",
      "metadata": {
        "id": "PaDUmxNTaOiL",
        "outputId": "19df7975-d7bf-48b4-efe5-bb840bdd6f69",
        "colab": {
          "base_uri": "https://localhost:8080/"
        }
      },
      "source": [
        "!unzip '5.zip'"
      ],
      "execution_count": null,
      "outputs": [
        {
          "output_type": "stream",
          "text": [
            "Archive:  5.zip\n",
            "  inflating: meta.json               \n",
            "  inflating: model.bin               \n",
            "  inflating: model.txt               \n",
            "  inflating: README                  \n"
          ],
          "name": "stdout"
        }
      ]
    },
    {
      "cell_type": "code",
      "metadata": {
        "id": "h4m3Slh2bRZS"
      },
      "source": [
        "from gensim.models.keyedvectors import KeyedVectors\n",
        "\n",
        "model = KeyedVectors.load_word2vec_format('model.bin', binary=True)\n",
        "model.save_word2vec_format('model.txt', binary=False)"
      ],
      "execution_count": null,
      "outputs": []
    },
    {
      "cell_type": "code",
      "metadata": {
        "id": "abWUiwgzcQY3"
      },
      "source": [
        "import nltk"
      ],
      "execution_count": 19,
      "outputs": []
    },
    {
      "cell_type": "code",
      "metadata": {
        "id": "IjJK39vBcTA4",
        "outputId": "477f9b26-914a-4283-b721-9e1050eaa9fa",
        "colab": {
          "base_uri": "https://localhost:8080/"
        }
      },
      "source": [
        "nltk.download('wordnet')"
      ],
      "execution_count": null,
      "outputs": [
        {
          "output_type": "stream",
          "text": [
            "[nltk_data] Downloading package wordnet to /root/nltk_data...\n",
            "[nltk_data]   Unzipping corpora/wordnet.zip.\n"
          ],
          "name": "stdout"
        },
        {
          "output_type": "execute_result",
          "data": {
            "text/plain": [
              "True"
            ]
          },
          "metadata": {
            "tags": []
          },
          "execution_count": 10
        }
      ]
    },
    {
      "cell_type": "code",
      "metadata": {
        "id": "5QuJDcQvdmre",
        "outputId": "12801ad6-b1d4-4391-ec95-ace91d66a6c0",
        "colab": {
          "base_uri": "https://localhost:8080/"
        }
      },
      "source": [
        "nltk.download('punkt')"
      ],
      "execution_count": null,
      "outputs": [
        {
          "output_type": "stream",
          "text": [
            "[nltk_data] Downloading package punkt to /root/nltk_data...\n",
            "[nltk_data]   Unzipping tokenizers/punkt.zip.\n"
          ],
          "name": "stdout"
        },
        {
          "output_type": "execute_result",
          "data": {
            "text/plain": [
              "True"
            ]
          },
          "metadata": {
            "tags": []
          },
          "execution_count": 14
        }
      ]
    },
    {
      "cell_type": "code",
      "metadata": {
        "id": "CdBev2eYcULa"
      },
      "source": [
        "from nltk.stem import WordNetLemmatizer"
      ],
      "execution_count": null,
      "outputs": []
    },
    {
      "cell_type": "code",
      "metadata": {
        "id": "qMYot4Jtb3Dh"
      },
      "source": [
        "lemmatizer = WordNetLemmatizer()\n",
        "\n",
        "def augment_word2vec_eng(sentence, model=model):\n",
        "    tokens = [w for w in nltk.word_tokenize(sentence) if w not in '1234567890,.!?-();:\"\"«»—_–#' and '.' not in w]\n",
        "    lemmas = [lemmatizer.lemmatize(t) for t in tokens]\n",
        "    return ' '.join([model.most_similar(l, topn=1)[0][0] for l in lemmas if l in model])"
      ],
      "execution_count": null,
      "outputs": []
    },
    {
      "cell_type": "code",
      "metadata": {
        "id": "xocK7uR8dXB7",
        "outputId": "57db7746-a3d7-4a97-9315-21dfdd225076",
        "colab": {
          "base_uri": "https://localhost:8080/",
          "height": 35
        }
      },
      "source": [
        "sent = 'My sister wants to go shopping.'\n",
        "\n",
        "augment_word2vec_eng(sent)"
      ],
      "execution_count": null,
      "outputs": [
        {
          "output_type": "execute_result",
          "data": {
            "application/vnd.google.colaboratory.intrinsic+json": {
              "type": "string"
            },
            "text/plain": [
              "'sibling wish a get mall'"
            ]
          },
          "metadata": {
            "tags": []
          },
          "execution_count": 31
        }
      ]
    },
    {
      "cell_type": "markdown",
      "metadata": {
        "id": "NH2ELzBvW0Hs"
      },
      "source": [
        "**Конструирование текстовых признаков**"
      ]
    },
    {
      "cell_type": "code",
      "metadata": {
        "id": "tGTgfYcJFVu7",
        "outputId": "9b534533-d88a-4635-fc12-2b559798d356",
        "colab": {
          "base_uri": "https://localhost:8080/"
        }
      },
      "source": [
        "nltk.download('stopwords')"
      ],
      "execution_count": 20,
      "outputs": [
        {
          "output_type": "stream",
          "text": [
            "[nltk_data] Downloading package stopwords to /root/nltk_data...\n",
            "[nltk_data]   Unzipping corpora/stopwords.zip.\n"
          ],
          "name": "stdout"
        },
        {
          "output_type": "execute_result",
          "data": {
            "text/plain": [
              "True"
            ]
          },
          "metadata": {
            "tags": []
          },
          "execution_count": 20
        }
      ]
    },
    {
      "cell_type": "code",
      "metadata": {
        "id": "S2PYrUuLB-QA"
      },
      "source": [
        "from nltk.corpus import stopwords"
      ],
      "execution_count": 21,
      "outputs": []
    },
    {
      "cell_type": "code",
      "metadata": {
        "id": "ZUTJKyPTX8dd"
      },
      "source": [
        "# возвращает количество стоп-слов в тексте -- предположим, что чем меньше стоп-слов в названиях текстов, тем больше они будут нравиться читателям\n",
        "stopWords = set(stopwords.words('english'))\n",
        "\n",
        "def stopwords(text):\n",
        "    return len([word for word in text.lower().split() if word in stopWords])\n",
        "\n",
        "# возвращает 1 или 0 в зависимости от того, есть ли в названии слова из списка специальных слов\n",
        "def special_vocab(text):\n",
        "    if 'technology' or 'data' or 'science' in text.lower().split():\n",
        "        return 1\n",
        "    else:\n",
        "        return 0\n",
        "\n",
        "# признак: длина названия статьи\n",
        "df['Title_len'] = df['Title'].apply(len)\n",
        "# признак: длина подзаголовка статьи\n",
        "df['Subtitle_len'] = df['Subtitle'].apply(len)\n",
        "# признак: количество токенов в названии статьи\n",
        "df['Title_len_tokens'] = df['Subtitle'].apply(lambda x: len(x.split()))\n",
        "# признак: количество токенов в подзаголовке статьи\n",
        "df['Subtitle_len_tokens'] = df['Subtitle'].apply(lambda x: len(x.split()))\n",
        "# признак: количество стоп-слов в названии статьи\n",
        "df['Title_len_stopwords'] = df['Title'].apply(stopwords)\n",
        "# признак: количество стоп-слов в подзаголовке статьи\n",
        "df['Subtitle_len_stopwords'] = df['Subtitle'].apply(stopwords)\n",
        "# признак: наличие/отсутствие слов technology, data, science в названии статьи (используется, если не применяется представление признаков через векторайзер)\n",
        "df['Title_spec_words'] = df['Title'].apply(special_vocab)\n",
        "# признак: наличие/отсутствие слов technology, data, science в подзаголовке статьи (используется, если не применяется представление признаков через векторайзер)\n",
        "df['Subtitle_spec_words'] = df['Subtitle'].apply(special_vocab)"
      ],
      "execution_count": null,
      "outputs": []
    },
    {
      "cell_type": "code",
      "metadata": {
        "id": "0wczaQ9U9NsJ",
        "outputId": "f84ec55c-7022-475e-df9a-18e9c9a1bd68",
        "colab": {
          "base_uri": "https://localhost:8080/",
          "height": 482
        }
      },
      "source": [
        "df.head()"
      ],
      "execution_count": null,
      "outputs": [
        {
          "output_type": "execute_result",
          "data": {
            "text/html": [
              "<div>\n",
              "<style scoped>\n",
              "    .dataframe tbody tr th:only-of-type {\n",
              "        vertical-align: middle;\n",
              "    }\n",
              "\n",
              "    .dataframe tbody tr th {\n",
              "        vertical-align: top;\n",
              "    }\n",
              "\n",
              "    .dataframe thead th {\n",
              "        text-align: right;\n",
              "    }\n",
              "</style>\n",
              "<table border=\"1\" class=\"dataframe\">\n",
              "  <thead>\n",
              "    <tr style=\"text-align: right;\">\n",
              "      <th></th>\n",
              "      <th>Title</th>\n",
              "      <th>Subtitle</th>\n",
              "      <th>Image</th>\n",
              "      <th>Author</th>\n",
              "      <th>Publication</th>\n",
              "      <th>Year</th>\n",
              "      <th>Month</th>\n",
              "      <th>Day</th>\n",
              "      <th>Reading_Time</th>\n",
              "      <th>Claps</th>\n",
              "      <th>url</th>\n",
              "      <th>Author_url</th>\n",
              "      <th>Title_len</th>\n",
              "      <th>Subtitle_len</th>\n",
              "      <th>Title_len_tokens</th>\n",
              "      <th>Subtitle_len_tokens</th>\n",
              "      <th>Title_len_stopwords</th>\n",
              "      <th>Subtitle_len_stopwords</th>\n",
              "      <th>Title_spec_words</th>\n",
              "      <th>Subtitle_spec_words</th>\n",
              "    </tr>\n",
              "  </thead>\n",
              "  <tbody>\n",
              "    <tr>\n",
              "      <th>3</th>\n",
              "      <td>The Value Generated through AI led Mindfulness</td>\n",
              "      <td>A true product co-created by the Millennials</td>\n",
              "      <td>1</td>\n",
              "      <td>Emiko Sawaguchi</td>\n",
              "      <td>MILLENNIALSTIMES</td>\n",
              "      <td>2017</td>\n",
              "      <td>8</td>\n",
              "      <td>1</td>\n",
              "      <td>5</td>\n",
              "      <td>4</td>\n",
              "      <td>https://millennials-times.com/creativeflower-e...</td>\n",
              "      <td>https://millennials-times.com/@emikosawaguchi</td>\n",
              "      <td>46</td>\n",
              "      <td>44</td>\n",
              "      <td>7</td>\n",
              "      <td>7</td>\n",
              "      <td>2</td>\n",
              "      <td>3</td>\n",
              "      <td>1</td>\n",
              "      <td>1</td>\n",
              "    </tr>\n",
              "    <tr>\n",
              "      <th>4</th>\n",
              "      <td>Os Melhores Links de JulhoCmeras Vintage, Goog...</td>\n",
              "      <td>mas pera a?</td>\n",
              "      <td>1</td>\n",
              "      <td>Giovani Ferreira</td>\n",
              "      <td>NEW ORDER</td>\n",
              "      <td>2017</td>\n",
              "      <td>8</td>\n",
              "      <td>1</td>\n",
              "      <td>3</td>\n",
              "      <td>56</td>\n",
              "      <td>https://medium.com/neworder/os-melhores-links-...</td>\n",
              "      <td>https://medium.com/@gferreira</td>\n",
              "      <td>71</td>\n",
              "      <td>11</td>\n",
              "      <td>3</td>\n",
              "      <td>3</td>\n",
              "      <td>0</td>\n",
              "      <td>0</td>\n",
              "      <td>1</td>\n",
              "      <td>1</td>\n",
              "    </tr>\n",
              "    <tr>\n",
              "      <th>5</th>\n",
              "      <td>The Future of AI: Redefining How We Imagine</td>\n",
              "      <td>Original article posted on FICO blogs</td>\n",
              "      <td>1</td>\n",
              "      <td>Syed Sadat Nazrul</td>\n",
              "      <td>Towards Data Science</td>\n",
              "      <td>2017</td>\n",
              "      <td>8</td>\n",
              "      <td>1</td>\n",
              "      <td>6</td>\n",
              "      <td>103</td>\n",
              "      <td>https://towardsdatascience.com/the-future-of-a...</td>\n",
              "      <td>https://towardsdatascience.com/@sadatnazrul</td>\n",
              "      <td>43</td>\n",
              "      <td>37</td>\n",
              "      <td>6</td>\n",
              "      <td>6</td>\n",
              "      <td>4</td>\n",
              "      <td>1</td>\n",
              "      <td>1</td>\n",
              "      <td>1</td>\n",
              "    </tr>\n",
              "    <tr>\n",
              "      <th>12</th>\n",
              "      <td>Serverless Prefabricated PaaS Accelerates Busi...</td>\n",
              "      <td>Serverless Computing accelerates time to</td>\n",
              "      <td>1</td>\n",
              "      <td>Hari Harikrishnan</td>\n",
              "      <td>The Cerebrus</td>\n",
              "      <td>2017</td>\n",
              "      <td>8</td>\n",
              "      <td>2</td>\n",
              "      <td>3</td>\n",
              "      <td>1</td>\n",
              "      <td>https://medium.com/cerebrus/from-rpc-to-server...</td>\n",
              "      <td>https://medium.com/@harikris</td>\n",
              "      <td>59</td>\n",
              "      <td>40</td>\n",
              "      <td>5</td>\n",
              "      <td>5</td>\n",
              "      <td>0</td>\n",
              "      <td>1</td>\n",
              "      <td>1</td>\n",
              "      <td>1</td>\n",
              "    </tr>\n",
              "    <tr>\n",
              "      <th>16</th>\n",
              "      <td>Chatbot2022630</td>\n",
              "      <td>Amie Chan 201781</td>\n",
              "      <td>0</td>\n",
              "      <td>Amie C.</td>\n",
              "      <td>Chatbots bible and More.</td>\n",
              "      <td>2017</td>\n",
              "      <td>8</td>\n",
              "      <td>2</td>\n",
              "      <td>1</td>\n",
              "      <td>2</td>\n",
              "      <td>https://medium.com/chatbots-bible-and-more/cha...</td>\n",
              "      <td>https://medium.com/@ameeee_c</td>\n",
              "      <td>14</td>\n",
              "      <td>17</td>\n",
              "      <td>3</td>\n",
              "      <td>3</td>\n",
              "      <td>0</td>\n",
              "      <td>0</td>\n",
              "      <td>1</td>\n",
              "      <td>1</td>\n",
              "    </tr>\n",
              "  </tbody>\n",
              "</table>\n",
              "</div>"
            ],
            "text/plain": [
              "                                                Title  ... Subtitle_spec_words\n",
              "3      The Value Generated through AI led Mindfulness  ...                   1\n",
              "4   Os Melhores Links de JulhoCmeras Vintage, Goog...  ...                   1\n",
              "5         The Future of AI: Redefining How We Imagine  ...                   1\n",
              "12  Serverless Prefabricated PaaS Accelerates Busi...  ...                   1\n",
              "16                                     Chatbot2022630  ...                   1\n",
              "\n",
              "[5 rows x 20 columns]"
            ]
          },
          "metadata": {
            "tags": []
          },
          "execution_count": 31
        }
      ]
    },
    {
      "cell_type": "markdown",
      "metadata": {
        "id": "sIImClk9W0wg"
      },
      "source": [
        "**Сравнение качества моделей, выбор наилучшей**\n",
        "\n"
      ]
    },
    {
      "cell_type": "code",
      "metadata": {
        "id": "hJCG6h3-MWvx"
      },
      "source": [
        "count_vect = CountVectorizer(max_features=100)\n",
        "\n",
        "def get_X(text):\n",
        "    data = count_vect.fit_transform(text)\n",
        "    return pd.DataFrame(data.todense(), columns=count_vect.get_feature_names(), index=df.index)"
      ],
      "execution_count": null,
      "outputs": []
    },
    {
      "cell_type": "code",
      "metadata": {
        "id": "B5OAEJp6Jwde"
      },
      "source": [
        "new_feat = df.drop(['Title', 'Subtitle', 'Author', 'Publication',\n",
        "                    'url', 'Author_url', 'Title_spec_words', 'Subtitle_spec_words'], axis=1)  # оставляем только признаки с числовыми значениями\n",
        "count_vect_df = get_X(df['Title'])"
      ],
      "execution_count": null,
      "outputs": []
    },
    {
      "cell_type": "code",
      "metadata": {
        "id": "UD-48CK7bMJg",
        "outputId": "d9048239-5e74-47cd-c46f-c7f8b5a0fe8a",
        "colab": {
          "base_uri": "https://localhost:8080/"
        }
      },
      "source": [
        "print(count_vect_df.shape, new_feat.shape)"
      ],
      "execution_count": null,
      "outputs": [
        {
          "output_type": "stream",
          "text": [
            "(18449, 100) (18449, 12)\n"
          ],
          "name": "stdout"
        }
      ]
    },
    {
      "cell_type": "code",
      "metadata": {
        "id": "axJ_1OgALy0H"
      },
      "source": [
        "X = pd.concat([new_feat, count_vect_df], axis=1)"
      ],
      "execution_count": null,
      "outputs": []
    },
    {
      "cell_type": "markdown",
      "metadata": {
        "id": "XGJ_nvMvfn28"
      },
      "source": [
        "Вариант 1: ridge vs. lasso на совмещенных признаках (векторизация + новые текстовые признаки)"
      ]
    },
    {
      "cell_type": "code",
      "metadata": {
        "id": "_YlT7ucrdRjM"
      },
      "source": [
        "X_train, X_test, y_train, y_test = train_test_split(X, df['Claps'], \n",
        "                                                    test_size=0.3, random_state=42)"
      ],
      "execution_count": null,
      "outputs": []
    },
    {
      "cell_type": "code",
      "metadata": {
        "id": "M6c41eEDelYu",
        "outputId": "cc5d1bdc-f408-422c-eb7e-f2c69bc98b1e",
        "colab": {
          "base_uri": "https://localhost:8080/"
        }
      },
      "source": [
        "reg = linear_model.Ridge()\n",
        "\n",
        "parameters = {'alpha' : [0.1, 1.0, 10.0],\n",
        "              'normalize' : [False, True],\n",
        "              'max_iter': [2, 10, 50, 1000]\n",
        "              }\n",
        "\n",
        "grid_search = GridSearchCV(reg, parameters, scoring='neg_root_mean_squared_error', cv=5)\n",
        "grid_search.fit(X_train, y_train)\n",
        "print('Best score: {}'.format(grid_search.best_score_))\n",
        "print('Best parameters: {}'.format(grid_search.best_params_))"
      ],
      "execution_count": null,
      "outputs": [
        {
          "output_type": "stream",
          "text": [
            "Best score: -1.3511133396267861e-08\n",
            "Best parameters: {'alpha': 0.1, 'max_iter': 2, 'normalize': False}\n"
          ],
          "name": "stdout"
        }
      ]
    },
    {
      "cell_type": "code",
      "metadata": {
        "id": "Xy8qWK9ueP4J",
        "outputId": "f4b965e1-6df9-476a-ac67-ae5f90bc1ada",
        "colab": {
          "base_uri": "https://localhost:8080/"
        }
      },
      "source": [
        "model = linear_model.Ridge(**grid_search.best_params_)\n",
        "model.fit(X_train, y_train)\n",
        "x_pred = model.predict(X_test)\n",
        "print('Negative RMSE: ', -np.sqrt(mean_squared_error(y_test, x_pred)))"
      ],
      "execution_count": null,
      "outputs": [
        {
          "output_type": "stream",
          "text": [
            "Negative RMSE:  -1.644004217214244e-08\n"
          ],
          "name": "stdout"
        }
      ]
    },
    {
      "cell_type": "code",
      "metadata": {
        "id": "jwcjSKzHgCtf",
        "outputId": "61382aa3-3c05-48cc-e7ed-7f5be26fd3af",
        "colab": {
          "base_uri": "https://localhost:8080/"
        }
      },
      "source": [
        "lasso = linear_model.Lasso()\n",
        "\n",
        "parameters = {'alpha' : [0.1, 1.0, 10.0],\n",
        "              'normalize' : [False, True],\n",
        "              'max_iter': [2, 10, 50, 1000]\n",
        "              }\n",
        "\n",
        "grid_search = GridSearchCV(lasso, parameters, scoring='neg_root_mean_squared_error', cv=5)\n",
        "grid_search.fit(X_train, y_train)\n",
        "print('Best score: {}'.format(grid_search.best_score_))\n",
        "print('Best parameters: {}'.format(grid_search.best_params_))"
      ],
      "execution_count": null,
      "outputs": [
        {
          "output_type": "stream",
          "text": [
            "Best score: -0.00014001632816862728\n",
            "Best parameters: {'alpha': 0.1, 'max_iter': 50, 'normalize': False}\n"
          ],
          "name": "stdout"
        }
      ]
    },
    {
      "cell_type": "code",
      "metadata": {
        "id": "r6xupPD0gehZ",
        "outputId": "1813693e-286f-49ef-e640-316b6052aade",
        "colab": {
          "base_uri": "https://localhost:8080/"
        }
      },
      "source": [
        "model = linear_model.Lasso(**grid_search.best_params_)\n",
        "model.fit(X_train, y_train)\n",
        "x_pred = model.predict(X_test)\n",
        "print('Negative RMSE: ', -np.sqrt(mean_squared_error(y_test, x_pred)))"
      ],
      "execution_count": null,
      "outputs": [
        {
          "output_type": "stream",
          "text": [
            "Negative RMSE:  -0.0002344501156045949\n"
          ],
          "name": "stdout"
        }
      ]
    },
    {
      "cell_type": "markdown",
      "metadata": {
        "id": "aRA_ya7ngsCA"
      },
      "source": [
        "Вариант 2: ridge vs. lasso только на новых признаках"
      ]
    },
    {
      "cell_type": "code",
      "metadata": {
        "id": "hpeDWtRlhBAJ"
      },
      "source": [
        "X_train, X_test, y_train, y_test = train_test_split(df.drop(['Title', 'Subtitle', \n",
        "                                                             'Author', 'Publication', 'url', \n",
        "                                                             'Author_url'], axis=1), df['Claps'], \n",
        "                                                    test_size=0.3, random_state=42)"
      ],
      "execution_count": null,
      "outputs": []
    },
    {
      "cell_type": "code",
      "metadata": {
        "id": "04LJRQz1iaBu",
        "outputId": "15f67a80-0aee-469c-ace2-f5c45a754e8e",
        "colab": {
          "base_uri": "https://localhost:8080/"
        }
      },
      "source": [
        "reg = linear_model.Ridge()\n",
        "\n",
        "parameters = {'alpha' : [0.1, 1.0, 10.0],\n",
        "              'normalize' : [False, True],\n",
        "              'max_iter': [2, 10, 50, 1000]\n",
        "              }\n",
        "\n",
        "grid_search = GridSearchCV(reg, parameters, scoring='neg_root_mean_squared_error', cv=5)\n",
        "grid_search.fit(X_train, y_train)\n",
        "print('Best score: {}'.format(grid_search.best_score_))\n",
        "print('Best parameters: {}'.format(grid_search.best_params_))"
      ],
      "execution_count": null,
      "outputs": [
        {
          "output_type": "stream",
          "text": [
            "Best score: -1.3280220246830944e-08\n",
            "Best parameters: {'alpha': 0.1, 'max_iter': 2, 'normalize': False}\n"
          ],
          "name": "stdout"
        }
      ]
    },
    {
      "cell_type": "code",
      "metadata": {
        "id": "MGbcPD8mifNW",
        "outputId": "87862ba6-2541-4bd0-c1d2-4684b3f9392c",
        "colab": {
          "base_uri": "https://localhost:8080/"
        }
      },
      "source": [
        "model = linear_model.Ridge(**grid_search.best_params_)\n",
        "model.fit(X_train, y_train)\n",
        "x_pred = model.predict(X_test)\n",
        "print('Negative RMSE: ', -np.sqrt(mean_squared_error(y_test, x_pred)))"
      ],
      "execution_count": null,
      "outputs": [
        {
          "output_type": "stream",
          "text": [
            "Negative RMSE:  -1.6150692429937167e-08\n"
          ],
          "name": "stdout"
        }
      ]
    },
    {
      "cell_type": "code",
      "metadata": {
        "id": "SGPrD31RirwS",
        "outputId": "a978ec74-b7f9-44cc-de65-bf0219bce2e1",
        "colab": {
          "base_uri": "https://localhost:8080/"
        }
      },
      "source": [
        "lasso = linear_model.Lasso()\n",
        "\n",
        "parameters = {'alpha' : [0.1, 1.0, 10.0],\n",
        "              'normalize' : [False, True],\n",
        "              'max_iter': [2, 10, 50, 1000]\n",
        "              }\n",
        "\n",
        "grid_search = GridSearchCV(lasso, parameters, scoring='neg_root_mean_squared_error', cv=5)\n",
        "grid_search.fit(X_train, y_train)\n",
        "print('Best score: {}'.format(grid_search.best_score_))\n",
        "print('Best parameters: {}'.format(grid_search.best_params_))"
      ],
      "execution_count": null,
      "outputs": [
        {
          "output_type": "stream",
          "text": [
            "Best score: -0.0001408507014286525\n",
            "Best parameters: {'alpha': 0.1, 'max_iter': 50, 'normalize': False}\n"
          ],
          "name": "stdout"
        }
      ]
    },
    {
      "cell_type": "code",
      "metadata": {
        "id": "9Ju1N6HZiuhT",
        "outputId": "7628c9b3-b0ed-42a7-8176-dd6d0e80ffb2",
        "colab": {
          "base_uri": "https://localhost:8080/"
        }
      },
      "source": [
        "model = linear_model.Lasso(**grid_search.best_params_)\n",
        "model.fit(X_train, y_train)\n",
        "x_pred = model.predict(X_test)\n",
        "print('Negative RMSE: ', -np.sqrt(mean_squared_error(y_test, x_pred)))"
      ],
      "execution_count": null,
      "outputs": [
        {
          "output_type": "stream",
          "text": [
            "Negative RMSE:  -0.00020515811165598417\n"
          ],
          "name": "stdout"
        }
      ]
    },
    {
      "cell_type": "markdown",
      "metadata": {
        "id": "YHRjhCMJgsM3"
      },
      "source": [
        "Вариант 3: ridge vs. lasso только на векторном представлении"
      ]
    },
    {
      "cell_type": "code",
      "metadata": {
        "id": "Ha_9Bp88itgi"
      },
      "source": [
        "X_train, X_test, y_train, y_test = train_test_split(count_vect_df, df['Claps'], \n",
        "                                                    test_size=0.3, random_state=42)"
      ],
      "execution_count": null,
      "outputs": []
    },
    {
      "cell_type": "code",
      "metadata": {
        "id": "V1eNaJ3qj12H",
        "outputId": "20e7e2bc-34b0-4de5-bc8d-eb92cdc0769e",
        "colab": {
          "base_uri": "https://localhost:8080/"
        }
      },
      "source": [
        "reg = linear_model.Ridge()\n",
        "\n",
        "parameters = {'alpha' : [0.1, 1.0, 10.0],\n",
        "              'normalize' : [False, True],\n",
        "              'max_iter': [2, 10, 50, 1000]\n",
        "              }\n",
        "\n",
        "grid_search = GridSearchCV(reg, parameters, scoring='neg_root_mean_squared_error', cv=5)\n",
        "grid_search.fit(X_train, y_train)\n",
        "print('Best score: {}'.format(grid_search.best_score_))\n",
        "print('Best parameters: {}'.format(grid_search.best_params_))"
      ],
      "execution_count": null,
      "outputs": [
        {
          "output_type": "stream",
          "text": [
            "Best score: -729.7953289929471\n",
            "Best parameters: {'alpha': 1.0, 'max_iter': 2, 'normalize': True}\n"
          ],
          "name": "stdout"
        }
      ]
    },
    {
      "cell_type": "code",
      "metadata": {
        "id": "ia29Mrbmj1_V",
        "outputId": "2b9c81c3-a1c5-4350-873d-1324a75d915e",
        "colab": {
          "base_uri": "https://localhost:8080/"
        }
      },
      "source": [
        "model = linear_model.Ridge(**grid_search.best_params_)\n",
        "model.fit(X_train, y_train)\n",
        "x_pred = model.predict(X_test)\n",
        "print('Negative RMSE: ', -np.sqrt(mean_squared_error(y_test, x_pred)))"
      ],
      "execution_count": null,
      "outputs": [
        {
          "output_type": "stream",
          "text": [
            "Negative RMSE:  -1120.1273020551419\n"
          ],
          "name": "stdout"
        }
      ]
    },
    {
      "cell_type": "code",
      "metadata": {
        "id": "siOZxHIUj2Rm",
        "outputId": "661bd6bc-8268-4794-9253-a9d41cd688d6",
        "colab": {
          "base_uri": "https://localhost:8080/"
        }
      },
      "source": [
        "lasso = linear_model.Lasso()\n",
        "\n",
        "parameters = {'alpha' : [0.1, 1.0, 10.0],\n",
        "              'normalize' : [False, True],\n",
        "              'max_iter': [2, 10, 50, 1000]\n",
        "              }\n",
        "\n",
        "grid_search = GridSearchCV(lasso, parameters, scoring='neg_root_mean_squared_error', cv=5)\n",
        "grid_search.fit(X_train, y_train)\n",
        "print('Best score: {}'.format(grid_search.best_score_))\n",
        "print('Best parameters: {}'.format(grid_search.best_params_))"
      ],
      "execution_count": null,
      "outputs": [
        {
          "output_type": "stream",
          "text": [
            "Best score: -730.4770286695235\n",
            "Best parameters: {'alpha': 1.0, 'max_iter': 10, 'normalize': False}\n"
          ],
          "name": "stdout"
        }
      ]
    },
    {
      "cell_type": "code",
      "metadata": {
        "id": "N8yF2Z2Jj2hl",
        "outputId": "7e10679f-0cf9-47d7-ec4e-749eb4eaa547",
        "colab": {
          "base_uri": "https://localhost:8080/"
        }
      },
      "source": [
        "model = linear_model.Lasso(**grid_search.best_params_)\n",
        "model.fit(X_train, y_train)\n",
        "x_pred = model.predict(X_test)\n",
        "print('Negative RMSE: ', -np.sqrt(mean_squared_error(y_test, x_pred)))"
      ],
      "execution_count": null,
      "outputs": [
        {
          "output_type": "stream",
          "text": [
            "Negative RMSE:  -1120.7519587411796\n"
          ],
          "name": "stdout"
        }
      ]
    },
    {
      "cell_type": "markdown",
      "metadata": {
        "id": "CR1OCjt_kPGt"
      },
      "source": [
        "Наилучшее качество показывает модель Lasso на новых текстовых признаках (длина названия, количество токенов, количество стоп-слов, наличие специальных слов)"
      ]
    },
    {
      "cell_type": "markdown",
      "metadata": {
        "id": "WLx0kPNjrOWb"
      },
      "source": [
        "**Анализ ошибок**"
      ]
    },
    {
      "cell_type": "markdown",
      "metadata": {
        "id": "6rXTu3BwwL4l"
      },
      "source": [
        "При сравнении моделей в качестве признака векторизации использовался CountVectorizer с максимальной длиной вектора = 100 (это было сделано, потому что во время конкатенации более длинных векторов названий статей с новыми текстовыми признаками оперативная память исчерпывалась). Вероятно, в последнем варианте сравнения моделей получается такой высокий показатель ошибки из-за этого (при поиске наилучших параметров и важных признаков с Ridge использовался более длинный вектор, и ошибка была меньше).\n"
      ]
    },
    {
      "cell_type": "markdown",
      "metadata": {
        "id": "JfMzupfKspSr"
      },
      "source": [
        "# Блок 3: Paraphrase Detection"
      ]
    },
    {
      "cell_type": "code",
      "metadata": {
        "id": "HYXgkHRhsqNz",
        "outputId": "bda214e7-a52b-4b96-fdba-6724b776fef6",
        "colab": {
          "base_uri": "https://localhost:8080/"
        }
      },
      "source": [
        "from google.colab import drive\n",
        "drive.mount('gdrive')"
      ],
      "execution_count": 1,
      "outputs": [
        {
          "output_type": "stream",
          "text": [
            "Mounted at gdrive\n"
          ],
          "name": "stdout"
        }
      ]
    },
    {
      "cell_type": "code",
      "metadata": {
        "id": "2ajNBkxazgVA",
        "outputId": "b68f5654-5cd3-4718-fa9b-bd14c97162ae",
        "colab": {
          "base_uri": "https://localhost:8080/"
        }
      },
      "source": [
        "%cd /content/gdrive/My Drive/paraphraser"
      ],
      "execution_count": 2,
      "outputs": [
        {
          "output_type": "stream",
          "text": [
            "/content/gdrive/My Drive/paraphraser\n"
          ],
          "name": "stdout"
        }
      ]
    },
    {
      "cell_type": "code",
      "metadata": {
        "id": "VzeU0hSOzn6t",
        "outputId": "78d06250-52f0-4499-a312-69a3288e39e0",
        "colab": {
          "base_uri": "https://localhost:8080/"
        }
      },
      "source": [
        "!ls"
      ],
      "execution_count": 3,
      "outputs": [
        {
          "output_type": "stream",
          "text": [
            "araneum_none_fasttextcbow_300_5_2018.model\n",
            "araneum_none_fasttextcbow_300_5_2018.model.vectors_ngrams.npy\n",
            "araneum_none_fasttextcbow_300_5_2018.model.vectors.npy\n",
            "araneum_none_fasttextcbow_300_5_2018.model.vectors_vocab.npy\n",
            "araneum_none_fasttextcbow_300_5_2018.tgz\n",
            "para.csv\n",
            "paraphrases.tsv\n"
          ],
          "name": "stdout"
        }
      ]
    },
    {
      "cell_type": "code",
      "metadata": {
        "id": "JdnnoP1yz5ut",
        "outputId": "6c00fea4-e93b-43b5-e52a-95fa22e6efb3",
        "colab": {
          "base_uri": "https://localhost:8080/",
          "height": 202
        }
      },
      "source": [
        "para = pd.read_csv('paraphrases.tsv', sep='\\t')\n",
        "para.head()"
      ],
      "execution_count": 5,
      "outputs": [
        {
          "output_type": "execute_result",
          "data": {
            "text/html": [
              "<div>\n",
              "<style scoped>\n",
              "    .dataframe tbody tr th:only-of-type {\n",
              "        vertical-align: middle;\n",
              "    }\n",
              "\n",
              "    .dataframe tbody tr th {\n",
              "        vertical-align: top;\n",
              "    }\n",
              "\n",
              "    .dataframe thead th {\n",
              "        text-align: right;\n",
              "    }\n",
              "</style>\n",
              "<table border=\"1\" class=\"dataframe\">\n",
              "  <thead>\n",
              "    <tr style=\"text-align: right;\">\n",
              "      <th></th>\n",
              "      <th>text_1</th>\n",
              "      <th>text_2</th>\n",
              "      <th>class</th>\n",
              "    </tr>\n",
              "  </thead>\n",
              "  <tbody>\n",
              "    <tr>\n",
              "      <th>0</th>\n",
              "      <td>Совет юстиции Бразилии легализовал однополые б...</td>\n",
              "      <td>Совет юстиции Бразилии разрешил однополые браки.</td>\n",
              "      <td>1</td>\n",
              "    </tr>\n",
              "    <tr>\n",
              "      <th>1</th>\n",
              "      <td>\"Магнит\" поручится перед \"Абсолют Банком\" за к...</td>\n",
              "      <td>Выпуск сигарет в России упал из-за антитабачно...</td>\n",
              "      <td>-1</td>\n",
              "    </tr>\n",
              "    <tr>\n",
              "      <th>2</th>\n",
              "      <td>ЕС призвал США не бомбить Сирию до публикации ...</td>\n",
              "      <td>Евросоюз призвал США дождаться доклада ООН по ...</td>\n",
              "      <td>-1</td>\n",
              "    </tr>\n",
              "    <tr>\n",
              "      <th>3</th>\n",
              "      <td>Депо Московского метрополитена впервые перейде...</td>\n",
              "      <td>Частной компании впервые отдадут депо в москов...</td>\n",
              "      <td>1</td>\n",
              "    </tr>\n",
              "    <tr>\n",
              "      <th>4</th>\n",
              "      <td>Два человека погибли в столкновениях между кур...</td>\n",
              "      <td>Один человек погиб при столкновении судов у бе...</td>\n",
              "      <td>-1</td>\n",
              "    </tr>\n",
              "  </tbody>\n",
              "</table>\n",
              "</div>"
            ],
            "text/plain": [
              "                                              text_1  ... class\n",
              "0  Совет юстиции Бразилии легализовал однополые б...  ...     1\n",
              "1  \"Магнит\" поручится перед \"Абсолют Банком\" за к...  ...    -1\n",
              "2  ЕС призвал США не бомбить Сирию до публикации ...  ...    -1\n",
              "3  Депо Московского метрополитена впервые перейде...  ...     1\n",
              "4  Два человека погибли в столкновениях между кур...  ...    -1\n",
              "\n",
              "[5 rows x 3 columns]"
            ]
          },
          "metadata": {
            "tags": []
          },
          "execution_count": 5
        }
      ]
    },
    {
      "cell_type": "markdown",
      "metadata": {
        "id": "CPwV5kBb11KK"
      },
      "source": [
        "**Эксплоративный анализ данных**"
      ]
    },
    {
      "cell_type": "code",
      "metadata": {
        "id": "vPZvHDls0RVf",
        "outputId": "afd7ebe0-7805-476b-d2b1-21b9f5268987",
        "colab": {
          "base_uri": "https://localhost:8080/"
        }
      },
      "source": [
        "para.shape"
      ],
      "execution_count": 6,
      "outputs": [
        {
          "output_type": "execute_result",
          "data": {
            "text/plain": [
              "(8540, 3)"
            ]
          },
          "metadata": {
            "tags": []
          },
          "execution_count": 6
        }
      ]
    },
    {
      "cell_type": "code",
      "metadata": {
        "id": "0h2aDF3g2Amj",
        "outputId": "c65aff19-6ad1-4daa-ba08-f27848ccb8f9",
        "colab": {
          "base_uri": "https://localhost:8080/"
        }
      },
      "source": [
        "duplicate_rows_df = para[para.duplicated()]\n",
        "print('количество дублирующихся рядов: ', duplicate_rows_df.shape)"
      ],
      "execution_count": 7,
      "outputs": [
        {
          "output_type": "stream",
          "text": [
            "количество дублирующихся рядов:  (4283, 3)\n"
          ],
          "name": "stdout"
        }
      ]
    },
    {
      "cell_type": "code",
      "metadata": {
        "id": "rnAEeaoE2MMR",
        "outputId": "454133f6-5b73-44c6-a99b-928db46a838e",
        "colab": {
          "base_uri": "https://localhost:8080/"
        }
      },
      "source": [
        "# до удаления рядов с нулевыми значениями\n",
        "para.count()"
      ],
      "execution_count": 8,
      "outputs": [
        {
          "output_type": "execute_result",
          "data": {
            "text/plain": [
              "text_1    8540\n",
              "text_2    8540\n",
              "class     8540\n",
              "dtype: int64"
            ]
          },
          "metadata": {
            "tags": []
          },
          "execution_count": 8
        }
      ]
    },
    {
      "cell_type": "code",
      "metadata": {
        "id": "r2MeZqmc2VNI",
        "outputId": "5e4de202-8cb2-4485-f39d-c9bba29a264e",
        "colab": {
          "base_uri": "https://localhost:8080/"
        }
      },
      "source": [
        "print(para.isnull().sum())"
      ],
      "execution_count": 9,
      "outputs": [
        {
          "output_type": "stream",
          "text": [
            "text_1    0\n",
            "text_2    0\n",
            "class     0\n",
            "dtype: int64\n"
          ],
          "name": "stdout"
        }
      ]
    },
    {
      "cell_type": "code",
      "metadata": {
        "id": "f5yRYWsW2bYM",
        "outputId": "110ffe8c-1a7e-4911-c8db-2a3668929d53",
        "colab": {
          "base_uri": "https://localhost:8080/"
        }
      },
      "source": [
        "para.info()"
      ],
      "execution_count": 10,
      "outputs": [
        {
          "output_type": "stream",
          "text": [
            "<class 'pandas.core.frame.DataFrame'>\n",
            "RangeIndex: 8540 entries, 0 to 8539\n",
            "Data columns (total 3 columns):\n",
            " #   Column  Non-Null Count  Dtype \n",
            "---  ------  --------------  ----- \n",
            " 0   text_1  8540 non-null   object\n",
            " 1   text_2  8540 non-null   object\n",
            " 2   class   8540 non-null   int64 \n",
            "dtypes: int64(1), object(2)\n",
            "memory usage: 200.3+ KB\n"
          ],
          "name": "stdout"
        }
      ]
    },
    {
      "cell_type": "code",
      "metadata": {
        "id": "_3-AYZyZ2jTF",
        "outputId": "cb113bb2-f74f-49af-f4a6-95d6d218c5e1",
        "colab": {
          "base_uri": "https://localhost:8080/"
        }
      },
      "source": [
        "para['class'].value_counts(normalize=True)"
      ],
      "execution_count": 11,
      "outputs": [
        {
          "output_type": "execute_result",
          "data": {
            "text/plain": [
              "-1    0.604684\n",
              " 1    0.395316\n",
              "Name: class, dtype: float64"
            ]
          },
          "metadata": {
            "tags": []
          },
          "execution_count": 11
        }
      ]
    },
    {
      "cell_type": "code",
      "metadata": {
        "id": "-0SQG2Vt3Q9t",
        "outputId": "861417a0-7a49-4fa2-d7d5-13e9c4af0fcf",
        "colab": {
          "base_uri": "https://localhost:8080/"
        }
      },
      "source": [
        "len(para['text_1'].unique()) / para.shape[0]"
      ],
      "execution_count": 12,
      "outputs": [
        {
          "output_type": "execute_result",
          "data": {
            "text/plain": [
              "0.4436768149882904"
            ]
          },
          "metadata": {
            "tags": []
          },
          "execution_count": 12
        }
      ]
    },
    {
      "cell_type": "code",
      "metadata": {
        "id": "MThnW9oi3meP",
        "outputId": "484aff73-f57c-444e-fa00-a1dad2993f37",
        "colab": {
          "base_uri": "https://localhost:8080/"
        }
      },
      "source": [
        "para = para.drop_duplicates(subset=['text_1'])\n",
        "len(para['text_1'].unique()) / para.shape[0]"
      ],
      "execution_count": 13,
      "outputs": [
        {
          "output_type": "execute_result",
          "data": {
            "text/plain": [
              "1.0"
            ]
          },
          "metadata": {
            "tags": []
          },
          "execution_count": 13
        }
      ]
    },
    {
      "cell_type": "code",
      "metadata": {
        "id": "KpbFHnx03qI0",
        "outputId": "0cd7ed4a-908b-41f5-8030-29010af0822e",
        "colab": {
          "base_uri": "https://localhost:8080/"
        }
      },
      "source": [
        "len(para['text_2'].unique()) / para.shape[0]"
      ],
      "execution_count": 14,
      "outputs": [
        {
          "output_type": "execute_result",
          "data": {
            "text/plain": [
              "0.8722618105040908"
            ]
          },
          "metadata": {
            "tags": []
          },
          "execution_count": 14
        }
      ]
    },
    {
      "cell_type": "code",
      "metadata": {
        "id": "MF1K0KZS3sFW",
        "outputId": "b27977bf-62a4-45a5-b3f8-54eac3c0285e",
        "colab": {
          "base_uri": "https://localhost:8080/"
        }
      },
      "source": [
        "para = para.drop_duplicates(subset=['text_2'])\n",
        "len(para['text_2'].unique()) / para.shape[0]"
      ],
      "execution_count": 15,
      "outputs": [
        {
          "output_type": "execute_result",
          "data": {
            "text/plain": [
              "1.0"
            ]
          },
          "metadata": {
            "tags": []
          },
          "execution_count": 15
        }
      ]
    },
    {
      "cell_type": "code",
      "metadata": {
        "id": "RPKdd9xi3vkI",
        "outputId": "6d4d834d-39cd-4add-fb9d-0c34a79f9138",
        "colab": {
          "base_uri": "https://localhost:8080/"
        }
      },
      "source": [
        "para.shape"
      ],
      "execution_count": 16,
      "outputs": [
        {
          "output_type": "execute_result",
          "data": {
            "text/plain": [
              "(3305, 3)"
            ]
          },
          "metadata": {
            "tags": []
          },
          "execution_count": 16
        }
      ]
    },
    {
      "cell_type": "code",
      "metadata": {
        "id": "J-S3xldD3wrj",
        "outputId": "97916cc4-6db1-4c1f-91df-81bb235a94f4",
        "colab": {
          "base_uri": "https://localhost:8080/",
          "height": 387
        }
      },
      "source": [
        "import matplotlib.pyplot as plt\n",
        "import seaborn as sns\n",
        "sns.set(style=\"whitegrid\")\n",
        "\n",
        "fig = plt.figure(figsize=(10, 6))\n",
        "ax = fig.add_subplot(122)\n",
        "\n",
        "column_values = list(para['class'].unique())\n",
        "\n",
        "para.groupby('class').size().sort_values(ascending=False).plot(\n",
        "        kind='pie', title='class', ax=ax, autopct='%.2f%%', labels=None, colors=['r', 'g']\n",
        "    )\n",
        "ax.legend(column_values)\n",
        "ax.axis(\"off\")\n",
        "\n",
        "fig.tight_layout()"
      ],
      "execution_count": 17,
      "outputs": [
        {
          "output_type": "display_data",
          "data": {
            "image/png": "[encoded data removed]",
            "text/plain": [
              "<Figure size 720x432 with 1 Axes>"
            ]
          },
          "metadata": {
            "tags": []
          }
        }
      ]
    },
    {
      "cell_type": "markdown",
      "metadata": {
        "id": "8JD0gEg24tYE"
      },
      "source": [
        "**Поиск гиперпараметров, минимизация переобучения**"
      ]
    },
    {
      "cell_type": "code",
      "metadata": {
        "id": "9Nq_L-e34jga"
      },
      "source": [
        "from sklearn.model_selection import train_test_split, GridSearchCV\n",
        "from sklearn import linear_model"
      ],
      "execution_count": null,
      "outputs": []
    },
    {
      "cell_type": "code",
      "metadata": {
        "id": "SqJtculK5_l5",
        "outputId": "f99afab5-bf21-493b-8def-932cfcb4d115",
        "colab": {
          "base_uri": "https://localhost:8080/",
          "height": 202
        }
      },
      "source": [
        "para.head()"
      ],
      "execution_count": null,
      "outputs": [
        {
          "output_type": "execute_result",
          "data": {
            "text/html": [
              "<div>\n",
              "<style scoped>\n",
              "    .dataframe tbody tr th:only-of-type {\n",
              "        vertical-align: middle;\n",
              "    }\n",
              "\n",
              "    .dataframe tbody tr th {\n",
              "        vertical-align: top;\n",
              "    }\n",
              "\n",
              "    .dataframe thead th {\n",
              "        text-align: right;\n",
              "    }\n",
              "</style>\n",
              "<table border=\"1\" class=\"dataframe\">\n",
              "  <thead>\n",
              "    <tr style=\"text-align: right;\">\n",
              "      <th></th>\n",
              "      <th>text_1</th>\n",
              "      <th>text_2</th>\n",
              "      <th>class</th>\n",
              "    </tr>\n",
              "  </thead>\n",
              "  <tbody>\n",
              "    <tr>\n",
              "      <th>0</th>\n",
              "      <td>Совет юстиции Бразилии легализовал однополые б...</td>\n",
              "      <td>Совет юстиции Бразилии разрешил однополые браки.</td>\n",
              "      <td>1</td>\n",
              "    </tr>\n",
              "    <tr>\n",
              "      <th>1</th>\n",
              "      <td>\"Магнит\" поручится перед \"Абсолют Банком\" за к...</td>\n",
              "      <td>Выпуск сигарет в России упал из-за антитабачно...</td>\n",
              "      <td>-1</td>\n",
              "    </tr>\n",
              "    <tr>\n",
              "      <th>2</th>\n",
              "      <td>ЕС призвал США не бомбить Сирию до публикации ...</td>\n",
              "      <td>Евросоюз призвал США дождаться доклада ООН по ...</td>\n",
              "      <td>-1</td>\n",
              "    </tr>\n",
              "    <tr>\n",
              "      <th>3</th>\n",
              "      <td>Депо Московского метрополитена впервые перейде...</td>\n",
              "      <td>Частной компании впервые отдадут депо в москов...</td>\n",
              "      <td>1</td>\n",
              "    </tr>\n",
              "    <tr>\n",
              "      <th>4</th>\n",
              "      <td>Два человека погибли в столкновениях между кур...</td>\n",
              "      <td>Один человек погиб при столкновении судов у бе...</td>\n",
              "      <td>-1</td>\n",
              "    </tr>\n",
              "  </tbody>\n",
              "</table>\n",
              "</div>"
            ],
            "text/plain": [
              "                                              text_1  ... class\n",
              "0  Совет юстиции Бразилии легализовал однополые б...  ...     1\n",
              "1  \"Магнит\" поручится перед \"Абсолют Банком\" за к...  ...    -1\n",
              "2  ЕС призвал США не бомбить Сирию до публикации ...  ...    -1\n",
              "3  Депо Московского метрополитена впервые перейде...  ...     1\n",
              "4  Два человека погибли в столкновениях между кур...  ...    -1\n",
              "\n",
              "[5 rows x 3 columns]"
            ]
          },
          "metadata": {
            "tags": []
          },
          "execution_count": 22
        }
      ]
    },
    {
      "cell_type": "code",
      "metadata": {
        "id": "BQLCySwGGw7y"
      },
      "source": [
        "from sklearn.feature_extraction.text import TfidfVectorizer\n",
        "tfidf_vect = TfidfVectorizer(max_df=100, min_df=5)"
      ],
      "execution_count": null,
      "outputs": []
    },
    {
      "cell_type": "code",
      "metadata": {
        "id": "Bu8ltS1nG-lw"
      },
      "source": [
        "text_1 = tfidf_vect.fit_transform(para.text_1)\n",
        "text_2 = tfidf_vect.transform(para.text_2)"
      ],
      "execution_count": null,
      "outputs": []
    },
    {
      "cell_type": "code",
      "metadata": {
        "id": "1N0pYiOZIbQ-"
      },
      "source": [
        "df1 = pd.DataFrame(text_1.toarray(), columns=tfidf_vect.get_feature_names())\n",
        "df2 = pd.DataFrame(text_2.toarray(), columns=tfidf_vect.get_feature_names())"
      ],
      "execution_count": null,
      "outputs": []
    },
    {
      "cell_type": "code",
      "metadata": {
        "id": "JyNQWu-1HaNY"
      },
      "source": [
        "X = pd.concat([df1, df2], axis=1)"
      ],
      "execution_count": null,
      "outputs": []
    },
    {
      "cell_type": "code",
      "metadata": {
        "id": "gvjoz-yiJFnH",
        "outputId": "4c6c57cc-39c1-4cf5-b9e2-14dad64dbff4",
        "colab": {
          "base_uri": "https://localhost:8080/"
        }
      },
      "source": [
        "X.shape"
      ],
      "execution_count": null,
      "outputs": [
        {
          "output_type": "execute_result",
          "data": {
            "text/plain": [
              "(3789, 2032)"
            ]
          },
          "metadata": {
            "tags": []
          },
          "execution_count": 27
        }
      ]
    },
    {
      "cell_type": "code",
      "metadata": {
        "id": "JDXR98Gy5It7",
        "outputId": "ffd55cc5-b0d9-4996-c56c-1b2230f648ce",
        "colab": {
          "base_uri": "https://localhost:8080/"
        }
      },
      "source": [
        "y = para['class']\n",
        "y.shape"
      ],
      "execution_count": null,
      "outputs": [
        {
          "output_type": "execute_result",
          "data": {
            "text/plain": [
              "(3789,)"
            ]
          },
          "metadata": {
            "tags": []
          },
          "execution_count": 28
        }
      ]
    },
    {
      "cell_type": "code",
      "metadata": {
        "id": "s2jfWwiV6kbd"
      },
      "source": [
        "X_train, X_test, y_train, y_test = train_test_split(X, y, test_size=0.3, random_state=42)"
      ],
      "execution_count": null,
      "outputs": []
    },
    {
      "cell_type": "code",
      "metadata": {
        "id": "1RUZs1oY7ASS",
        "outputId": "b0e5309c-25b0-457b-8a86-7bee36caaf7e",
        "colab": {
          "base_uri": "https://localhost:8080/"
        }
      },
      "source": [
        "clf = linear_model.LogisticRegression()\n",
        "\n",
        "parameters = {'class_weight' : ['balanced'], # баланс классов\n",
        "                  'penalty' : ['l2', 'l1'],  # для минимизации переобучения\n",
        "                  'solver' : ['liblinear', 'saga'],\n",
        "                  'C' : [0.001, 0.01, 0.1, 1.0],\n",
        "                  'max_iter': [2, 10, 50]\n",
        "                 }\n",
        "\n",
        "grid_search = GridSearchCV(clf, param_grid=parameters, cv=5, n_jobs=-1, scoring='accuracy')\n",
        "grid_search.fit(X_train, y_train)\n",
        "print('Best score: {}'.format(grid_search.best_score_))\n",
        "print('Best parameters: {}'.format(grid_search.best_params_))"
      ],
      "execution_count": null,
      "outputs": [
        {
          "output_type": "stream",
          "text": [
            "Best score: 0.6278435134847031\n",
            "Best parameters: {'C': 1.0, 'class_weight': None, 'max_iter': 10, 'penalty': 'l2', 'solver': 'saga'}\n"
          ],
          "name": "stdout"
        },
        {
          "output_type": "stream",
          "text": [
            "/usr/local/lib/python3.6/dist-packages/sklearn/linear_model/_sag.py:330: ConvergenceWarning: The max_iter was reached which means the coef_ did not converge\n",
            "  \"the coef_ did not converge\", ConvergenceWarning)\n"
          ],
          "name": "stderr"
        }
      ]
    },
    {
      "cell_type": "markdown",
      "metadata": {
        "id": "dJ8hLgyCHdCu"
      },
      "source": [
        "**Сравнение качества моделей, выбор наилучшей**"
      ]
    },
    {
      "cell_type": "code",
      "metadata": {
        "id": "bYPyZK7e7APU",
        "outputId": "d719cdc3-1aba-49b9-b6b4-30f041a3d71f",
        "colab": {
          "base_uri": "https://localhost:8080/"
        }
      },
      "source": [
        "from sklearn.metrics import accuracy_score, f1_score, precision_score, recall_score"
      ],
      "execution_count": null,
      "outputs": [
        {
          "output_type": "stream",
          "text": [
            "(2652, 2032) (1137, 2032) (2652,) (1137,)\n"
          ],
          "name": "stdout"
        }
      ]
    },
    {
      "cell_type": "code",
      "metadata": {
        "id": "Lp8Xy4sKBgFU"
      },
      "source": [
        "true = pd.to_numeric(y_test)"
      ],
      "execution_count": null,
      "outputs": []
    },
    {
      "cell_type": "code",
      "metadata": {
        "id": "QEZ0QRn6Hdp8",
        "outputId": "256e174d-118c-4bae-cdab-996ad301a5cf",
        "colab": {
          "base_uri": "https://localhost:8080/"
        }
      },
      "source": [
        "from sklearn.tree import DecisionTreeClassifier\n",
        "dtc = DecisionTreeClassifier()\n",
        "\n",
        "parameter_grid = {'class_weight' : ['balanced'], # баланс классов\n",
        "                  'splitter' : ['best', 'random'],\n",
        "                  'max_depth' : [2, 10, 25, 100]}\n",
        "\n",
        "grid_search = GridSearchCV(dtc, param_grid=parameter_grid, cv=5, scoring='accuracy', n_jobs=-1)\n",
        "grid_search.fit(X_train, y_train)\n",
        "dtc = DecisionTreeClassifier(**grid_search.best_params_)\n",
        "dtc.fit(X_train, y_train)\n",
        "predicted = dtc.predict(X_test)\n",
        "\n",
        "acc = accuracy_score(true, predicted)\n",
        "f1 = f1_score(true, predicted)\n",
        "p = precision_score(true, predicted)\n",
        "r = recall_score(true, predicted)\n",
        "print('acc={0:1.4f}'.format(acc))\n",
        "print('F1={0:1.4f}, Precision={1:1.4f}, Recall={2:1.4f}'.format(f1, p, r))"
      ],
      "execution_count": null,
      "outputs": [
        {
          "output_type": "stream",
          "text": [
            "acc=0.5602\n",
            "F1=0.6177, Precision=0.4897, Recall=0.8364\n"
          ],
          "name": "stdout"
        }
      ]
    },
    {
      "cell_type": "code",
      "metadata": {
        "id": "mbt30jXW7lrV",
        "outputId": "00617f59-fc9d-4a88-fa0a-e7a35a2937f4",
        "colab": {
          "base_uri": "https://localhost:8080/"
        }
      },
      "source": [
        "clf = linear_model.LogisticRegression()\n",
        "\n",
        "parameters = {'class_weight' : ['balanced'],\n",
        "                  'penalty' : ['l2', 'l1'],  # для минимизации переобучения\n",
        "                  'solver' : ['liblinear', 'saga'],\n",
        "                  'C' : [0.001, 0.01, 0.1, 1.0],\n",
        "                  'max_iter': [2, 10, 50]\n",
        "                 }\n",
        "\n",
        "grid_search = GridSearchCV(clf, param_grid=parameters, cv=5, n_jobs=-1, scoring='accuracy')\n",
        "grid_search.fit(X_train, y_train)\n",
        "\n",
        "clf = linear_model.LogisticRegression(**grid_search.best_params_)\n",
        "clf.fit(X_train, y_train)\n",
        "predicted = clf.predict(X_test)\n",
        "\n",
        "acc = accuracy_score(true, predicted)\n",
        "f1 = f1_score(true, predicted)\n",
        "p = precision_score(true, predicted)\n",
        "r = recall_score(true, predicted)\n",
        "print('acc={0:1.4f}'.format(acc))\n",
        "print('F1={0:1.4f}, Precision={1:1.4f}, Recall={2:1.4f}'.format(f1, p, r))"
      ],
      "execution_count": null,
      "outputs": [
        {
          "output_type": "stream",
          "text": [
            "acc=0.6297\n",
            "F1=0.5979, Precision=0.5550, Recall=0.6480\n"
          ],
          "name": "stdout"
        },
        {
          "output_type": "stream",
          "text": [
            "/usr/local/lib/python3.6/dist-packages/sklearn/svm/_base.py:947: ConvergenceWarning: Liblinear failed to converge, increase the number of iterations.\n",
            "  \"the number of iterations.\", ConvergenceWarning)\n",
            "/usr/local/lib/python3.6/dist-packages/sklearn/svm/_base.py:947: ConvergenceWarning: Liblinear failed to converge, increase the number of iterations.\n",
            "  \"the number of iterations.\", ConvergenceWarning)\n"
          ],
          "name": "stderr"
        }
      ]
    },
    {
      "cell_type": "code",
      "metadata": {
        "id": "HdsdjHO-9j_q",
        "outputId": "5c8b4f45-0f18-4b82-a4de-fc5d67bcb3af",
        "colab": {
          "base_uri": "https://localhost:8080/"
        }
      },
      "source": [
        "from sklearn.ensemble import RandomForestClassifier\n",
        "rfc = RandomForestClassifier()\n",
        "\n",
        "parameters = {'class_weight' : ['balanced', 'balanced_subsample'],\n",
        "                  'n_estimators' : [10, 100, 150],  \n",
        "                  'max_depth' : [None, 1.0, 10.0],\n",
        "                  'max_samples': [2, 10, 50, None]\n",
        "                 }\n",
        "\n",
        "grid_search = GridSearchCV(rfc, param_grid=parameters, cv=5, n_jobs=-1, scoring='accuracy')\n",
        "grid_search.fit(X_train, y_train)\n",
        "\n",
        "rfc = RandomForestClassifier(**grid_search.best_params_)\n",
        "rfc.fit(X_train, y_train)\n",
        "predicted = rfc.predict(X_test)\n",
        "\n",
        "acc = accuracy_score(true, predicted)\n",
        "f1 = f1_score(true, predicted)\n",
        "p = precision_score(true, predicted)\n",
        "r = recall_score(true, predicted)\n",
        "print('acc={0:1.4f}'.format(acc))\n",
        "print('F1={0:1.4f}, Precision={1:1.4f}, Recall={2:1.4f}'.format(f1, p, r))"
      ],
      "execution_count": null,
      "outputs": [
        {
          "output_type": "stream",
          "text": [
            "acc=0.6297\n",
            "F1=0.5794, Precision=0.5598, Recall=0.6004\n"
          ],
          "name": "stdout"
        }
      ]
    },
    {
      "cell_type": "markdown",
      "metadata": {
        "id": "0BLmjQDFcf9I"
      },
      "source": [
        "Модели LogisticRegression, DecisionTreeClassifier, RandonForestClassifier с подобранными по gridsearch наилучшими параметрами показывают примерно одинаковое качество на данных без аугментации"
      ]
    },
    {
      "cell_type": "markdown",
      "metadata": {
        "id": "lddohogAaJyo"
      },
      "source": [
        "**Аугментация данных**"
      ]
    },
    {
      "cell_type": "code",
      "metadata": {
        "id": "AkJHkxFnb9fW",
        "outputId": "ded90a3f-8c87-4404-c619-09a8f1be6727",
        "colab": {
          "base_uri": "https://localhost:8080/",
          "height": 67,
          "referenced_widgets": [
            "29be688f8ae54d018178d2e562c67102",
            "a739c87a73404fbe9777b82ebf98a980",
            "6fdd77bdd4b140bc80fa27bc313bd4b7",
            "f4dd1cda17fc4ce2af5267054af53f92",
            "650aab695dfe43cc921f538c27b6e127",
            "0c1fc4929e3c400daed9791dce3eb12c",
            "049f3b4e181e4a338ccd4713c3220543",
            "4877f20aa1a34ac588148b0335792668"
          ]
        }
      },
      "source": [
        "from tqdm._tqdm_notebook import tqdm_notebook\n",
        "tqdm_notebook.pandas('PROGRESS>>>')\n",
        "augment_text_1 = para['text_1'].progress_apply(augment_word2vec)"
      ],
      "execution_count": null,
      "outputs": [
        {
          "output_type": "display_data",
          "data": {
            "application/vnd.jupyter.widget-view+json": {
              "model_id": "29be688f8ae54d018178d2e562c67102",
              "version_minor": 0,
              "version_major": 2
            },
            "text/plain": [
              "HBox(children=(FloatProgress(value=0.0, max=3789.0), HTML(value='')))"
            ]
          },
          "metadata": {
            "tags": []
          }
        },
        {
          "output_type": "stream",
          "text": [
            "\n"
          ],
          "name": "stdout"
        }
      ]
    },
    {
      "cell_type": "code",
      "metadata": {
        "id": "wjUOPdkDzmq7",
        "outputId": "125e0bb4-05f1-4b8c-bde7-23e7697b5fde",
        "colab": {
          "base_uri": "https://localhost:8080/",
          "height": 67,
          "referenced_widgets": [
            "6f90ffdabde84854a9871e27b703e265",
            "1a5ce15e787a43ae97f269a03a66c22c",
            "256363fe69db4c2bb062422707ff120d",
            "123e53366ce945869ffe8488bf9d209a",
            "6decb10daac340898451e037650cf1d7",
            "dccb3241b9614281a182da5febe9492c",
            "9fa652353fa54c4db86210aa17fe1a9d",
            "b98e06420974493dba9fb004922c588d"
          ]
        }
      },
      "source": [
        "augment_text_2 = para['text_2'].progress_apply(augment_word2vec)"
      ],
      "execution_count": null,
      "outputs": [
        {
          "output_type": "display_data",
          "data": {
            "application/vnd.jupyter.widget-view+json": {
              "model_id": "6f90ffdabde84854a9871e27b703e265",
              "version_minor": 0,
              "version_major": 2
            },
            "text/plain": [
              "HBox(children=(FloatProgress(value=0.0, max=3789.0), HTML(value='')))"
            ]
          },
          "metadata": {
            "tags": []
          }
        },
        {
          "output_type": "stream",
          "text": [
            "\n"
          ],
          "name": "stdout"
        }
      ]
    },
    {
      "cell_type": "code",
      "metadata": {
        "id": "bY5zvZvWz5KK"
      },
      "source": [
        "augment_df = pd.DataFrame({'augmet_text_1': augment_text_1, \n",
        "                           'augmet_text_2': augment_text_2})"
      ],
      "execution_count": null,
      "outputs": []
    },
    {
      "cell_type": "code",
      "metadata": {
        "id": "x2M1pWCGBDh3"
      },
      "source": [
        "augment_df['class'] = para['class']"
      ],
      "execution_count": null,
      "outputs": []
    },
    {
      "cell_type": "code",
      "metadata": {
        "id": "kLvxbXpHhl1d",
        "outputId": "da5146c4-f2ba-449a-c030-bf3883f1fed9",
        "colab": {
          "base_uri": "https://localhost:8080/",
          "height": 202
        }
      },
      "source": [
        "augment_df.head()"
      ],
      "execution_count": null,
      "outputs": [
        {
          "output_type": "execute_result",
          "data": {
            "text/html": [
              "<div>\n",
              "<style scoped>\n",
              "    .dataframe tbody tr th:only-of-type {\n",
              "        vertical-align: middle;\n",
              "    }\n",
              "\n",
              "    .dataframe tbody tr th {\n",
              "        vertical-align: top;\n",
              "    }\n",
              "\n",
              "    .dataframe thead th {\n",
              "        text-align: right;\n",
              "    }\n",
              "</style>\n",
              "<table border=\"1\" class=\"dataframe\">\n",
              "  <thead>\n",
              "    <tr style=\"text-align: right;\">\n",
              "      <th></th>\n",
              "      <th>augmet_text_1</th>\n",
              "      <th>augmet_text_2</th>\n",
              "      <th>class</th>\n",
              "    </tr>\n",
              "  </thead>\n",
              "  <tbody>\n",
              "    <tr>\n",
              "      <th>0</th>\n",
              "      <td>набсовет юстициар аргентина легализовывать раз...</td>\n",
              "      <td>набсовет юстициар аргентина разрешитель разноп...</td>\n",
              "      <td>1</td>\n",
              "    </tr>\n",
              "    <tr>\n",
              "      <th>1</th>\n",
              "      <td>фишмагнит поручаться пережа абсолютизм имэксба...</td>\n",
              "      <td>спецвыпуск сигаретка by россиия падать изза ан...</td>\n",
              "      <td>-1</td>\n",
              "    </tr>\n",
              "    <tr>\n",
              "      <th>2</th>\n",
              "      <td>евросоюз призва великобритания неї разбомбить ...</td>\n",
              "      <td>ес призва великобритания дожидаться содоклад м...</td>\n",
              "      <td>-1</td>\n",
              "    </tr>\n",
              "    <tr>\n",
              "      <th>3</th>\n",
              "      <td>электродепо немосковский метрополитан впервый ...</td>\n",
              "      <td>нечастный омпания впервый кайфовать электродеп...</td>\n",
              "      <td>1</td>\n",
              "    </tr>\n",
              "    <tr>\n",
              "      <th>4</th>\n",
              "      <td>дван постчеловек погиб by боестолкновение межд...</td>\n",
              "      <td>оди постчеловек погиб прив боестолкновение кор...</td>\n",
              "      <td>-1</td>\n",
              "    </tr>\n",
              "  </tbody>\n",
              "</table>\n",
              "</div>"
            ],
            "text/plain": [
              "                                       augmet_text_1  ... class\n",
              "0  набсовет юстициар аргентина легализовывать раз...  ...     1\n",
              "1  фишмагнит поручаться пережа абсолютизм имэксба...  ...    -1\n",
              "2  евросоюз призва великобритания неї разбомбить ...  ...    -1\n",
              "3  электродепо немосковский метрополитан впервый ...  ...     1\n",
              "4  дван постчеловек погиб by боестолкновение межд...  ...    -1\n",
              "\n",
              "[5 rows x 3 columns]"
            ]
          },
          "metadata": {
            "tags": []
          },
          "execution_count": 119
        }
      ]
    },
    {
      "cell_type": "markdown",
      "metadata": {
        "id": "r5BnxvWcaQEu"
      },
      "source": [
        "**Конструирование текстовых признаков**"
      ]
    },
    {
      "cell_type": "code",
      "metadata": {
        "id": "qyQL-vewNgkg"
      },
      "source": [
        "import razdel\n",
        "from razdel import sentenize\n",
        "from spacy.lang.ru import Russian\n",
        "from spacy_russian_tokenizer import RussianTokenizer, MERGE_PATTERNS\n",
        "import pymorphy2\n",
        "from pymorphy2 import MorphAnalyzer"
      ],
      "execution_count": 30,
      "outputs": []
    },
    {
      "cell_type": "code",
      "metadata": {
        "id": "WfOVWXNtRXMC"
      },
      "source": [
        "from nltk.corpus import stopwords"
      ],
      "execution_count": 36,
      "outputs": []
    },
    {
      "cell_type": "code",
      "metadata": {
        "id": "4fajcbcCiOSP"
      },
      "source": [
        "stopWords = stopwords.words('russian')\n",
        "\n",
        "def stopwords_num(text):\n",
        "    return len([word for word in text.lower().split() if word in stopWords])\n",
        "\n",
        "def len_sent(text):\n",
        "    num_sent = [len(s.text.split()) for s in sentenize(text)]\n",
        "    return sum(num_sent)/len(num_sent)\n",
        "\n",
        "def intersection(text_1, text_2):\n",
        "    return len(set(text_tokenize(text_1).split() + text_tokenize(text_2).split()))\n",
        "\n",
        "def num_token(text):\n",
        "    nlp = Russian()\n",
        "    doc = nlp(text)\n",
        "    russian_tokenizer = RussianTokenizer(nlp, MERGE_PATTERNS)\n",
        "    nlp.add_pipe(russian_tokenizer, name='russian_tokenizer')\n",
        "    doc = nlp(text)\n",
        "    token_text = ' '.join([token.text for token in doc if token.text not in ',.!?-();:\"\"«»—_–#' and '.' not in token.text])\n",
        "    return len(token_text.split())\n",
        "\n",
        "def text_tokenize(text):\n",
        "    nlp = Russian()\n",
        "    doc = nlp(text)\n",
        "    russian_tokenizer = RussianTokenizer(nlp, MERGE_PATTERNS)\n",
        "    nlp.add_pipe(russian_tokenizer, name='russian_tokenizer')\n",
        "    doc = nlp(text)\n",
        "    return ' '.join([token.text for token in doc if token.text not in ',.!?-();:\"\"«»—_–#' and '.' not in token.text])"
      ],
      "execution_count": 93,
      "outputs": []
    },
    {
      "cell_type": "code",
      "metadata": {
        "id": "vp8QdiXKUqJX"
      },
      "source": [
        "inters = []\n",
        "for i, row in para.iterrows():\n",
        "    inters.append(intersection(row['text_1'], row['text_2']))"
      ],
      "execution_count": 61,
      "outputs": []
    },
    {
      "cell_type": "code",
      "metadata": {
        "id": "Wjmnc5fKUob3",
        "outputId": "a132319e-39d6-4f3e-f946-ea28db06b139",
        "colab": {
          "base_uri": "https://localhost:8080/",
          "height": 569
        }
      },
      "source": [
        "# количество пересекающихся слов в тексте 1 и тексте 2\n",
        "para['Intersection_words'] = inters\n",
        "# длина текста в символах\n",
        "para['Text_1_len'] = para['text_1'].apply(len)\n",
        "para['Text_2_len'] = para['text_2'].apply(len)\n",
        "# средняя длина предложения (в словах)\n",
        "para['Text_1_len_sent'] = para['text_1'].apply(len_sent)\n",
        "para['Text_2_len_sent'] = para['text_2'].apply(len_sent)\n",
        "# количество стоп-слов\n",
        "para['Text_1_stopwords'] = para['text_1'].apply(stopwords_num)\n",
        "para['Text_2_stopwords'] = para['text_2'].apply(stopwords_num)\n",
        "# количество токенов\n",
        "para['Text_1_tokens'] = para['text_1'].apply(num_token)\n",
        "para['Text_2_tokens'] = para['text_2'].apply(num_token)\n",
        "para.head()"
      ],
      "execution_count": 97,
      "outputs": [
        {
          "output_type": "execute_result",
          "data": {
            "text/html": [
              "<div>\n",
              "<style scoped>\n",
              "    .dataframe tbody tr th:only-of-type {\n",
              "        vertical-align: middle;\n",
              "    }\n",
              "\n",
              "    .dataframe tbody tr th {\n",
              "        vertical-align: top;\n",
              "    }\n",
              "\n",
              "    .dataframe thead th {\n",
              "        text-align: right;\n",
              "    }\n",
              "</style>\n",
              "<table border=\"1\" class=\"dataframe\">\n",
              "  <thead>\n",
              "    <tr style=\"text-align: right;\">\n",
              "      <th></th>\n",
              "      <th>text_1</th>\n",
              "      <th>text_2</th>\n",
              "      <th>class</th>\n",
              "      <th>Intersection_words</th>\n",
              "      <th>Text_1_len</th>\n",
              "      <th>Text_2_len</th>\n",
              "      <th>Text_1_len_sent</th>\n",
              "      <th>Text_2_len_sent</th>\n",
              "      <th>Text_1_stopwords</th>\n",
              "      <th>Text_2_stopwords</th>\n",
              "      <th>Text_1_tokens</th>\n",
              "      <th>Text_2_tokens</th>\n",
              "    </tr>\n",
              "  </thead>\n",
              "  <tbody>\n",
              "    <tr>\n",
              "      <th>0</th>\n",
              "      <td>Совет юстиции Бразилии легализовал однополые б...</td>\n",
              "      <td>Совет юстиции Бразилии разрешил однополые браки.</td>\n",
              "      <td>1</td>\n",
              "      <td>7</td>\n",
              "      <td>51</td>\n",
              "      <td>48</td>\n",
              "      <td>6.0</td>\n",
              "      <td>6.0</td>\n",
              "      <td>0</td>\n",
              "      <td>0</td>\n",
              "      <td>6</td>\n",
              "      <td>6</td>\n",
              "    </tr>\n",
              "    <tr>\n",
              "      <th>1</th>\n",
              "      <td>\"Магнит\" поручится перед \"Абсолют Банком\" за к...</td>\n",
              "      <td>Выпуск сигарет в России упал из-за антитабачно...</td>\n",
              "      <td>-1</td>\n",
              "      <td>19</td>\n",
              "      <td>68</td>\n",
              "      <td>56</td>\n",
              "      <td>11.0</td>\n",
              "      <td>8.0</td>\n",
              "      <td>3</td>\n",
              "      <td>1</td>\n",
              "      <td>11</td>\n",
              "      <td>8</td>\n",
              "    </tr>\n",
              "    <tr>\n",
              "      <th>2</th>\n",
              "      <td>ЕС призвал США не бомбить Сирию до публикации ...</td>\n",
              "      <td>Евросоюз призвал США дождаться доклада ООН по ...</td>\n",
              "      <td>-1</td>\n",
              "      <td>14</td>\n",
              "      <td>58</td>\n",
              "      <td>52</td>\n",
              "      <td>10.0</td>\n",
              "      <td>8.0</td>\n",
              "      <td>2</td>\n",
              "      <td>1</td>\n",
              "      <td>10</td>\n",
              "      <td>8</td>\n",
              "    </tr>\n",
              "    <tr>\n",
              "      <th>3</th>\n",
              "      <td>Депо Московского метрополитена впервые перейде...</td>\n",
              "      <td>Частной компании впервые отдадут депо в москов...</td>\n",
              "      <td>1</td>\n",
              "      <td>14</td>\n",
              "      <td>63</td>\n",
              "      <td>57</td>\n",
              "      <td>8.0</td>\n",
              "      <td>8.0</td>\n",
              "      <td>1</td>\n",
              "      <td>1</td>\n",
              "      <td>8</td>\n",
              "      <td>8</td>\n",
              "    </tr>\n",
              "    <tr>\n",
              "      <th>4</th>\n",
              "      <td>Два человека погибли в столкновениях между кур...</td>\n",
              "      <td>Один человек погиб при столкновении судов у бе...</td>\n",
              "      <td>-1</td>\n",
              "      <td>17</td>\n",
              "      <td>59</td>\n",
              "      <td>58</td>\n",
              "      <td>9.0</td>\n",
              "      <td>9.0</td>\n",
              "      <td>4</td>\n",
              "      <td>3</td>\n",
              "      <td>9</td>\n",
              "      <td>9</td>\n",
              "    </tr>\n",
              "  </tbody>\n",
              "</table>\n",
              "</div>"
            ],
            "text/plain": [
              "                                              text_1  ... Text_2_tokens\n",
              "0  Совет юстиции Бразилии легализовал однополые б...  ...             6\n",
              "1  \"Магнит\" поручится перед \"Абсолют Банком\" за к...  ...             8\n",
              "2  ЕС призвал США не бомбить Сирию до публикации ...  ...             8\n",
              "3  Депо Московского метрополитена впервые перейде...  ...             8\n",
              "4  Два человека погибли в столкновениях между кур...  ...             9\n",
              "\n",
              "[5 rows x 12 columns]"
            ]
          },
          "metadata": {
            "tags": []
          },
          "execution_count": 97
        }
      ]
    },
    {
      "cell_type": "markdown",
      "metadata": {
        "id": "SttYHKqveiSP"
      },
      "source": [
        "Так как для решения задачи детекции парафраз важны оба текста, можно применить какие-либо вычисления или сравнения к приведенным выше текстовым признакам (которые выделены для каждого текста), например, разность длин текстов, одинаковое ли количество стоп-слов в текстах и т.д."
      ]
    },
    {
      "cell_type": "markdown",
      "metadata": {
        "id": "-C1I9ipIaSLH"
      },
      "source": [
        "**Анализ ошибок**"
      ]
    },
    {
      "cell_type": "markdown",
      "metadata": {
        "id": "CKwAOXTZdEyN"
      },
      "source": [
        "Метрики качества при классификации парафраз показывают не очень высокие результаты на всех выбранных моделях ([в статье](http://www.dialog-21.ru/media/3928/loukachevitchnvetal.pdf) они выше: acc=74-77, f-measure=80-81 для бинарной классификации). Это может быть связано с тем, что вместо текстовых признаков строк, частей речи и тезауруса был использован только признак тф-идф векторизация. Для доработки и уменьшения ошибок можно попробовать использовать новые текстовые признаки, кросс-валидацию и другие модели (GradientBoosting, SVM) "
      ]
    }
  ]
}
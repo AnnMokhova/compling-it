{
  "nbformat": 4,
  "nbformat_minor": 0,
  "metadata": {
    "colab": {
      "name": "hw6_compling.ipynb",
      "provenance": [],
      "collapsed_sections": [],
      "authorship_tag": "ABX9TyO2i58xG2uwi3X8xgRElRyF"
    },
    "kernelspec": {
      "name": "python3",
      "display_name": "Python 3"
    }
  },
  "cells": [
    {
      "cell_type": "code",
      "metadata": {
        "colab": {
          "base_uri": "https://localhost:8080/"
        },
        "id": "QEiZnQF0gfsa",
        "outputId": "a3609bf9-bc06-42cd-c44d-2cbd7a3a03a9"
      },
      "source": [
        "!wget https://www.dropbox.com/s/r6u59ljhhjdg6j0/negative.csv"
      ],
      "execution_count": 1,
      "outputs": [
        {
          "output_type": "stream",
          "text": [
            "--2021-02-07 13:53:13--  https://www.dropbox.com/s/r6u59ljhhjdg6j0/negative.csv\n",
            "Resolving www.dropbox.com (www.dropbox.com)... 162.125.5.18, 2620:100:601d:18::a27d:512\n",
            "Connecting to www.dropbox.com (www.dropbox.com)|162.125.5.18|:443... connected.\n",
            "HTTP request sent, awaiting response... 301 Moved Permanently\n",
            "Location: /s/raw/r6u59ljhhjdg6j0/negative.csv [following]\n",
            "--2021-02-07 13:53:13--  https://www.dropbox.com/s/raw/r6u59ljhhjdg6j0/negative.csv\n",
            "Reusing existing connection to www.dropbox.com:443.\n",
            "HTTP request sent, awaiting response... 302 Found\n",
            "Location: https://uc7792e3a658c661806a2ac30c26.dl.dropboxusercontent.com/cd/0/inline/BIeBMyzU847ZcEShIoJdBMxYuL2Q_6eBg14akmphFjKNPS2HcgsPzhzauPwoovMK5hliJdaZfUE8JP4K7rqt1l2Mp0pPyzyUbAnEKnDgS3jI4g/file# [following]\n",
            "--2021-02-07 13:53:14--  https://uc7792e3a658c661806a2ac30c26.dl.dropboxusercontent.com/cd/0/inline/BIeBMyzU847ZcEShIoJdBMxYuL2Q_6eBg14akmphFjKNPS2HcgsPzhzauPwoovMK5hliJdaZfUE8JP4K7rqt1l2Mp0pPyzyUbAnEKnDgS3jI4g/file\n",
            "Resolving uc7792e3a658c661806a2ac30c26.dl.dropboxusercontent.com (uc7792e3a658c661806a2ac30c26.dl.dropboxusercontent.com)... 162.125.5.15, 2620:100:601d:15::a27d:50f\n",
            "Connecting to uc7792e3a658c661806a2ac30c26.dl.dropboxusercontent.com (uc7792e3a658c661806a2ac30c26.dl.dropboxusercontent.com)|162.125.5.15|:443... connected.\n",
            "HTTP request sent, awaiting response... 200 OK\n",
            "Length: 24450101 (23M) [text/plain]\n",
            "Saving to: ‘negative.csv’\n",
            "\n",
            "negative.csv        100%[===================>]  23.32M  46.5MB/s    in 0.5s    \n",
            "\n",
            "2021-02-07 13:53:15 (46.5 MB/s) - ‘negative.csv’ saved [24450101/24450101]\n",
            "\n"
          ],
          "name": "stdout"
        }
      ]
    },
    {
      "cell_type": "code",
      "metadata": {
        "colab": {
          "base_uri": "https://localhost:8080/"
        },
        "id": "6z2crWzmgngq",
        "outputId": "f5ed95ba-166c-4681-c0fc-d5f077a45e61"
      },
      "source": [
        "!wget https://www.dropbox.com/s/fnpq3z4bcnoktiv/positive.csv "
      ],
      "execution_count": 2,
      "outputs": [
        {
          "output_type": "stream",
          "text": [
            "--2021-02-07 13:53:15--  https://www.dropbox.com/s/fnpq3z4bcnoktiv/positive.csv\n",
            "Resolving www.dropbox.com (www.dropbox.com)... 162.125.5.18, 2620:100:601d:18::a27d:512\n",
            "Connecting to www.dropbox.com (www.dropbox.com)|162.125.5.18|:443... connected.\n",
            "HTTP request sent, awaiting response... 301 Moved Permanently\n",
            "Location: /s/raw/fnpq3z4bcnoktiv/positive.csv [following]\n",
            "--2021-02-07 13:53:15--  https://www.dropbox.com/s/raw/fnpq3z4bcnoktiv/positive.csv\n",
            "Reusing existing connection to www.dropbox.com:443.\n",
            "HTTP request sent, awaiting response... 302 Found\n",
            "Location: https://uc748f2ad7f816738b46efbb2ad3.dl.dropboxusercontent.com/cd/0/inline/BIdWc3Z6gICDGwKvLZNzK20fwi7ph-R7mQF-BHQwblrlsqhFBOdJiGrQisSvWLKTjAti8J98wN2k1mXlf_TGxMcodf-nhwpiUiLETb6Xje1pIA/file# [following]\n",
            "--2021-02-07 13:53:16--  https://uc748f2ad7f816738b46efbb2ad3.dl.dropboxusercontent.com/cd/0/inline/BIdWc3Z6gICDGwKvLZNzK20fwi7ph-R7mQF-BHQwblrlsqhFBOdJiGrQisSvWLKTjAti8J98wN2k1mXlf_TGxMcodf-nhwpiUiLETb6Xje1pIA/file\n",
            "Resolving uc748f2ad7f816738b46efbb2ad3.dl.dropboxusercontent.com (uc748f2ad7f816738b46efbb2ad3.dl.dropboxusercontent.com)... 162.125.5.15, 2620:100:601d:15::a27d:50f\n",
            "Connecting to uc748f2ad7f816738b46efbb2ad3.dl.dropboxusercontent.com (uc748f2ad7f816738b46efbb2ad3.dl.dropboxusercontent.com)|162.125.5.15|:443... connected.\n",
            "HTTP request sent, awaiting response... 200 OK\n",
            "Length: 26233379 (25M) [text/plain]\n",
            "Saving to: ‘positive.csv’\n",
            "\n",
            "positive.csv        100%[===================>]  25.02M  48.6MB/s    in 0.5s    \n",
            "\n",
            "2021-02-07 13:53:17 (48.6 MB/s) - ‘positive.csv’ saved [26233379/26233379]\n",
            "\n"
          ],
          "name": "stdout"
        }
      ]
    },
    {
      "cell_type": "code",
      "metadata": {
        "colab": {
          "base_uri": "https://localhost:8080/"
        },
        "id": "rzFf94QrIFcB",
        "outputId": "4906c6b5-f620-48ae-b01d-50dd6a927df9"
      },
      "source": [
        "pip install gensim==3.7.3"
      ],
      "execution_count": 3,
      "outputs": [
        {
          "output_type": "stream",
          "text": [
            "Collecting gensim==3.7.3\n",
            "\u001b[?25l  Downloading https://files.pythonhosted.org/packages/d3/4b/19eecdf07d614665fa889857dc56ac965631c7bd816c3476d2f0cac6ea3b/gensim-3.7.3-cp36-cp36m-manylinux1_x86_64.whl (24.2MB)\n",
            "\u001b[K     |████████████████████████████████| 24.2MB 1.3MB/s \n",
            "\u001b[?25hRequirement already satisfied: six>=1.5.0 in /usr/local/lib/python3.6/dist-packages (from gensim==3.7.3) (1.15.0)\n",
            "Requirement already satisfied: numpy>=1.11.3 in /usr/local/lib/python3.6/dist-packages (from gensim==3.7.3) (1.19.5)\n",
            "Requirement already satisfied: smart-open>=1.7.0 in /usr/local/lib/python3.6/dist-packages (from gensim==3.7.3) (4.1.2)\n",
            "Requirement already satisfied: scipy>=0.18.1 in /usr/local/lib/python3.6/dist-packages (from gensim==3.7.3) (1.4.1)\n",
            "Installing collected packages: gensim\n",
            "  Found existing installation: gensim 3.6.0\n",
            "    Uninstalling gensim-3.6.0:\n",
            "      Successfully uninstalled gensim-3.6.0\n",
            "Successfully installed gensim-3.7.3\n"
          ],
          "name": "stdout"
        }
      ]
    },
    {
      "cell_type": "code",
      "metadata": {
        "id": "l8fywd_gnJok"
      },
      "source": [
        "import re\r\n",
        "import pandas as pd\r\n",
        "import numpy as np\r\n",
        "from sklearn.model_selection import train_test_split\r\n",
        "from collections import Counter\r\n",
        "from gensim.models import KeyedVectors, FastText\r\n",
        "from tensorflow.keras.preprocessing.sequence import pad_sequences\r\n",
        "from tensorflow.keras.utils import to_categorical\r\n",
        "from tensorflow.keras.models import Model\r\n",
        "from tensorflow.keras.layers import Dense, Activation, Dropout, LSTM, Bidirectional, TimeDistributed, Conv1D, concatenate, SpatialDropout1D, Flatten\r\n",
        "from tensorflow.keras.layers import Embedding, Input\r\n",
        "from tensorflow.keras import optimizers\r\n",
        "from tensorflow.keras.metrics import Accuracy, Recall, Precision"
      ],
      "execution_count": 2,
      "outputs": []
    },
    {
      "cell_type": "code",
      "metadata": {
        "id": "dLQP1jOvILRm"
      },
      "source": [
        "colnames = ['id', 'date', 'name', 'text', 'type', 'rep', 'retweet', 'fav',  \r\n",
        "            'stcount', 'foll', 'friends', 'listcount']"
      ],
      "execution_count": 3,
      "outputs": []
    },
    {
      "cell_type": "code",
      "metadata": {
        "id": "wN8amdwEgtW1"
      },
      "source": [
        "positive = pd.read_csv('positive.csv', sep=';', names=colnames)"
      ],
      "execution_count": 4,
      "outputs": []
    },
    {
      "cell_type": "code",
      "metadata": {
        "id": "qMsJp-lJs7xW"
      },
      "source": [
        "negative = pd.read_csv('negative.csv', sep=';', names=colnames)"
      ],
      "execution_count": 5,
      "outputs": []
    },
    {
      "cell_type": "code",
      "metadata": {
        "colab": {
          "base_uri": "https://localhost:8080/",
          "height": 271
        },
        "id": "LImZnpxYs76s",
        "outputId": "36dbada0-b78e-47a3-a608-ee8971935377"
      },
      "source": [
        "negative.head()"
      ],
      "execution_count": 6,
      "outputs": [
        {
          "output_type": "execute_result",
          "data": {
            "text/html": [
              "<div>\n",
              "<style scoped>\n",
              "    .dataframe tbody tr th:only-of-type {\n",
              "        vertical-align: middle;\n",
              "    }\n",
              "\n",
              "    .dataframe tbody tr th {\n",
              "        vertical-align: top;\n",
              "    }\n",
              "\n",
              "    .dataframe thead th {\n",
              "        text-align: right;\n",
              "    }\n",
              "</style>\n",
              "<table border=\"1\" class=\"dataframe\">\n",
              "  <thead>\n",
              "    <tr style=\"text-align: right;\">\n",
              "      <th></th>\n",
              "      <th>id</th>\n",
              "      <th>date</th>\n",
              "      <th>name</th>\n",
              "      <th>text</th>\n",
              "      <th>type</th>\n",
              "      <th>rep</th>\n",
              "      <th>retweet</th>\n",
              "      <th>fav</th>\n",
              "      <th>stcount</th>\n",
              "      <th>foll</th>\n",
              "      <th>friends</th>\n",
              "      <th>listcount</th>\n",
              "    </tr>\n",
              "  </thead>\n",
              "  <tbody>\n",
              "    <tr>\n",
              "      <th>0</th>\n",
              "      <td>408906762813579264</td>\n",
              "      <td>1386325944</td>\n",
              "      <td>dugarchikbellko</td>\n",
              "      <td>на работе был полный пиддес :| и так каждое за...</td>\n",
              "      <td>-1</td>\n",
              "      <td>0</td>\n",
              "      <td>0</td>\n",
              "      <td>0</td>\n",
              "      <td>8064</td>\n",
              "      <td>111</td>\n",
              "      <td>94</td>\n",
              "      <td>2</td>\n",
              "    </tr>\n",
              "    <tr>\n",
              "      <th>1</th>\n",
              "      <td>408906818262687744</td>\n",
              "      <td>1386325957</td>\n",
              "      <td>nugemycejela</td>\n",
              "      <td>Коллеги сидят рубятся в Urban terror, а я из-з...</td>\n",
              "      <td>-1</td>\n",
              "      <td>0</td>\n",
              "      <td>0</td>\n",
              "      <td>0</td>\n",
              "      <td>26</td>\n",
              "      <td>42</td>\n",
              "      <td>39</td>\n",
              "      <td>0</td>\n",
              "    </tr>\n",
              "    <tr>\n",
              "      <th>2</th>\n",
              "      <td>408906858515398656</td>\n",
              "      <td>1386325966</td>\n",
              "      <td>4post21</td>\n",
              "      <td>@elina_4post как говорят обещаного три года жд...</td>\n",
              "      <td>-1</td>\n",
              "      <td>0</td>\n",
              "      <td>0</td>\n",
              "      <td>0</td>\n",
              "      <td>718</td>\n",
              "      <td>49</td>\n",
              "      <td>249</td>\n",
              "      <td>0</td>\n",
              "    </tr>\n",
              "    <tr>\n",
              "      <th>3</th>\n",
              "      <td>408906914437685248</td>\n",
              "      <td>1386325980</td>\n",
              "      <td>Poliwake</td>\n",
              "      <td>Желаю хорошего полёта и удачной посадки,я буду...</td>\n",
              "      <td>-1</td>\n",
              "      <td>0</td>\n",
              "      <td>0</td>\n",
              "      <td>0</td>\n",
              "      <td>10628</td>\n",
              "      <td>207</td>\n",
              "      <td>200</td>\n",
              "      <td>0</td>\n",
              "    </tr>\n",
              "    <tr>\n",
              "      <th>4</th>\n",
              "      <td>408906914723295232</td>\n",
              "      <td>1386325980</td>\n",
              "      <td>capyvixowe</td>\n",
              "      <td>Обновил за каким-то лешим surf, теперь не рабо...</td>\n",
              "      <td>-1</td>\n",
              "      <td>0</td>\n",
              "      <td>0</td>\n",
              "      <td>0</td>\n",
              "      <td>35</td>\n",
              "      <td>17</td>\n",
              "      <td>34</td>\n",
              "      <td>0</td>\n",
              "    </tr>\n",
              "  </tbody>\n",
              "</table>\n",
              "</div>"
            ],
            "text/plain": [
              "                   id        date             name  ... foll  friends  listcount\n",
              "0  408906762813579264  1386325944  dugarchikbellko  ...  111       94          2\n",
              "1  408906818262687744  1386325957     nugemycejela  ...   42       39          0\n",
              "2  408906858515398656  1386325966          4post21  ...   49      249          0\n",
              "3  408906914437685248  1386325980         Poliwake  ...  207      200          0\n",
              "4  408906914723295232  1386325980       capyvixowe  ...   17       34          0\n",
              "\n",
              "[5 rows x 12 columns]"
            ]
          },
          "metadata": {
            "tags": []
          },
          "execution_count": 6
        }
      ]
    },
    {
      "cell_type": "code",
      "metadata": {
        "colab": {
          "base_uri": "https://localhost:8080/",
          "height": 289
        },
        "id": "NmU-RPuuqISQ",
        "outputId": "5735bdfa-48b2-407e-a0d8-b9751d25b353"
      },
      "source": [
        "positive.head()"
      ],
      "execution_count": 7,
      "outputs": [
        {
          "output_type": "execute_result",
          "data": {
            "text/html": [
              "<div>\n",
              "<style scoped>\n",
              "    .dataframe tbody tr th:only-of-type {\n",
              "        vertical-align: middle;\n",
              "    }\n",
              "\n",
              "    .dataframe tbody tr th {\n",
              "        vertical-align: top;\n",
              "    }\n",
              "\n",
              "    .dataframe thead th {\n",
              "        text-align: right;\n",
              "    }\n",
              "</style>\n",
              "<table border=\"1\" class=\"dataframe\">\n",
              "  <thead>\n",
              "    <tr style=\"text-align: right;\">\n",
              "      <th></th>\n",
              "      <th>id</th>\n",
              "      <th>date</th>\n",
              "      <th>name</th>\n",
              "      <th>text</th>\n",
              "      <th>type</th>\n",
              "      <th>rep</th>\n",
              "      <th>retweet</th>\n",
              "      <th>fav</th>\n",
              "      <th>stcount</th>\n",
              "      <th>foll</th>\n",
              "      <th>friends</th>\n",
              "      <th>listcount</th>\n",
              "    </tr>\n",
              "  </thead>\n",
              "  <tbody>\n",
              "    <tr>\n",
              "      <th>0</th>\n",
              "      <td>408906692374446080</td>\n",
              "      <td>1386325927</td>\n",
              "      <td>pleease_shut_up</td>\n",
              "      <td>@first_timee хоть я и школота, но поверь, у на...</td>\n",
              "      <td>1</td>\n",
              "      <td>0</td>\n",
              "      <td>0</td>\n",
              "      <td>0</td>\n",
              "      <td>7569</td>\n",
              "      <td>62</td>\n",
              "      <td>61</td>\n",
              "      <td>0</td>\n",
              "    </tr>\n",
              "    <tr>\n",
              "      <th>1</th>\n",
              "      <td>408906692693221377</td>\n",
              "      <td>1386325927</td>\n",
              "      <td>alinakirpicheva</td>\n",
              "      <td>Да, все-таки он немного похож на него. Но мой ...</td>\n",
              "      <td>1</td>\n",
              "      <td>0</td>\n",
              "      <td>0</td>\n",
              "      <td>0</td>\n",
              "      <td>11825</td>\n",
              "      <td>59</td>\n",
              "      <td>31</td>\n",
              "      <td>2</td>\n",
              "    </tr>\n",
              "    <tr>\n",
              "      <th>2</th>\n",
              "      <td>408906695083954177</td>\n",
              "      <td>1386325927</td>\n",
              "      <td>EvgeshaRe</td>\n",
              "      <td>RT @KatiaCheh: Ну ты идиотка) я испугалась за ...</td>\n",
              "      <td>1</td>\n",
              "      <td>0</td>\n",
              "      <td>1</td>\n",
              "      <td>0</td>\n",
              "      <td>1273</td>\n",
              "      <td>26</td>\n",
              "      <td>27</td>\n",
              "      <td>0</td>\n",
              "    </tr>\n",
              "    <tr>\n",
              "      <th>3</th>\n",
              "      <td>408906695356973056</td>\n",
              "      <td>1386325927</td>\n",
              "      <td>ikonnikova_21</td>\n",
              "      <td>RT @digger2912: \"Кто то в углу сидит и погибае...</td>\n",
              "      <td>1</td>\n",
              "      <td>0</td>\n",
              "      <td>1</td>\n",
              "      <td>0</td>\n",
              "      <td>1549</td>\n",
              "      <td>19</td>\n",
              "      <td>17</td>\n",
              "      <td>0</td>\n",
              "    </tr>\n",
              "    <tr>\n",
              "      <th>4</th>\n",
              "      <td>408906761416867842</td>\n",
              "      <td>1386325943</td>\n",
              "      <td>JumpyAlex</td>\n",
              "      <td>@irina_dyshkant Вот что значит страшилка :D\\nН...</td>\n",
              "      <td>1</td>\n",
              "      <td>0</td>\n",
              "      <td>0</td>\n",
              "      <td>0</td>\n",
              "      <td>597</td>\n",
              "      <td>16</td>\n",
              "      <td>23</td>\n",
              "      <td>1</td>\n",
              "    </tr>\n",
              "  </tbody>\n",
              "</table>\n",
              "</div>"
            ],
            "text/plain": [
              "                   id        date             name  ... foll  friends  listcount\n",
              "0  408906692374446080  1386325927  pleease_shut_up  ...   62       61          0\n",
              "1  408906692693221377  1386325927  alinakirpicheva  ...   59       31          2\n",
              "2  408906695083954177  1386325927        EvgeshaRe  ...   26       27          0\n",
              "3  408906695356973056  1386325927    ikonnikova_21  ...   19       17          0\n",
              "4  408906761416867842  1386325943        JumpyAlex  ...   16       23          1\n",
              "\n",
              "[5 rows x 12 columns]"
            ]
          },
          "metadata": {
            "tags": []
          },
          "execution_count": 7
        }
      ]
    },
    {
      "cell_type": "code",
      "metadata": {
        "id": "1A65lswEFN5U"
      },
      "source": [
        "data = pd.concat([positive, negative])"
      ],
      "execution_count": 8,
      "outputs": []
    },
    {
      "cell_type": "code",
      "metadata": {
        "colab": {
          "base_uri": "https://localhost:8080/",
          "height": 289
        },
        "id": "1mdc_eWKHTEc",
        "outputId": "8e3c1f4d-38ca-42c7-b3d9-0a3c6d158194"
      },
      "source": [
        "data.head()"
      ],
      "execution_count": 9,
      "outputs": [
        {
          "output_type": "execute_result",
          "data": {
            "text/html": [
              "<div>\n",
              "<style scoped>\n",
              "    .dataframe tbody tr th:only-of-type {\n",
              "        vertical-align: middle;\n",
              "    }\n",
              "\n",
              "    .dataframe tbody tr th {\n",
              "        vertical-align: top;\n",
              "    }\n",
              "\n",
              "    .dataframe thead th {\n",
              "        text-align: right;\n",
              "    }\n",
              "</style>\n",
              "<table border=\"1\" class=\"dataframe\">\n",
              "  <thead>\n",
              "    <tr style=\"text-align: right;\">\n",
              "      <th></th>\n",
              "      <th>id</th>\n",
              "      <th>date</th>\n",
              "      <th>name</th>\n",
              "      <th>text</th>\n",
              "      <th>type</th>\n",
              "      <th>rep</th>\n",
              "      <th>retweet</th>\n",
              "      <th>fav</th>\n",
              "      <th>stcount</th>\n",
              "      <th>foll</th>\n",
              "      <th>friends</th>\n",
              "      <th>listcount</th>\n",
              "    </tr>\n",
              "  </thead>\n",
              "  <tbody>\n",
              "    <tr>\n",
              "      <th>0</th>\n",
              "      <td>408906692374446080</td>\n",
              "      <td>1386325927</td>\n",
              "      <td>pleease_shut_up</td>\n",
              "      <td>@first_timee хоть я и школота, но поверь, у на...</td>\n",
              "      <td>1</td>\n",
              "      <td>0</td>\n",
              "      <td>0</td>\n",
              "      <td>0</td>\n",
              "      <td>7569</td>\n",
              "      <td>62</td>\n",
              "      <td>61</td>\n",
              "      <td>0</td>\n",
              "    </tr>\n",
              "    <tr>\n",
              "      <th>1</th>\n",
              "      <td>408906692693221377</td>\n",
              "      <td>1386325927</td>\n",
              "      <td>alinakirpicheva</td>\n",
              "      <td>Да, все-таки он немного похож на него. Но мой ...</td>\n",
              "      <td>1</td>\n",
              "      <td>0</td>\n",
              "      <td>0</td>\n",
              "      <td>0</td>\n",
              "      <td>11825</td>\n",
              "      <td>59</td>\n",
              "      <td>31</td>\n",
              "      <td>2</td>\n",
              "    </tr>\n",
              "    <tr>\n",
              "      <th>2</th>\n",
              "      <td>408906695083954177</td>\n",
              "      <td>1386325927</td>\n",
              "      <td>EvgeshaRe</td>\n",
              "      <td>RT @KatiaCheh: Ну ты идиотка) я испугалась за ...</td>\n",
              "      <td>1</td>\n",
              "      <td>0</td>\n",
              "      <td>1</td>\n",
              "      <td>0</td>\n",
              "      <td>1273</td>\n",
              "      <td>26</td>\n",
              "      <td>27</td>\n",
              "      <td>0</td>\n",
              "    </tr>\n",
              "    <tr>\n",
              "      <th>3</th>\n",
              "      <td>408906695356973056</td>\n",
              "      <td>1386325927</td>\n",
              "      <td>ikonnikova_21</td>\n",
              "      <td>RT @digger2912: \"Кто то в углу сидит и погибае...</td>\n",
              "      <td>1</td>\n",
              "      <td>0</td>\n",
              "      <td>1</td>\n",
              "      <td>0</td>\n",
              "      <td>1549</td>\n",
              "      <td>19</td>\n",
              "      <td>17</td>\n",
              "      <td>0</td>\n",
              "    </tr>\n",
              "    <tr>\n",
              "      <th>4</th>\n",
              "      <td>408906761416867842</td>\n",
              "      <td>1386325943</td>\n",
              "      <td>JumpyAlex</td>\n",
              "      <td>@irina_dyshkant Вот что значит страшилка :D\\nН...</td>\n",
              "      <td>1</td>\n",
              "      <td>0</td>\n",
              "      <td>0</td>\n",
              "      <td>0</td>\n",
              "      <td>597</td>\n",
              "      <td>16</td>\n",
              "      <td>23</td>\n",
              "      <td>1</td>\n",
              "    </tr>\n",
              "  </tbody>\n",
              "</table>\n",
              "</div>"
            ],
            "text/plain": [
              "                   id        date             name  ... foll  friends  listcount\n",
              "0  408906692374446080  1386325927  pleease_shut_up  ...   62       61          0\n",
              "1  408906692693221377  1386325927  alinakirpicheva  ...   59       31          2\n",
              "2  408906695083954177  1386325927        EvgeshaRe  ...   26       27          0\n",
              "3  408906695356973056  1386325927    ikonnikova_21  ...   19       17          0\n",
              "4  408906761416867842  1386325943        JumpyAlex  ...   16       23          1\n",
              "\n",
              "[5 rows x 12 columns]"
            ]
          },
          "metadata": {
            "tags": []
          },
          "execution_count": 9
        }
      ]
    },
    {
      "cell_type": "markdown",
      "metadata": {
        "id": "1-Gz__KAmd4j"
      },
      "source": [
        "## biLSTM model"
      ]
    },
    {
      "cell_type": "markdown",
      "metadata": {
        "id": "PMYYgmCOIEHX"
      },
      "source": [
        "Убираем все некириллические символы из датасета"
      ]
    },
    {
      "cell_type": "code",
      "metadata": {
        "id": "AIbEvaB2KXPu"
      },
      "source": [
        "sentences = []\r\n",
        "types = []\r\n",
        "for i, row in data.iterrows():\r\n",
        "    sent = row['text'].lower()\r\n",
        "    sent = re.sub('[^а-я]', ' ', sent)\r\n",
        "    sentences.append(sent.split())\r\n",
        "    t = row['type']\r\n",
        "    types.append([t for i in range(len(sent.split()))])"
      ],
      "execution_count": 10,
      "outputs": []
    },
    {
      "cell_type": "code",
      "metadata": {
        "colab": {
          "base_uri": "https://localhost:8080/"
        },
        "id": "ngrcrPWj0std",
        "outputId": "6320c516-553a-4f73-c140-0be78dbacebe"
      },
      "source": [
        "sentences[0]"
      ],
      "execution_count": 11,
      "outputs": [
        {
          "output_type": "execute_result",
          "data": {
            "text/plain": [
              "['хоть',\n",
              " 'я',\n",
              " 'и',\n",
              " 'школота',\n",
              " 'но',\n",
              " 'поверь',\n",
              " 'у',\n",
              " 'нас',\n",
              " 'то',\n",
              " 'же',\n",
              " 'самое',\n",
              " 'общество',\n",
              " 'профилирующий',\n",
              " 'предмет',\n",
              " 'типа']"
            ]
          },
          "metadata": {
            "tags": []
          },
          "execution_count": 11
        }
      ]
    },
    {
      "cell_type": "code",
      "metadata": {
        "colab": {
          "base_uri": "https://localhost:8080/"
        },
        "id": "s-A1UgS90vtm",
        "outputId": "7c5ef8d7-3d18-4ba0-eecd-2dc3c4f6a8ff"
      },
      "source": [
        "types[0]"
      ],
      "execution_count": 12,
      "outputs": [
        {
          "output_type": "execute_result",
          "data": {
            "text/plain": [
              "[1, 1, 1, 1, 1, 1, 1, 1, 1, 1, 1, 1, 1, 1, 1]"
            ]
          },
          "metadata": {
            "tags": []
          },
          "execution_count": 12
        }
      ]
    },
    {
      "cell_type": "code",
      "metadata": {
        "colab": {
          "base_uri": "https://localhost:8080/"
        },
        "id": "GFd8SOYE0xFB",
        "outputId": "a4f47d41-f209-405c-9162-8f344eff36cd"
      },
      "source": [
        "len(sentences[0]) == len(types[0])"
      ],
      "execution_count": 13,
      "outputs": [
        {
          "output_type": "execute_result",
          "data": {
            "text/plain": [
              "True"
            ]
          },
          "metadata": {
            "tags": []
          },
          "execution_count": 13
        }
      ]
    },
    {
      "cell_type": "code",
      "metadata": {
        "id": "DHuuvOrmLp2o"
      },
      "source": [
        "sent_train, sent_test, type_train, type_test = train_test_split(sentences, types, test_size=0.2, random_state=1)"
      ],
      "execution_count": 14,
      "outputs": []
    },
    {
      "cell_type": "code",
      "metadata": {
        "id": "4jve6PKlG6Gk"
      },
      "source": [
        "vocab = Counter()\r\n",
        "for sent in sent_train:\r\n",
        "    vocab.update(sent)"
      ],
      "execution_count": 15,
      "outputs": []
    },
    {
      "cell_type": "code",
      "metadata": {
        "id": "89CF0RQkHaVP"
      },
      "source": [
        "filtered_vocab = {word for word in vocab if vocab[word] > 5}"
      ],
      "execution_count": 16,
      "outputs": []
    },
    {
      "cell_type": "code",
      "metadata": {
        "colab": {
          "base_uri": "https://localhost:8080/"
        },
        "id": "NLXfiLPLHbTY",
        "outputId": "3c1d22cf-74d1-49fe-8704-6d8acf2a67fc"
      },
      "source": [
        "len(filtered_vocab)"
      ],
      "execution_count": 17,
      "outputs": [
        {
          "output_type": "execute_result",
          "data": {
            "text/plain": [
              "23081"
            ]
          },
          "metadata": {
            "tags": []
          },
          "execution_count": 17
        }
      ]
    },
    {
      "cell_type": "code",
      "metadata": {
        "colab": {
          "base_uri": "https://localhost:8080/"
        },
        "id": "p5uQL7VGIDm2",
        "outputId": "1fc65bb3-43d8-4abe-f055-972c249753a7"
      },
      "source": [
        "!wget http://rusvectores.org/static/models/rusvectores4/fasttext/araneum_none_fasttextcbow_300_5_2018.tgz"
      ],
      "execution_count": 18,
      "outputs": [
        {
          "output_type": "stream",
          "text": [
            "--2021-02-07 14:02:58--  http://rusvectores.org/static/models/rusvectores4/fasttext/araneum_none_fasttextcbow_300_5_2018.tgz\n",
            "Resolving rusvectores.org (rusvectores.org)... 116.203.104.23\n",
            "Connecting to rusvectores.org (rusvectores.org)|116.203.104.23|:80... connected.\n",
            "HTTP request sent, awaiting response... 200 OK\n",
            "Length: 2691248108 (2.5G) [application/x-gzip]\n",
            "Saving to: ‘araneum_none_fasttextcbow_300_5_2018.tgz.2’\n",
            "\n",
            " araneum_none_fastt   1%[                    ]  29.72M  16.3MB/s               ^C\n"
          ],
          "name": "stdout"
        }
      ]
    },
    {
      "cell_type": "code",
      "metadata": {
        "colab": {
          "base_uri": "https://localhost:8080/"
        },
        "id": "94kz__sOIFQv",
        "outputId": "8e9c2e93-5ef0-4523-9128-e0cfe9010623"
      },
      "source": [
        "!tar --gunzip --extract --verbose --file=araneum_none_fasttextcbow_300_5_2018.tgz"
      ],
      "execution_count": 21,
      "outputs": [
        {
          "output_type": "stream",
          "text": [
            "araneum_none_fasttextcbow_300_5_2018.model\n",
            "araneum_none_fasttextcbow_300_5_2018.model.vectors_ngrams.npy\n",
            "araneum_none_fasttextcbow_300_5_2018.model.vectors.npy\n",
            "araneum_none_fasttextcbow_300_5_2018.model.vectors_vocab.npy\n"
          ],
          "name": "stdout"
        }
      ]
    },
    {
      "cell_type": "code",
      "metadata": {
        "id": "-oFsf-O4IMYJ"
      },
      "source": [
        "model_file = 'araneum_none_fasttextcbow_300_5_2018.model'\r\n",
        "model = KeyedVectors.load(model_file)"
      ],
      "execution_count": 22,
      "outputs": []
    },
    {
      "cell_type": "code",
      "metadata": {
        "id": "ePQidRD9IMiU"
      },
      "source": [
        "word2id = {word:i + 2 for i,word in enumerate(filtered_vocab)}\r\n",
        "word2id['pad'] = 0\r\n",
        "word2id['unk'] = 1\r\n",
        "\r\n",
        "id2word = {i:word for word, i in word2id.items()}"
      ],
      "execution_count": 21,
      "outputs": []
    },
    {
      "cell_type": "code",
      "metadata": {
        "id": "WQ5fRIKFTgZi"
      },
      "source": [
        "weights = np.array([model[word] for word in id2word.values() if word in model])"
      ],
      "execution_count": 24,
      "outputs": []
    },
    {
      "cell_type": "code",
      "metadata": {
        "colab": {
          "base_uri": "https://localhost:8080/"
        },
        "id": "9F7QLZnzvzq1",
        "outputId": "83834699-d417-4e80-f3f4-067c07e0b565"
      },
      "source": [
        "len(id2word) == len(weights)"
      ],
      "execution_count": 25,
      "outputs": [
        {
          "output_type": "execute_result",
          "data": {
            "text/plain": [
              "True"
            ]
          },
          "metadata": {
            "tags": []
          },
          "execution_count": 25
        }
      ]
    },
    {
      "cell_type": "code",
      "metadata": {
        "id": "fe8tjWMywInO"
      },
      "source": [
        "def data2ints(data, smth2id):\r\n",
        "  int_data = []\r\n",
        "  for seq in data:\r\n",
        "      int_seq = []\r\n",
        "      for i in seq:\r\n",
        "        int_seq.append(smth2id.get(i, 1))\r\n",
        "  \r\n",
        "      int_data.append(int_seq)\r\n",
        "  return int_data"
      ],
      "execution_count": 22,
      "outputs": []
    },
    {
      "cell_type": "code",
      "metadata": {
        "id": "o4vuFNxfxLJd"
      },
      "source": [
        "type2id = {'pad':0, 'unk':1}  \r\n",
        "for typ in type_train:\r\n",
        "    for t in typ: \r\n",
        "        if t not in type2id:\r\n",
        "            type2id[t] = len(type2id)\r\n",
        "\r\n",
        "id2type = {i:t for t, i in type2id.items()}"
      ],
      "execution_count": 23,
      "outputs": []
    },
    {
      "cell_type": "code",
      "metadata": {
        "colab": {
          "base_uri": "https://localhost:8080/"
        },
        "id": "kzgiKjBbxoae",
        "outputId": "33a7144d-835e-4f77-d741-190fbca16248"
      },
      "source": [
        "id2type"
      ],
      "execution_count": 24,
      "outputs": [
        {
          "output_type": "execute_result",
          "data": {
            "text/plain": [
              "{0: 'pad', 1: 'unk', 2: 1, 3: -1}"
            ]
          },
          "metadata": {
            "tags": []
          },
          "execution_count": 24
        }
      ]
    },
    {
      "cell_type": "code",
      "metadata": {
        "colab": {
          "base_uri": "https://localhost:8080/"
        },
        "id": "_Ua8xS5DwKdp",
        "outputId": "020fb6da-b584-4093-df03-b12a44b38c3d"
      },
      "source": [
        "X_train_ids, X_test_ids = data2ints(sent_train, word2id), data2ints(sent_test, word2id)\r\n",
        "y_train_ids, y_test_ids = data2ints(type_train, type2id), data2ints(type_test, type2id)\r\n",
        "\r\n",
        "\r\n",
        "print(X_train_ids[0])\r\n",
        "print(y_train_ids[0])\r\n",
        "\r\n",
        "print(X_test_ids[0])\r\n",
        "print(y_test_ids[0])"
      ],
      "execution_count": 25,
      "outputs": [
        {
          "output_type": "stream",
          "text": [
            "[14202, 13780, 21959, 10836, 6955, 11281, 11473, 14202, 3645, 9158, 19132, 12350, 19603, 10787, 1, 13729, 8665, 13159]\n",
            "[2, 2, 2, 2, 2, 2, 2, 2, 2, 2, 2, 2, 2, 2, 2, 2, 2, 2]\n",
            "[19557, 18056, 21673, 13729, 15739, 1, 6816, 13729, 9282, 1]\n",
            "[3, 3, 3, 3, 3, 3, 3, 3, 3, 3]\n"
          ],
          "name": "stdout"
        }
      ]
    },
    {
      "cell_type": "code",
      "metadata": {
        "colab": {
          "base_uri": "https://localhost:8080/"
        },
        "id": "E-zWIA4q3mTi",
        "outputId": "da713f08-cd66-4f62-de28-cd899f851340"
      },
      "source": [
        "sent_max_len = max(len(x) for x in X_train_ids)\r\n",
        "print(\"максимальная длина предложения:\", sent_max_len)"
      ],
      "execution_count": 26,
      "outputs": [
        {
          "output_type": "stream",
          "text": [
            "максимальная длина предложения: 34\n"
          ],
          "name": "stdout"
        }
      ]
    },
    {
      "cell_type": "code",
      "metadata": {
        "id": "WXo2X2uV3nnY"
      },
      "source": [
        "X_train, X_test = pad_sequences(X_train_ids, maxlen=sent_max_len, padding='post'), pad_sequences(X_test_ids, maxlen=sent_max_len, padding='post')\r\n",
        "y_train, y_test = pad_sequences(y_train_ids, maxlen=sent_max_len, padding='post'), pad_sequences(y_test_ids, maxlen=sent_max_len, padding='post')"
      ],
      "execution_count": 27,
      "outputs": []
    },
    {
      "cell_type": "code",
      "metadata": {
        "colab": {
          "base_uri": "https://localhost:8080/"
        },
        "id": "sSW1pOvv4Ajl",
        "outputId": "e35120c5-fac0-4b6a-8d4d-4e04a35e9fee"
      },
      "source": [
        "print(X_train.shape, y_train.shape, X_test.shape, y_test.shape)"
      ],
      "execution_count": 28,
      "outputs": [
        {
          "output_type": "stream",
          "text": [
            "(181467, 34) (181467, 34) (45367, 34) (45367, 34)\n"
          ],
          "name": "stdout"
        }
      ]
    },
    {
      "cell_type": "code",
      "metadata": {
        "id": "2FSKgYWg4JO3"
      },
      "source": [
        "y_train, y_test = to_categorical(y_train, num_classes=len(type2id)), to_categorical(y_test, num_classes=len(type2id))"
      ],
      "execution_count": 29,
      "outputs": []
    },
    {
      "cell_type": "code",
      "metadata": {
        "colab": {
          "base_uri": "https://localhost:8080/"
        },
        "id": "OrDH7kup6I4w",
        "outputId": "420cd6c0-baa6-427e-9a14-a8f76f27be02"
      },
      "source": [
        "y_train.shape"
      ],
      "execution_count": 30,
      "outputs": [
        {
          "output_type": "execute_result",
          "data": {
            "text/plain": [
              "(181467, 34, 4)"
            ]
          },
          "metadata": {
            "tags": []
          },
          "execution_count": 30
        }
      ]
    },
    {
      "cell_type": "markdown",
      "metadata": {
        "id": "T4hjZIZznkIZ"
      },
      "source": [
        "### Модель с готовыми эмбэддингами для русского языка"
      ]
    },
    {
      "cell_type": "code",
      "metadata": {
        "id": "9dy5YqOB6Q7q"
      },
      "source": [
        "word_in = Input(shape=(sent_max_len))\r\n",
        "emb_word = Embedding(input_dim=len(word2id), output_dim=300, trainable=False, weights=[weights])(word_in)\r\n",
        "lstm = Bidirectional(LSTM(units=128, return_sequences=True, recurrent_dropout=0.2))(emb_word)\r\n",
        "out = TimeDistributed(Dense(len(type2id), activation=\"softmax\"))(lstm)\r\n",
        "\r\n",
        "model = Model(inputs= word_in, outputs=out)\r\n",
        "\r\n",
        "optimizer = optimizers.Adam(learning_rate=0.01)\r\n",
        "model.compile(optimizer=optimizer, loss=\"categorical_crossentropy\", metrics=[Precision(), Recall(), Accuracy()])"
      ],
      "execution_count": null,
      "outputs": []
    },
    {
      "cell_type": "code",
      "metadata": {
        "colab": {
          "base_uri": "https://localhost:8080/"
        },
        "id": "1rzyBv-R6p1S",
        "outputId": "a402bd74-43f5-48ef-e776-11edb44828ed"
      },
      "source": [
        "model.summary()"
      ],
      "execution_count": null,
      "outputs": [
        {
          "output_type": "stream",
          "text": [
            "Model: \"model\"\n",
            "_________________________________________________________________\n",
            "Layer (type)                 Output Shape              Param #   \n",
            "=================================================================\n",
            "input_1 (InputLayer)         [(None, 34)]              0         \n",
            "_________________________________________________________________\n",
            "embedding (Embedding)        (None, 34, 300)           6924900   \n",
            "_________________________________________________________________\n",
            "bidirectional (Bidirectional (None, 34, 256)           439296    \n",
            "_________________________________________________________________\n",
            "time_distributed (TimeDistri (None, 34, 4)             1028      \n",
            "=================================================================\n",
            "Total params: 7,365,224\n",
            "Trainable params: 440,324\n",
            "Non-trainable params: 6,924,900\n",
            "_________________________________________________________________\n"
          ],
          "name": "stdout"
        }
      ]
    },
    {
      "cell_type": "code",
      "metadata": {
        "colab": {
          "base_uri": "https://localhost:8080/"
        },
        "id": "ozBzYSH_Whr_",
        "outputId": "020d413d-32cc-4ee9-9be5-435a2ac7fb2f"
      },
      "source": [
        "model.fit(X_train, y_train, validation_data=(X_test, y_test), batch_size=1024, epochs=3, verbose=1)"
      ],
      "execution_count": null,
      "outputs": [
        {
          "output_type": "stream",
          "text": [
            "Epoch 1/3\n",
            "177/177 [==============================] - 460s 3s/step - loss: 0.2073 - precision: 0.8807 - recall: 0.8805 - accuracy: 0.0558 - val_loss: 0.2087 - val_precision: 0.8782 - val_recall: 0.8781 - val_accuracy: 0.0374\n",
            "Epoch 2/3\n",
            "177/177 [==============================] - 458s 3s/step - loss: 0.2036 - precision: 0.8850 - recall: 0.8848 - accuracy: 0.0846 - val_loss: 0.2047 - val_precision: 0.8835 - val_recall: 0.8834 - val_accuracy: 0.1137\n",
            "Epoch 3/3\n",
            "177/177 [==============================] - 455s 3s/step - loss: 0.2005 - precision: 0.8880 - recall: 0.8878 - accuracy: 0.0963 - val_loss: 0.2023 - val_precision: 0.8858 - val_recall: 0.8856 - val_accuracy: 0.1184\n"
          ],
          "name": "stdout"
        },
        {
          "output_type": "execute_result",
          "data": {
            "text/plain": [
              "<tensorflow.python.keras.callbacks.History at 0x7f7b1e311208>"
            ]
          },
          "metadata": {
            "tags": []
          },
          "execution_count": 35
        }
      ]
    },
    {
      "cell_type": "markdown",
      "metadata": {
        "id": "VUZllhm1pRsx"
      },
      "source": [
        "### Модель с fasttext эмбэддингами"
      ]
    },
    {
      "cell_type": "code",
      "metadata": {
        "id": "z838n3iCriO3"
      },
      "source": [
        "ft_model = FastText(size=100)\r\n",
        "ft_model.build_vocab(sentences=sentences)\r\n",
        "ft_model.train(sentences=sentences, total_examples=len(sentences), epochs=5)"
      ],
      "execution_count": null,
      "outputs": []
    },
    {
      "cell_type": "code",
      "metadata": {
        "id": "5YP_5dLystg6"
      },
      "source": [
        "weights = np.array([ft_model.wv[word] for word in id2word.values()])"
      ],
      "execution_count": null,
      "outputs": []
    },
    {
      "cell_type": "code",
      "metadata": {
        "id": "VhKblLR9qz9y"
      },
      "source": [
        "word_in = Input(shape=(sent_max_len))\r\n",
        "emb_word = Embedding(input_dim=len(word2id), output_dim=100, trainable=False, weights=[weights])(word_in)\r\n",
        "lstm = Bidirectional(LSTM(units=128, return_sequences=True, recurrent_dropout=0.2))(emb_word)\r\n",
        "out = TimeDistributed(Dense(len(type2id), activation=\"softmax\"))(lstm)\r\n",
        "\r\n",
        "model = Model(inputs= word_in, outputs=out)\r\n",
        "\r\n",
        "optimizer = optimizers.Adam(learning_rate=0.1)\r\n",
        "model.compile(optimizer=optimizer, loss=\"categorical_crossentropy\", metrics=[Precision(), Recall(), Accuracy()])"
      ],
      "execution_count": null,
      "outputs": []
    },
    {
      "cell_type": "code",
      "metadata": {
        "colab": {
          "base_uri": "https://localhost:8080/"
        },
        "id": "ZPu7J_gztUVc",
        "outputId": "50337083-a665-46ff-b3e3-6655314cd6f9"
      },
      "source": [
        "model.summary()"
      ],
      "execution_count": null,
      "outputs": [
        {
          "output_type": "stream",
          "text": [
            "Model: \"model_2\"\n",
            "_________________________________________________________________\n",
            "Layer (type)                 Output Shape              Param #   \n",
            "=================================================================\n",
            "input_3 (InputLayer)         [(None, 34)]              0         \n",
            "_________________________________________________________________\n",
            "embedding_2 (Embedding)      (None, 34, 100)           2308300   \n",
            "_________________________________________________________________\n",
            "bidirectional_2 (Bidirection (None, 34, 256)           234496    \n",
            "_________________________________________________________________\n",
            "time_distributed_2 (TimeDist (None, 34, 4)             1028      \n",
            "=================================================================\n",
            "Total params: 2,543,824\n",
            "Trainable params: 235,524\n",
            "Non-trainable params: 2,308,300\n",
            "_________________________________________________________________\n"
          ],
          "name": "stdout"
        }
      ]
    },
    {
      "cell_type": "code",
      "metadata": {
        "colab": {
          "base_uri": "https://localhost:8080/"
        },
        "id": "fPYVrTmqtUcv",
        "outputId": "c98b5423-c4a2-4753-b086-c90f73c51ea2"
      },
      "source": [
        "model.fit(X_train, y_train, validation_data=(X_test, y_test), batch_size=1024, epochs=3, shuffle=True, verbose=1)"
      ],
      "execution_count": null,
      "outputs": [
        {
          "output_type": "stream",
          "text": [
            "Epoch 1/3\n",
            "178/178 [==============================] - 352s 2s/step - loss: 5.1069 - precision_2: 0.6721 - recall_2: 0.6541 - accuracy: 0.6947 - val_loss: 5.2391 - val_precision_2: 0.6750 - val_recall_2: 0.6750 - val_accuracy: 0.8364\n",
            "Epoch 2/3\n",
            "178/178 [==============================] - 346s 2s/step - loss: 5.2035 - precision_2: 0.6768 - recall_2: 0.6768 - accuracy: 0.8303 - val_loss: 2.5621 - val_precision_2: 0.8409 - val_recall_2: 0.8409 - val_accuracy: 0.5211\n",
            "Epoch 3/3\n",
            "178/178 [==============================] - 346s 2s/step - loss: 2.5901 - precision_2: 0.8392 - recall_2: 0.8392 - accuracy: 0.5254 - val_loss: 2.5610 - val_precision_2: 0.8411 - val_recall_2: 0.8411 - val_accuracy: 0.5086\n"
          ],
          "name": "stdout"
        },
        {
          "output_type": "execute_result",
          "data": {
            "text/plain": [
              "<tensorflow.python.keras.callbacks.History at 0x7f655f647518>"
            ]
          },
          "metadata": {
            "tags": []
          },
          "execution_count": 46
        }
      ]
    },
    {
      "cell_type": "markdown",
      "metadata": {
        "id": "g7HE1RtBWh_N"
      },
      "source": [
        "Попробуем изменить параметры при инициализации fasttext модели\r\n",
        "\r\n"
      ]
    },
    {
      "cell_type": "code",
      "metadata": {
        "id": "24OEpmww37cZ"
      },
      "source": [
        "ft = FastText(sentences, size=100, iter=3)"
      ],
      "execution_count": 45,
      "outputs": []
    },
    {
      "cell_type": "code",
      "metadata": {
        "id": "SKUL0URGWm-Z"
      },
      "source": [
        "weights = np.array([ft.wv[word] for word in id2word.values()])"
      ],
      "execution_count": 46,
      "outputs": []
    },
    {
      "cell_type": "code",
      "metadata": {
        "id": "k2-zc1d1XRAj"
      },
      "source": [
        "word_in = Input(shape=(sent_max_len))\r\n",
        "emb_word = Embedding(input_dim=len(word2id), output_dim=100, trainable=False, weights=[weights])(word_in)\r\n",
        "lstm = Bidirectional(LSTM(units=128, return_sequences=True, recurrent_dropout=0.2))(emb_word)\r\n",
        "out = TimeDistributed(Dense(len(type2id), activation=\"softmax\"))(lstm)\r\n",
        "\r\n",
        "model = Model(inputs= word_in, outputs=out)\r\n",
        "\r\n",
        "optimizer = optimizers.Adam(learning_rate=0.1)\r\n",
        "model.compile(optimizer=optimizer, loss=\"categorical_crossentropy\", metrics=[Precision(), Recall(), Accuracy()])"
      ],
      "execution_count": 51,
      "outputs": []
    },
    {
      "cell_type": "code",
      "metadata": {
        "id": "Yk_Kk4skXRD8",
        "colab": {
          "base_uri": "https://localhost:8080/"
        },
        "outputId": "b43e8df3-06eb-4c5b-c623-f0bbc6a9d9d7"
      },
      "source": [
        "model.summary()"
      ],
      "execution_count": 52,
      "outputs": [
        {
          "output_type": "stream",
          "text": [
            "Model: \"model_5\"\n",
            "_________________________________________________________________\n",
            "Layer (type)                 Output Shape              Param #   \n",
            "=================================================================\n",
            "input_8 (InputLayer)         [(None, 34)]              0         \n",
            "_________________________________________________________________\n",
            "embedding_7 (Embedding)      (None, 34, 100)           2308300   \n",
            "_________________________________________________________________\n",
            "bidirectional_5 (Bidirection (None, 34, 256)           234496    \n",
            "_________________________________________________________________\n",
            "time_distributed_5 (TimeDist (None, 34, 4)             1028      \n",
            "=================================================================\n",
            "Total params: 2,543,824\n",
            "Trainable params: 235,524\n",
            "Non-trainable params: 2,308,300\n",
            "_________________________________________________________________\n"
          ],
          "name": "stdout"
        }
      ]
    },
    {
      "cell_type": "code",
      "metadata": {
        "id": "mHwZx-qqYi21",
        "colab": {
          "base_uri": "https://localhost:8080/"
        },
        "outputId": "0850415c-2247-4364-e3e1-a4415d6ea592"
      },
      "source": [
        "model.fit(X_train, y_train, validation_data=(X_test, y_test), batch_size=1024, epochs=3, shuffle=True, verbose=1)"
      ],
      "execution_count": 53,
      "outputs": [
        {
          "output_type": "stream",
          "text": [
            "Epoch 1/3\n",
            "178/178 [==============================] - 313s 2s/step - loss: 5.1056 - precision_5: 0.6719 - recall_5: 0.6539 - accuracy: 0.6850 - val_loss: 5.2391 - val_precision_5: 0.6750 - val_recall_5: 0.6750 - val_accuracy: 0.8374\n",
            "Epoch 2/3\n",
            "178/178 [==============================] - 317s 2s/step - loss: 5.2290 - precision_5: 0.6756 - recall_5: 0.6756 - accuracy: 0.8377 - val_loss: 5.2391 - val_precision_5: 0.6750 - val_recall_5: 0.6750 - val_accuracy: 0.8374\n",
            "Epoch 3/3\n",
            "178/178 [==============================] - 314s 2s/step - loss: 5.2277 - precision_5: 0.6757 - recall_5: 0.6757 - accuracy: 0.8377 - val_loss: 5.2391 - val_precision_5: 0.6750 - val_recall_5: 0.6750 - val_accuracy: 0.8374\n"
          ],
          "name": "stdout"
        },
        {
          "output_type": "execute_result",
          "data": {
            "text/plain": [
              "<tensorflow.python.keras.callbacks.History at 0x7f4fb85d1da0>"
            ]
          },
          "metadata": {
            "tags": []
          },
          "execution_count": 53
        }
      ]
    },
    {
      "cell_type": "markdown",
      "metadata": {
        "id": "3xzzAuxZmoM0"
      },
      "source": [
        "## biLSTM + CharCNN"
      ]
    },
    {
      "cell_type": "code",
      "metadata": {
        "id": "GOkmX-EBWVDU",
        "colab": {
          "base_uri": "https://localhost:8080/"
        },
        "outputId": "f24193f4-b14e-483e-cbdb-081b5c5a5732"
      },
      "source": [
        "chars = set([letter for word in filtered_vocab for letter in word])\r\n",
        "n_chars = len(chars)\r\n",
        "print(chars)"
      ],
      "execution_count": 54,
      "outputs": [
        {
          "output_type": "stream",
          "text": [
            "{'я', 'з', 'ч', 'и', 'с', 'х', 'л', 'г', 'й', 'а', 'к', 'м', 'ц', 'е', 'р', 'в', 'э', 'н', 'д', 'т', 'о', 'щ', 'б', 'п', 'ю', 'у', 'ж', 'ш', 'ф', 'ь', 'ъ', 'ы'}\n"
          ],
          "name": "stdout"
        }
      ]
    },
    {
      "cell_type": "code",
      "metadata": {
        "id": "XRqBx68mqLdO"
      },
      "source": [
        "char2id = {c: i + 2 for i, c in enumerate(chars)}\r\n",
        "char2id[\"pad\"] = 0\r\n",
        "char2id[\"unk\"] = 1\r\n",
        "\r\n",
        "id2char = {i:char for char, i in char2id.items()}"
      ],
      "execution_count": 55,
      "outputs": []
    },
    {
      "cell_type": "code",
      "metadata": {
        "colab": {
          "base_uri": "https://localhost:8080/"
        },
        "id": "untRA7ykqPKd",
        "outputId": "b417acfa-2674-4602-acdc-f6d17b1ef056"
      },
      "source": [
        "char_max_len = max(len(x) for x in filtered_vocab)\r\n",
        "print(\"максимальная длина слова:\", char_max_len)"
      ],
      "execution_count": 56,
      "outputs": [
        {
          "output_type": "stream",
          "text": [
            "максимальная длина слова: 33\n"
          ],
          "name": "stdout"
        }
      ]
    },
    {
      "cell_type": "code",
      "metadata": {
        "id": "UK3tal3_qSpR"
      },
      "source": [
        "def make_X_char(sentences):\r\n",
        "  X_char = []\r\n",
        "  for sentence in sentences:\r\n",
        "      sent_seq = []\r\n",
        "      for i in range(sent_max_len):\r\n",
        "          word_seq = []\r\n",
        "          for j in range(char_max_len):\r\n",
        "              try:\r\n",
        "                  word_seq.append(char2id[sentence[i][j].lower()])\r\n",
        "              except:\r\n",
        "                  word_seq.append(char2id[\"pad\"])\r\n",
        "          sent_seq.append(word_seq)\r\n",
        "      X_char.append(np.array(sent_seq))\r\n",
        "  return np.array(X_char)"
      ],
      "execution_count": 57,
      "outputs": []
    },
    {
      "cell_type": "code",
      "metadata": {
        "id": "E6gGdWPKqYib"
      },
      "source": [
        "X_char_train, X_char_test = make_X_char(sent_train), make_X_char(sent_test)"
      ],
      "execution_count": 58,
      "outputs": []
    },
    {
      "cell_type": "code",
      "metadata": {
        "colab": {
          "base_uri": "https://localhost:8080/"
        },
        "id": "3yX9xPB5qbC9",
        "outputId": "a6f2721f-436c-48f6-8af7-f8cd70d8c182"
      },
      "source": [
        "X_char_train.shape"
      ],
      "execution_count": 59,
      "outputs": [
        {
          "output_type": "execute_result",
          "data": {
            "text/plain": [
              "(181467, 34, 33)"
            ]
          },
          "metadata": {
            "tags": []
          },
          "execution_count": 59
        }
      ]
    },
    {
      "cell_type": "code",
      "metadata": {
        "colab": {
          "base_uri": "https://localhost:8080/",
          "height": 35
        },
        "id": "gZqrwBD3rM_U",
        "outputId": "2e4476a6-2974-4353-b3a1-cfebbf8d9349"
      },
      "source": [
        "sent_train[5][0]"
      ],
      "execution_count": 60,
      "outputs": [
        {
          "output_type": "execute_result",
          "data": {
            "application/vnd.google.colaboratory.intrinsic+json": {
              "type": "string"
            },
            "text/plain": [
              "'хахахахаха'"
            ]
          },
          "metadata": {
            "tags": []
          },
          "execution_count": 60
        }
      ]
    },
    {
      "cell_type": "code",
      "metadata": {
        "colab": {
          "base_uri": "https://localhost:8080/"
        },
        "id": "blyZvQNvrPN1",
        "outputId": "01cb4a74-6695-4489-f1ff-728a2fe6d210"
      },
      "source": [
        "X_char_train[5][0]"
      ],
      "execution_count": 61,
      "outputs": [
        {
          "output_type": "execute_result",
          "data": {
            "text/plain": [
              "array([ 7, 11,  7, 11,  7, 11,  7, 11,  7, 11,  0,  0,  0,  0,  0,  0,  0,\n",
              "        0,  0,  0,  0,  0,  0,  0,  0,  0,  0,  0,  0,  0,  0,  0,  0])"
            ]
          },
          "metadata": {
            "tags": []
          },
          "execution_count": 61
        }
      ]
    },
    {
      "cell_type": "code",
      "metadata": {
        "id": "cZDDP6sG9Pgs"
      },
      "source": [
        "weights = np.array([ft.wv[word] for word in id2word.values()])"
      ],
      "execution_count": 63,
      "outputs": []
    },
    {
      "cell_type": "markdown",
      "metadata": {
        "id": "byFmFwpaHbJ5"
      },
      "source": [
        "Так как в моделях LSTM были низкие или нестабильные показатели качества, попробуем сейчас избавиться от переобучения изменением параметра dropout"
      ]
    },
    {
      "cell_type": "code",
      "metadata": {
        "id": "wEdiom62rSAH"
      },
      "source": [
        "# один вход для слов\r\n",
        "word_in = Input(shape=(sent_max_len))\r\n",
        "emb_word = Embedding(input_dim=len(word2id), output_dim=100, trainable=False, weights=[weights])(word_in)\r\n",
        "\r\n",
        "# другой вход для символов\r\n",
        "char_in = Input(shape=(sent_max_len, char_max_len))\r\n",
        "emb_char = TimeDistributed(Embedding(input_dim=len(char2id), output_dim=10, input_length=char_max_len))(char_in)\r\n",
        "# свертка на символах (CharRNN) применяется к каждому слову отдельно\r\n",
        "char_enc = TimeDistributed(Conv1D(filters=12, kernel_size=3))(emb_char)\r\n",
        "char_flat = TimeDistributed(Flatten())(char_enc)\r\n",
        "\r\n",
        "# LSTM проходится по всей последовательности, на каждом шаге беря эмбеддинг слова по словарю + символьный эмбеддинг слова \r\n",
        "x = concatenate([emb_word, char_flat])\r\n",
        "main_lstm = Bidirectional(LSTM(units=128, return_sequences=True,\r\n",
        "                               recurrent_dropout=0.5))(x)\r\n",
        "out = TimeDistributed(Dense(len(type2id), activation=\"softmax\"))(main_lstm)\r\n",
        "\r\n",
        "model = Model(inputs=[char_in, word_in], outputs=out)\r\n",
        "\r\n",
        "\r\n",
        "optimizer = optimizers.Adam(learning_rate=0.1)\r\n",
        "model.compile(optimizer=optimizer, loss=\"categorical_crossentropy\", metrics=[Precision(), Recall(), Accuracy()])"
      ],
      "execution_count": 76,
      "outputs": []
    },
    {
      "cell_type": "code",
      "metadata": {
        "colab": {
          "base_uri": "https://localhost:8080/"
        },
        "id": "ukqecDP8rpPX",
        "outputId": "5eb1825c-ff58-48f7-83c1-4bcdde71408a"
      },
      "source": [
        "model.summary()"
      ],
      "execution_count": 77,
      "outputs": [
        {
          "output_type": "stream",
          "text": [
            "Model: \"model_10\"\n",
            "__________________________________________________________________________________________________\n",
            "Layer (type)                    Output Shape         Param #     Connected to                     \n",
            "==================================================================================================\n",
            "input_18 (InputLayer)           [(None, 34, 33)]     0                                            \n",
            "__________________________________________________________________________________________________\n",
            "time_distributed_22 (TimeDistri (None, 34, 33, 10)   340         input_18[0][0]                   \n",
            "__________________________________________________________________________________________________\n",
            "input_17 (InputLayer)           [(None, 34)]         0                                            \n",
            "__________________________________________________________________________________________________\n",
            "time_distributed_23 (TimeDistri (None, 34, 31, 12)   372         time_distributed_22[0][0]        \n",
            "__________________________________________________________________________________________________\n",
            "embedding_16 (Embedding)        (None, 34, 100)      2308300     input_17[0][0]                   \n",
            "__________________________________________________________________________________________________\n",
            "time_distributed_24 (TimeDistri (None, 34, 372)      0           time_distributed_23[0][0]        \n",
            "__________________________________________________________________________________________________\n",
            "concatenate_4 (Concatenate)     (None, 34, 472)      0           embedding_16[0][0]               \n",
            "                                                                 time_distributed_24[0][0]        \n",
            "__________________________________________________________________________________________________\n",
            "bidirectional_10 (Bidirectional (None, 34, 256)      615424      concatenate_4[0][0]              \n",
            "__________________________________________________________________________________________________\n",
            "time_distributed_25 (TimeDistri (None, 34, 4)        1028        bidirectional_10[0][0]           \n",
            "==================================================================================================\n",
            "Total params: 2,925,464\n",
            "Trainable params: 617,164\n",
            "Non-trainable params: 2,308,300\n",
            "__________________________________________________________________________________________________\n"
          ],
          "name": "stdout"
        }
      ]
    },
    {
      "cell_type": "code",
      "metadata": {
        "colab": {
          "base_uri": "https://localhost:8080/"
        },
        "id": "kf0ndMqurwdn",
        "outputId": "7fb437ac-c89d-4a16-cef1-38b08734dfc4"
      },
      "source": [
        "model.fit([X_char_train, X_train], y_train, validation_data=([X_char_test, X_test], y_test), batch_size=1024, epochs=3, verbose=1)"
      ],
      "execution_count": 78,
      "outputs": [
        {
          "output_type": "stream",
          "text": [
            "Epoch 1/3\n",
            "178/178 [==============================] - 744s 4s/step - loss: 5.1083 - precision_9: 0.6715 - recall_9: 0.6535 - accuracy: 0.6658 - val_loss: 5.2391 - val_precision_9: 0.6750 - val_recall_9: 0.6750 - val_accuracy: 0.8375\n",
            "Epoch 2/3\n",
            "178/178 [==============================] - 735s 4s/step - loss: 5.2275 - precision_9: 0.6757 - recall_9: 0.6757 - accuracy: 0.8378 - val_loss: 5.2391 - val_precision_9: 0.6750 - val_recall_9: 0.6750 - val_accuracy: 0.8375\n",
            "Epoch 3/3\n",
            "178/178 [==============================] - 720s 4s/step - loss: 5.2374 - precision_9: 0.6751 - recall_9: 0.6751 - accuracy: 0.8375 - val_loss: 5.2391 - val_precision_9: 0.6750 - val_recall_9: 0.6750 - val_accuracy: 0.8375\n"
          ],
          "name": "stdout"
        },
        {
          "output_type": "execute_result",
          "data": {
            "text/plain": [
              "<tensorflow.python.keras.callbacks.History at 0x7f4fb6b220b8>"
            ]
          },
          "metadata": {
            "tags": []
          },
          "execution_count": 78
        }
      ]
    },
    {
      "cell_type": "markdown",
      "metadata": {
        "id": "M-bCQaKyMteI"
      },
      "source": [
        "## biLSTM + CharCNN с другим отфильтрованным списком слов"
      ]
    },
    {
      "cell_type": "code",
      "metadata": {
        "id": "Y3mawN_hJIO1"
      },
      "source": [
        "filtered_vocab = {word for word in vocab if vocab[word] > 50}"
      ],
      "execution_count": 99,
      "outputs": []
    },
    {
      "cell_type": "code",
      "metadata": {
        "colab": {
          "base_uri": "https://localhost:8080/"
        },
        "id": "BbajhAhaJIS9",
        "outputId": "6b87b214-c3d6-40e3-de08-24aeab2e91d0"
      },
      "source": [
        "len(filtered_vocab)"
      ],
      "execution_count": 100,
      "outputs": [
        {
          "output_type": "execute_result",
          "data": {
            "text/plain": [
              "3431"
            ]
          },
          "metadata": {
            "tags": []
          },
          "execution_count": 100
        }
      ]
    },
    {
      "cell_type": "code",
      "metadata": {
        "id": "B0YCVUITJIVv"
      },
      "source": [
        "word2id = {word:i + 2 for i,word in enumerate(filtered_vocab)}\r\n",
        "word2id['pad'] = 0\r\n",
        "word2id['unk'] = 1\r\n",
        "\r\n",
        "id2word = {i:word for word, i in word2id.items()}"
      ],
      "execution_count": 101,
      "outputs": []
    },
    {
      "cell_type": "code",
      "metadata": {
        "colab": {
          "base_uri": "https://localhost:8080/"
        },
        "id": "icb8ggRNJIay",
        "outputId": "79f7356e-87c9-4f54-df5a-843aacc57f74"
      },
      "source": [
        "X_train_ids, X_test_ids = data2ints(sent_train, word2id), data2ints(sent_test, word2id)\r\n",
        "y_train_ids, y_test_ids = data2ints(type_train, type2id), data2ints(type_test, type2id)\r\n",
        "\r\n",
        "\r\n",
        "print(X_train_ids[0])\r\n",
        "print(y_train_ids[0])\r\n",
        "\r\n",
        "print(X_test_ids[0])\r\n",
        "print(y_test_ids[0])"
      ],
      "execution_count": 102,
      "outputs": [
        {
          "output_type": "stream",
          "text": [
            "[3064, 2068, 1, 1999, 2999, 2935, 2, 3064, 2145, 1339, 1069, 2082, 2173, 1907, 1, 1941, 1, 1]\n",
            "[2, 2, 2, 2, 2, 2, 2, 2, 2, 2, 2, 2, 2, 2, 2, 2, 2, 2]\n",
            "[2053, 1, 128, 1941, 3324, 1, 1, 1941, 1, 1]\n",
            "[3, 3, 3, 3, 3, 3, 3, 3, 3, 3]\n"
          ],
          "name": "stdout"
        }
      ]
    },
    {
      "cell_type": "code",
      "metadata": {
        "colab": {
          "base_uri": "https://localhost:8080/"
        },
        "id": "Va1gTXnmJrzR",
        "outputId": "3d80c861-e0c7-418a-bb3d-d9670e34857d"
      },
      "source": [
        "sent_max_len = max(len(x) for x in X_train_ids)\r\n",
        "print(\"максимальная длина предложения:\", sent_max_len)"
      ],
      "execution_count": 103,
      "outputs": [
        {
          "output_type": "stream",
          "text": [
            "максимальная длина предложения: 34\n"
          ],
          "name": "stdout"
        }
      ]
    },
    {
      "cell_type": "code",
      "metadata": {
        "id": "olFXX-XfJr2-"
      },
      "source": [
        "X_train, X_test = pad_sequences(X_train_ids, maxlen=sent_max_len, padding='post'), pad_sequences(X_test_ids, maxlen=sent_max_len, padding='post')\r\n",
        "y_train, y_test = pad_sequences(y_train_ids, maxlen=sent_max_len, padding='post'), pad_sequences(y_test_ids, maxlen=sent_max_len, padding='post')"
      ],
      "execution_count": 104,
      "outputs": []
    },
    {
      "cell_type": "code",
      "metadata": {
        "colab": {
          "base_uri": "https://localhost:8080/"
        },
        "id": "OqAndGOONIjU",
        "outputId": "6f93aaa1-15b0-41f3-b6f9-c5b0d828ac0a"
      },
      "source": [
        "print(X_train.shape, y_train.shape, X_test.shape, y_test.shape)"
      ],
      "execution_count": 105,
      "outputs": [
        {
          "output_type": "stream",
          "text": [
            "(181467, 34) (181467, 34) (45367, 34) (45367, 34)\n"
          ],
          "name": "stdout"
        }
      ]
    },
    {
      "cell_type": "code",
      "metadata": {
        "id": "Z_lNmE-KNIsA"
      },
      "source": [
        "y_train, y_test = to_categorical(y_train, num_classes=len(type2id)), to_categorical(y_test, num_classes=len(type2id))"
      ],
      "execution_count": 106,
      "outputs": []
    },
    {
      "cell_type": "code",
      "metadata": {
        "id": "fOolNJ1ir1hQ",
        "colab": {
          "base_uri": "https://localhost:8080/"
        },
        "outputId": "2f9eb269-a3e1-412e-869f-54908cc88b0e"
      },
      "source": [
        "chars = set([letter for word in filtered_vocab for letter in word])\r\n",
        "n_chars = len(chars)\r\n",
        "print(chars)"
      ],
      "execution_count": 107,
      "outputs": [
        {
          "output_type": "stream",
          "text": [
            "{'я', 'з', 'ч', 'и', 'с', 'х', 'л', 'г', 'й', 'а', 'к', 'м', 'ц', 'е', 'р', 'в', 'э', 'т', 'н', 'д', 'о', 'щ', 'б', 'п', 'ю', 'у', 'ш', 'ж', 'ф', 'ь', 'ъ', 'ы'}\n"
          ],
          "name": "stdout"
        }
      ]
    },
    {
      "cell_type": "code",
      "metadata": {
        "id": "9a8YfFf4NgG6"
      },
      "source": [
        "char2id = {c: i + 2 for i, c in enumerate(chars)}\r\n",
        "char2id[\"pad\"] = 0\r\n",
        "char2id[\"unk\"] = 1\r\n",
        "\r\n",
        "id2char = {i:char for char, i in char2id.items()}"
      ],
      "execution_count": 108,
      "outputs": []
    },
    {
      "cell_type": "code",
      "metadata": {
        "colab": {
          "base_uri": "https://localhost:8080/"
        },
        "id": "wl6DEIz2NjqP",
        "outputId": "ab88a686-bc99-4e77-aa99-dbe68fa12309"
      },
      "source": [
        "char_max_len = max(len(x) for x in filtered_vocab)\r\n",
        "print(\"максимальная длина слова:\", char_max_len)"
      ],
      "execution_count": 109,
      "outputs": [
        {
          "output_type": "stream",
          "text": [
            "максимальная длина слова: 33\n"
          ],
          "name": "stdout"
        }
      ]
    },
    {
      "cell_type": "code",
      "metadata": {
        "id": "Tvoj2PeoNueo"
      },
      "source": [
        "X_char_train, X_char_test = make_X_char(sent_train), make_X_char(sent_test)"
      ],
      "execution_count": 110,
      "outputs": []
    },
    {
      "cell_type": "code",
      "metadata": {
        "id": "6Ks9QhP0N0Px"
      },
      "source": [
        "weights = np.array([ft.wv[word] for word in id2word.values()])"
      ],
      "execution_count": 112,
      "outputs": []
    },
    {
      "cell_type": "markdown",
      "metadata": {
        "id": "zI2-z5BHp48n"
      },
      "source": [
        "Изменим также параметр learning rate"
      ]
    },
    {
      "cell_type": "code",
      "metadata": {
        "id": "WqGVZrsDN95Q"
      },
      "source": [
        "# один вход для слов\r\n",
        "word_in = Input(shape=(sent_max_len))\r\n",
        "emb_word = Embedding(input_dim=len(word2id), output_dim=100, trainable=False, weights=[weights])(word_in)\r\n",
        "\r\n",
        "# другой вход для символов\r\n",
        "char_in = Input(shape=(sent_max_len, char_max_len))\r\n",
        "emb_char = TimeDistributed(Embedding(input_dim=len(char2id), output_dim=10, input_length=char_max_len))(char_in)\r\n",
        "# свертка на символах (CharRNN) применяется к каждому слову отдельно\r\n",
        "char_enc = TimeDistributed(Conv1D(filters=12, kernel_size=3))(emb_char)\r\n",
        "char_flat = TimeDistributed(Flatten())(char_enc)\r\n",
        "\r\n",
        "# LSTM проходится по всей последовательности, на каждом шаге беря эмбеддинг слова по словарю + символьный эмбеддинг слова \r\n",
        "x = concatenate([emb_word, char_flat])\r\n",
        "main_lstm = Bidirectional(LSTM(units=128, return_sequences=True,\r\n",
        "                               recurrent_dropout=0.5))(x)\r\n",
        "out = TimeDistributed(Dense(len(type2id), activation=\"softmax\"))(main_lstm)\r\n",
        "\r\n",
        "model = Model(inputs=[char_in, word_in], outputs=out)\r\n",
        "\r\n",
        "\r\n",
        "optimizer = optimizers.Adam(learning_rate=0.001)\r\n",
        "model.compile(optimizer=optimizer, loss=\"categorical_crossentropy\", metrics=[Precision(), Recall(), Accuracy()])"
      ],
      "execution_count": 116,
      "outputs": []
    },
    {
      "cell_type": "code",
      "metadata": {
        "colab": {
          "base_uri": "https://localhost:8080/"
        },
        "id": "xfPoieyuN-f1",
        "outputId": "76f5ef24-e9c4-4dab-bc6b-a28ec94dbf31"
      },
      "source": [
        "model.summary()"
      ],
      "execution_count": 117,
      "outputs": [
        {
          "output_type": "stream",
          "text": [
            "Model: \"model_15\"\n",
            "__________________________________________________________________________________________________\n",
            "Layer (type)                    Output Shape         Param #     Connected to                     \n",
            "==================================================================================================\n",
            "input_29 (InputLayer)           [(None, 34, 33)]     0                                            \n",
            "__________________________________________________________________________________________________\n",
            "time_distributed_42 (TimeDistri (None, 34, 33, 10)   340         input_29[0][0]                   \n",
            "__________________________________________________________________________________________________\n",
            "input_28 (InputLayer)           [(None, 34)]         0                                            \n",
            "__________________________________________________________________________________________________\n",
            "time_distributed_43 (TimeDistri (None, 34, 31, 12)   372         time_distributed_42[0][0]        \n",
            "__________________________________________________________________________________________________\n",
            "embedding_27 (Embedding)        (None, 34, 100)      343300      input_28[0][0]                   \n",
            "__________________________________________________________________________________________________\n",
            "time_distributed_44 (TimeDistri (None, 34, 372)      0           time_distributed_43[0][0]        \n",
            "__________________________________________________________________________________________________\n",
            "concatenate_9 (Concatenate)     (None, 34, 472)      0           embedding_27[0][0]               \n",
            "                                                                 time_distributed_44[0][0]        \n",
            "__________________________________________________________________________________________________\n",
            "bidirectional_15 (Bidirectional (None, 34, 256)      615424      concatenate_9[0][0]              \n",
            "__________________________________________________________________________________________________\n",
            "time_distributed_45 (TimeDistri (None, 34, 4)        1028        bidirectional_15[0][0]           \n",
            "==================================================================================================\n",
            "Total params: 960,464\n",
            "Trainable params: 617,164\n",
            "Non-trainable params: 343,300\n",
            "__________________________________________________________________________________________________\n"
          ],
          "name": "stdout"
        }
      ]
    },
    {
      "cell_type": "code",
      "metadata": {
        "colab": {
          "base_uri": "https://localhost:8080/"
        },
        "id": "4s8Uesp8OCh2",
        "outputId": "5a336538-c8a7-4fcf-ec71-cb47326b6d00"
      },
      "source": [
        "model.fit([X_char_train, X_train], y_train, validation_data=([X_char_test, X_test], y_test), batch_size=1024, epochs=3, verbose=1)"
      ],
      "execution_count": 118,
      "outputs": [
        {
          "output_type": "stream",
          "text": [
            "Epoch 1/3\n",
            "178/178 [==============================] - 725s 4s/step - loss: 0.3757 - precision_14: 0.8509 - recall_14: 0.7496 - accuracy: 0.0000e+00 - val_loss: 0.2226 - val_precision_14: 0.8618 - val_recall_14: 0.8600 - val_accuracy: 0.0000e+00\n",
            "Epoch 2/3\n",
            "178/178 [==============================] - 720s 4s/step - loss: 0.2188 - precision_14: 0.8673 - recall_14: 0.8655 - accuracy: 0.0000e+00 - val_loss: 0.2144 - val_precision_14: 0.8742 - val_recall_14: 0.8736 - val_accuracy: 0.0000e+00\n",
            "Epoch 3/3\n",
            "178/178 [==============================] - 721s 4s/step - loss: 0.2096 - precision_14: 0.8797 - recall_14: 0.8790 - accuracy: 0.0000e+00 - val_loss: 0.2060 - val_precision_14: 0.8829 - val_recall_14: 0.8824 - val_accuracy: 0.0000e+00\n"
          ],
          "name": "stdout"
        },
        {
          "output_type": "execute_result",
          "data": {
            "text/plain": [
              "<tensorflow.python.keras.callbacks.History at 0x7f4fb8b73518>"
            ]
          },
          "metadata": {
            "tags": []
          },
          "execution_count": 118
        }
      ]
    },
    {
      "cell_type": "markdown",
      "metadata": {
        "id": "VsrDqNJtwag3"
      },
      "source": [
        "Accuracy очень маленькое, оставим только эту метрику и посмотрим, изменится ли результат"
      ]
    },
    {
      "cell_type": "code",
      "metadata": {
        "id": "Al-U5X-Aqz5S"
      },
      "source": [
        "# один вход для слов\r\n",
        "word_in = Input(shape=(sent_max_len))\r\n",
        "emb_word = Embedding(input_dim=len(word2id), output_dim=100, trainable=False, weights=[weights])(word_in)\r\n",
        "\r\n",
        "# другой вход для символов\r\n",
        "char_in = Input(shape=(sent_max_len, char_max_len))\r\n",
        "emb_char = TimeDistributed(Embedding(input_dim=len(char2id), output_dim=10, input_length=char_max_len))(char_in)\r\n",
        "# свертка на символах (CharRNN) применяется к каждому слову отдельно\r\n",
        "char_enc = TimeDistributed(Conv1D(filters=12, kernel_size=3))(emb_char)\r\n",
        "char_flat = TimeDistributed(Flatten())(char_enc)\r\n",
        "\r\n",
        "# LSTM проходится по всей последовательности, на каждом шаге беря эмбеддинг слова по словарю + символьный эмбеддинг слова \r\n",
        "x = concatenate([emb_word, char_flat])\r\n",
        "main_lstm = Bidirectional(LSTM(units=128, return_sequences=True,\r\n",
        "                               recurrent_dropout=0.5))(x)\r\n",
        "out = TimeDistributed(Dense(len(type2id), activation=\"softmax\"))(main_lstm)\r\n",
        "\r\n",
        "model = Model(inputs=[char_in, word_in], outputs=out)\r\n",
        "\r\n",
        "\r\n",
        "optimizer = optimizers.Adam(learning_rate=0.001)\r\n",
        "model.compile(optimizer=optimizer, loss=\"categorical_crossentropy\", metrics=[\"acc\"])"
      ],
      "execution_count": 119,
      "outputs": []
    },
    {
      "cell_type": "code",
      "metadata": {
        "colab": {
          "base_uri": "https://localhost:8080/"
        },
        "id": "66uEzYyOq6hL",
        "outputId": "1fbe537b-e8ef-4046-b20c-b6a91f56918b"
      },
      "source": [
        "model.fit([X_char_train, X_train], y_train, validation_data=([X_char_test, X_test], y_test), batch_size=1024, epochs=3, verbose=1)"
      ],
      "execution_count": 120,
      "outputs": [
        {
          "output_type": "stream",
          "text": [
            "Epoch 1/3\n",
            "178/178 [==============================] - 724s 4s/step - loss: 0.3655 - acc: 0.8023 - val_loss: 0.2212 - val_acc: 0.8639\n",
            "Epoch 2/3\n",
            "178/178 [==============================] - 720s 4s/step - loss: 0.2182 - acc: 0.8678 - val_loss: 0.2119 - val_acc: 0.8770\n",
            "Epoch 3/3\n",
            "178/178 [==============================] - 719s 4s/step - loss: 0.2100 - acc: 0.8787 - val_loss: 0.2060 - val_acc: 0.8827\n"
          ],
          "name": "stdout"
        },
        {
          "output_type": "execute_result",
          "data": {
            "text/plain": [
              "<tensorflow.python.keras.callbacks.History at 0x7f4fc1c3dcc0>"
            ]
          },
          "metadata": {
            "tags": []
          },
          "execution_count": 120
        }
      ]
    },
    {
      "cell_type": "markdown",
      "metadata": {
        "id": "m4_JiE70qABq"
      },
      "source": [
        "В заключение, все модели показывают результаты, которые достаточно трудно сравнивать между собой. Например, для первой модели lstm с векторами fastext длиной 100 (пробовались также другие  длины векторов, что не привело к улучшению результата) recall, precision и accuracy падают, для второй модели lstm с векторами fastext длиной 100 с каждой эпохой остаются примерно одинаковыми. Единственной моделью lstm, которая при обучении\r\n",
        "показывала стабильное улучшение результатов, была lstm с готовыми эмбэддингами для русского языка, но она не была выбрана для lstm + charcnn, потому что после третьей эпохи показатель accuracy оставался низким (возможно, при большем количестве эпох модель обучилась бы лучше, но обучение занимало достаточно продолжительное время). Несмотря на это, добавление charcnn улучшило работу модели как в смысле прогресса обучения, так и в более высоких всех показателей качества. "
      ]
    }
  ]
}